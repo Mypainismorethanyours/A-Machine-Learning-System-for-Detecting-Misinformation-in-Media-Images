{
 "cells": [
  {
   "cell_type": "markdown",
   "metadata": {
    "id": "jlXgfpm-SZwt"
   },
   "source": [
    "### Install and configure Ansible"
   ]
  },
  {
   "cell_type": "code",
   "execution_count": 5,
   "metadata": {
    "id": "T16YSRjiTbBe",
    "tags": []
   },
   "outputs": [],
   "source": [
    "cd /work/mlops-chi"
   ]
  },
  {
   "cell_type": "code",
   "execution_count": 6,
   "metadata": {
    "id": "hBsCu-K-SUuX",
    "tags": []
   },
   "outputs": [
    {
     "name": "stdout",
     "output_type": "stream",
     "text": [
      "Requirement already satisfied: ansible-core==2.16.9 in /work/.local/lib/python3.10/site-packages (2.16.9)\n",
      "Requirement already satisfied: ansible==9.8.0 in /work/.local/lib/python3.10/site-packages (9.8.0)\n",
      "Requirement already satisfied: PyYAML>=5.1 in /opt/conda/lib/python3.10/site-packages (from ansible-core==2.16.9) (5.3.1)\n",
      "Requirement already satisfied: jinja2>=3.0.0 in /opt/conda/lib/python3.10/site-packages (from ansible-core==2.16.9) (3.1.2)\n",
      "Requirement already satisfied: cryptography in /opt/conda/lib/python3.10/site-packages (from ansible-core==2.16.9) (39.0.2)\n",
      "Requirement already satisfied: packaging in /opt/conda/lib/python3.10/site-packages (from ansible-core==2.16.9) (23.0)\n",
      "Requirement already satisfied: resolvelib<1.1.0,>=0.5.3 in /work/.local/lib/python3.10/site-packages (from ansible-core==2.16.9) (1.0.1)\n",
      "Requirement already satisfied: MarkupSafe>=2.0 in /opt/conda/lib/python3.10/site-packages (from jinja2>=3.0.0->ansible-core==2.16.9) (2.1.2)\n",
      "Requirement already satisfied: cffi>=1.12 in /opt/conda/lib/python3.10/site-packages (from cryptography->ansible-core==2.16.9) (1.15.1)\n",
      "Requirement already satisfied: pycparser in /opt/conda/lib/python3.10/site-packages (from cffi>=1.12->cryptography->ansible-core==2.16.9) (2.21)\n"
     ]
    }
   ],
   "source": [
    "# runs in Chameleon Jupyter environment\n",
    "PYTHONUSERBASE=/work/.local pip install --user ansible-core==2.16.9 ansible==9.8.0"
   ]
  },
  {
   "cell_type": "code",
   "execution_count": 7,
   "metadata": {
    "id": "cnY4Rr6mTJ5c",
    "tags": []
   },
   "outputs": [],
   "source": [
    "# runs in Chameleon Jupyter environment\n",
    "export PATH=/work/.local/bin:$PATH\n",
    "export PYTHONUSERBASE=/work/.local"
   ]
  },
  {
   "cell_type": "code",
   "execution_count": 8,
   "metadata": {
    "id": "8_1WEf4tTK9U",
    "tags": []
   },
   "outputs": [
    {
     "name": "stdout",
     "output_type": "stream",
     "text": [
      "usage: ansible-playbook [-h] [--version] [-v] [--private-key PRIVATE_KEY_FILE]\n",
      "                        [-u REMOTE_USER] [-c CONNECTION] [-T TIMEOUT]\n",
      "                        [--ssh-common-args SSH_COMMON_ARGS]\n",
      "                        [--sftp-extra-args SFTP_EXTRA_ARGS]\n",
      "                        [--scp-extra-args SCP_EXTRA_ARGS]\n",
      "                        [--ssh-extra-args SSH_EXTRA_ARGS]\n",
      "                        [-k | --connection-password-file CONNECTION_PASSWORD_FILE]\n",
      "                        [--force-handlers] [--flush-cache] [-b]\n",
      "                        [--become-method BECOME_METHOD]\n",
      "                        [--become-user BECOME_USER]\n",
      "                        [-K | --become-password-file BECOME_PASSWORD_FILE]\n",
      "                        [-t TAGS] [--skip-tags SKIP_TAGS] [-C] [-D]\n",
      "                        [-i INVENTORY] [--list-hosts] [-l SUBSET]\n",
      "                        [-e EXTRA_VARS] [--vault-id VAULT_IDS]\n",
      "                        [-J | --vault-password-file VAULT_PASSWORD_FILES]\n",
      "                        [-f FORKS] [-M MODULE_PATH] [--syntax-check]\n",
      "                        [--list-tasks] [--list-tags] [--step]\n",
      "                        [--start-at-task START_AT_TASK]\n",
      "                        playbook [playbook ...]\n",
      "\n",
      "Runs Ansible playbooks, executing the defined tasks on the targeted hosts.\n",
      "\n",
      "positional arguments:\n",
      "  playbook              Playbook(s)\n",
      "\n",
      "options:\n",
      "  --become-password-file BECOME_PASSWORD_FILE, --become-pass-file BECOME_PASSWORD_FILE\n",
      "                        Become password file\n",
      "  --connection-password-file CONNECTION_PASSWORD_FILE, --conn-pass-file CONNECTION_PASSWORD_FILE\n",
      "                        Connection password file\n",
      "  --flush-cache         clear the fact cache for every host in inventory\n",
      "  --force-handlers      run handlers even if a task fails\n",
      "  --list-hosts          outputs a list of matching hosts; does not execute\n",
      "                        anything else\n",
      "  --list-tags           list all available tags\n",
      "  --list-tasks          list all tasks that would be executed\n",
      "  --skip-tags SKIP_TAGS\n",
      "                        only run plays and tasks whose tags do not match these\n",
      "                        values. This argument may be specified multiple times.\n",
      "  --start-at-task START_AT_TASK\n",
      "                        start the playbook at the task matching this name\n",
      "  --step                one-step-at-a-time: confirm each task before running\n",
      "  --syntax-check        perform a syntax check on the playbook, but do not\n",
      "                        execute it\n",
      "  --vault-id VAULT_IDS  the vault identity to use. This argument may be\n",
      "                        specified multiple times.\n",
      "  --vault-password-file VAULT_PASSWORD_FILES, --vault-pass-file VAULT_PASSWORD_FILES\n",
      "                        vault password file\n",
      "  --version             show program's version number, config file location,\n",
      "                        configured module search path, module location,\n",
      "                        executable location and exit\n",
      "  -C, --check           don't make any changes; instead, try to predict some\n",
      "                        of the changes that may occur\n",
      "  -D, --diff            when changing (small) files and templates, show the\n",
      "                        differences in those files; works great with --check\n",
      "  -J, --ask-vault-password, --ask-vault-pass\n",
      "                        ask for vault password\n",
      "  -K, --ask-become-pass\n",
      "                        ask for privilege escalation password\n",
      "  -M MODULE_PATH, --module-path MODULE_PATH\n",
      "                        prepend colon-separated path(s) to module library\n",
      "                        (default={{ ANSIBLE_HOME ~\n",
      "                        \"/plugins/modules:/usr/share/ansible/plugins/modules\"\n",
      "                        }}). This argument may be specified multiple times.\n",
      "  -e EXTRA_VARS, --extra-vars EXTRA_VARS\n",
      "                        set additional variables as key=value or YAML/JSON, if\n",
      "                        filename prepend with @. This argument may be\n",
      "                        specified multiple times.\n",
      "  -f FORKS, --forks FORKS\n",
      "                        specify number of parallel processes to use\n",
      "                        (default=5)\n",
      "  -h, --help            show this help message and exit\n",
      "  -i INVENTORY, --inventory INVENTORY, --inventory-file INVENTORY\n",
      "                        specify inventory host path or comma separated host\n",
      "                        list. --inventory-file is deprecated. This argument\n",
      "                        may be specified multiple times.\n",
      "  -k, --ask-pass        ask for connection password\n",
      "  -l SUBSET, --limit SUBSET\n",
      "                        further limit selected hosts to an additional pattern\n",
      "  -t TAGS, --tags TAGS  only run plays and tasks tagged with these values.\n",
      "                        This argument may be specified multiple times.\n",
      "  -v, --verbose         Causes Ansible to print more debug messages. Adding\n",
      "                        multiple -v will increase the verbosity, the builtin\n",
      "                        plugins currently evaluate up to -vvvvvv. A reasonable\n",
      "                        level to start is -vvv, connection debugging might\n",
      "                        require -vvvv. This argument may be specified multiple\n",
      "                        times.\n",
      "\n",
      "Connection Options:\n",
      "  control as whom and how to connect to hosts\n",
      "\n",
      "  --private-key PRIVATE_KEY_FILE, --key-file PRIVATE_KEY_FILE\n",
      "                        use this file to authenticate the connection\n",
      "  --scp-extra-args SCP_EXTRA_ARGS\n",
      "                        specify extra arguments to pass to scp only (e.g. -l)\n",
      "  --sftp-extra-args SFTP_EXTRA_ARGS\n",
      "                        specify extra arguments to pass to sftp only (e.g. -f,\n",
      "                        -l)\n",
      "  --ssh-common-args SSH_COMMON_ARGS\n",
      "                        specify common arguments to pass to sftp/scp/ssh (e.g.\n",
      "                        ProxyCommand)\n",
      "  --ssh-extra-args SSH_EXTRA_ARGS\n",
      "                        specify extra arguments to pass to ssh only (e.g. -R)\n",
      "  -T TIMEOUT, --timeout TIMEOUT\n",
      "                        override the connection timeout in seconds (default\n",
      "                        depends on connection)\n",
      "  -c CONNECTION, --connection CONNECTION\n",
      "                        connection type to use (default=ssh)\n",
      "  -u REMOTE_USER, --user REMOTE_USER\n",
      "                        connect as this user (default=None)\n",
      "\n",
      "Privilege Escalation Options:\n",
      "  control how and which user you become as on target hosts\n",
      "\n",
      "  --become-method BECOME_METHOD\n",
      "                        privilege escalation method to use (default=sudo), use\n",
      "                        `ansible-doc -t become -l` to list valid choices.\n",
      "  --become-user BECOME_USER\n",
      "                        run operations as this user (default=root)\n",
      "  -b, --become          run operations with become (does not imply password\n",
      "                        prompting)\n"
     ]
    }
   ],
   "source": [
    "# runs in Chameleon Jupyter environment\n",
    "ansible-playbook --help"
   ]
  },
  {
   "cell_type": "markdown",
   "metadata": {
    "id": "7zxkbPtsUnia"
   },
   "source": [
    "### Upload the ansible.cfg"
   ]
  },
  {
   "cell_type": "markdown",
   "metadata": {
    "id": "fXUu5V9yU9md"
   },
   "source": [
    "[defaults]\n",
    "stdout_callback = yaml\n",
    "inventory = /work/MIDAS-iac/ansible/inventory.yaml\n",
    "\n",
    "[ssh_connection]\n",
    "ssh_args = -o StrictHostKeyChecking=off -o UserKnownHostsFile=/dev/null -o ForwardAgent=yes -o ProxyCommand=\"ssh -o StrictHostKeyChecking=no -o UserKnownHostsFile=/dev/null -W %h:%p cc@A.B.C.D\""
   ]
  },
  {
   "cell_type": "markdown",
   "metadata": {
    "id": "uKy9V7fSVUI-"
   },
   "source": [
    "substitute A.B.C.D with the FIP that assigned to KVM node1"
   ]
  },
  {
   "cell_type": "code",
   "execution_count": 8,
   "metadata": {
    "id": "61txJVkkTtGB",
    "tags": []
   },
   "outputs": [],
   "source": [
    "# runs in Chameleon Jupyter environment\n",
    "# ONLY AFTER YOU HAVE PROVISIONED RESOURCES AND UPDATED THE CFG\n",
    "cp ansible.cfg /work/MIDAS-iac/ansible/ansible.cfg"
   ]
  },
  {
   "cell_type": "code",
   "execution_count": 9,
   "metadata": {
    "id": "Wj4A_iIOV02z",
    "tags": []
   },
   "outputs": [],
   "source": [
    "# runs in Chameleon Jupyter environment\n",
    "export PATH=/work/.local/bin:$PATH\n",
    "export PYTHONUSERBASE=/work/.local"
   ]
  },
  {
   "cell_type": "markdown",
   "metadata": {
    "id": "1MpAxy1FV8FP"
   },
   "source": [
    "### Prepare Kubespray"
   ]
  },
  {
   "cell_type": "code",
   "execution_count": 10,
   "metadata": {
    "id": "GY1CY_RHV4T-",
    "tags": []
   },
   "outputs": [
    {
     "name": "stdout",
     "output_type": "stream",
     "text": [
      "Requirement already satisfied: ansible==9.8.0 in /work/.local/lib/python3.10/site-packages (from -r /work/MIDAS-iac/ansible/k8s/kubespray/requirements.txt (line 1)) (9.8.0)\n",
      "Requirement already satisfied: jmespath==1.0.1 in /opt/conda/lib/python3.10/site-packages (from -r /work/MIDAS-iac/ansible/k8s/kubespray/requirements.txt (line 3)) (1.0.1)\n",
      "Requirement already satisfied: jsonschema==4.23.0 in /work/.local/lib/python3.10/site-packages (from -r /work/MIDAS-iac/ansible/k8s/kubespray/requirements.txt (line 5)) (4.23.0)\n",
      "Requirement already satisfied: netaddr==1.3.0 in /opt/conda/lib/python3.10/site-packages (from -r /work/MIDAS-iac/ansible/k8s/kubespray/requirements.txt (line 7)) (1.3.0)\n",
      "Requirement already satisfied: ansible-core~=2.16.9 in /work/.local/lib/python3.10/site-packages (from ansible==9.8.0->-r /work/MIDAS-iac/ansible/k8s/kubespray/requirements.txt (line 1)) (2.16.9)\n",
      "Requirement already satisfied: rpds-py>=0.7.1 in /work/.local/lib/python3.10/site-packages (from jsonschema==4.23.0->-r /work/MIDAS-iac/ansible/k8s/kubespray/requirements.txt (line 5)) (0.24.0)\n",
      "Requirement already satisfied: attrs>=22.2.0 in /opt/conda/lib/python3.10/site-packages (from jsonschema==4.23.0->-r /work/MIDAS-iac/ansible/k8s/kubespray/requirements.txt (line 5)) (22.2.0)\n",
      "Requirement already satisfied: referencing>=0.28.4 in /work/.local/lib/python3.10/site-packages (from jsonschema==4.23.0->-r /work/MIDAS-iac/ansible/k8s/kubespray/requirements.txt (line 5)) (0.36.2)\n",
      "Requirement already satisfied: jsonschema-specifications>=2023.03.6 in /work/.local/lib/python3.10/site-packages (from jsonschema==4.23.0->-r /work/MIDAS-iac/ansible/k8s/kubespray/requirements.txt (line 5)) (2025.4.1)\n",
      "Requirement already satisfied: jinja2>=3.0.0 in /opt/conda/lib/python3.10/site-packages (from ansible-core~=2.16.9->ansible==9.8.0->-r /work/MIDAS-iac/ansible/k8s/kubespray/requirements.txt (line 1)) (3.1.2)\n",
      "Requirement already satisfied: resolvelib<1.1.0,>=0.5.3 in /work/.local/lib/python3.10/site-packages (from ansible-core~=2.16.9->ansible==9.8.0->-r /work/MIDAS-iac/ansible/k8s/kubespray/requirements.txt (line 1)) (1.0.1)\n",
      "Requirement already satisfied: PyYAML>=5.1 in /opt/conda/lib/python3.10/site-packages (from ansible-core~=2.16.9->ansible==9.8.0->-r /work/MIDAS-iac/ansible/k8s/kubespray/requirements.txt (line 1)) (5.3.1)\n",
      "Requirement already satisfied: packaging in /opt/conda/lib/python3.10/site-packages (from ansible-core~=2.16.9->ansible==9.8.0->-r /work/MIDAS-iac/ansible/k8s/kubespray/requirements.txt (line 1)) (23.0)\n",
      "Requirement already satisfied: cryptography in /opt/conda/lib/python3.10/site-packages (from ansible-core~=2.16.9->ansible==9.8.0->-r /work/MIDAS-iac/ansible/k8s/kubespray/requirements.txt (line 1)) (39.0.2)\n",
      "Requirement already satisfied: typing-extensions>=4.4.0 in /opt/conda/lib/python3.10/site-packages (from referencing>=0.28.4->jsonschema==4.23.0->-r /work/MIDAS-iac/ansible/k8s/kubespray/requirements.txt (line 5)) (4.12.2)\n",
      "Requirement already satisfied: MarkupSafe>=2.0 in /opt/conda/lib/python3.10/site-packages (from jinja2>=3.0.0->ansible-core~=2.16.9->ansible==9.8.0->-r /work/MIDAS-iac/ansible/k8s/kubespray/requirements.txt (line 1)) (2.1.2)\n",
      "Requirement already satisfied: cffi>=1.12 in /opt/conda/lib/python3.10/site-packages (from cryptography->ansible-core~=2.16.9->ansible==9.8.0->-r /work/MIDAS-iac/ansible/k8s/kubespray/requirements.txt (line 1)) (1.15.1)\n",
      "Requirement already satisfied: pycparser in /opt/conda/lib/python3.10/site-packages (from cffi>=1.12->cryptography->ansible-core~=2.16.9->ansible==9.8.0->-r /work/MIDAS-iac/ansible/k8s/kubespray/requirements.txt (line 1)) (2.21)\n"
     ]
    }
   ],
   "source": [
    "# runs in Chameleon Jupyter environment\n",
    "PYTHONUSERBASE=/work/.local pip install --user -r /work/MIDAS-iac/ansible/k8s/kubespray/requirements.txt"
   ]
  },
  {
   "cell_type": "markdown",
   "metadata": {
    "id": "4l51-RwIWavo"
   },
   "source": [
    "Double check FIP"
   ]
  },
  {
   "cell_type": "code",
   "execution_count": 11,
   "metadata": {
    "id": "7BubyY3KWgOu",
    "tags": []
   },
   "outputs": [
    {
     "name": "stdout",
     "output_type": "stream",
     "text": [
      "[defaults]\n",
      "stdout_callback = yaml\n",
      "inventory = /work/MIDAS-iac/ansible/inventory.yaml\n",
      "log_path = ./ansible.log\n",
      "\n",
      "[ssh_connection]\n",
      "ssh_args = -o StrictHostKeyChecking=off -o UserKnownHostsFile=/dev/null -o ForwardAgent=yes -o ProxyCommand=\"ssh -o StrictHostKeyChecking=no -o UserKnownHostsFile=/dev/null -W %h:%p cc@129.114.26.7\"\n"
     ]
    }
   ],
   "source": [
    "# runs in Chameleon Jupyter environment\n",
    "cat /work/MIDAS-iac/ansible/ansible.cfg"
   ]
  },
  {
   "cell_type": "code",
   "execution_count": 12,
   "metadata": {
    "id": "qHOc8_nZWkXX",
    "tags": []
   },
   "outputs": [],
   "source": [
    "# runs in Chameleon Jupyter environment\n",
    "cd /work/MIDAS-iac/ansible"
   ]
  },
  {
   "cell_type": "markdown",
   "metadata": {
    "id": "2ywnOrRuWrr7"
   },
   "source": [
    "### Verify connectivity"
   ]
  },
  {
   "cell_type": "code",
   "execution_count": 13,
   "metadata": {
    "id": "bKa-TeGjWsEK",
    "tags": []
   },
   "outputs": [
    {
     "name": "stdout",
     "output_type": "stream",
     "text": [
      "node1 | SUCCESS => {\n",
      "    \"changed\": false,\n",
      "    \"ping\": \"pong\"\n",
      "}\n",
      "node2 | SUCCESS => {\n",
      "    \"changed\": false,\n",
      "    \"ping\": \"pong\"\n",
      "}\n",
      "node3 | SUCCESS => {\n",
      "    \"changed\": false,\n",
      "    \"ping\": \"pong\"\n",
      "}\n"
     ]
    }
   ],
   "source": [
    "# runs in Chameleon Jupyter environment\n",
    "ansible -i inventory.yml all -m ping"
   ]
  },
  {
   "cell_type": "markdown",
   "metadata": {
    "id": "8v-g_2WYWwF9"
   },
   "source": [
    "### Run a “Hello, World” playbook"
   ]
  },
  {
   "cell_type": "code",
   "execution_count": 14,
   "metadata": {
    "id": "Ukoqmy8zWvej",
    "tags": []
   },
   "outputs": [
    {
     "name": "stdout",
     "output_type": "stream",
     "text": [
      "\n",
      "PLAY [Hello, world - use Ansible to run a command on each host] ****************\n",
      "\n",
      "TASK [Run hostname command] ****************************************************\n",
      "changed: [node1]\n",
      "changed: [node2]\n",
      "changed: [node3]\n",
      "\n",
      "TASK [Show hostname output] ****************************************************\n",
      "ok: [node1] => \n",
      "  msg: The hostname of node1 is node1\n",
      "ok: [node2] => \n",
      "  msg: The hostname of node2 is node2\n",
      "ok: [node3] => \n",
      "  msg: The hostname of node3 is node3\n",
      "\n",
      "PLAY RECAP *********************************************************************\n",
      "node1                      : ok=2    changed=1    unreachable=0    failed=0    skipped=0    rescued=0    ignored=0   \n",
      "node2                      : ok=2    changed=1    unreachable=0    failed=0    skipped=0    rescued=0    ignored=0   \n",
      "node3                      : ok=2    changed=1    unreachable=0    failed=0    skipped=0    rescued=0    ignored=0   \n",
      "\n"
     ]
    }
   ],
   "source": [
    "# runs in Chameleon Jupyter environment\n",
    "ansible-playbook -i inventory.yml general/hello_host.yml"
   ]
  },
  {
   "cell_type": "code",
   "execution_count": null,
   "metadata": {},
   "outputs": [],
   "source": []
  }
 ],
 "metadata": {
  "colab": {
   "provenance": []
  },
  "kernelspec": {
   "display_name": "Bash",
   "language": "bash",
   "name": "bash"
  },
  "language_info": {
   "codemirror_mode": "shell",
   "file_extension": ".sh",
   "mimetype": "text/x-sh",
   "name": "bash"
  }
 },
 "nbformat": 4,
 "nbformat_minor": 4
}
