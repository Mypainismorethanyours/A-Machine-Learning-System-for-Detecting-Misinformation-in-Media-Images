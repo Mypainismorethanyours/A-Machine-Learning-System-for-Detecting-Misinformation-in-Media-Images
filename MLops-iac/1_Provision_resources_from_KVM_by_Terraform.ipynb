{
 "cells": [
  {
   "cell_type": "code",
   "execution_count": 1,
   "metadata": {
    "id": "Atkj-7dPP1aq",
    "tags": []
   },
   "outputs": [
    {
     "name": "stdout",
     "output_type": "stream",
     "text": [
      "Cloning into '/work/MIDAS-iac'...\n",
      "remote: Enumerating objects: 119, done.\u001b[K\n",
      "remote: Counting objects: 100% (119/119), done.\u001b[K\n",
      "remote: Compressing objects: 100% (75/75), done.\u001b[K\n",
      "remote: Total 119 (delta 34), reused 112 (delta 30), pack-reused 0 (from 0)\u001b[K\n",
      "Receiving objects: 100% (119/119), 27.37 KiB | 3.91 MiB/s, done.\n",
      "Resolving deltas: 100% (34/34), done.\n",
      "Submodule 'ansible/k8s/kubespray' (https://github.com/kubernetes-sigs/kubespray.git) registered for path 'ansible/k8s/kubespray'\n",
      "Cloning into '/work/MIDAS-iac/ansible/k8s/kubespray'...\n",
      "remote: Enumerating objects: 81772, done.        \n",
      "remote: Counting objects: 100% (28/28), done.        \n",
      "remote: Compressing objects: 100% (19/19), done.        \n",
      "remote: Total 81772 (delta 20), reused 9 (delta 9), pack-reused 81744 (from 3)        \n",
      "Receiving objects: 100% (81772/81772), 26.10 MiB | 3.83 MiB/s, done.\n",
      "Resolving deltas: 100% (45837/45837), done.\n",
      "Submodule path 'ansible/k8s/kubespray': checked out '184b15f8aef4eba40c7433f509b0659b7b66fa44'\n"
     ]
    }
   ],
   "source": [
    "# runs in Chameleon Jupyter environment\n",
    "git clone --recurse-submodules https://github.com/Ayachisan/MIDAS-iac /work/MIDAS-iac"
   ]
  },
  {
   "cell_type": "code",
   "execution_count": 21,
   "metadata": {
    "tags": []
   },
   "outputs": [
    {
     "name": "stdout",
     "output_type": "stream",
     "text": [
      "* \u001b[32mmain\u001b[m\n",
      "On branch main\n",
      "Your branch is up to date with 'origin/main'.\n",
      "\n",
      "Untracked files:\n",
      "  (use \"git add <file>...\" to include in what will be committed)\n",
      "\t\u001b[31mansible/.ipynb_checkpoints/\u001b[m\n",
      "\t\u001b[31mansible/ansible.cfg\u001b[m\n",
      "\t\u001b[31mansible/ansible.log\u001b[m\n",
      "\t\u001b[31mansible/k8s/inventory/mycluster/.ipynb_checkpoints/\u001b[m\n",
      "\t\u001b[31mansible/k8s/inventory/mycluster/group_vars/.ipynb_checkpoints/\u001b[m\n",
      "\t\u001b[31mk8s/canary/.ipynb_checkpoints/\u001b[m\n",
      "\t\u001b[31mk8s/canary/templates/.ipynb_checkpoints/\u001b[m\n",
      "\t\u001b[31mk8s/production/templates/.ipynb_checkpoints/\u001b[m\n",
      "\t\u001b[31mtf/kvm/.ipynb_checkpoints/\u001b[m\n",
      "\t\u001b[31mtf/kvm/.terraform.lock.hcl\u001b[m\n",
      "\n",
      "nothing added to commit but untracked files present (use \"git add\" to track)\n"
     ]
    }
   ],
   "source": [
    "cd /work/MIDAS-iac\n",
    "git branch\n",
    "git status"
   ]
  },
  {
   "cell_type": "code",
   "execution_count": 22,
   "metadata": {
    "tags": []
   },
   "outputs": [
    {
     "name": "stdout",
     "output_type": "stream",
     "text": [
      "remote: Enumerating objects: 9, done.\u001b[K\n",
      "remote: Counting objects: 100% (9/9), done.\u001b[K\n",
      "remote: Compressing objects: 100% (1/1), done.\u001b[K\n",
      "remote: Total 5 (delta 4), reused 5 (delta 4), pack-reused 0 (from 0)\u001b[K\n",
      "Unpacking objects: 100% (5/5), 461 bytes | 230.00 KiB/s, done.\n",
      "From https://github.com/Ayachisan/MIDAS-iac\n",
      "   87985e8..90a1efb  main       -> origin/main\n",
      "HEAD is now at 90a1efb Update MIDAS submodule content\n",
      "Submodule path 'ansible/k8s/kubespray': checked out '184b15f8aef4eba40c7433f509b0659b7b66fa44'\n"
     ]
    }
   ],
   "source": [
    "git fetch origin\n",
    "git reset --hard origin/main\n",
    "git submodule update --init --recursive --force"
   ]
  },
  {
   "cell_type": "markdown",
   "metadata": {
    "id": "_5tKZsdIP9T_"
   },
   "source": [
    "### Install and configure Terraform ###"
   ]
  },
  {
   "cell_type": "code",
   "execution_count": 2,
   "metadata": {
    "id": "xCCCQAjBP4Fr",
    "tags": []
   },
   "outputs": [
    {
     "name": "stdout",
     "output_type": "stream",
     "text": [
      "--2025-05-11 13:02:47--  https://releases.hashicorp.com/terraform/1.10.5/terraform_1.10.5_linux_amd64.zip\n",
      "Resolving releases.hashicorp.com (releases.hashicorp.com)... 13.249.59.94, 13.249.59.44, 13.249.59.121, ...\n",
      "Connecting to releases.hashicorp.com (releases.hashicorp.com)|13.249.59.94|:443... connected.\n",
      "HTTP request sent, awaiting response... 200 OK\n",
      "Length: 27714924 (26M) [application/zip]\n",
      "Saving to: ‘terraform_1.10.5_linux_amd64.zip’\n",
      "\n",
      "terraform_1.10.5_li 100%[===================>]  26.43M  51.6MB/s    in 0.5s    \n",
      "\n",
      "2025-05-11 13:02:47 (51.6 MB/s) - ‘terraform_1.10.5_linux_amd64.zip’ saved [27714924/27714924]\n",
      "\n"
     ]
    }
   ],
   "source": [
    "# runs in Chameleon Jupyter environment\n",
    "mkdir -p /work/.local/bin\n",
    "wget https://releases.hashicorp.com/terraform/1.10.5/terraform_1.10.5_linux_amd64.zip\n",
    "unzip -o -q terraform_1.10.5_linux_amd64.zip\n",
    "mv terraform /work/.local/bin\n",
    "rm terraform_1.10.5_linux_amd64.zip"
   ]
  },
  {
   "cell_type": "code",
   "execution_count": 3,
   "metadata": {
    "id": "qRWaiHd-QK9H",
    "tags": []
   },
   "outputs": [],
   "source": [
    "# runs in Chameleon Jupyter environment\n",
    "export PATH=/work/.local/bin:$PATH"
   ]
  },
  {
   "cell_type": "code",
   "execution_count": 4,
   "metadata": {
    "id": "DSMBEe4uQMmp",
    "tags": []
   },
   "outputs": [
    {
     "name": "stdout",
     "output_type": "stream",
     "text": [
      "Usage: terraform [global options] <subcommand> [args]\n",
      "\n",
      "The available commands for execution are listed below.\n",
      "The primary workflow commands are given first, followed by\n",
      "less common or more advanced commands.\n",
      "\n",
      "Main commands:\n",
      "  init          Prepare your working directory for other commands\n",
      "  validate      Check whether the configuration is valid\n",
      "  plan          Show changes required by the current configuration\n",
      "  apply         Create or update infrastructure\n",
      "  destroy       Destroy previously-created infrastructure\n",
      "\n",
      "All other commands:\n",
      "  console       Try Terraform expressions at an interactive command prompt\n",
      "  fmt           Reformat your configuration in the standard style\n",
      "  force-unlock  Release a stuck lock on the current workspace\n",
      "  get           Install or upgrade remote Terraform modules\n",
      "  graph         Generate a Graphviz graph of the steps in an operation\n",
      "  import        Associate existing infrastructure with a Terraform resource\n",
      "  login         Obtain and save credentials for a remote host\n",
      "  logout        Remove locally-stored credentials for a remote host\n",
      "  metadata      Metadata related commands\n",
      "  modules       Show all declared modules in a working directory\n",
      "  output        Show output values from your root module\n",
      "  providers     Show the providers required for this configuration\n",
      "  refresh       Update the state to match remote systems\n",
      "  show          Show the current state or a saved plan\n",
      "  state         Advanced state management\n",
      "  taint         Mark a resource instance as not fully functional\n",
      "  test          Execute integration tests for Terraform modules\n",
      "  untaint       Remove the 'tainted' state from a resource instance\n",
      "  version       Show the current Terraform version\n",
      "  workspace     Workspace management\n",
      "\n",
      "Global options (use these before the subcommand, if any):\n",
      "  -chdir=DIR    Switch to a different working directory before executing the\n",
      "                given subcommand.\n",
      "  -help         Show this help output, or the help for a specified subcommand.\n",
      "  -version      An alias for the \"version\" subcommand.\n"
     ]
    },
    {
     "ename": "",
     "evalue": "127",
     "output_type": "error",
     "traceback": []
    }
   ],
   "source": [
    "# runs in Chameleon Jupyter environment\n",
    "terraform"
   ]
  },
  {
   "cell_type": "markdown",
   "metadata": {
    "id": "gFhiAMm-QS7T"
   },
   "source": [
    "Upload the cloud.yaml to terraform directory"
   ]
  },
  {
   "cell_type": "code",
   "execution_count": 6,
   "metadata": {
    "id": "i_vZ-0YpQRc9",
    "tags": []
   },
   "outputs": [],
   "source": [
    "# # runs in Chameleon Jupyter environment\n",
    "cp clouds.yaml /work/MIDAS-iac/tf/kvm/clouds.yaml"
   ]
  },
  {
   "cell_type": "markdown",
   "metadata": {
    "id": "4ScHhAfMQ0h8"
   },
   "source": [
    "### Provision infrastructure with Terraform ###\n"
   ]
  },
  {
   "cell_type": "code",
   "execution_count": 7,
   "metadata": {
    "id": "GIzO3HWbQ06S",
    "tags": []
   },
   "outputs": [],
   "source": [
    "# runs in Chameleon Jupyter environment\n",
    "cd /work/MIDAS-iac/tf/kvm"
   ]
  },
  {
   "cell_type": "code",
   "execution_count": 8,
   "metadata": {
    "id": "tqx7PjDpQ_pT",
    "tags": []
   },
   "outputs": [],
   "source": [
    "# runs in Chameleon Jupyter environment\n",
    "export PATH=/work/.local/bin:$PATH"
   ]
  },
  {
   "cell_type": "code",
   "execution_count": 9,
   "metadata": {
    "id": "folcmpTQRA27",
    "tags": []
   },
   "outputs": [],
   "source": [
    "# runs in Chameleon Jupyter environment\n",
    "unset $(set | grep -o \"^OS_[A-Za-z0-9_]*\")"
   ]
  },
  {
   "cell_type": "markdown",
   "metadata": {
    "id": "Aq9FQObRRE7i"
   },
   "source": [
    "Check clouds.yaml have credentials"
   ]
  },
  {
   "cell_type": "code",
   "execution_count": 10,
   "metadata": {
    "id": "-vqvBJdCRDY-",
    "tags": []
   },
   "outputs": [
    {
     "name": "stdout",
     "output_type": "stream",
     "text": [
      "# This is a clouds.yaml file, which can be used by OpenStack tools as a source\n",
      "# of configuration on how to connect to a cloud. If this is your only cloud,\n",
      "# just put this file in ~/.config/openstack/clouds.yaml and tools like\n",
      "# python-openstackclient will just work with no further config. (You will need\n",
      "# to add your password to the auth section)\n",
      "# If you have more than one cloud account, add the cloud entry to the clouds\n",
      "# section of your existing file and you can refer to them by name with\n",
      "# OS_CLOUD=openstack or --os-cloud=openstack\n",
      "clouds:\n",
      "  kvm:\n",
      "    auth:\n",
      "      auth_url: https://kvm.tacc.chameleoncloud.org:5000\n",
      "\n",
      "      application_credential_id: \"c8718aff8a7445d5bc8b1bcbacd89a91\"\n",
      "      application_credential_secret: \"4KuiNHWENOg3CKOSFGtR_ip63dx9HJIO44iTfBZMjdugZUMAXqYhxGtmx-6kn0JddKwrC5-8Tl6lUqBpt9glcQ\"\n",
      "      \n",
      "    region_name: \"KVM@TACC\"\n",
      "    interface: \"public\"\n",
      "    identity_api_version: 3\n",
      "    auth_type: \"v3applicationcredential\"\n",
      "\n",
      "\n",
      "  chi-tacc:\n",
      "    auth:\n",
      "      auth_url: https://chi.tacc.chameleoncloud.org:5000\n",
      "      \n",
      "      application_credential_id: \"da5b5e706d414f3194d58077aba8fb23\"\n",
      "      application_credential_secret: \"6wLzJShejrGNYPt7uH2cydOs-jz8sBG_yH2mNDxyIsrvgQmPzKulReVk4fZBpTFzHU9HLy-y9NihvA9dbd-wYA\"\n",
      "  \n",
      "    region_name: \"CHI@TACC\"\n",
      "    interface: \"public\"\n",
      "    identity_api_version: 3\n",
      "    auth_type: \"v3applicationcredential\"\n"
     ]
    }
   ],
   "source": [
    "# runs in Chameleon Jupyter environment\n",
    "cat clouds.yaml"
   ]
  },
  {
   "cell_type": "markdown",
   "metadata": {
    "id": "mlTCPSnxRZEg"
   },
   "source": [
    "### Applying our Terraform configuration"
   ]
  },
  {
   "cell_type": "code",
   "execution_count": 11,
   "metadata": {
    "id": "qsOFmyJPRZWz",
    "tags": []
   },
   "outputs": [
    {
     "name": "stdout",
     "output_type": "stream",
     "text": [
      "\u001b[0m\u001b[1mInitializing the backend...\u001b[0m\n",
      "\u001b[0m\u001b[1mInitializing provider plugins...\u001b[0m\n",
      "- Finding terraform-provider-openstack/openstack versions matching \"~> 1.51.1\"...\n",
      "- Installing terraform-provider-openstack/openstack v1.51.1...\n",
      "- Installed terraform-provider-openstack/openstack v1.51.1 (self-signed, key ID \u001b[0m\u001b[1m4F80527A391BEFD2\u001b[0m\u001b[0m)\n",
      "Partner and community providers are signed by their developers.\n",
      "If you'd like to know more about provider signing, you can read about it here:\n",
      "https://www.terraform.io/docs/cli/plugins/signing.html\n",
      "Terraform has created a lock file \u001b[1m.terraform.lock.hcl\u001b[0m to record the provider\n",
      "selections it made above. Include this file in your version control repository\n",
      "so that Terraform can guarantee to make the same selections by default when\n",
      "you run \"terraform init\" in the future.\u001b[0m\n",
      "\n",
      "\u001b[0m\u001b[1m\u001b[32mTerraform has been successfully initialized!\u001b[0m\u001b[32m\u001b[0m\n",
      "\u001b[0m\u001b[32m\n",
      "You may now begin working with Terraform. Try running \"terraform plan\" to see\n",
      "any changes that are required for your infrastructure. All Terraform commands\n",
      "should now work.\n",
      "\n",
      "If you ever set or change modules or backend configuration for Terraform,\n",
      "rerun this command to reinitialize your working directory. If you forget, other\n",
      "commands will detect it and remind you to do so if necessary.\u001b[0m\n"
     ]
    }
   ],
   "source": [
    "# runs in Chameleon Jupyter environment\n",
    "terraform init"
   ]
  },
  {
   "cell_type": "code",
   "execution_count": 12,
   "metadata": {
    "id": "osHVswMuRbNH",
    "tags": []
   },
   "outputs": [],
   "source": [
    "# runs in Chameleon Jupyter environment\n",
    "# export TF_VAR_suffix=project-5\n",
    "# export TF_VAR_key=id_rsa_chameleon_project_5"
   ]
  },
  {
   "cell_type": "code",
   "execution_count": 18,
   "metadata": {
    "id": "L_YpCmt2RjCS",
    "tags": []
   },
   "outputs": [
    {
     "name": "stdout",
     "output_type": "stream",
     "text": [
      "\u001b[32m\u001b[1mSuccess!\u001b[0m The configuration is valid.\n",
      "\u001b[0m\n"
     ]
    }
   ],
   "source": [
    "# runs in Chameleon Jupyter environment\n",
    "terraform validate"
   ]
  },
  {
   "cell_type": "code",
   "execution_count": 23,
   "metadata": {
    "id": "WD3-0ST3RoCC",
    "tags": []
   },
   "outputs": [
    {
     "name": "stdout",
     "output_type": "stream",
     "text": [
      "\u001b[0m\u001b[1mdata.openstack_networking_subnet_v2.sharednet2_subnet: Reading...\u001b[0m\u001b[0m\n",
      "\u001b[0m\u001b[1mdata.openstack_networking_secgroup_v2.allow_9001: Reading...\u001b[0m\u001b[0m\n",
      "\u001b[0m\u001b[1mdata.openstack_networking_secgroup_v2.allow_3000: Reading...\u001b[0m\u001b[0m\n",
      "\u001b[0m\u001b[1mdata.openstack_networking_network_v2.sharednet2: Reading...\u001b[0m\u001b[0m\n",
      "\u001b[0m\u001b[1mdata.openstack_networking_secgroup_v2.allow_8080: Reading...\u001b[0m\u001b[0m\n",
      "\u001b[0m\u001b[1mdata.openstack_networking_secgroup_v2.allow_ssh: Reading...\u001b[0m\u001b[0m\n",
      "\u001b[0m\u001b[1mdata.openstack_networking_secgroup_v2.allow_http_80: Reading...\u001b[0m\u001b[0m\n",
      "\u001b[0m\u001b[1mdata.openstack_networking_secgroup_v2.allow_9090: Reading...\u001b[0m\u001b[0m\n",
      "\u001b[0m\u001b[1mdata.openstack_networking_secgroup_v2.allow_8081: Reading...\u001b[0m\u001b[0m\n",
      "\u001b[0m\u001b[1mopenstack_networking_network_v2.private_net: Refreshing state... [id=291457cb-83ed-43f1-b937-c73e2cc6bacd]\u001b[0m\n",
      "\u001b[0m\u001b[1mdata.openstack_networking_secgroup_v2.allow_9090: Read complete after 1s [id=d6736d54-d9a4-431c-a5b5-4d29dbcdee03]\u001b[0m\n",
      "\u001b[0m\u001b[1mdata.openstack_networking_secgroup_v2.allow_8000: Reading...\u001b[0m\u001b[0m\n",
      "\u001b[0m\u001b[1mdata.openstack_networking_secgroup_v2.allow_8081: Read complete after 1s [id=9806d71f-f0bd-4c5d-8c48-f32db3094575]\u001b[0m\n",
      "\u001b[0m\u001b[1mdata.openstack_networking_secgroup_v2.allow_8080: Read complete after 1s [id=e6eff5db-c96d-4e3d-be49-1ade281f4a7a]\u001b[0m\n",
      "\u001b[0m\u001b[1mdata.openstack_networking_secgroup_v2.allow_3000: Read complete after 1s [id=7884eab6-6e75-4e56-a8f0-dffc255e6b91]\u001b[0m\n",
      "\u001b[0m\u001b[1mdata.openstack_networking_network_v2.sharednet2: Read complete after 1s [id=4ec616b2-79e1-4813-abca-f2ceb41e0a89]\u001b[0m\n",
      "\u001b[0m\u001b[1mdata.openstack_networking_secgroup_v2.allow_ssh: Read complete after 1s [id=47860acf-9269-4d26-84b1-363824f7e0a2]\u001b[0m\n",
      "\u001b[0m\u001b[1mdata.openstack_networking_secgroup_v2.allow_http_80: Read complete after 1s [id=5df2db36-79f9-4b9b-b6c9-1ece762d83fb]\u001b[0m\n",
      "\u001b[0m\u001b[1mdata.openstack_networking_secgroup_v2.allow_9001: Read complete after 1s [id=ad2912c0-caa9-49e0-b431-b9b3953b91b3]\u001b[0m\n",
      "\u001b[0m\u001b[1mdata.openstack_networking_subnet_v2.sharednet2_subnet: Read complete after 1s [id=00b8d316-7617-4da4-b6c0-b7dd1dd78cd4]\u001b[0m\n",
      "\u001b[0m\u001b[1mdata.openstack_networking_secgroup_v2.allow_8000: Read complete after 1s [id=17a6d962-cc23-4551-ac0b-08b098f451d2]\u001b[0m\n",
      "\u001b[0m\u001b[1mopenstack_networking_port_v2.sharednet2_ports[\"node1\"]: Refreshing state... [id=ef90c72c-6cd5-4d78-8d88-e0de7a599ad6]\u001b[0m\n",
      "\u001b[0m\u001b[1mopenstack_networking_port_v2.sharednet2_ports[\"node3\"]: Refreshing state... [id=4315e8b8-8bf8-48da-9b25-d71b0535adc4]\u001b[0m\n",
      "\u001b[0m\u001b[1mopenstack_networking_port_v2.sharednet2_ports[\"node2\"]: Refreshing state... [id=99ebebe9-4446-4938-9795-32a110292183]\u001b[0m\n",
      "\u001b[0m\u001b[1mopenstack_networking_subnet_v2.private_subnet: Refreshing state... [id=77a25ac6-7743-4728-90e0-f26ffff1b84b]\u001b[0m\n",
      "\u001b[0m\u001b[1mopenstack_networking_port_v2.private_net_ports[\"node3\"]: Refreshing state... [id=771ddeba-7994-4c33-8a7f-b165005e47c4]\u001b[0m\n",
      "\u001b[0m\u001b[1mopenstack_networking_port_v2.private_net_ports[\"node1\"]: Refreshing state... [id=bc351b38-ee05-4d96-9538-509ed9b046de]\u001b[0m\n",
      "\u001b[0m\u001b[1mopenstack_networking_port_v2.private_net_ports[\"node2\"]: Refreshing state... [id=29c8a7c3-239d-429b-bba5-33056c9e1f04]\u001b[0m\n",
      "\u001b[0m\u001b[1mopenstack_compute_instance_v2.nodes[\"node1\"]: Refreshing state... [id=bc7a4e21-f75b-4c9d-8f1e-655b15ec5206]\u001b[0m\n",
      "\u001b[0m\u001b[1mopenstack_compute_instance_v2.nodes[\"node2\"]: Refreshing state... [id=b917f7ba-9b6f-4912-a7e4-56c7f8099507]\u001b[0m\n",
      "\u001b[0m\u001b[1mopenstack_compute_instance_v2.nodes[\"node3\"]: Refreshing state... [id=c9077008-5b63-4b61-ab74-759f849abc8e]\u001b[0m\n",
      "\n",
      "Terraform used the selected providers to generate the following execution plan.\n",
      "Resource actions are indicated with the following symbols:\n",
      "  \u001b[32m+\u001b[0m create\u001b[0m\n",
      "\n",
      "Terraform will perform the following actions:\n",
      "\n",
      "\u001b[1m  # openstack_networking_floatingip_v2.floating_ip\u001b[0m will be created\n",
      "\u001b[0m  \u001b[32m+\u001b[0m\u001b[0m resource \"openstack_networking_floatingip_v2\" \"floating_ip\" {\n",
      "      \u001b[32m+\u001b[0m\u001b[0m address     = (known after apply)\n",
      "      \u001b[32m+\u001b[0m\u001b[0m all_tags    = (known after apply)\n",
      "      \u001b[32m+\u001b[0m\u001b[0m description = \"MLOps IP for MIDAS-service-m1.xxlarge\"\n",
      "      \u001b[32m+\u001b[0m\u001b[0m dns_domain  = (known after apply)\n",
      "      \u001b[32m+\u001b[0m\u001b[0m dns_name    = (known after apply)\n",
      "      \u001b[32m+\u001b[0m\u001b[0m fixed_ip    = (known after apply)\n",
      "      \u001b[32m+\u001b[0m\u001b[0m id          = (known after apply)\n",
      "      \u001b[32m+\u001b[0m\u001b[0m pool        = \"public\"\n",
      "      \u001b[32m+\u001b[0m\u001b[0m port_id     = \"ef90c72c-6cd5-4d78-8d88-e0de7a599ad6\"\n",
      "      \u001b[32m+\u001b[0m\u001b[0m region      = (known after apply)\n",
      "      \u001b[32m+\u001b[0m\u001b[0m subnet_id   = (known after apply)\n",
      "      \u001b[32m+\u001b[0m\u001b[0m tenant_id   = (known after apply)\n",
      "    }\n",
      "\n",
      "\u001b[1mPlan:\u001b[0m 1 to add, 0 to change, 0 to destroy.\n",
      "\u001b[0m\n",
      "Changes to Outputs:\n",
      "  \u001b[32m+\u001b[0m\u001b[0m floating_ip_out = (known after apply)\n",
      "\u001b[90m\n",
      "───────────────────────────────────────────────────────────────────────────────\u001b[0m\n",
      "\n",
      "Note: You didn't use the -out option to save this plan, so Terraform can't\n",
      "guarantee to take exactly these actions if you run \"terraform apply\" now.\n"
     ]
    }
   ],
   "source": [
    "# runs in Chameleon Jupyter environment\n",
    "terraform plan"
   ]
  },
  {
   "cell_type": "markdown",
   "metadata": {
    "id": "oa1QyMW_Rwhh"
   },
   "source": [
    "Look for the Floating IP that associated to KVM node1, Save for later use"
   ]
  },
  {
   "cell_type": "code",
   "execution_count": 24,
   "metadata": {
    "tags": []
   },
   "outputs": [
    {
     "name": "stdout",
     "output_type": "stream",
     "text": [
      "\u001b[0m\u001b[1mdata.openstack_networking_secgroup_v2.allow_ssh: Reading...\u001b[0m\u001b[0m\n",
      "\u001b[0m\u001b[1mdata.openstack_networking_secgroup_v2.allow_3000: Reading...\u001b[0m\u001b[0m\n",
      "\u001b[0m\u001b[1mdata.openstack_networking_secgroup_v2.allow_9001: Reading...\u001b[0m\u001b[0m\n",
      "\u001b[0m\u001b[1mdata.openstack_networking_secgroup_v2.allow_9090: Reading...\u001b[0m\u001b[0m\n",
      "\u001b[0m\u001b[1mdata.openstack_networking_network_v2.sharednet2: Reading...\u001b[0m\u001b[0m\n",
      "\u001b[0m\u001b[1mdata.openstack_networking_secgroup_v2.allow_8080: Reading...\u001b[0m\u001b[0m\n",
      "\u001b[0m\u001b[1mdata.openstack_networking_secgroup_v2.allow_http_80: Reading...\u001b[0m\u001b[0m\n",
      "\u001b[0m\u001b[1mdata.openstack_networking_subnet_v2.sharednet2_subnet: Reading...\u001b[0m\u001b[0m\n",
      "\u001b[0m\u001b[1mdata.openstack_networking_secgroup_v2.allow_8081: Reading...\u001b[0m\u001b[0m\n",
      "\u001b[0m\u001b[1mopenstack_networking_network_v2.private_net: Refreshing state... [id=291457cb-83ed-43f1-b937-c73e2cc6bacd]\u001b[0m\n",
      "\u001b[0m\u001b[1mdata.openstack_networking_secgroup_v2.allow_9001: Read complete after 0s [id=ad2912c0-caa9-49e0-b431-b9b3953b91b3]\u001b[0m\n",
      "\u001b[0m\u001b[1mdata.openstack_networking_secgroup_v2.allow_ssh: Read complete after 0s [id=47860acf-9269-4d26-84b1-363824f7e0a2]\u001b[0m\n",
      "\u001b[0m\u001b[1mdata.openstack_networking_secgroup_v2.allow_8000: Reading...\u001b[0m\u001b[0m\n",
      "\u001b[0m\u001b[1mdata.openstack_networking_secgroup_v2.allow_http_80: Read complete after 0s [id=5df2db36-79f9-4b9b-b6c9-1ece762d83fb]\u001b[0m\n",
      "\u001b[0m\u001b[1mdata.openstack_networking_secgroup_v2.allow_8000: Read complete after 1s [id=17a6d962-cc23-4551-ac0b-08b098f451d2]\u001b[0m\n",
      "\u001b[0m\u001b[1mdata.openstack_networking_subnet_v2.sharednet2_subnet: Read complete after 1s [id=00b8d316-7617-4da4-b6c0-b7dd1dd78cd4]\u001b[0m\n",
      "\u001b[0m\u001b[1mdata.openstack_networking_secgroup_v2.allow_8081: Read complete after 1s [id=9806d71f-f0bd-4c5d-8c48-f32db3094575]\u001b[0m\n",
      "\u001b[0m\u001b[1mdata.openstack_networking_network_v2.sharednet2: Read complete after 1s [id=4ec616b2-79e1-4813-abca-f2ceb41e0a89]\u001b[0m\n",
      "\u001b[0m\u001b[1mdata.openstack_networking_secgroup_v2.allow_3000: Read complete after 1s [id=7884eab6-6e75-4e56-a8f0-dffc255e6b91]\u001b[0m\n",
      "\u001b[0m\u001b[1mdata.openstack_networking_secgroup_v2.allow_8080: Read complete after 1s [id=e6eff5db-c96d-4e3d-be49-1ade281f4a7a]\u001b[0m\n",
      "\u001b[0m\u001b[1mdata.openstack_networking_secgroup_v2.allow_9090: Read complete after 1s [id=d6736d54-d9a4-431c-a5b5-4d29dbcdee03]\u001b[0m\n",
      "\u001b[0m\u001b[1mopenstack_networking_port_v2.sharednet2_ports[\"node3\"]: Refreshing state... [id=4315e8b8-8bf8-48da-9b25-d71b0535adc4]\u001b[0m\n",
      "\u001b[0m\u001b[1mopenstack_networking_subnet_v2.private_subnet: Refreshing state... [id=77a25ac6-7743-4728-90e0-f26ffff1b84b]\u001b[0m\n",
      "\u001b[0m\u001b[1mopenstack_networking_port_v2.sharednet2_ports[\"node2\"]: Refreshing state... [id=99ebebe9-4446-4938-9795-32a110292183]\u001b[0m\n",
      "\u001b[0m\u001b[1mopenstack_networking_port_v2.sharednet2_ports[\"node1\"]: Refreshing state... [id=ef90c72c-6cd5-4d78-8d88-e0de7a599ad6]\u001b[0m\n",
      "\u001b[0m\u001b[1mopenstack_networking_port_v2.private_net_ports[\"node3\"]: Refreshing state... [id=771ddeba-7994-4c33-8a7f-b165005e47c4]\u001b[0m\n",
      "\u001b[0m\u001b[1mopenstack_networking_port_v2.private_net_ports[\"node1\"]: Refreshing state... [id=bc351b38-ee05-4d96-9538-509ed9b046de]\u001b[0m\n",
      "\u001b[0m\u001b[1mopenstack_networking_port_v2.private_net_ports[\"node2\"]: Refreshing state... [id=29c8a7c3-239d-429b-bba5-33056c9e1f04]\u001b[0m\n",
      "\u001b[0m\u001b[1mopenstack_compute_instance_v2.nodes[\"node3\"]: Refreshing state... [id=c9077008-5b63-4b61-ab74-759f849abc8e]\u001b[0m\n",
      "\u001b[0m\u001b[1mopenstack_compute_instance_v2.nodes[\"node2\"]: Refreshing state... [id=b917f7ba-9b6f-4912-a7e4-56c7f8099507]\u001b[0m\n",
      "\u001b[0m\u001b[1mopenstack_compute_instance_v2.nodes[\"node1\"]: Refreshing state... [id=bc7a4e21-f75b-4c9d-8f1e-655b15ec5206]\u001b[0m\n",
      "\n",
      "Terraform used the selected providers to generate the following execution plan.\n",
      "Resource actions are indicated with the following symbols:\n",
      "  \u001b[32m+\u001b[0m create\u001b[0m\n",
      "\n",
      "Terraform will perform the following actions:\n",
      "\n",
      "\u001b[1m  # openstack_networking_floatingip_v2.floating_ip\u001b[0m will be created\n",
      "\u001b[0m  \u001b[32m+\u001b[0m\u001b[0m resource \"openstack_networking_floatingip_v2\" \"floating_ip\" {\n",
      "      \u001b[32m+\u001b[0m\u001b[0m address     = (known after apply)\n",
      "      \u001b[32m+\u001b[0m\u001b[0m all_tags    = (known after apply)\n",
      "      \u001b[32m+\u001b[0m\u001b[0m description = \"MLOps IP for MIDAS-service-m1.xxlarge\"\n",
      "      \u001b[32m+\u001b[0m\u001b[0m dns_domain  = (known after apply)\n",
      "      \u001b[32m+\u001b[0m\u001b[0m dns_name    = (known after apply)\n",
      "      \u001b[32m+\u001b[0m\u001b[0m fixed_ip    = (known after apply)\n",
      "      \u001b[32m+\u001b[0m\u001b[0m id          = (known after apply)\n",
      "      \u001b[32m+\u001b[0m\u001b[0m pool        = \"public\"\n",
      "      \u001b[32m+\u001b[0m\u001b[0m port_id     = \"ef90c72c-6cd5-4d78-8d88-e0de7a599ad6\"\n",
      "      \u001b[32m+\u001b[0m\u001b[0m region      = (known after apply)\n",
      "      \u001b[32m+\u001b[0m\u001b[0m subnet_id   = (known after apply)\n",
      "      \u001b[32m+\u001b[0m\u001b[0m tenant_id   = (known after apply)\n",
      "    }\n",
      "\n",
      "\u001b[1mPlan:\u001b[0m 1 to add, 0 to change, 0 to destroy.\n",
      "\u001b[0m\n",
      "Changes to Outputs:\n",
      "  \u001b[32m+\u001b[0m\u001b[0m floating_ip_out = (known after apply)\n",
      "\u001b[0m\u001b[1mopenstack_networking_floatingip_v2.floating_ip: Creating...\u001b[0m\u001b[0m\n",
      "\u001b[0m\u001b[1mopenstack_networking_floatingip_v2.floating_ip: Creation complete after 7s [id=003ecf47-45c6-405f-9963-7d9bff86eaf5]\u001b[0m\n",
      "\u001b[0m\u001b[1m\u001b[32m\n",
      "Apply complete! Resources: 1 added, 0 changed, 0 destroyed.\n",
      "\u001b[0m\u001b[0m\u001b[1m\u001b[32m\n",
      "Outputs:\n",
      "\n",
      "\u001b[0mfloating_ip_out = \"129.114.26.7\"\n"
     ]
    }
   ],
   "source": [
    "# runs in Chameleon Jupyter environment\n",
    "terraform apply -auto-approve"
   ]
  },
  {
   "cell_type": "code",
   "execution_count": null,
   "metadata": {},
   "outputs": [],
   "source": []
  }
 ],
 "metadata": {
  "colab": {
   "provenance": []
  },
  "kernelspec": {
   "display_name": "Bash",
   "language": "bash",
   "name": "bash"
  },
  "language_info": {
   "codemirror_mode": "shell",
   "file_extension": ".sh",
   "mimetype": "text/x-sh",
   "name": "bash"
  }
 },
 "nbformat": 4,
 "nbformat_minor": 4
}
