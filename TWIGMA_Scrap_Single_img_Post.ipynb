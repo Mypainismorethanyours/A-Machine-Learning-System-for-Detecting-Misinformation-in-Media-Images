{
  "nbformat": 4,
  "nbformat_minor": 0,
  "metadata": {
    "colab": {
      "provenance": []
    },
    "kernelspec": {
      "name": "python3",
      "display_name": "Python 3"
    },
    "language_info": {
      "name": "python"
    }
  },
  "cells": [
    {
      "cell_type": "code",
      "execution_count": 1,
      "metadata": {
        "colab": {
          "base_uri": "https://localhost:8080/"
        },
        "id": "McpkthmmeylZ",
        "outputId": "272eb9c6-3ae8-45b3-c40c-af4da32b5e97"
      },
      "outputs": [
        {
          "output_type": "stream",
          "name": "stdout",
          "text": [
            "\u001b[?25l     \u001b[90m━━━━━━━━━━━━━━━━━━━━━━━━━━━━━━━━━━━━━━━━\u001b[0m \u001b[32m0.0/65.4 kB\u001b[0m \u001b[31m?\u001b[0m eta \u001b[36m-:--:--\u001b[0m\r\u001b[2K     \u001b[90m━━━━━━━━━━━━━━━━━━━━━━━━━━━━━━━━━━━━━━━━\u001b[0m \u001b[32m65.4/65.4 kB\u001b[0m \u001b[31m4.6 MB/s\u001b[0m eta \u001b[36m0:00:00\u001b[0m\n",
            "\u001b[?25h  Preparing metadata (setup.py) ... \u001b[?25l\u001b[?25hdone\n",
            "\u001b[2K   \u001b[90m━━━━━━━━━━━━━━━━━━━━━━━━━━━━━━━━━━━━━━━━\u001b[0m \u001b[32m9.4/9.4 MB\u001b[0m \u001b[31m80.2 MB/s\u001b[0m eta \u001b[36m0:00:00\u001b[0m\n",
            "\u001b[2K   \u001b[90m━━━━━━━━━━━━━━━━━━━━━━━━━━━━━━━━━━━━━━━━\u001b[0m \u001b[32m492.9/492.9 kB\u001b[0m \u001b[31m26.1 MB/s\u001b[0m eta \u001b[36m0:00:00\u001b[0m\n",
            "\u001b[?25h  Building wheel for undetected-chromedriver (setup.py) ... \u001b[?25l\u001b[?25hdone\n",
            "W: Skipping acquire of configured file 'main/source/Sources' as repository 'https://r2u.stat.illinois.edu/ubuntu jammy InRelease' does not seem to provide it (sources.list entry misspelt?)\n",
            "Selecting previously unselected package google-chrome-stable.\n",
            "(Reading database ... 126516 files and directories currently installed.)\n",
            "Preparing to unpack chrome.deb ...\n",
            "Unpacking google-chrome-stable (135.0.7049.95-1) ...\n",
            "Setting up google-chrome-stable (135.0.7049.95-1) ...\n",
            "update-alternatives: using /usr/bin/google-chrome-stable to provide /usr/bin/x-www-browser (x-www-browser) in auto mode\n",
            "update-alternatives: using /usr/bin/google-chrome-stable to provide /usr/bin/gnome-www-browser (gnome-www-browser) in auto mode\n",
            "update-alternatives: using /usr/bin/google-chrome-stable to provide /usr/bin/google-chrome (google-chrome) in auto mode\n",
            "Processing triggers for mailcap (3.70+nmu1ubuntu1) ...\n",
            "Processing triggers for man-db (2.10.2-1) ...\n"
          ]
        }
      ],
      "source": [
        "!pip install -q selenium undetected-chromedriver pandas tqdm\n",
        "!wget -q -O chrome.deb https://dl.google.com/linux/direct/google-chrome-stable_current_amd64.deb\n",
        "!apt-get update -y > /dev/null\n",
        "!apt-get install -y libvulkan1 libnss3 libxss1 libgconf-2-4 libasound2 > /dev/null\n",
        "!dpkg -i chrome.deb\n",
        "!apt-get -f install -y > /dev/null"
      ]
    },
    {
      "cell_type": "code",
      "source": [
        "!google-chrome --version"
      ],
      "metadata": {
        "colab": {
          "base_uri": "https://localhost:8080/"
        },
        "id": "GmIbczwOiJq6",
        "outputId": "8914e4fa-67a0-4bd3-8390-b57e5b2861b3"
      },
      "execution_count": 2,
      "outputs": [
        {
          "output_type": "stream",
          "name": "stdout",
          "text": [
            "Google Chrome 135.0.7049.95 \n"
          ]
        }
      ]
    },
    {
      "cell_type": "code",
      "source": [
        "import os\n",
        "import re\n",
        "import time\n",
        "import pandas as pd\n",
        "import requests\n",
        "from tqdm import tqdm\n",
        "from urllib.parse import urlparse\n",
        "from concurrent.futures import ThreadPoolExecutor, as_completed\n",
        "\n",
        "import shutil\n",
        "import uuid\n",
        "from google.colab import files\n",
        "\n",
        "import undetected_chromedriver as uc\n",
        "from selenium.webdriver.common.by import By\n",
        "from selenium.webdriver.support.ui import WebDriverWait\n",
        "from selenium.webdriver.support import expected_conditions as EC"
      ],
      "metadata": {
        "id": "rZTLT4apez1M"
      },
      "execution_count": 3,
      "outputs": []
    },
    {
      "cell_type": "markdown",
      "source": [
        "### Upload \"twigema_release.csv“ (Expand Files at left side) ###"
      ],
      "metadata": {
        "id": "44DzdjxK1C-E"
      }
    },
    {
      "cell_type": "code",
      "source": [
        "INPUT_CSV_PATH = \"/content/twigma_release.csv\"   # Upload the twigma_release.csv"
      ],
      "metadata": {
        "id": "y8w7WSX4e4mo"
      },
      "execution_count": 24,
      "outputs": []
    },
    {
      "cell_type": "markdown",
      "source": [
        "### Set the Start and End for partial process ###"
      ],
      "metadata": {
        "id": "phjc44FP1arD"
      }
    },
    {
      "cell_type": "code",
      "source": [
        "START_ROW = 1000\n",
        "END_ROW = 2000  # Set your own range\n",
        "\n",
        "OUTPUT_IMAGE_DIR = f\"/content/images_{START_ROW}_{END_ROW}\"\n",
        "os.makedirs(OUTPUT_IMAGE_DIR, exist_ok=True)\n",
        "\n",
        "# Load and filter single-image tweets\n",
        "df_all = pd.read_csv(INPUT_CSV_PATH)\n",
        "df_all[\"tweet_id\"] = df_all[\"id\"].astype(str)\n",
        "df_chunk = df_all.iloc[START_ROW:END_ROW].copy()\n",
        "\n",
        "tweet_counts = df_chunk[\"tweet_id\"].value_counts()\n",
        "single_tweet_ids = tweet_counts[tweet_counts == 1].index\n",
        "df = df_chunk[df_chunk[\"tweet_id\"].isin(single_tweet_ids)].copy()\n",
        "print(f\"✅ Processing {len(df)} single-image tweets only\")\n",
        "\n",
        "# Launch headless Chrome browser\n",
        "options = uc.ChromeOptions()\n",
        "options.binary_location = \"/usr/bin/google-chrome\"\n",
        "options.add_argument(\"--headless=new\")\n",
        "options.add_argument(\"--no-sandbox\")\n",
        "options.add_argument(\"--disable-dev-shm-usage\")\n",
        "driver = uc.Chrome(options=options)\n",
        "\n",
        "def restart_driver():\n",
        "    global driver\n",
        "    try:\n",
        "        driver.quit()\n",
        "    except:\n",
        "        pass\n",
        "\n",
        "    options = uc.ChromeOptions()\n",
        "    options.binary_location = \"/usr/bin/google-chrome\"\n",
        "    options.add_argument(\"--headless=new\")\n",
        "    options.add_argument(\"--no-sandbox\")\n",
        "    options.add_argument(\"--disable-dev-shm-usage\")\n",
        "    driver = uc.Chrome(options=options)\n",
        "    print(\"♻️ Driver restarted.\")\n"
      ],
      "metadata": {
        "colab": {
          "base_uri": "https://localhost:8080/"
        },
        "id": "jzBBer1Px0js",
        "outputId": "f0953af1-abf7-4f23-ecf5-bc5ab41f2e59"
      },
      "execution_count": 52,
      "outputs": [
        {
          "output_type": "stream",
          "name": "stdout",
          "text": [
            "✅ Processing 568 single-image tweets only\n"
          ]
        }
      ]
    },
    {
      "cell_type": "markdown",
      "source": [
        "### Start Crawl ###"
      ],
      "metadata": {
        "id": "Xgdlm3Kb1n5C"
      }
    },
    {
      "cell_type": "code",
      "source": [
        "cdn_names = []\n",
        "tweet_texts = []\n",
        "image_success = []\n",
        "text_success = []\n",
        "row_indices = []\n",
        "\n",
        "actual_requests = 0\n",
        "sequent_requests = 0\n",
        "consecutive_failures = 0\n",
        "ALL_consecutive_failures = 0\n",
        "duration = 0\n",
        "recent_texts = []\n",
        "recent_images = []\n",
        "\n",
        "start_time = time.time()\n",
        "\n",
        "for i, row in tqdm(df.iterrows(), total=len(df), desc=\"Processing tweets\"):\n",
        "    tweet_id = row[\"tweet_id\"]\n",
        "    tweet_url = f\"https://twitter.com/i/web/status/{tweet_id}\"\n",
        "    row_index = row.name  # Original row number in the TWIGMA dataset\n",
        "\n",
        "    media_url = \"\"\n",
        "    success = False\n",
        "    tweet_text = \"\"\n",
        "    text_ok = False\n",
        "\n",
        "\n",
        "    try:\n",
        "        driver.get(tweet_url)\n",
        "        actual_requests += 1  # ✅ Actual browser requests\n",
        "        sequent_requests += 1  # ✅ Sequential browser requests\n",
        "        # time.sleep(1)\n",
        "\n",
        "        # ✅ Extract tweet text\n",
        "        try:\n",
        "            tweet_elem = WebDriverWait(driver, 2.5).until(\n",
        "                EC.presence_of_element_located((By.XPATH, '//article//div[@data-testid=\"tweetText\"]'))\n",
        "            )\n",
        "            tweet_text = tweet_elem.text.strip()\n",
        "            text_ok = True\n",
        "        except:\n",
        "            print(f\"\\n[WARN] ❌ Failed to extract tweet text: {tweet_id}\")\n",
        "\n",
        "        # ✅ Extract image URL\n",
        "        try:\n",
        "            img_elem = WebDriverWait(driver, 0.5).until(\n",
        "                EC.presence_of_element_located((By.XPATH, '//article//img[contains(@src, \"pbs.twimg.com/media\")]'))\n",
        "            )\n",
        "            media_url = img_elem.get_attribute(\"src\")\n",
        "        except:\n",
        "            print(f\"\\n[WARN] ❌ Failed to locate image element: {tweet_id}\")\n",
        "\n",
        "        # ✅ Download image (record URL even if download fails)\n",
        "        if media_url:\n",
        "            try:\n",
        "                parsed = urlparse(media_url)\n",
        "                cdn_filename = os.path.basename(parsed.path)\n",
        "                if not re.search(r\"\\.(jpg|jpeg|png|webp)$\", cdn_filename):\n",
        "                    cdn_filename += \".jpg\"\n",
        "\n",
        "                full_filename = f\"{tweet_id}_{cdn_filename}\"\n",
        "                full_path = os.path.join(OUTPUT_IMAGE_DIR, full_filename)\n",
        "\n",
        "                img_data = requests.get(media_url, timeout=5).content\n",
        "                with open(full_path, \"wb\") as f:\n",
        "                    f.write(img_data)\n",
        "\n",
        "                cdn_names.append(cdn_filename)\n",
        "                success = True  # ← download successful\n",
        "\n",
        "            except Exception as e:\n",
        "                print(f\"[WARN] 🌐 Image download failed: {tweet_id} → {media_url}\")\n",
        "                cdn_names.append(media_url)  # Save image URL for retry\n",
        "\n",
        "        else:\n",
        "            cdn_names.append(\"\")\n",
        "\n",
        "    except Exception as e:\n",
        "        print(f\"[ERROR] 🚨 Tweet {tweet_id} failed: {e}\")\n",
        "        cdn_names.append(\"\")\n",
        "        tweet_text = \"\"\n",
        "        text_ok = False\n",
        "\n",
        "    recent_texts.append(text_ok)\n",
        "    recent_images.append(success)\n",
        "\n",
        "    # ✅ Record result for each tweet\n",
        "    tweet_texts.append(tweet_text)\n",
        "    text_success.append(text_ok)\n",
        "    image_success.append(success)\n",
        "    row_indices.append(row_index)\n",
        "\n",
        "    # ===\n",
        "    if actual_requests % 10 == 0:\n",
        "        text_count = sum(recent_texts)\n",
        "        image_count = sum(recent_images)\n",
        "        both_count = sum(t and i for t, i in zip(recent_texts, recent_images))\n",
        "\n",
        "        print(f\"\\n📊 Summary of the last 10 requests:\")\n",
        "        print(f\"📝 Text success:  {text_count}/10\")\n",
        "        print(f\"🖼️  Image success: {image_count}/10\")\n",
        "        print(f\"✅ Both success:  {both_count}/10\\n\")\n",
        "\n",
        "        recent_texts = []\n",
        "        recent_images = []\n",
        "\n",
        "    # === Cooling logic ===\n",
        "    if not text_ok and not success:\n",
        "        consecutive_failures += 1\n",
        "        ALL_consecutive_failures += 1\n",
        "    else:\n",
        "        consecutive_failures = 0\n",
        "        ALL_consecutive_failures = 0\n",
        "\n",
        "    # === Restart driver every 10 seqential tweets\n",
        "    if sequent_requests >= 10:\n",
        "        print(f\"♻️ Restarting driver after {sequent_requests} requests...\")\n",
        "        restart_driver()\n",
        "        time.sleep(15)\n",
        "        consecutive_failures = 0\n",
        "        sequent_requests = 0\n",
        "\n",
        "    # === Restart driver after 5 consecutive failures\n",
        "    elif consecutive_failures >= 5:\n",
        "        print(f\"♻️ Restarting driver after {consecutive_failures} consecutive failures...\")\n",
        "        restart_driver()\n",
        "        time.sleep(15)\n",
        "        consecutive_failures = 0\n",
        "        sequent_requests = 0\n",
        "\n",
        "        if ALL_consecutive_failures >= 10:\n",
        "            restart_driver()\n",
        "            time.sleep(15)\n",
        "            consecutive_failures = 0\n",
        "            print(f\"ALL_consecutive_failures: {ALL_consecutive_failures}\")\n",
        "\n",
        "\n",
        "\n",
        "\n",
        "end_time = time.time()\n",
        "duration = end_time - start_time"
      ],
      "metadata": {
        "colab": {
          "base_uri": "https://localhost:8080/"
        },
        "id": "hUX5C63vrWxE",
        "outputId": "faa85b2c-2cab-45d0-9885-3e829fdeabbf"
      },
      "execution_count": 53,
      "outputs": [
        {
          "output_type": "stream",
          "name": "stderr",
          "text": [
            "\rProcessing tweets:   0%|          | 0/568 [00:00<?, ?it/s]"
          ]
        },
        {
          "output_type": "stream",
          "name": "stdout",
          "text": [
            "\n",
            "[WARN] ❌ Failed to extract tweet text: 1608604029759942657\n"
          ]
        },
        {
          "output_type": "stream",
          "name": "stderr",
          "text": [
            "\rProcessing tweets:   0%|          | 1/568 [00:06<59:28,  6.29s/it]"
          ]
        },
        {
          "output_type": "stream",
          "name": "stdout",
          "text": [
            "\n",
            "[WARN] ❌ Failed to locate image element: 1608604029759942657\n"
          ]
        },
        {
          "output_type": "stream",
          "name": "stderr",
          "text": [
            "\rProcessing tweets:   0%|          | 2/568 [00:09<40:14,  4.27s/it]"
          ]
        },
        {
          "output_type": "stream",
          "name": "stdout",
          "text": [
            "\n",
            "[WARN] ❌ Failed to extract tweet text: 1608603738071261186\n"
          ]
        },
        {
          "output_type": "stream",
          "name": "stderr",
          "text": [
            "\rProcessing tweets:   1%|          | 3/568 [00:12<38:01,  4.04s/it]"
          ]
        },
        {
          "output_type": "stream",
          "name": "stdout",
          "text": [
            "\n",
            "[WARN] ❌ Failed to locate image element: 1608603738071261186\n"
          ]
        },
        {
          "output_type": "stream",
          "name": "stderr",
          "text": [
            "\rProcessing tweets:   1%|          | 4/568 [00:17<41:02,  4.37s/it]"
          ]
        },
        {
          "output_type": "stream",
          "name": "stdout",
          "text": [
            "\n",
            "[WARN] ❌ Failed to extract tweet text: 1608602261726322688\n"
          ]
        },
        {
          "output_type": "stream",
          "name": "stderr",
          "text": [
            "\rProcessing tweets:   1%|          | 5/568 [00:21<40:27,  4.31s/it]"
          ]
        },
        {
          "output_type": "stream",
          "name": "stdout",
          "text": [
            "\n",
            "[WARN] ❌ Failed to locate image element: 1608602261726322688\n",
            "\n",
            "[WARN] ❌ Failed to extract tweet text: 1608601255303122945\n"
          ]
        },
        {
          "output_type": "stream",
          "name": "stderr",
          "text": [
            "\rProcessing tweets:   1%|          | 6/568 [00:25<39:22,  4.20s/it]"
          ]
        },
        {
          "output_type": "stream",
          "name": "stdout",
          "text": [
            "\n",
            "[WARN] ❌ Failed to locate image element: 1608601255303122945\n",
            "\n",
            "[WARN] ❌ Failed to extract tweet text: 1608601172130295808\n"
          ]
        },
        {
          "output_type": "stream",
          "name": "stderr",
          "text": [
            "\rProcessing tweets:   1%|          | 7/568 [00:29<38:28,  4.12s/it]"
          ]
        },
        {
          "output_type": "stream",
          "name": "stdout",
          "text": [
            "\n",
            "[WARN] ❌ Failed to locate image element: 1608601172130295808\n",
            "\n",
            "[WARN] ❌ Failed to extract tweet text: 1608601025983971329\n"
          ]
        },
        {
          "output_type": "stream",
          "name": "stderr",
          "text": [
            "\rProcessing tweets:   1%|▏         | 8/568 [00:33<37:10,  3.98s/it]"
          ]
        },
        {
          "output_type": "stream",
          "name": "stdout",
          "text": [
            "\n",
            "[WARN] ❌ Failed to locate image element: 1608601025983971329\n",
            "\n",
            "[WARN] ❌ Failed to extract tweet text: 1608600758617767936\n",
            "\n",
            "[WARN] ❌ Failed to locate image element: 1608600758617767936\n",
            "♻️ Restarting driver after 5 consecutive failures...\n",
            "♻️ Driver restarted.\n"
          ]
        },
        {
          "output_type": "stream",
          "name": "stderr",
          "text": [
            "\rProcessing tweets:   2%|▏         | 9/568 [00:49<1:13:10,  7.85s/it]"
          ]
        },
        {
          "output_type": "stream",
          "name": "stdout",
          "text": [
            "\n",
            "[WARN] ❌ Failed to extract tweet text: 1608599619646230535\n"
          ]
        },
        {
          "output_type": "stream",
          "name": "stderr",
          "text": [
            "\rProcessing tweets:   2%|▏         | 10/568 [00:57<1:13:05,  7.86s/it]"
          ]
        },
        {
          "output_type": "stream",
          "name": "stdout",
          "text": [
            "\n",
            "[WARN] ❌ Failed to locate image element: 1608599619646230535\n",
            "\n",
            "📊 Summary of the last 10 requests:\n",
            "📝 Text success:  2/10\n",
            "🖼️  Image success: 2/10\n",
            "✅ Both success:  2/10\n",
            "\n",
            "\n",
            "[WARN] ❌ Failed to extract tweet text: 1608599044204396545\n"
          ]
        },
        {
          "output_type": "stream",
          "name": "stderr",
          "text": [
            "\rProcessing tweets:   2%|▏         | 11/568 [01:02<1:03:26,  6.83s/it]"
          ]
        },
        {
          "output_type": "stream",
          "name": "stdout",
          "text": [
            "\n",
            "[WARN] ❌ Failed to locate image element: 1608599044204396545\n",
            "\n",
            "[WARN] ❌ Failed to extract tweet text: 1608598867011837955\n"
          ]
        },
        {
          "output_type": "stream",
          "name": "stderr",
          "text": [
            "\rProcessing tweets:   2%|▏         | 12/568 [01:06<54:34,  5.89s/it]  "
          ]
        },
        {
          "output_type": "stream",
          "name": "stdout",
          "text": [
            "\n",
            "[WARN] ❌ Failed to locate image element: 1608598867011837955\n",
            "\n",
            "[WARN] ❌ Failed to extract tweet text: 1608598616490512385\n"
          ]
        },
        {
          "output_type": "stream",
          "name": "stderr",
          "text": [
            "\rProcessing tweets:   2%|▏         | 13/568 [01:09<48:21,  5.23s/it]"
          ]
        },
        {
          "output_type": "stream",
          "name": "stdout",
          "text": [
            "\n",
            "[WARN] ❌ Failed to locate image element: 1608598616490512385\n",
            "\n",
            "[WARN] ❌ Failed to extract tweet text: 1608597619718164480\n",
            "\n",
            "[WARN] ❌ Failed to locate image element: 1608597619718164480\n",
            "♻️ Restarting driver after 5 consecutive failures...\n",
            "♻️ Driver restarted.\n",
            "♻️ Driver restarted.\n"
          ]
        },
        {
          "output_type": "stream",
          "name": "stderr",
          "text": [
            "\rProcessing tweets:   2%|▏         | 14/568 [01:57<2:45:43, 17.95s/it]"
          ]
        },
        {
          "output_type": "stream",
          "name": "stdout",
          "text": [
            "ALL_consecutive_failures: 10\n",
            "\n",
            "[WARN] ❌ Failed to extract tweet text: 1608597060630220800\n"
          ]
        },
        {
          "output_type": "stream",
          "name": "stderr",
          "text": [
            "\rProcessing tweets:   3%|▎         | 15/568 [02:04<2:16:38, 14.83s/it]"
          ]
        },
        {
          "output_type": "stream",
          "name": "stdout",
          "text": [
            "\n",
            "[WARN] ❌ Failed to locate image element: 1608597060630220800\n"
          ]
        },
        {
          "output_type": "stream",
          "name": "stderr",
          "text": [
            "Processing tweets:   4%|▎         | 20/568 [02:15<39:33,  4.33s/it]"
          ]
        },
        {
          "output_type": "stream",
          "name": "stdout",
          "text": [
            "\n",
            "📊 Summary of the last 10 requests:\n",
            "📝 Text success:  5/10\n",
            "🖼️  Image success: 5/10\n",
            "✅ Both success:  5/10\n",
            "\n",
            "\n",
            "[WARN] ❌ Failed to extract tweet text: 1608595916222783492\n"
          ]
        },
        {
          "output_type": "stream",
          "name": "stderr",
          "text": [
            "\rProcessing tweets:   4%|▎         | 21/568 [02:20<39:07,  4.29s/it]"
          ]
        },
        {
          "output_type": "stream",
          "name": "stdout",
          "text": [
            "\n",
            "[WARN] ❌ Failed to locate image element: 1608595916222783492\n"
          ]
        },
        {
          "output_type": "stream",
          "name": "stderr",
          "text": [
            "\rProcessing tweets:   4%|▍         | 22/568 [02:23<36:43,  4.04s/it]"
          ]
        },
        {
          "output_type": "stream",
          "name": "stdout",
          "text": [
            "\n",
            "[WARN] ❌ Failed to extract tweet text: 1608592571638464512\n"
          ]
        },
        {
          "output_type": "stream",
          "name": "stderr",
          "text": [
            "\rProcessing tweets:   4%|▍         | 23/568 [02:27<36:46,  4.05s/it]"
          ]
        },
        {
          "output_type": "stream",
          "name": "stdout",
          "text": [
            "\n",
            "[WARN] ❌ Failed to locate image element: 1608592571638464512\n",
            "\n",
            "[WARN] ❌ Failed to extract tweet text: 1608591867289145346\n",
            "\n",
            "[WARN] ❌ Failed to locate image element: 1608591867289145346\n",
            "♻️ Restarting driver after 10 requests...\n",
            "♻️ Driver restarted.\n"
          ]
        },
        {
          "output_type": "stream",
          "name": "stderr",
          "text": [
            "\rProcessing tweets:   4%|▍         | 24/568 [02:47<1:21:08,  8.95s/it]"
          ]
        },
        {
          "output_type": "stream",
          "name": "stdout",
          "text": [
            "\n",
            "[WARN] ❌ Failed to extract tweet text: 1608590057379876865\n"
          ]
        },
        {
          "output_type": "stream",
          "name": "stderr",
          "text": [
            "\rProcessing tweets:   4%|▍         | 25/568 [02:54<1:13:52,  8.16s/it]"
          ]
        },
        {
          "output_type": "stream",
          "name": "stdout",
          "text": [
            "\n",
            "[WARN] ❌ Failed to locate image element: 1608590057379876865\n",
            "\n",
            "[WARN] ❌ Failed to extract tweet text: 1608589099614736384\n"
          ]
        },
        {
          "output_type": "stream",
          "name": "stderr",
          "text": [
            "\rProcessing tweets:   5%|▍         | 26/568 [02:58<1:03:26,  7.02s/it]"
          ]
        },
        {
          "output_type": "stream",
          "name": "stdout",
          "text": [
            "\n",
            "[WARN] ❌ Failed to locate image element: 1608589099614736384\n",
            "\n",
            "[WARN] ❌ Failed to extract tweet text: 1608588882270105603\n"
          ]
        },
        {
          "output_type": "stream",
          "name": "stderr",
          "text": [
            "\rProcessing tweets:   5%|▍         | 27/568 [03:02<55:28,  6.15s/it]  "
          ]
        },
        {
          "output_type": "stream",
          "name": "stdout",
          "text": [
            "\n",
            "[WARN] ❌ Failed to locate image element: 1608588882270105603\n"
          ]
        },
        {
          "output_type": "stream",
          "name": "stderr",
          "text": [
            "Processing tweets:   5%|▌         | 29/568 [03:08<41:07,  4.58s/it]"
          ]
        },
        {
          "output_type": "stream",
          "name": "stdout",
          "text": [
            "\n",
            "[WARN] ❌ Failed to extract tweet text: 1608587523584057345\n"
          ]
        },
        {
          "output_type": "stream",
          "name": "stderr",
          "text": [
            "\rProcessing tweets:   5%|▌         | 30/568 [03:12<40:08,  4.48s/it]"
          ]
        },
        {
          "output_type": "stream",
          "name": "stdout",
          "text": [
            "\n",
            "[WARN] ❌ Failed to locate image element: 1608587523584057345\n",
            "\n",
            "📊 Summary of the last 10 requests:\n",
            "📝 Text success:  3/10\n",
            "🖼️  Image success: 3/10\n",
            "✅ Both success:  3/10\n",
            "\n",
            "\n",
            "[WARN] ❌ Failed to extract tweet text: 1608586740607885315\n"
          ]
        },
        {
          "output_type": "stream",
          "name": "stderr",
          "text": [
            "\rProcessing tweets:   5%|▌         | 31/568 [03:17<39:04,  4.37s/it]"
          ]
        },
        {
          "output_type": "stream",
          "name": "stdout",
          "text": [
            "\n",
            "[WARN] ❌ Failed to locate image element: 1608586740607885315\n"
          ]
        },
        {
          "output_type": "stream",
          "name": "stderr",
          "text": [
            "\rProcessing tweets:   6%|▌         | 32/568 [03:19<32:40,  3.66s/it]"
          ]
        },
        {
          "output_type": "stream",
          "name": "stdout",
          "text": [
            "\n",
            "[WARN] ❌ Failed to extract tweet text: 1608584140911415297\n"
          ]
        },
        {
          "output_type": "stream",
          "name": "stderr",
          "text": [
            "\rProcessing tweets:   6%|▌         | 33/568 [03:22<32:42,  3.67s/it]"
          ]
        },
        {
          "output_type": "stream",
          "name": "stdout",
          "text": [
            "\n",
            "[WARN] ❌ Failed to locate image element: 1608584140911415297\n",
            "\n",
            "[WARN] ❌ Failed to extract tweet text: 1608583764887617537\n",
            "\n",
            "[WARN] ❌ Failed to locate image element: 1608583764887617537\n",
            "♻️ Restarting driver after 10 requests...\n",
            "♻️ Driver restarted.\n"
          ]
        },
        {
          "output_type": "stream",
          "name": "stderr",
          "text": [
            "Processing tweets:   6%|▌         | 35/568 [03:47<1:06:09,  7.45s/it]"
          ]
        },
        {
          "output_type": "stream",
          "name": "stdout",
          "text": [
            "\n",
            "[WARN] ❌ Failed to extract tweet text: 1608583379280343041\n"
          ]
        },
        {
          "output_type": "stream",
          "name": "stderr",
          "text": [
            "\rProcessing tweets:   6%|▋         | 36/568 [03:52<57:57,  6.54s/it]  "
          ]
        },
        {
          "output_type": "stream",
          "name": "stdout",
          "text": [
            "\n",
            "[WARN] ❌ Failed to locate image element: 1608583379280343041\n",
            "\n",
            "[WARN] ❌ Failed to extract tweet text: 1608582482169040897\n"
          ]
        },
        {
          "output_type": "stream",
          "name": "stderr",
          "text": [
            "\rProcessing tweets:   7%|▋         | 37/568 [03:55<50:46,  5.74s/it]"
          ]
        },
        {
          "output_type": "stream",
          "name": "stdout",
          "text": [
            "\n",
            "[WARN] ❌ Failed to locate image element: 1608582482169040897\n",
            "\n",
            "[WARN] ❌ Failed to extract tweet text: 1608582460610342912\n"
          ]
        },
        {
          "output_type": "stream",
          "name": "stderr",
          "text": [
            "\rProcessing tweets:   7%|▋         | 38/568 [04:00<46:32,  5.27s/it]"
          ]
        },
        {
          "output_type": "stream",
          "name": "stdout",
          "text": [
            "\n",
            "[WARN] ❌ Failed to locate image element: 1608582460610342912\n",
            "\n",
            "[WARN] ❌ Failed to extract tweet text: 1608581605056221184\n"
          ]
        },
        {
          "output_type": "stream",
          "name": "stderr",
          "text": [
            "\rProcessing tweets:   7%|▋         | 39/568 [04:04<43:21,  4.92s/it]"
          ]
        },
        {
          "output_type": "stream",
          "name": "stdout",
          "text": [
            "\n",
            "[WARN] ❌ Failed to locate image element: 1608581605056221184\n",
            "\n",
            "[WARN] ❌ Failed to extract tweet text: 1608581495681323008\n",
            "\n",
            "[WARN] ❌ Failed to locate image element: 1608581495681323008\n",
            "\n",
            "📊 Summary of the last 10 requests:\n",
            "📝 Text success:  2/10\n",
            "🖼️  Image success: 2/10\n",
            "✅ Both success:  2/10\n",
            "\n",
            "♻️ Restarting driver after 5 consecutive failures...\n",
            "♻️ Driver restarted.\n"
          ]
        },
        {
          "output_type": "stream",
          "name": "stderr",
          "text": [
            "\rProcessing tweets:   7%|▋         | 40/568 [04:19<1:09:22,  7.88s/it]"
          ]
        },
        {
          "output_type": "stream",
          "name": "stdout",
          "text": [
            "\n",
            "[WARN] ❌ Failed to extract tweet text: 1608581208308387841\n"
          ]
        },
        {
          "output_type": "stream",
          "name": "stderr",
          "text": [
            "\rProcessing tweets:   7%|▋         | 41/568 [04:24<1:04:00,  7.29s/it]"
          ]
        },
        {
          "output_type": "stream",
          "name": "stdout",
          "text": [
            "\n",
            "[WARN] ❌ Failed to locate image element: 1608581208308387841\n",
            "\n",
            "[WARN] ❌ Failed to extract tweet text: 1608580870880755713\n"
          ]
        },
        {
          "output_type": "stream",
          "name": "stderr",
          "text": [
            "\rProcessing tweets:   7%|▋         | 42/568 [04:30<58:06,  6.63s/it]  "
          ]
        },
        {
          "output_type": "stream",
          "name": "stdout",
          "text": [
            "\n",
            "[WARN] ❌ Failed to locate image element: 1608580870880755713\n",
            "\n",
            "[WARN] ❌ Failed to extract tweet text: 1608580773749178369\n"
          ]
        },
        {
          "output_type": "stream",
          "name": "stderr",
          "text": [
            "\rProcessing tweets:   8%|▊         | 43/568 [04:33<50:06,  5.73s/it]"
          ]
        },
        {
          "output_type": "stream",
          "name": "stdout",
          "text": [
            "\n",
            "[WARN] ❌ Failed to locate image element: 1608580773749178369\n"
          ]
        },
        {
          "output_type": "stream",
          "name": "stderr",
          "text": [
            "\rProcessing tweets:   8%|▊         | 44/568 [04:35<40:28,  4.63s/it]"
          ]
        },
        {
          "output_type": "stream",
          "name": "stdout",
          "text": [
            "\n",
            "[WARN] ❌ Failed to extract tweet text: 1608580068116238338\n"
          ]
        },
        {
          "output_type": "stream",
          "name": "stderr",
          "text": [
            "\rProcessing tweets:   8%|▊         | 45/568 [04:39<38:13,  4.39s/it]"
          ]
        },
        {
          "output_type": "stream",
          "name": "stdout",
          "text": [
            "\n",
            "[WARN] ❌ Failed to locate image element: 1608580068116238338\n",
            "\n",
            "[WARN] ❌ Failed to extract tweet text: 1608579919797276673\n"
          ]
        },
        {
          "output_type": "stream",
          "name": "stderr",
          "text": [
            "\rProcessing tweets:   8%|▊         | 46/568 [04:43<37:27,  4.31s/it]"
          ]
        },
        {
          "output_type": "stream",
          "name": "stdout",
          "text": [
            "\n",
            "[WARN] ❌ Failed to locate image element: 1608579919797276673\n",
            "\n",
            "[WARN] ❌ Failed to extract tweet text: 1608579758983467009\n"
          ]
        },
        {
          "output_type": "stream",
          "name": "stderr",
          "text": [
            "\rProcessing tweets:   8%|▊         | 47/568 [04:47<36:59,  4.26s/it]"
          ]
        },
        {
          "output_type": "stream",
          "name": "stdout",
          "text": [
            "\n",
            "[WARN] ❌ Failed to locate image element: 1608579758983467009\n",
            "\n",
            "[WARN] ❌ Failed to extract tweet text: 1608579553319944193\n"
          ]
        },
        {
          "output_type": "stream",
          "name": "stderr",
          "text": [
            "\rProcessing tweets:   8%|▊         | 48/568 [04:52<38:05,  4.40s/it]"
          ]
        },
        {
          "output_type": "stream",
          "name": "stdout",
          "text": [
            "\n",
            "[WARN] ❌ Failed to locate image element: 1608579553319944193\n",
            "\n",
            "[WARN] ❌ Failed to extract tweet text: 1608579414115115010\n",
            "\n",
            "[WARN] ❌ Failed to locate image element: 1608579414115115010\n",
            "♻️ Restarting driver after 5 consecutive failures...\n",
            "♻️ Driver restarted.\n"
          ]
        },
        {
          "output_type": "stream",
          "name": "stderr",
          "text": [
            "\rProcessing tweets:   9%|▊         | 49/568 [05:07<1:05:13,  7.54s/it]"
          ]
        },
        {
          "output_type": "stream",
          "name": "stdout",
          "text": [
            "\n",
            "[WARN] ❌ Failed to extract tweet text: 1608579186201100289\n"
          ]
        },
        {
          "output_type": "stream",
          "name": "stderr",
          "text": [
            "\rProcessing tweets:   9%|▉         | 50/568 [05:14<1:03:44,  7.38s/it]"
          ]
        },
        {
          "output_type": "stream",
          "name": "stdout",
          "text": [
            "\n",
            "[WARN] ❌ Failed to locate image element: 1608579186201100289\n",
            "\n",
            "📊 Summary of the last 10 requests:\n",
            "📝 Text success:  1/10\n",
            "🖼️  Image success: 1/10\n",
            "✅ Both success:  1/10\n",
            "\n"
          ]
        },
        {
          "output_type": "stream",
          "name": "stderr",
          "text": [
            "\rProcessing tweets:   9%|▉         | 51/568 [05:18<55:57,  6.49s/it]  "
          ]
        },
        {
          "output_type": "stream",
          "name": "stdout",
          "text": [
            "\n",
            "[WARN] ❌ Failed to extract tweet text: 1608579018365837313\n"
          ]
        },
        {
          "output_type": "stream",
          "name": "stderr",
          "text": [
            "\rProcessing tweets:   9%|▉         | 52/568 [05:22<48:43,  5.67s/it]"
          ]
        },
        {
          "output_type": "stream",
          "name": "stdout",
          "text": [
            "\n",
            "[WARN] ❌ Failed to locate image element: 1608579018365837313\n",
            "\n",
            "[WARN] ❌ Failed to extract tweet text: 1608578787016417280\n"
          ]
        },
        {
          "output_type": "stream",
          "name": "stderr",
          "text": [
            "\rProcessing tweets:   9%|▉         | 53/568 [05:26<45:09,  5.26s/it]"
          ]
        },
        {
          "output_type": "stream",
          "name": "stdout",
          "text": [
            "\n",
            "[WARN] ❌ Failed to locate image element: 1608578787016417280\n"
          ]
        },
        {
          "output_type": "stream",
          "name": "stderr",
          "text": [
            "Processing tweets:  10%|▉         | 55/568 [05:33<36:03,  4.22s/it]"
          ]
        },
        {
          "output_type": "stream",
          "name": "stdout",
          "text": [
            "\n",
            "[WARN] ❌ Failed to extract tweet text: 1608578095870611456\n"
          ]
        },
        {
          "output_type": "stream",
          "name": "stderr",
          "text": [
            "\rProcessing tweets:  10%|▉         | 56/568 [05:37<36:00,  4.22s/it]"
          ]
        },
        {
          "output_type": "stream",
          "name": "stdout",
          "text": [
            "\n",
            "[WARN] ❌ Failed to locate image element: 1608578095870611456\n",
            "\n",
            "[WARN] ❌ Failed to extract tweet text: 1608577741045043201\n"
          ]
        },
        {
          "output_type": "stream",
          "name": "stderr",
          "text": [
            "\rProcessing tweets:  10%|█         | 57/568 [05:41<35:56,  4.22s/it]"
          ]
        },
        {
          "output_type": "stream",
          "name": "stdout",
          "text": [
            "\n",
            "[WARN] ❌ Failed to locate image element: 1608577741045043201\n",
            "\n",
            "[WARN] ❌ Failed to extract tweet text: 1608577689165651968\n"
          ]
        },
        {
          "output_type": "stream",
          "name": "stderr",
          "text": [
            "\rProcessing tweets:  10%|█         | 58/568 [05:45<34:18,  4.04s/it]"
          ]
        },
        {
          "output_type": "stream",
          "name": "stdout",
          "text": [
            "\n",
            "[WARN] ❌ Failed to locate image element: 1608577689165651968\n",
            "\n",
            "[WARN] ❌ Failed to extract tweet text: 1608577645758894080\n",
            "\n",
            "[WARN] ❌ Failed to locate image element: 1608577645758894080\n",
            "♻️ Restarting driver after 10 requests...\n",
            "♻️ Driver restarted.\n"
          ]
        },
        {
          "output_type": "stream",
          "name": "stderr",
          "text": [
            "\rProcessing tweets:  10%|█         | 59/568 [06:05<1:14:24,  8.77s/it]"
          ]
        },
        {
          "output_type": "stream",
          "name": "stdout",
          "text": [
            "\n",
            "[WARN] ❌ Failed to extract tweet text: 1608577094946279425\n"
          ]
        },
        {
          "output_type": "stream",
          "name": "stderr",
          "text": [
            "\rProcessing tweets:  11%|█         | 60/568 [06:09<1:03:37,  7.51s/it]"
          ]
        },
        {
          "output_type": "stream",
          "name": "stdout",
          "text": [
            "\n",
            "[WARN] ❌ Failed to locate image element: 1608577094946279425\n",
            "\n",
            "📊 Summary of the last 10 requests:\n",
            "📝 Text success:  3/10\n",
            "🖼️  Image success: 3/10\n",
            "✅ Both success:  3/10\n",
            "\n",
            "\n",
            "[WARN] ❌ Failed to extract tweet text: 1608576953065390080\n"
          ]
        },
        {
          "output_type": "stream",
          "name": "stderr",
          "text": [
            "\rProcessing tweets:  11%|█         | 61/568 [06:14<55:38,  6.58s/it]  "
          ]
        },
        {
          "output_type": "stream",
          "name": "stdout",
          "text": [
            "\n",
            "[WARN] ❌ Failed to locate image element: 1608576953065390080\n",
            "\n",
            "[WARN] ❌ Failed to extract tweet text: 1608576767106879489\n"
          ]
        },
        {
          "output_type": "stream",
          "name": "stderr",
          "text": [
            "\rProcessing tweets:  11%|█         | 62/568 [06:17<48:31,  5.75s/it]"
          ]
        },
        {
          "output_type": "stream",
          "name": "stdout",
          "text": [
            "\n",
            "[WARN] ❌ Failed to locate image element: 1608576767106879489\n",
            "\n",
            "[WARN] ❌ Failed to extract tweet text: 1608576553289674753\n"
          ]
        },
        {
          "output_type": "stream",
          "name": "stderr",
          "text": [
            "\rProcessing tweets:  11%|█         | 63/568 [06:22<44:45,  5.32s/it]"
          ]
        },
        {
          "output_type": "stream",
          "name": "stdout",
          "text": [
            "\n",
            "[WARN] ❌ Failed to locate image element: 1608576553289674753\n",
            "\n",
            "[WARN] ❌ Failed to extract tweet text: 1608576374536560642\n",
            "\n",
            "[WARN] ❌ Failed to locate image element: 1608576374536560642\n",
            "♻️ Restarting driver after 5 consecutive failures...\n",
            "♻️ Driver restarted.\n"
          ]
        },
        {
          "output_type": "stream",
          "name": "stderr",
          "text": [
            "\rProcessing tweets:  11%|█▏        | 64/568 [06:37<1:09:56,  8.33s/it]"
          ]
        },
        {
          "output_type": "stream",
          "name": "stdout",
          "text": [
            "\n",
            "[WARN] ❌ Failed to extract tweet text: 1608575881181818881\n"
          ]
        },
        {
          "output_type": "stream",
          "name": "stderr",
          "text": [
            "\rProcessing tweets:  11%|█▏        | 65/568 [06:44<1:06:31,  7.94s/it]"
          ]
        },
        {
          "output_type": "stream",
          "name": "stdout",
          "text": [
            "\n",
            "[WARN] ❌ Failed to locate image element: 1608575881181818881\n",
            "\n",
            "[WARN] ❌ Failed to extract tweet text: 1608575127587028994\n"
          ]
        },
        {
          "output_type": "stream",
          "name": "stderr",
          "text": [
            "\rProcessing tweets:  12%|█▏        | 66/568 [06:49<59:38,  7.13s/it]  "
          ]
        },
        {
          "output_type": "stream",
          "name": "stdout",
          "text": [
            "\n",
            "[WARN] ❌ Failed to locate image element: 1608575127587028994\n",
            "\n",
            "[WARN] ❌ Failed to extract tweet text: 1608571995859611648\n"
          ]
        },
        {
          "output_type": "stream",
          "name": "stderr",
          "text": [
            "\rProcessing tweets:  12%|█▏        | 67/568 [06:53<51:26,  6.16s/it]"
          ]
        },
        {
          "output_type": "stream",
          "name": "stdout",
          "text": [
            "\n",
            "[WARN] ❌ Failed to locate image element: 1608571995859611648\n",
            "\n",
            "[WARN] ❌ Failed to extract tweet text: 1608571917853929472\n"
          ]
        },
        {
          "output_type": "stream",
          "name": "stderr",
          "text": [
            "\rProcessing tweets:  12%|█▏        | 68/568 [06:57<45:06,  5.41s/it]"
          ]
        },
        {
          "output_type": "stream",
          "name": "stdout",
          "text": [
            "\n",
            "[WARN] ❌ Failed to locate image element: 1608571917853929472\n",
            "\n",
            "[WARN] ❌ Failed to extract tweet text: 1608571504744345600\n",
            "\n",
            "[WARN] ❌ Failed to locate image element: 1608571504744345600\n",
            "♻️ Restarting driver after 5 consecutive failures...\n",
            "♻️ Driver restarted.\n",
            "♻️ Driver restarted.\n"
          ]
        },
        {
          "output_type": "stream",
          "name": "stderr",
          "text": [
            "\rProcessing tweets:  12%|█▏        | 69/568 [07:44<2:28:29, 17.85s/it]"
          ]
        },
        {
          "output_type": "stream",
          "name": "stdout",
          "text": [
            "ALL_consecutive_failures: 14\n",
            "\n",
            "[WARN] ❌ Failed to extract tweet text: 1608571455373213696\n"
          ]
        },
        {
          "output_type": "stream",
          "name": "stderr",
          "text": [
            "\rProcessing tweets:  12%|█▏        | 70/568 [07:50<1:59:56, 14.45s/it]"
          ]
        },
        {
          "output_type": "stream",
          "name": "stdout",
          "text": [
            "\n",
            "[WARN] ❌ Failed to locate image element: 1608571455373213696\n",
            "\n",
            "📊 Summary of the last 10 requests:\n",
            "📝 Text success:  0/10\n",
            "🖼️  Image success: 0/10\n",
            "✅ Both success:  0/10\n",
            "\n"
          ]
        },
        {
          "output_type": "stream",
          "name": "stderr",
          "text": [
            "Processing tweets:  13%|█▎        | 73/568 [08:01<59:41,  7.23s/it]  "
          ]
        },
        {
          "output_type": "stream",
          "name": "stdout",
          "text": [
            "\n",
            "[WARN] ❌ Failed to extract tweet text: 1608569934740705286\n"
          ]
        },
        {
          "output_type": "stream",
          "name": "stderr",
          "text": [
            "\rProcessing tweets:  13%|█▎        | 74/568 [08:06<52:12,  6.34s/it]"
          ]
        },
        {
          "output_type": "stream",
          "name": "stdout",
          "text": [
            "\n",
            "[WARN] ❌ Failed to locate image element: 1608569934740705286\n",
            "\n",
            "[WARN] ❌ Failed to extract tweet text: 1608569751865028608\n"
          ]
        },
        {
          "output_type": "stream",
          "name": "stderr",
          "text": [
            "\rProcessing tweets:  13%|█▎        | 75/568 [08:09<45:32,  5.54s/it]"
          ]
        },
        {
          "output_type": "stream",
          "name": "stdout",
          "text": [
            "\n",
            "[WARN] ❌ Failed to locate image element: 1608569751865028608\n"
          ]
        },
        {
          "output_type": "stream",
          "name": "stderr",
          "text": [
            "\rProcessing tweets:  13%|█▎        | 76/568 [08:12<37:05,  4.52s/it]"
          ]
        },
        {
          "output_type": "stream",
          "name": "stdout",
          "text": [
            "\n",
            "[WARN] ❌ Failed to extract tweet text: 1608568597709983744\n"
          ]
        },
        {
          "output_type": "stream",
          "name": "stderr",
          "text": [
            "\rProcessing tweets:  14%|█▎        | 77/568 [08:15<34:42,  4.24s/it]"
          ]
        },
        {
          "output_type": "stream",
          "name": "stdout",
          "text": [
            "\n",
            "[WARN] ❌ Failed to locate image element: 1608568597709983744\n"
          ]
        },
        {
          "output_type": "stream",
          "name": "stderr",
          "text": [
            "\rProcessing tweets:  14%|█▎        | 78/568 [08:19<33:36,  4.12s/it]"
          ]
        },
        {
          "output_type": "stream",
          "name": "stdout",
          "text": [
            "♻️ Restarting driver after 10 requests...\n",
            "♻️ Driver restarted.\n"
          ]
        },
        {
          "output_type": "stream",
          "name": "stderr",
          "text": [
            "\rProcessing tweets:  14%|█▍        | 79/568 [08:40<1:14:19,  9.12s/it]"
          ]
        },
        {
          "output_type": "stream",
          "name": "stdout",
          "text": [
            "\n",
            "[WARN] ❌ Failed to extract tweet text: 1608567363192098816\n"
          ]
        },
        {
          "output_type": "stream",
          "name": "stderr",
          "text": [
            "\rProcessing tweets:  14%|█▍        | 80/568 [08:46<1:06:19,  8.16s/it]"
          ]
        },
        {
          "output_type": "stream",
          "name": "stdout",
          "text": [
            "\n",
            "[WARN] ❌ Failed to locate image element: 1608567363192098816\n",
            "\n",
            "📊 Summary of the last 10 requests:\n",
            "📝 Text success:  6/10\n",
            "🖼️  Image success: 6/10\n",
            "✅ Both success:  6/10\n",
            "\n",
            "\n",
            "[WARN] ❌ Failed to extract tweet text: 1608567173429227520\n"
          ]
        },
        {
          "output_type": "stream",
          "name": "stderr",
          "text": [
            "\rProcessing tweets:  14%|█▍        | 81/568 [08:51<59:12,  7.29s/it]  "
          ]
        },
        {
          "output_type": "stream",
          "name": "stdout",
          "text": [
            "\n",
            "[WARN] ❌ Failed to locate image element: 1608567173429227520\n"
          ]
        },
        {
          "output_type": "stream",
          "name": "stderr",
          "text": [
            "Processing tweets:  15%|█▍        | 83/568 [08:58<42:59,  5.32s/it]"
          ]
        },
        {
          "output_type": "stream",
          "name": "stdout",
          "text": [
            "\n",
            "[WARN] ❌ Failed to extract tweet text: 1608564160459149319\n"
          ]
        },
        {
          "output_type": "stream",
          "name": "stderr",
          "text": [
            "\rProcessing tweets:  15%|█▍        | 84/568 [09:02<40:15,  4.99s/it]"
          ]
        },
        {
          "output_type": "stream",
          "name": "stdout",
          "text": [
            "\n",
            "[WARN] ❌ Failed to locate image element: 1608564160459149319\n"
          ]
        },
        {
          "output_type": "stream",
          "name": "stderr",
          "text": [
            "\rProcessing tweets:  15%|█▍        | 85/568 [09:04<32:47,  4.07s/it]"
          ]
        },
        {
          "output_type": "stream",
          "name": "stdout",
          "text": [
            "\n",
            "[WARN] ❌ Failed to extract tweet text: 1608563730849361921\n"
          ]
        },
        {
          "output_type": "stream",
          "name": "stderr",
          "text": [
            "\rProcessing tweets:  15%|█▌        | 86/568 [09:08<32:00,  3.99s/it]"
          ]
        },
        {
          "output_type": "stream",
          "name": "stdout",
          "text": [
            "\n",
            "[WARN] ❌ Failed to locate image element: 1608563730849361921\n",
            "\n",
            "[WARN] ❌ Failed to extract tweet text: 1608563486342406144\n"
          ]
        },
        {
          "output_type": "stream",
          "name": "stderr",
          "text": [
            "\rProcessing tweets:  15%|█▌        | 87/568 [09:11<31:22,  3.91s/it]"
          ]
        },
        {
          "output_type": "stream",
          "name": "stdout",
          "text": [
            "\n",
            "[WARN] ❌ Failed to locate image element: 1608563486342406144\n",
            "\n",
            "[WARN] ❌ Failed to extract tweet text: 1608563110008455169\n"
          ]
        },
        {
          "output_type": "stream",
          "name": "stderr",
          "text": [
            "\rProcessing tweets:  15%|█▌        | 88/568 [09:16<32:11,  4.02s/it]"
          ]
        },
        {
          "output_type": "stream",
          "name": "stdout",
          "text": [
            "\n",
            "[WARN] ❌ Failed to locate image element: 1608563110008455169\n",
            "♻️ Restarting driver after 10 requests...\n",
            "♻️ Driver restarted.\n"
          ]
        },
        {
          "output_type": "stream",
          "name": "stderr",
          "text": [
            "\rProcessing tweets:  16%|█▌        | 89/568 [09:35<1:08:23,  8.57s/it]"
          ]
        },
        {
          "output_type": "stream",
          "name": "stdout",
          "text": [
            "\n",
            "[WARN] ❌ Failed to extract tweet text: 1608562499300769792\n"
          ]
        },
        {
          "output_type": "stream",
          "name": "stderr",
          "text": [
            "\rProcessing tweets:  16%|█▌        | 90/568 [09:43<1:06:31,  8.35s/it]"
          ]
        },
        {
          "output_type": "stream",
          "name": "stdout",
          "text": [
            "\n",
            "[WARN] ❌ Failed to locate image element: 1608562499300769792\n",
            "\n",
            "📊 Summary of the last 10 requests:\n",
            "📝 Text success:  4/10\n",
            "🖼️  Image success: 4/10\n",
            "✅ Both success:  4/10\n",
            "\n",
            "\n",
            "[WARN] ❌ Failed to extract tweet text: 1608562268450750464\n"
          ]
        },
        {
          "output_type": "stream",
          "name": "stderr",
          "text": [
            "\rProcessing tweets:  16%|█▌        | 91/568 [09:49<1:00:26,  7.60s/it]"
          ]
        },
        {
          "output_type": "stream",
          "name": "stdout",
          "text": [
            "\n",
            "[WARN] ❌ Failed to locate image element: 1608562268450750464\n",
            "\n",
            "[WARN] ❌ Failed to extract tweet text: 1608562247684456449\n"
          ]
        },
        {
          "output_type": "stream",
          "name": "stderr",
          "text": [
            "\rProcessing tweets:  16%|█▌        | 92/568 [09:52<50:57,  6.42s/it]  "
          ]
        },
        {
          "output_type": "stream",
          "name": "stdout",
          "text": [
            "\n",
            "[WARN] ❌ Failed to locate image element: 1608562247684456449\n",
            "\n",
            "[WARN] ❌ Failed to extract tweet text: 1608561753297657858\n"
          ]
        },
        {
          "output_type": "stream",
          "name": "stderr",
          "text": [
            "\rProcessing tweets:  16%|█▋        | 93/568 [09:56<44:11,  5.58s/it]"
          ]
        },
        {
          "output_type": "stream",
          "name": "stdout",
          "text": [
            "\n",
            "[WARN] ❌ Failed to locate image element: 1608561753297657858\n",
            "\n",
            "[WARN] ❌ Failed to extract tweet text: 1608561669336371200\n",
            "\n",
            "[WARN] ❌ Failed to locate image element: 1608561669336371200\n",
            "♻️ Restarting driver after 5 consecutive failures...\n",
            "♻️ Driver restarted.\n"
          ]
        },
        {
          "output_type": "stream",
          "name": "stderr",
          "text": [
            "\rProcessing tweets:  17%|█▋        | 94/568 [10:12<1:07:56,  8.60s/it]"
          ]
        },
        {
          "output_type": "stream",
          "name": "stdout",
          "text": [
            "\n",
            "[WARN] ❌ Failed to extract tweet text: 1608561194876518404\n"
          ]
        },
        {
          "output_type": "stream",
          "name": "stderr",
          "text": [
            "\rProcessing tweets:  17%|█▋        | 95/568 [10:17<1:00:58,  7.74s/it]"
          ]
        },
        {
          "output_type": "stream",
          "name": "stdout",
          "text": [
            "\n",
            "[WARN] ❌ Failed to locate image element: 1608561194876518404\n"
          ]
        },
        {
          "output_type": "stream",
          "name": "stderr",
          "text": [
            "\rProcessing tweets:  17%|█▋        | 96/568 [10:22<53:19,  6.78s/it]  "
          ]
        },
        {
          "output_type": "stream",
          "name": "stdout",
          "text": [
            "\n",
            "[WARN] ❌ Failed to extract tweet text: 1608558812184870912\n"
          ]
        },
        {
          "output_type": "stream",
          "name": "stderr",
          "text": [
            "\rProcessing tweets:  17%|█▋        | 97/568 [10:26<46:35,  5.93s/it]"
          ]
        },
        {
          "output_type": "stream",
          "name": "stdout",
          "text": [
            "\n",
            "[WARN] ❌ Failed to locate image element: 1608558812184870912\n",
            "\n",
            "[WARN] ❌ Failed to extract tweet text: 1608558718047625223\n"
          ]
        },
        {
          "output_type": "stream",
          "name": "stderr",
          "text": [
            "\rProcessing tweets:  17%|█▋        | 98/568 [10:30<42:26,  5.42s/it]"
          ]
        },
        {
          "output_type": "stream",
          "name": "stdout",
          "text": [
            "\n",
            "[WARN] ❌ Failed to locate image element: 1608558718047625223\n"
          ]
        },
        {
          "output_type": "stream",
          "name": "stderr",
          "text": [
            "Processing tweets:  18%|█▊        | 100/568 [10:35<31:16,  4.01s/it]"
          ]
        },
        {
          "output_type": "stream",
          "name": "stdout",
          "text": [
            "\n",
            "📊 Summary of the last 10 requests:\n",
            "📝 Text success:  3/10\n",
            "🖼️  Image success: 3/10\n",
            "✅ Both success:  3/10\n",
            "\n"
          ]
        },
        {
          "output_type": "stream",
          "name": "stderr",
          "text": [
            "Processing tweets:  18%|█▊        | 103/568 [10:42<21:22,  2.76s/it]"
          ]
        },
        {
          "output_type": "stream",
          "name": "stdout",
          "text": [
            "\n",
            "[WARN] ❌ Failed to extract tweet text: 1608557672198017025\n",
            "\n",
            "[WARN] ❌ Failed to locate image element: 1608557672198017025\n",
            "♻️ Restarting driver after 10 requests...\n",
            "♻️ Driver restarted.\n"
          ]
        },
        {
          "output_type": "stream",
          "name": "stderr",
          "text": [
            "\rProcessing tweets:  18%|█▊        | 104/568 [11:03<1:04:03,  8.28s/it]"
          ]
        },
        {
          "output_type": "stream",
          "name": "stdout",
          "text": [
            "\n",
            "[WARN] ❌ Failed to extract tweet text: 1608556945329524738\n"
          ]
        },
        {
          "output_type": "stream",
          "name": "stderr",
          "text": [
            "\rProcessing tweets:  18%|█▊        | 105/568 [11:07<55:20,  7.17s/it]  "
          ]
        },
        {
          "output_type": "stream",
          "name": "stdout",
          "text": [
            "\n",
            "[WARN] ❌ Failed to locate image element: 1608556945329524738\n"
          ]
        },
        {
          "output_type": "stream",
          "name": "stderr",
          "text": [
            "Processing tweets:  19%|█▉        | 108/568 [11:20<38:38,  5.04s/it]"
          ]
        },
        {
          "output_type": "stream",
          "name": "stdout",
          "text": [
            "\n",
            "[WARN] ❌ Failed to extract tweet text: 1608554080611311622\n"
          ]
        },
        {
          "output_type": "stream",
          "name": "stderr",
          "text": [
            "\rProcessing tweets:  19%|█▉        | 109/568 [11:24<36:14,  4.74s/it]"
          ]
        },
        {
          "output_type": "stream",
          "name": "stdout",
          "text": [
            "\n",
            "[WARN] ❌ Failed to locate image element: 1608554080611311622\n"
          ]
        },
        {
          "output_type": "stream",
          "name": "stderr",
          "text": [
            "\rProcessing tweets:  19%|█▉        | 110/568 [11:26<31:45,  4.16s/it]"
          ]
        },
        {
          "output_type": "stream",
          "name": "stdout",
          "text": [
            "\n",
            "📊 Summary of the last 10 requests:\n",
            "📝 Text success:  7/10\n",
            "🖼️  Image success: 7/10\n",
            "✅ Both success:  7/10\n",
            "\n"
          ]
        },
        {
          "output_type": "stream",
          "name": "stderr",
          "text": [
            "\rProcessing tweets:  20%|█▉        | 111/568 [11:29<27:56,  3.67s/it]"
          ]
        },
        {
          "output_type": "stream",
          "name": "stdout",
          "text": [
            "\n",
            "[WARN] ❌ Failed to extract tweet text: 1608550717081673728\n"
          ]
        },
        {
          "output_type": "stream",
          "name": "stderr",
          "text": [
            "\rProcessing tweets:  20%|█▉        | 112/568 [11:33<28:00,  3.69s/it]"
          ]
        },
        {
          "output_type": "stream",
          "name": "stdout",
          "text": [
            "\n",
            "[WARN] ❌ Failed to locate image element: 1608550717081673728\n",
            "\n",
            "[WARN] ❌ Failed to extract tweet text: 1608550557597454336\n"
          ]
        },
        {
          "output_type": "stream",
          "name": "stderr",
          "text": [
            "\rProcessing tweets:  20%|█▉        | 113/568 [11:36<27:38,  3.65s/it]"
          ]
        },
        {
          "output_type": "stream",
          "name": "stdout",
          "text": [
            "\n",
            "[WARN] ❌ Failed to locate image element: 1608550557597454336\n",
            "\n",
            "[WARN] ❌ Failed to extract tweet text: 1608549930288959488\n",
            "\n",
            "[WARN] ❌ Failed to locate image element: 1608549930288959488\n",
            "♻️ Restarting driver after 10 requests...\n",
            "♻️ Driver restarted.\n"
          ]
        },
        {
          "output_type": "stream",
          "name": "stderr",
          "text": [
            "\rProcessing tweets:  20%|██        | 114/568 [11:57<1:05:52,  8.71s/it]"
          ]
        },
        {
          "output_type": "stream",
          "name": "stdout",
          "text": [
            "\n",
            "[WARN] ❌ Failed to extract tweet text: 1608548179292860416\n"
          ]
        },
        {
          "output_type": "stream",
          "name": "stderr",
          "text": [
            "\rProcessing tweets:  20%|██        | 115/568 [12:04<1:02:49,  8.32s/it]"
          ]
        },
        {
          "output_type": "stream",
          "name": "stdout",
          "text": [
            "\n",
            "[WARN] ❌ Failed to locate image element: 1608548179292860416\n",
            "\n",
            "[WARN] ❌ Failed to extract tweet text: 1608547130456805376\n"
          ]
        },
        {
          "output_type": "stream",
          "name": "stderr",
          "text": [
            "\rProcessing tweets:  20%|██        | 116/568 [12:10<57:09,  7.59s/it]  "
          ]
        },
        {
          "output_type": "stream",
          "name": "stdout",
          "text": [
            "\n",
            "[WARN] ❌ Failed to locate image element: 1608547130456805376\n",
            "\n",
            "[WARN] ❌ Failed to extract tweet text: 1608546570571767808\n"
          ]
        },
        {
          "output_type": "stream",
          "name": "stderr",
          "text": [
            "\rProcessing tweets:  21%|██        | 117/568 [12:14<48:30,  6.45s/it]"
          ]
        },
        {
          "output_type": "stream",
          "name": "stdout",
          "text": [
            "\n",
            "[WARN] ❌ Failed to locate image element: 1608546570571767808\n",
            "\n",
            "[WARN] ❌ Failed to extract tweet text: 1608545585224900610\n"
          ]
        },
        {
          "output_type": "stream",
          "name": "stderr",
          "text": [
            "\rProcessing tweets:  21%|██        | 118/568 [12:18<42:32,  5.67s/it]"
          ]
        },
        {
          "output_type": "stream",
          "name": "stdout",
          "text": [
            "\n",
            "[WARN] ❌ Failed to locate image element: 1608545585224900610\n",
            "\n",
            "[WARN] ❌ Failed to extract tweet text: 1608543416161558529\n",
            "\n",
            "[WARN] ❌ Failed to locate image element: 1608543416161558529\n",
            "♻️ Restarting driver after 5 consecutive failures...\n",
            "♻️ Driver restarted.\n"
          ]
        },
        {
          "output_type": "stream",
          "name": "stderr",
          "text": [
            "\rProcessing tweets:  21%|██        | 119/568 [12:32<1:02:54,  8.41s/it]"
          ]
        },
        {
          "output_type": "stream",
          "name": "stdout",
          "text": [
            "\n",
            "[WARN] ❌ Failed to extract tweet text: 1608543265451827200\n"
          ]
        },
        {
          "output_type": "stream",
          "name": "stderr",
          "text": [
            "\rProcessing tweets:  21%|██        | 120/568 [12:39<59:09,  7.92s/it]  "
          ]
        },
        {
          "output_type": "stream",
          "name": "stdout",
          "text": [
            "\n",
            "[WARN] ❌ Failed to locate image element: 1608543265451827200\n",
            "\n",
            "📊 Summary of the last 10 requests:\n",
            "📝 Text success:  1/10\n",
            "🖼️  Image success: 1/10\n",
            "✅ Both success:  1/10\n",
            "\n",
            "\n",
            "[WARN] ❌ Failed to extract tweet text: 1608543120542826496\n"
          ]
        },
        {
          "output_type": "stream",
          "name": "stderr",
          "text": [
            "\rProcessing tweets:  21%|██▏       | 121/568 [12:44<52:12,  7.01s/it]"
          ]
        },
        {
          "output_type": "stream",
          "name": "stdout",
          "text": [
            "\n",
            "[WARN] ❌ Failed to locate image element: 1608543120542826496\n",
            "\n",
            "[WARN] ❌ Failed to extract tweet text: 1608542569067151361\n"
          ]
        },
        {
          "output_type": "stream",
          "name": "stderr",
          "text": [
            "\rProcessing tweets:  21%|██▏       | 122/568 [12:48<44:38,  6.01s/it]"
          ]
        },
        {
          "output_type": "stream",
          "name": "stdout",
          "text": [
            "\n",
            "[WARN] ❌ Failed to locate image element: 1608542569067151361\n",
            "\n",
            "[WARN] ❌ Failed to extract tweet text: 1608542067378229248\n"
          ]
        },
        {
          "output_type": "stream",
          "name": "stderr",
          "text": [
            "\rProcessing tweets:  22%|██▏       | 123/568 [12:51<39:13,  5.29s/it]"
          ]
        },
        {
          "output_type": "stream",
          "name": "stdout",
          "text": [
            "\n",
            "[WARN] ❌ Failed to locate image element: 1608542067378229248\n",
            "\n",
            "[WARN] ❌ Failed to extract tweet text: 1608539596773642243\n",
            "\n",
            "[WARN] ❌ Failed to locate image element: 1608539596773642243\n",
            "♻️ Restarting driver after 5 consecutive failures...\n",
            "♻️ Driver restarted.\n",
            "♻️ Driver restarted.\n"
          ]
        },
        {
          "output_type": "stream",
          "name": "stderr",
          "text": [
            "\rProcessing tweets:  22%|██▏       | 124/568 [13:39<2:13:21, 18.02s/it]"
          ]
        },
        {
          "output_type": "stream",
          "name": "stdout",
          "text": [
            "ALL_consecutive_failures: 13\n",
            "\n",
            "[WARN] ❌ Failed to extract tweet text: 1608539031503265792\n"
          ]
        },
        {
          "output_type": "stream",
          "name": "stderr",
          "text": [
            "\rProcessing tweets:  22%|██▏       | 125/568 [13:46<1:49:26, 14.82s/it]"
          ]
        },
        {
          "output_type": "stream",
          "name": "stdout",
          "text": [
            "\n",
            "[WARN] ❌ Failed to locate image element: 1608539031503265792\n"
          ]
        },
        {
          "output_type": "stream",
          "name": "stderr",
          "text": [
            "\rProcessing tweets:  22%|██▏       | 126/568 [13:51<1:26:45, 11.78s/it]"
          ]
        },
        {
          "output_type": "stream",
          "name": "stdout",
          "text": [
            "\n",
            "[WARN] ❌ Failed to extract tweet text: 1608538475938054148\n"
          ]
        },
        {
          "output_type": "stream",
          "name": "stderr",
          "text": [
            "\rProcessing tweets:  22%|██▏       | 127/568 [13:55<1:10:08,  9.54s/it]"
          ]
        },
        {
          "output_type": "stream",
          "name": "stdout",
          "text": [
            "\n",
            "[WARN] ❌ Failed to locate image element: 1608538475938054148\n",
            "\n",
            "[WARN] ❌ Failed to extract tweet text: 1608538071733276672\n"
          ]
        },
        {
          "output_type": "stream",
          "name": "stderr",
          "text": [
            "\rProcessing tweets:  23%|██▎       | 128/568 [13:59<56:53,  7.76s/it]  "
          ]
        },
        {
          "output_type": "stream",
          "name": "stdout",
          "text": [
            "\n",
            "[WARN] ❌ Failed to locate image element: 1608538071733276672\n",
            "\n",
            "[WARN] ❌ Failed to extract tweet text: 1608535574390145024\n"
          ]
        },
        {
          "output_type": "stream",
          "name": "stderr",
          "text": [
            "\rProcessing tweets:  23%|██▎       | 129/568 [14:03<48:23,  6.61s/it]"
          ]
        },
        {
          "output_type": "stream",
          "name": "stdout",
          "text": [
            "\n",
            "[WARN] ❌ Failed to locate image element: 1608535574390145024\n"
          ]
        },
        {
          "output_type": "stream",
          "name": "stderr",
          "text": [
            "\rProcessing tweets:  23%|██▎       | 130/568 [14:08<43:39,  5.98s/it]"
          ]
        },
        {
          "output_type": "stream",
          "name": "stdout",
          "text": [
            "\n",
            "📊 Summary of the last 10 requests:\n",
            "📝 Text success:  2/10\n",
            "🖼️  Image success: 2/10\n",
            "✅ Both success:  2/10\n",
            "\n",
            "\n",
            "[WARN] ❌ Failed to extract tweet text: 1608534789518426112\n"
          ]
        },
        {
          "output_type": "stream",
          "name": "stderr",
          "text": [
            "\rProcessing tweets:  23%|██▎       | 131/568 [14:12<40:55,  5.62s/it]"
          ]
        },
        {
          "output_type": "stream",
          "name": "stdout",
          "text": [
            "\n",
            "[WARN] ❌ Failed to locate image element: 1608534789518426112\n",
            "\n",
            "[WARN] ❌ Failed to extract tweet text: 1608534233412165632\n"
          ]
        },
        {
          "output_type": "stream",
          "name": "stderr",
          "text": [
            "\rProcessing tweets:  23%|██▎       | 132/568 [14:19<43:29,  5.98s/it]"
          ]
        },
        {
          "output_type": "stream",
          "name": "stdout",
          "text": [
            "\n",
            "[WARN] ❌ Failed to locate image element: 1608534233412165632\n"
          ]
        },
        {
          "output_type": "stream",
          "name": "stderr",
          "text": [
            "\rProcessing tweets:  23%|██▎       | 133/568 [14:24<40:39,  5.61s/it]"
          ]
        },
        {
          "output_type": "stream",
          "name": "stdout",
          "text": [
            "♻️ Restarting driver after 10 requests...\n",
            "♻️ Driver restarted.\n"
          ]
        },
        {
          "output_type": "stream",
          "name": "stderr",
          "text": [
            "\rProcessing tweets:  24%|██▎       | 134/568 [14:42<1:08:19,  9.45s/it]"
          ]
        },
        {
          "output_type": "stream",
          "name": "stdout",
          "text": [
            "\n",
            "[WARN] ❌ Failed to extract tweet text: 1608533190662291456\n"
          ]
        },
        {
          "output_type": "stream",
          "name": "stderr",
          "text": [
            "\rProcessing tweets:  24%|██▍       | 135/568 [14:48<1:00:12,  8.34s/it]"
          ]
        },
        {
          "output_type": "stream",
          "name": "stdout",
          "text": [
            "\n",
            "[WARN] ❌ Failed to locate image element: 1608533190662291456\n",
            "\n",
            "[WARN] ❌ Failed to extract tweet text: 1608532102500450305\n"
          ]
        },
        {
          "output_type": "stream",
          "name": "stderr",
          "text": [
            "\rProcessing tweets:  24%|██▍       | 136/568 [14:53<51:56,  7.21s/it]  "
          ]
        },
        {
          "output_type": "stream",
          "name": "stdout",
          "text": [
            "\n",
            "[WARN] ❌ Failed to locate image element: 1608532102500450305\n",
            "\n",
            "[WARN] ❌ Failed to extract tweet text: 1608531470926385153\n"
          ]
        },
        {
          "output_type": "stream",
          "name": "stderr",
          "text": [
            "\rProcessing tweets:  24%|██▍       | 137/568 [14:57<45:23,  6.32s/it]"
          ]
        },
        {
          "output_type": "stream",
          "name": "stdout",
          "text": [
            "\n",
            "[WARN] ❌ Failed to locate image element: 1608531470926385153\n",
            "\n",
            "[WARN] ❌ Failed to extract tweet text: 1608531324796637184\n"
          ]
        },
        {
          "output_type": "stream",
          "name": "stderr",
          "text": [
            "\rProcessing tweets:  24%|██▍       | 138/568 [15:01<40:10,  5.61s/it]"
          ]
        },
        {
          "output_type": "stream",
          "name": "stdout",
          "text": [
            "\n",
            "[WARN] ❌ Failed to locate image element: 1608531324796637184\n",
            "\n",
            "[WARN] ❌ Failed to extract tweet text: 1608529964596592641\n",
            "\n",
            "[WARN] ❌ Failed to locate image element: 1608529964596592641\n",
            "♻️ Restarting driver after 5 consecutive failures...\n",
            "♻️ Driver restarted.\n"
          ]
        },
        {
          "output_type": "stream",
          "name": "stderr",
          "text": [
            "\rProcessing tweets:  24%|██▍       | 139/568 [15:17<1:02:18,  8.71s/it]"
          ]
        },
        {
          "output_type": "stream",
          "name": "stdout",
          "text": [
            "\n",
            "[WARN] ❌ Failed to extract tweet text: 1608529491508490240\n"
          ]
        },
        {
          "output_type": "stream",
          "name": "stderr",
          "text": [
            "\rProcessing tweets:  25%|██▍       | 140/568 [15:22<54:26,  7.63s/it]  "
          ]
        },
        {
          "output_type": "stream",
          "name": "stdout",
          "text": [
            "\n",
            "[WARN] ❌ Failed to locate image element: 1608529491508490240\n",
            "\n",
            "📊 Summary of the last 10 requests:\n",
            "📝 Text success:  2/10\n",
            "🖼️  Image success: 2/10\n",
            "✅ Both success:  2/10\n",
            "\n",
            "\n",
            "[WARN] ❌ Failed to extract tweet text: 1608529420972875777\n"
          ]
        },
        {
          "output_type": "stream",
          "name": "stderr",
          "text": [
            "\rProcessing tweets:  25%|██▍       | 141/568 [15:27<48:30,  6.82s/it]"
          ]
        },
        {
          "output_type": "stream",
          "name": "stdout",
          "text": [
            "\n",
            "[WARN] ❌ Failed to locate image element: 1608529420972875777\n",
            "\n",
            "[WARN] ❌ Failed to extract tweet text: 1608528527443505152\n"
          ]
        },
        {
          "output_type": "stream",
          "name": "stderr",
          "text": [
            "\rProcessing tweets:  25%|██▌       | 142/568 [15:31<42:54,  6.04s/it]"
          ]
        },
        {
          "output_type": "stream",
          "name": "stdout",
          "text": [
            "\n",
            "[WARN] ❌ Failed to locate image element: 1608528527443505152\n"
          ]
        },
        {
          "output_type": "stream",
          "name": "stderr",
          "text": [
            "Processing tweets:  26%|██▌       | 145/568 [15:40<28:13,  4.00s/it]"
          ]
        },
        {
          "output_type": "stream",
          "name": "stdout",
          "text": [
            "\n",
            "[WARN] ❌ Failed to extract tweet text: 1608528187834896385\n"
          ]
        },
        {
          "output_type": "stream",
          "name": "stderr",
          "text": [
            "\rProcessing tweets:  26%|██▌       | 146/568 [15:44<27:19,  3.89s/it]"
          ]
        },
        {
          "output_type": "stream",
          "name": "stdout",
          "text": [
            "\n",
            "[WARN] ❌ Failed to locate image element: 1608528187834896385\n"
          ]
        },
        {
          "output_type": "stream",
          "name": "stderr",
          "text": [
            "\rProcessing tweets:  26%|██▌       | 147/568 [15:46<23:22,  3.33s/it]"
          ]
        },
        {
          "output_type": "stream",
          "name": "stdout",
          "text": [
            "\n",
            "[WARN] ❌ Failed to extract tweet text: 1608527933257437184\n"
          ]
        },
        {
          "output_type": "stream",
          "name": "stderr",
          "text": [
            "\rProcessing tweets:  26%|██▌       | 148/568 [15:50<24:21,  3.48s/it]"
          ]
        },
        {
          "output_type": "stream",
          "name": "stdout",
          "text": [
            "\n",
            "[WARN] ❌ Failed to locate image element: 1608527933257437184\n",
            "\n",
            "[WARN] ❌ Failed to extract tweet text: 1608527907412119556\n",
            "\n",
            "[WARN] ❌ Failed to locate image element: 1608527907412119556\n",
            "♻️ Restarting driver after 10 requests...\n",
            "♻️ Driver restarted.\n"
          ]
        },
        {
          "output_type": "stream",
          "name": "stderr",
          "text": [
            "\rProcessing tweets:  26%|██▌       | 149/568 [16:11<1:01:09,  8.76s/it]"
          ]
        },
        {
          "output_type": "stream",
          "name": "stdout",
          "text": [
            "\n",
            "[WARN] ❌ Failed to extract tweet text: 1608527054441701376\n"
          ]
        },
        {
          "output_type": "stream",
          "name": "stderr",
          "text": [
            "\rProcessing tweets:  26%|██▋       | 150/568 [16:20<1:00:53,  8.74s/it]"
          ]
        },
        {
          "output_type": "stream",
          "name": "stdout",
          "text": [
            "\n",
            "📊 Summary of the last 10 requests:\n",
            "📝 Text success:  4/10\n",
            "🖼️  Image success: 5/10\n",
            "✅ Both success:  4/10\n",
            "\n"
          ]
        },
        {
          "output_type": "stream",
          "name": "stderr",
          "text": [
            "\rProcessing tweets:  27%|██▋       | 151/568 [16:25<53:12,  7.65s/it]  "
          ]
        },
        {
          "output_type": "stream",
          "name": "stdout",
          "text": [
            "\n",
            "[WARN] ❌ Failed to extract tweet text: 1608524993717219328\n"
          ]
        },
        {
          "output_type": "stream",
          "name": "stderr",
          "text": [
            "\rProcessing tweets:  27%|██▋       | 152/568 [16:29<46:04,  6.65s/it]"
          ]
        },
        {
          "output_type": "stream",
          "name": "stdout",
          "text": [
            "\n",
            "[WARN] ❌ Failed to locate image element: 1608524993717219328\n",
            "\n",
            "[WARN] ❌ Failed to extract tweet text: 1608524122354483201\n"
          ]
        },
        {
          "output_type": "stream",
          "name": "stderr",
          "text": [
            "\rProcessing tweets:  27%|██▋       | 153/568 [16:33<40:00,  5.78s/it]"
          ]
        },
        {
          "output_type": "stream",
          "name": "stdout",
          "text": [
            "\n",
            "[WARN] ❌ Failed to locate image element: 1608524122354483201\n"
          ]
        },
        {
          "output_type": "stream",
          "name": "stderr",
          "text": [
            "\rProcessing tweets:  27%|██▋       | 154/568 [16:35<31:43,  4.60s/it]"
          ]
        },
        {
          "output_type": "stream",
          "name": "stdout",
          "text": [
            "\n",
            "[WARN] ❌ Failed to extract tweet text: 1608522895176646657\n"
          ]
        },
        {
          "output_type": "stream",
          "name": "stderr",
          "text": [
            "\rProcessing tweets:  27%|██▋       | 155/568 [16:38<29:56,  4.35s/it]"
          ]
        },
        {
          "output_type": "stream",
          "name": "stdout",
          "text": [
            "\n",
            "[WARN] ❌ Failed to locate image element: 1608522895176646657\n",
            "\n",
            "[WARN] ❌ Failed to extract tweet text: 1608522891435327489\n"
          ]
        },
        {
          "output_type": "stream",
          "name": "stderr",
          "text": [
            "\rProcessing tweets:  27%|██▋       | 156/568 [16:43<29:40,  4.32s/it]"
          ]
        },
        {
          "output_type": "stream",
          "name": "stdout",
          "text": [
            "\n",
            "[WARN] ❌ Failed to locate image element: 1608522891435327489\n",
            "\n",
            "[WARN] ❌ Failed to extract tweet text: 1608522737621803009\n"
          ]
        },
        {
          "output_type": "stream",
          "name": "stderr",
          "text": [
            "\rProcessing tweets:  28%|██▊       | 157/568 [16:47<29:32,  4.31s/it]"
          ]
        },
        {
          "output_type": "stream",
          "name": "stdout",
          "text": [
            "\n",
            "[WARN] ❌ Failed to locate image element: 1608522737621803009\n"
          ]
        },
        {
          "output_type": "stream",
          "name": "stderr",
          "text": [
            "\rProcessing tweets:  28%|██▊       | 158/568 [16:50<27:33,  4.03s/it]"
          ]
        },
        {
          "output_type": "stream",
          "name": "stdout",
          "text": [
            "♻️ Restarting driver after 10 requests...\n",
            "♻️ Driver restarted.\n"
          ]
        },
        {
          "output_type": "stream",
          "name": "stderr",
          "text": [
            "\rProcessing tweets:  28%|██▊       | 159/568 [17:10<1:00:11,  8.83s/it]"
          ]
        },
        {
          "output_type": "stream",
          "name": "stdout",
          "text": [
            "\n",
            "[WARN] ❌ Failed to extract tweet text: 1608519995599847425\n"
          ]
        },
        {
          "output_type": "stream",
          "name": "stderr",
          "text": [
            "\rProcessing tweets:  28%|██▊       | 160/568 [17:16<53:36,  7.88s/it]  "
          ]
        },
        {
          "output_type": "stream",
          "name": "stdout",
          "text": [
            "\n",
            "[WARN] ❌ Failed to locate image element: 1608519995599847425\n",
            "\n",
            "📊 Summary of the last 10 requests:\n",
            "📝 Text success:  4/10\n",
            "🖼️  Image success: 4/10\n",
            "✅ Both success:  4/10\n",
            "\n",
            "\n",
            "[WARN] ❌ Failed to extract tweet text: 1608519472352219144\n"
          ]
        },
        {
          "output_type": "stream",
          "name": "stderr",
          "text": [
            "\rProcessing tweets:  28%|██▊       | 161/568 [17:21<47:16,  6.97s/it]"
          ]
        },
        {
          "output_type": "stream",
          "name": "stdout",
          "text": [
            "\n",
            "[WARN] ❌ Failed to locate image element: 1608519472352219144\n"
          ]
        },
        {
          "output_type": "stream",
          "name": "stderr",
          "text": [
            "Processing tweets:  29%|██▊       | 163/568 [17:27<33:18,  4.93s/it]"
          ]
        },
        {
          "output_type": "stream",
          "name": "stdout",
          "text": [
            "\n",
            "[WARN] ❌ Failed to extract tweet text: 1608516369909444608\n"
          ]
        },
        {
          "output_type": "stream",
          "name": "stderr",
          "text": [
            "\rProcessing tweets:  29%|██▉       | 164/568 [17:31<30:33,  4.54s/it]"
          ]
        },
        {
          "output_type": "stream",
          "name": "stdout",
          "text": [
            "\n",
            "[WARN] ❌ Failed to locate image element: 1608516369909444608\n",
            "\n",
            "[WARN] ❌ Failed to extract tweet text: 1608515817037070340\n"
          ]
        },
        {
          "output_type": "stream",
          "name": "stderr",
          "text": [
            "\rProcessing tweets:  29%|██▉       | 165/568 [17:35<29:33,  4.40s/it]"
          ]
        },
        {
          "output_type": "stream",
          "name": "stdout",
          "text": [
            "\n",
            "[WARN] ❌ Failed to locate image element: 1608515817037070340\n"
          ]
        },
        {
          "output_type": "stream",
          "name": "stderr",
          "text": [
            "\rProcessing tweets:  29%|██▉       | 166/568 [17:38<26:58,  4.03s/it]"
          ]
        },
        {
          "output_type": "stream",
          "name": "stdout",
          "text": [
            "\n",
            "[WARN] ❌ Failed to extract tweet text: 1608515407215988736\n"
          ]
        },
        {
          "output_type": "stream",
          "name": "stderr",
          "text": [
            "\rProcessing tweets:  29%|██▉       | 167/568 [17:42<27:11,  4.07s/it]"
          ]
        },
        {
          "output_type": "stream",
          "name": "stdout",
          "text": [
            "\n",
            "[WARN] ❌ Failed to locate image element: 1608515407215988736\n",
            "\n",
            "[WARN] ❌ Failed to extract tweet text: 1608514378617307137\n"
          ]
        },
        {
          "output_type": "stream",
          "name": "stderr",
          "text": [
            "\rProcessing tweets:  30%|██▉       | 168/568 [17:46<26:17,  3.94s/it]"
          ]
        },
        {
          "output_type": "stream",
          "name": "stdout",
          "text": [
            "\n",
            "[WARN] ❌ Failed to locate image element: 1608514378617307137\n",
            "\n",
            "[WARN] ❌ Failed to extract tweet text: 1608514307133739016\n",
            "\n",
            "[WARN] ❌ Failed to locate image element: 1608514307133739016\n",
            "♻️ Restarting driver after 10 requests...\n",
            "♻️ Driver restarted.\n"
          ]
        },
        {
          "output_type": "stream",
          "name": "stderr",
          "text": [
            "\rProcessing tweets:  30%|██▉       | 169/568 [18:06<57:39,  8.67s/it]"
          ]
        },
        {
          "output_type": "stream",
          "name": "stdout",
          "text": [
            "\n",
            "[WARN] ❌ Failed to extract tweet text: 1608513624301260800\n"
          ]
        },
        {
          "output_type": "stream",
          "name": "stderr",
          "text": [
            "\rProcessing tweets:  30%|██▉       | 170/568 [18:11<50:14,  7.57s/it]"
          ]
        },
        {
          "output_type": "stream",
          "name": "stdout",
          "text": [
            "\n",
            "[WARN] ❌ Failed to locate image element: 1608513624301260800\n",
            "\n",
            "📊 Summary of the last 10 requests:\n",
            "📝 Text success:  3/10\n",
            "🖼️  Image success: 3/10\n",
            "✅ Both success:  3/10\n",
            "\n",
            "\n",
            "[WARN] ❌ Failed to extract tweet text: 1608513561831038976\n"
          ]
        },
        {
          "output_type": "stream",
          "name": "stderr",
          "text": [
            "\rProcessing tweets:  30%|███       | 171/568 [18:15<43:41,  6.60s/it]"
          ]
        },
        {
          "output_type": "stream",
          "name": "stdout",
          "text": [
            "\n",
            "[WARN] ❌ Failed to locate image element: 1608513561831038976\n"
          ]
        },
        {
          "output_type": "stream",
          "name": "stderr",
          "text": [
            "\rProcessing tweets:  30%|███       | 172/568 [18:18<37:10,  5.63s/it]"
          ]
        },
        {
          "output_type": "stream",
          "name": "stdout",
          "text": [
            "\n",
            "[WARN] ❌ Failed to extract tweet text: 1608512370862587906\n"
          ]
        },
        {
          "output_type": "stream",
          "name": "stderr",
          "text": [
            "\rProcessing tweets:  30%|███       | 173/568 [18:22<34:20,  5.22s/it]"
          ]
        },
        {
          "output_type": "stream",
          "name": "stdout",
          "text": [
            "\n",
            "[WARN] ❌ Failed to locate image element: 1608512370862587906\n",
            "\n",
            "[WARN] ❌ Failed to extract tweet text: 1608511811619553280\n"
          ]
        },
        {
          "output_type": "stream",
          "name": "stderr",
          "text": [
            "\rProcessing tweets:  31%|███       | 174/568 [18:27<32:16,  4.91s/it]"
          ]
        },
        {
          "output_type": "stream",
          "name": "stdout",
          "text": [
            "\n",
            "[WARN] ❌ Failed to locate image element: 1608511811619553280\n",
            "\n",
            "[WARN] ❌ Failed to extract tweet text: 1608511664894124032\n"
          ]
        },
        {
          "output_type": "stream",
          "name": "stderr",
          "text": [
            "\rProcessing tweets:  31%|███       | 175/568 [18:31<30:42,  4.69s/it]"
          ]
        },
        {
          "output_type": "stream",
          "name": "stdout",
          "text": [
            "\n",
            "[WARN] ❌ Failed to locate image element: 1608511664894124032\n"
          ]
        },
        {
          "output_type": "stream",
          "name": "stderr",
          "text": [
            "Processing tweets:  31%|███       | 177/568 [18:37<25:53,  3.97s/it]"
          ]
        },
        {
          "output_type": "stream",
          "name": "stdout",
          "text": [
            "\n",
            "[WARN] ❌ Failed to extract tweet text: 1608509094511403011\n"
          ]
        },
        {
          "output_type": "stream",
          "name": "stderr",
          "text": [
            "\rProcessing tweets:  31%|███▏      | 178/568 [18:41<25:13,  3.88s/it]"
          ]
        },
        {
          "output_type": "stream",
          "name": "stdout",
          "text": [
            "\n",
            "[WARN] ❌ Failed to locate image element: 1608509094511403011\n",
            "♻️ Restarting driver after 10 requests...\n",
            "♻️ Driver restarted.\n"
          ]
        },
        {
          "output_type": "stream",
          "name": "stderr",
          "text": [
            "\rProcessing tweets:  32%|███▏      | 179/568 [19:03<59:37,  9.20s/it]"
          ]
        },
        {
          "output_type": "stream",
          "name": "stdout",
          "text": [
            "\n",
            "[WARN] ❌ Failed to extract tweet text: 1608508276508852225\n"
          ]
        },
        {
          "output_type": "stream",
          "name": "stderr",
          "text": [
            "\rProcessing tweets:  32%|███▏      | 180/568 [19:09<55:10,  8.53s/it]"
          ]
        },
        {
          "output_type": "stream",
          "name": "stdout",
          "text": [
            "\n",
            "[WARN] ❌ Failed to locate image element: 1608508276508852225\n",
            "\n",
            "📊 Summary of the last 10 requests:\n",
            "📝 Text success:  4/10\n",
            "🖼️  Image success: 4/10\n",
            "✅ Both success:  4/10\n",
            "\n",
            "\n",
            "[WARN] ❌ Failed to extract tweet text: 1608508227699843075\n"
          ]
        },
        {
          "output_type": "stream",
          "name": "stderr",
          "text": [
            "\rProcessing tweets:  32%|███▏      | 181/568 [19:16<51:14,  7.95s/it]"
          ]
        },
        {
          "output_type": "stream",
          "name": "stdout",
          "text": [
            "\n",
            "[WARN] ❌ Failed to locate image element: 1608508227699843075\n",
            "\n",
            "[WARN] ❌ Failed to extract tweet text: 1608508142408634368\n"
          ]
        },
        {
          "output_type": "stream",
          "name": "stderr",
          "text": [
            "\rProcessing tweets:  32%|███▏      | 182/568 [19:20<43:54,  6.82s/it]"
          ]
        },
        {
          "output_type": "stream",
          "name": "stdout",
          "text": [
            "\n",
            "[WARN] ❌ Failed to locate image element: 1608508142408634368\n",
            "\n",
            "[WARN] ❌ Failed to extract tweet text: 1608508017669971969\n"
          ]
        },
        {
          "output_type": "stream",
          "name": "stderr",
          "text": [
            "\rProcessing tweets:  32%|███▏      | 183/568 [19:24<37:45,  5.89s/it]"
          ]
        },
        {
          "output_type": "stream",
          "name": "stdout",
          "text": [
            "\n",
            "[WARN] ❌ Failed to locate image element: 1608508017669971969\n",
            "\n",
            "[WARN] ❌ Failed to extract tweet text: 1608507643471228930\n",
            "\n",
            "[WARN] ❌ Failed to locate image element: 1608507643471228930\n",
            "♻️ Restarting driver after 5 consecutive failures...\n",
            "♻️ Driver restarted.\n"
          ]
        },
        {
          "output_type": "stream",
          "name": "stderr",
          "text": [
            "\rProcessing tweets:  32%|███▏      | 184/568 [19:39<54:39,  8.54s/it]"
          ]
        },
        {
          "output_type": "stream",
          "name": "stdout",
          "text": [
            "\n",
            "[WARN] ❌ Failed to extract tweet text: 1608507624705908737\n"
          ]
        },
        {
          "output_type": "stream",
          "name": "stderr",
          "text": [
            "\rProcessing tweets:  33%|███▎      | 185/568 [19:45<49:20,  7.73s/it]"
          ]
        },
        {
          "output_type": "stream",
          "name": "stdout",
          "text": [
            "\n",
            "[WARN] ❌ Failed to locate image element: 1608507624705908737\n"
          ]
        },
        {
          "output_type": "stream",
          "name": "stderr",
          "text": [
            "Processing tweets:  33%|███▎      | 189/568 [19:58<27:42,  4.39s/it]"
          ]
        },
        {
          "output_type": "stream",
          "name": "stdout",
          "text": [
            "\n",
            "[WARN] ❌ Failed to extract tweet text: 1608504861548486656\n"
          ]
        },
        {
          "output_type": "stream",
          "name": "stderr",
          "text": [
            "\rProcessing tweets:  33%|███▎      | 190/568 [20:03<27:20,  4.34s/it]"
          ]
        },
        {
          "output_type": "stream",
          "name": "stdout",
          "text": [
            "\n",
            "[WARN] ❌ Failed to locate image element: 1608504861548486656\n",
            "\n",
            "📊 Summary of the last 10 requests:\n",
            "📝 Text success:  4/10\n",
            "🖼️  Image success: 4/10\n",
            "✅ Both success:  4/10\n",
            "\n"
          ]
        },
        {
          "output_type": "stream",
          "name": "stderr",
          "text": [
            "\rProcessing tweets:  34%|███▎      | 191/568 [20:06<25:14,  4.02s/it]"
          ]
        },
        {
          "output_type": "stream",
          "name": "stdout",
          "text": [
            "\n",
            "[WARN] ❌ Failed to extract tweet text: 1608502323172769792\n"
          ]
        },
        {
          "output_type": "stream",
          "name": "stderr",
          "text": [
            "\rProcessing tweets:  34%|███▍      | 192/568 [20:10<25:26,  4.06s/it]"
          ]
        },
        {
          "output_type": "stream",
          "name": "stdout",
          "text": [
            "\n",
            "[WARN] ❌ Failed to locate image element: 1608502323172769792\n",
            "\n",
            "[WARN] ❌ Failed to extract tweet text: 1608501656433344512\n"
          ]
        },
        {
          "output_type": "stream",
          "name": "stderr",
          "text": [
            "\rProcessing tweets:  34%|███▍      | 193/568 [20:14<24:26,  3.91s/it]"
          ]
        },
        {
          "output_type": "stream",
          "name": "stdout",
          "text": [
            "\n",
            "[WARN] ❌ Failed to locate image element: 1608501656433344512\n",
            "\n",
            "[WARN] ❌ Failed to extract tweet text: 1608501267177041920\n",
            "\n",
            "[WARN] ❌ Failed to locate image element: 1608501267177041920\n",
            "♻️ Restarting driver after 10 requests...\n",
            "♻️ Driver restarted.\n"
          ]
        },
        {
          "output_type": "stream",
          "name": "stderr",
          "text": [
            "\rProcessing tweets:  34%|███▍      | 194/568 [20:34<54:56,  8.81s/it]"
          ]
        },
        {
          "output_type": "stream",
          "name": "stdout",
          "text": [
            "\n",
            "[WARN] ❌ Failed to extract tweet text: 1608501231630127104\n"
          ]
        },
        {
          "output_type": "stream",
          "name": "stderr",
          "text": [
            "\rProcessing tweets:  34%|███▍      | 195/568 [20:38<46:44,  7.52s/it]"
          ]
        },
        {
          "output_type": "stream",
          "name": "stdout",
          "text": [
            "\n",
            "[WARN] ❌ Failed to locate image element: 1608501231630127104\n"
          ]
        },
        {
          "output_type": "stream",
          "name": "stderr",
          "text": [
            "\rProcessing tweets:  35%|███▍      | 196/568 [20:41<37:48,  6.10s/it]"
          ]
        },
        {
          "output_type": "stream",
          "name": "stdout",
          "text": [
            "\n",
            "[WARN] ❌ Failed to extract tweet text: 1608500666292396033\n"
          ]
        },
        {
          "output_type": "stream",
          "name": "stderr",
          "text": [
            "\rProcessing tweets:  35%|███▍      | 197/568 [20:45<33:55,  5.49s/it]"
          ]
        },
        {
          "output_type": "stream",
          "name": "stdout",
          "text": [
            "\n",
            "[WARN] ❌ Failed to locate image element: 1608500666292396033\n"
          ]
        },
        {
          "output_type": "stream",
          "name": "stderr",
          "text": [
            "\rProcessing tweets:  35%|███▍      | 198/568 [20:48<28:52,  4.68s/it]"
          ]
        },
        {
          "output_type": "stream",
          "name": "stdout",
          "text": [
            "\n",
            "[WARN] ❌ Failed to extract tweet text: 1608497622549168130\n"
          ]
        },
        {
          "output_type": "stream",
          "name": "stderr",
          "text": [
            "\rProcessing tweets:  35%|███▌      | 199/568 [20:52<28:01,  4.56s/it]"
          ]
        },
        {
          "output_type": "stream",
          "name": "stdout",
          "text": [
            "\n",
            "[WARN] ❌ Failed to locate image element: 1608497622549168130\n"
          ]
        },
        {
          "output_type": "stream",
          "name": "stderr",
          "text": [
            "\rProcessing tweets:  35%|███▌      | 200/568 [20:55<24:24,  3.98s/it]"
          ]
        },
        {
          "output_type": "stream",
          "name": "stdout",
          "text": [
            "\n",
            "📊 Summary of the last 10 requests:\n",
            "📝 Text success:  4/10\n",
            "🖼️  Image success: 4/10\n",
            "✅ Both success:  4/10\n",
            "\n",
            "\n",
            "[WARN] ❌ Failed to extract tweet text: 1608495352541241347\n"
          ]
        },
        {
          "output_type": "stream",
          "name": "stderr",
          "text": [
            "\rProcessing tweets:  35%|███▌      | 201/568 [20:59<24:22,  3.98s/it]"
          ]
        },
        {
          "output_type": "stream",
          "name": "stdout",
          "text": [
            "\n",
            "[WARN] ❌ Failed to locate image element: 1608495352541241347\n",
            "\n",
            "[WARN] ❌ Failed to extract tweet text: 1608494379726938113\n"
          ]
        },
        {
          "output_type": "stream",
          "name": "stderr",
          "text": [
            "\rProcessing tweets:  36%|███▌      | 202/568 [21:03<24:41,  4.05s/it]"
          ]
        },
        {
          "output_type": "stream",
          "name": "stdout",
          "text": [
            "\n",
            "[WARN] ❌ Failed to locate image element: 1608494379726938113\n",
            "\n",
            "[WARN] ❌ Failed to extract tweet text: 1608494033390960642\n"
          ]
        },
        {
          "output_type": "stream",
          "name": "stderr",
          "text": [
            "\rProcessing tweets:  36%|███▌      | 203/568 [21:07<23:47,  3.91s/it]"
          ]
        },
        {
          "output_type": "stream",
          "name": "stdout",
          "text": [
            "\n",
            "[WARN] ❌ Failed to locate image element: 1608494033390960642\n",
            "\n",
            "[WARN] ❌ Failed to extract tweet text: 1608493846924775424\n",
            "\n",
            "[WARN] ❌ Failed to locate image element: 1608493846924775424\n",
            "♻️ Restarting driver after 10 requests...\n",
            "♻️ Driver restarted.\n"
          ]
        },
        {
          "output_type": "stream",
          "name": "stderr",
          "text": [
            "\rProcessing tweets:  36%|███▌      | 204/568 [21:28<55:59,  9.23s/it]"
          ]
        },
        {
          "output_type": "stream",
          "name": "stdout",
          "text": [
            "\n",
            "[WARN] ❌ Failed to extract tweet text: 1608493614547759104\n"
          ]
        },
        {
          "output_type": "stream",
          "name": "stderr",
          "text": [
            "\rProcessing tweets:  36%|███▌      | 205/568 [21:33<47:44,  7.89s/it]"
          ]
        },
        {
          "output_type": "stream",
          "name": "stdout",
          "text": [
            "\n",
            "[WARN] ❌ Failed to locate image element: 1608493614547759104\n",
            "\n",
            "[WARN] ❌ Failed to extract tweet text: 1608491826977144832\n"
          ]
        },
        {
          "output_type": "stream",
          "name": "stderr",
          "text": [
            "\rProcessing tweets:  36%|███▋      | 206/568 [21:38<42:28,  7.04s/it]"
          ]
        },
        {
          "output_type": "stream",
          "name": "stdout",
          "text": [
            "\n",
            "[WARN] ❌ Failed to locate image element: 1608491826977144832\n",
            "\n",
            "[WARN] ❌ Failed to extract tweet text: 1608491789165465602\n"
          ]
        },
        {
          "output_type": "stream",
          "name": "stderr",
          "text": [
            "\rProcessing tweets:  36%|███▋      | 207/568 [21:43<37:44,  6.27s/it]"
          ]
        },
        {
          "output_type": "stream",
          "name": "stdout",
          "text": [
            "\n",
            "[WARN] ❌ Failed to locate image element: 1608491789165465602\n"
          ]
        },
        {
          "output_type": "stream",
          "name": "stderr",
          "text": [
            "\rProcessing tweets:  37%|███▋      | 208/568 [21:46<32:06,  5.35s/it]"
          ]
        },
        {
          "output_type": "stream",
          "name": "stdout",
          "text": [
            "\n",
            "[WARN] ❌ Failed to extract tweet text: 1608490501384339456\n"
          ]
        },
        {
          "output_type": "stream",
          "name": "stderr",
          "text": [
            "\rProcessing tweets:  37%|███▋      | 209/568 [21:50<30:19,  5.07s/it]"
          ]
        },
        {
          "output_type": "stream",
          "name": "stdout",
          "text": [
            "\n",
            "[WARN] ❌ Failed to locate image element: 1608490501384339456\n"
          ]
        },
        {
          "output_type": "stream",
          "name": "stderr",
          "text": [
            "\rProcessing tweets:  37%|███▋      | 210/568 [21:53<25:46,  4.32s/it]"
          ]
        },
        {
          "output_type": "stream",
          "name": "stdout",
          "text": [
            "\n",
            "📊 Summary of the last 10 requests:\n",
            "📝 Text success:  2/10\n",
            "🖼️  Image success: 2/10\n",
            "✅ Both success:  2/10\n",
            "\n",
            "\n",
            "[WARN] ❌ Failed to extract tweet text: 1608490099616153600\n"
          ]
        },
        {
          "output_type": "stream",
          "name": "stderr",
          "text": [
            "\rProcessing tweets:  37%|███▋      | 211/568 [21:56<24:27,  4.11s/it]"
          ]
        },
        {
          "output_type": "stream",
          "name": "stdout",
          "text": [
            "\n",
            "[WARN] ❌ Failed to locate image element: 1608490099616153600\n"
          ]
        },
        {
          "output_type": "stream",
          "name": "stderr",
          "text": [
            "Processing tweets:  38%|███▊      | 213/568 [22:02<20:34,  3.48s/it]"
          ]
        },
        {
          "output_type": "stream",
          "name": "stdout",
          "text": [
            "♻️ Restarting driver after 10 requests...\n",
            "♻️ Driver restarted.\n"
          ]
        },
        {
          "output_type": "stream",
          "name": "stderr",
          "text": [
            "\rProcessing tweets:  38%|███▊      | 214/568 [22:22<50:00,  8.48s/it]"
          ]
        },
        {
          "output_type": "stream",
          "name": "stdout",
          "text": [
            "\n",
            "[WARN] ❌ Failed to extract tweet text: 1608486811474460672\n"
          ]
        },
        {
          "output_type": "stream",
          "name": "stderr",
          "text": [
            "\rProcessing tweets:  38%|███▊      | 215/568 [22:28<45:27,  7.73s/it]"
          ]
        },
        {
          "output_type": "stream",
          "name": "stdout",
          "text": [
            "\n",
            "[WARN] ❌ Failed to locate image element: 1608486811474460672\n",
            "\n",
            "[WARN] ❌ Failed to extract tweet text: 1608486750585868288\n"
          ]
        },
        {
          "output_type": "stream",
          "name": "stderr",
          "text": [
            "\rProcessing tweets:  38%|███▊      | 216/568 [22:34<42:39,  7.27s/it]"
          ]
        },
        {
          "output_type": "stream",
          "name": "stdout",
          "text": [
            "\n",
            "[WARN] ❌ Failed to locate image element: 1608486750585868288\n",
            "\n",
            "[WARN] ❌ Failed to extract tweet text: 1608486648878190593\n"
          ]
        },
        {
          "output_type": "stream",
          "name": "stderr",
          "text": [
            "\rProcessing tweets:  38%|███▊      | 217/568 [22:38<36:35,  6.25s/it]"
          ]
        },
        {
          "output_type": "stream",
          "name": "stdout",
          "text": [
            "\n",
            "[WARN] ❌ Failed to locate image element: 1608486648878190593\n",
            "\n",
            "[WARN] ❌ Failed to extract tweet text: 1608486170236981249\n"
          ]
        },
        {
          "output_type": "stream",
          "name": "stderr",
          "text": [
            "\rProcessing tweets:  38%|███▊      | 218/568 [22:42<31:56,  5.48s/it]"
          ]
        },
        {
          "output_type": "stream",
          "name": "stdout",
          "text": [
            "\n",
            "[WARN] ❌ Failed to locate image element: 1608486170236981249\n"
          ]
        },
        {
          "output_type": "stream",
          "name": "stderr",
          "text": [
            "Processing tweets:  39%|███▊      | 220/568 [22:46<21:55,  3.78s/it]"
          ]
        },
        {
          "output_type": "stream",
          "name": "stdout",
          "text": [
            "\n",
            "📊 Summary of the last 10 requests:\n",
            "📝 Text success:  5/10\n",
            "🖼️  Image success: 5/10\n",
            "✅ Both success:  5/10\n",
            "\n",
            "\n",
            "[WARN] ❌ Failed to extract tweet text: 1608485269098881025\n"
          ]
        },
        {
          "output_type": "stream",
          "name": "stderr",
          "text": [
            "\rProcessing tweets:  39%|███▉      | 221/568 [22:50<22:24,  3.88s/it]"
          ]
        },
        {
          "output_type": "stream",
          "name": "stdout",
          "text": [
            "\n",
            "[WARN] ❌ Failed to locate image element: 1608485269098881025\n"
          ]
        },
        {
          "output_type": "stream",
          "name": "stderr",
          "text": [
            "Processing tweets:  39%|███▉      | 223/568 [22:57<21:01,  3.66s/it]"
          ]
        },
        {
          "output_type": "stream",
          "name": "stdout",
          "text": [
            "\n",
            "[WARN] ❌ Failed to extract tweet text: 1608483730670211074\n",
            "\n",
            "[WARN] ❌ Failed to locate image element: 1608483730670211074\n",
            "♻️ Restarting driver after 10 requests...\n",
            "♻️ Driver restarted.\n"
          ]
        },
        {
          "output_type": "stream",
          "name": "stderr",
          "text": [
            "\rProcessing tweets:  39%|███▉      | 224/568 [23:18<50:08,  8.74s/it]"
          ]
        },
        {
          "output_type": "stream",
          "name": "stdout",
          "text": [
            "\n",
            "[WARN] ❌ Failed to extract tweet text: 1608483278838980608\n"
          ]
        },
        {
          "output_type": "stream",
          "name": "stderr",
          "text": [
            "\rProcessing tweets:  40%|███▉      | 225/568 [23:24<45:06,  7.89s/it]"
          ]
        },
        {
          "output_type": "stream",
          "name": "stdout",
          "text": [
            "\n",
            "[WARN] ❌ Failed to locate image element: 1608483278838980608\n",
            "\n",
            "[WARN] ❌ Failed to extract tweet text: 1608483159959834624\n"
          ]
        },
        {
          "output_type": "stream",
          "name": "stderr",
          "text": [
            "Processing tweets:  40%|████      | 229/568 [23:37<22:47,  4.03s/it]"
          ]
        },
        {
          "output_type": "stream",
          "name": "stdout",
          "text": [
            "\n",
            "[WARN] ❌ Failed to extract tweet text: 1608481171096371201\n"
          ]
        },
        {
          "output_type": "stream",
          "name": "stderr",
          "text": [
            "\rProcessing tweets:  40%|████      | 230/568 [23:40<22:12,  3.94s/it]"
          ]
        },
        {
          "output_type": "stream",
          "name": "stdout",
          "text": [
            "\n",
            "[WARN] ❌ Failed to locate image element: 1608481171096371201\n",
            "\n",
            "📊 Summary of the last 10 requests:\n",
            "📝 Text success:  5/10\n",
            "🖼️  Image success: 6/10\n",
            "✅ Both success:  5/10\n",
            "\n"
          ]
        },
        {
          "output_type": "stream",
          "name": "stderr",
          "text": [
            "\rProcessing tweets:  41%|████      | 231/568 [23:42<18:40,  3.32s/it]"
          ]
        },
        {
          "output_type": "stream",
          "name": "stdout",
          "text": [
            "\n",
            "[WARN] ❌ Failed to extract tweet text: 1608480779411271682\n"
          ]
        },
        {
          "output_type": "stream",
          "name": "stderr",
          "text": [
            "\rProcessing tweets:  41%|████      | 232/568 [23:46<19:08,  3.42s/it]"
          ]
        },
        {
          "output_type": "stream",
          "name": "stdout",
          "text": [
            "\n",
            "[WARN] ❌ Failed to locate image element: 1608480779411271682\n",
            "\n",
            "[WARN] ❌ Failed to extract tweet text: 1608480500640792576\n"
          ]
        },
        {
          "output_type": "stream",
          "name": "stderr",
          "text": [
            "\rProcessing tweets:  41%|████      | 233/568 [23:50<20:08,  3.61s/it]"
          ]
        },
        {
          "output_type": "stream",
          "name": "stdout",
          "text": [
            "\n",
            "[WARN] ❌ Failed to locate image element: 1608480500640792576\n",
            "\n",
            "[WARN] ❌ Failed to extract tweet text: 1608480238421393408\n",
            "\n",
            "[WARN] ❌ Failed to locate image element: 1608480238421393408\n",
            "♻️ Restarting driver after 10 requests...\n",
            "♻️ Driver restarted.\n"
          ]
        },
        {
          "output_type": "stream",
          "name": "stderr",
          "text": [
            "\rProcessing tweets:  41%|████      | 234/568 [24:11<48:49,  8.77s/it]"
          ]
        },
        {
          "output_type": "stream",
          "name": "stdout",
          "text": [
            "\n",
            "[WARN] ❌ Failed to extract tweet text: 1608479122849763330\n"
          ]
        },
        {
          "output_type": "stream",
          "name": "stderr",
          "text": [
            "\rProcessing tweets:  41%|████▏     | 235/568 [24:17<44:11,  7.96s/it]"
          ]
        },
        {
          "output_type": "stream",
          "name": "stdout",
          "text": [
            "\n",
            "[WARN] ❌ Failed to locate image element: 1608479122849763330\n",
            "\n",
            "[WARN] ❌ Failed to extract tweet text: 1608478266389680129\n"
          ]
        },
        {
          "output_type": "stream",
          "name": "stderr",
          "text": [
            "\rProcessing tweets:  42%|████▏     | 236/568 [24:22<38:54,  7.03s/it]"
          ]
        },
        {
          "output_type": "stream",
          "name": "stdout",
          "text": [
            "\n",
            "[WARN] ❌ Failed to locate image element: 1608478266389680129\n",
            "\n",
            "[WARN] ❌ Failed to extract tweet text: 1608478249415327746\n"
          ]
        },
        {
          "output_type": "stream",
          "name": "stderr",
          "text": [
            "\rProcessing tweets:  42%|████▏     | 237/568 [24:25<33:07,  6.01s/it]"
          ]
        },
        {
          "output_type": "stream",
          "name": "stdout",
          "text": [
            "\n",
            "[WARN] ❌ Failed to locate image element: 1608478249415327746\n",
            "\n",
            "[WARN] ❌ Failed to extract tweet text: 1608478074659651586\n"
          ]
        },
        {
          "output_type": "stream",
          "name": "stderr",
          "text": [
            "\rProcessing tweets:  42%|████▏     | 238/568 [24:29<29:02,  5.28s/it]"
          ]
        },
        {
          "output_type": "stream",
          "name": "stdout",
          "text": [
            "\n",
            "[WARN] ❌ Failed to locate image element: 1608478074659651586\n"
          ]
        },
        {
          "output_type": "stream",
          "name": "stderr",
          "text": [
            "Processing tweets:  42%|████▏     | 240/568 [24:36<23:23,  4.28s/it]"
          ]
        },
        {
          "output_type": "stream",
          "name": "stdout",
          "text": [
            "\n",
            "📊 Summary of the last 10 requests:\n",
            "📝 Text success:  3/10\n",
            "🖼️  Image success: 3/10\n",
            "✅ Both success:  3/10\n",
            "\n",
            "\n",
            "[WARN] ❌ Failed to extract tweet text: 1608474611225608192\n"
          ]
        },
        {
          "output_type": "stream",
          "name": "stderr",
          "text": [
            "\rProcessing tweets:  42%|████▏     | 241/568 [24:39<22:33,  4.14s/it]"
          ]
        },
        {
          "output_type": "stream",
          "name": "stdout",
          "text": [
            "\n",
            "[WARN] ❌ Failed to locate image element: 1608474611225608192\n"
          ]
        },
        {
          "output_type": "stream",
          "name": "stderr",
          "text": [
            "\rProcessing tweets:  43%|████▎     | 242/568 [24:42<20:42,  3.81s/it]"
          ]
        },
        {
          "output_type": "stream",
          "name": "stdout",
          "text": [
            "\n",
            "[WARN] ❌ Failed to extract tweet text: 1608472779518775304\n"
          ]
        },
        {
          "output_type": "stream",
          "name": "stderr",
          "text": [
            "\rProcessing tweets:  43%|████▎     | 243/568 [24:47<21:21,  3.94s/it]"
          ]
        },
        {
          "output_type": "stream",
          "name": "stdout",
          "text": [
            "\n",
            "[WARN] ❌ Failed to locate image element: 1608472779518775304\n",
            "\n",
            "[WARN] ❌ Failed to extract tweet text: 1608472094769311745\n",
            "\n",
            "[WARN] ❌ Failed to locate image element: 1608472094769311745\n",
            "♻️ Restarting driver after 10 requests...\n",
            "♻️ Driver restarted.\n"
          ]
        },
        {
          "output_type": "stream",
          "name": "stderr",
          "text": [
            "\rProcessing tweets:  43%|████▎     | 244/568 [25:06<46:59,  8.70s/it]"
          ]
        },
        {
          "output_type": "stream",
          "name": "stdout",
          "text": [
            "\n",
            "[WARN] ❌ Failed to extract tweet text: 1608471871653314560\n"
          ]
        },
        {
          "output_type": "stream",
          "name": "stderr",
          "text": [
            "\rProcessing tweets:  43%|████▎     | 245/568 [25:12<41:59,  7.80s/it]"
          ]
        },
        {
          "output_type": "stream",
          "name": "stdout",
          "text": [
            "\n",
            "[WARN] ❌ Failed to locate image element: 1608471871653314560\n"
          ]
        },
        {
          "output_type": "stream",
          "name": "stderr",
          "text": [
            "\rProcessing tweets:  43%|████▎     | 246/568 [25:17<37:26,  6.98s/it]"
          ]
        },
        {
          "output_type": "stream",
          "name": "stdout",
          "text": [
            "\n",
            "[WARN] ❌ Failed to extract tweet text: 1608471270001364995\n"
          ]
        },
        {
          "output_type": "stream",
          "name": "stderr",
          "text": [
            "\rProcessing tweets:  43%|████▎     | 247/568 [25:21<32:30,  6.08s/it]"
          ]
        },
        {
          "output_type": "stream",
          "name": "stdout",
          "text": [
            "\n",
            "[WARN] ❌ Failed to locate image element: 1608471270001364995\n",
            "\n",
            "[WARN] ❌ Failed to extract tweet text: 1608471147846291456\n"
          ]
        },
        {
          "output_type": "stream",
          "name": "stderr",
          "text": [
            "\rProcessing tweets:  44%|████▎     | 248/568 [25:25<29:27,  5.52s/it]"
          ]
        },
        {
          "output_type": "stream",
          "name": "stdout",
          "text": [
            "\n",
            "[WARN] ❌ Failed to locate image element: 1608471147846291456\n",
            "\n",
            "[WARN] ❌ Failed to extract tweet text: 1608471071505936388\n"
          ]
        },
        {
          "output_type": "stream",
          "name": "stderr",
          "text": [
            "\rProcessing tweets:  44%|████▍     | 249/568 [25:30<27:08,  5.11s/it]"
          ]
        },
        {
          "output_type": "stream",
          "name": "stdout",
          "text": [
            "\n",
            "[WARN] ❌ Failed to locate image element: 1608471071505936388\n"
          ]
        },
        {
          "output_type": "stream",
          "name": "stderr",
          "text": [
            "\rProcessing tweets:  44%|████▍     | 250/568 [25:32<22:33,  4.26s/it]"
          ]
        },
        {
          "output_type": "stream",
          "name": "stdout",
          "text": [
            "\n",
            "📊 Summary of the last 10 requests:\n",
            "📝 Text success:  3/10\n",
            "🖼️  Image success: 3/10\n",
            "✅ Both success:  3/10\n",
            "\n",
            "\n",
            "[WARN] ❌ Failed to extract tweet text: 1608469618175184898\n"
          ]
        },
        {
          "output_type": "stream",
          "name": "stderr",
          "text": [
            "\rProcessing tweets:  44%|████▍     | 251/568 [25:36<21:35,  4.09s/it]"
          ]
        },
        {
          "output_type": "stream",
          "name": "stdout",
          "text": [
            "\n",
            "[WARN] ❌ Failed to locate image element: 1608469618175184898\n",
            "\n",
            "[WARN] ❌ Failed to extract tweet text: 1608469515070734404\n"
          ]
        },
        {
          "output_type": "stream",
          "name": "stderr",
          "text": [
            "\rProcessing tweets:  44%|████▍     | 252/568 [25:39<20:50,  3.96s/it]"
          ]
        },
        {
          "output_type": "stream",
          "name": "stdout",
          "text": [
            "\n",
            "[WARN] ❌ Failed to locate image element: 1608469515070734404\n"
          ]
        },
        {
          "output_type": "stream",
          "name": "stderr",
          "text": [
            "\rProcessing tweets:  45%|████▍     | 253/568 [25:41<18:00,  3.43s/it]"
          ]
        },
        {
          "output_type": "stream",
          "name": "stdout",
          "text": [
            "\n",
            "[WARN] ❌ Failed to extract tweet text: 1608469038161879042\n",
            "\n",
            "[WARN] ❌ Failed to locate image element: 1608469038161879042\n",
            "♻️ Restarting driver after 10 requests...\n",
            "♻️ Driver restarted.\n"
          ]
        },
        {
          "output_type": "stream",
          "name": "stderr",
          "text": [
            "\rProcessing tweets:  45%|████▍     | 254/568 [26:02<45:05,  8.62s/it]"
          ]
        },
        {
          "output_type": "stream",
          "name": "stdout",
          "text": [
            "\n",
            "[WARN] ❌ Failed to extract tweet text: 1608468921358901248\n"
          ]
        },
        {
          "output_type": "stream",
          "name": "stderr",
          "text": [
            "\rProcessing tweets:  45%|████▍     | 255/568 [26:08<40:02,  7.67s/it]"
          ]
        },
        {
          "output_type": "stream",
          "name": "stdout",
          "text": [
            "\n",
            "[WARN] ❌ Failed to locate image element: 1608468921358901248\n",
            "\n",
            "[WARN] ❌ Failed to extract tweet text: 1608467247135170564\n"
          ]
        },
        {
          "output_type": "stream",
          "name": "stderr",
          "text": [
            "\rProcessing tweets:  45%|████▌     | 256/568 [26:13<35:42,  6.87s/it]"
          ]
        },
        {
          "output_type": "stream",
          "name": "stdout",
          "text": [
            "\n",
            "[WARN] ❌ Failed to locate image element: 1608467247135170564\n"
          ]
        },
        {
          "output_type": "stream",
          "name": "stderr",
          "text": [
            "\rProcessing tweets:  45%|████▌     | 257/568 [26:16<29:53,  5.77s/it]"
          ]
        },
        {
          "output_type": "stream",
          "name": "stdout",
          "text": [
            "\n",
            "[WARN] ❌ Failed to extract tweet text: 1608465485431033866\n"
          ]
        },
        {
          "output_type": "stream",
          "name": "stderr",
          "text": [
            "\rProcessing tweets:  45%|████▌     | 258/568 [26:20<27:27,  5.31s/it]"
          ]
        },
        {
          "output_type": "stream",
          "name": "stdout",
          "text": [
            "\n",
            "[WARN] ❌ Failed to locate image element: 1608465485431033866\n",
            "\n",
            "[WARN] ❌ Failed to extract tweet text: 1608464829311762434\n"
          ]
        },
        {
          "output_type": "stream",
          "name": "stderr",
          "text": [
            "\rProcessing tweets:  46%|████▌     | 259/568 [26:24<24:52,  4.83s/it]"
          ]
        },
        {
          "output_type": "stream",
          "name": "stdout",
          "text": [
            "\n",
            "[WARN] ❌ Failed to locate image element: 1608464829311762434\n",
            "\n",
            "[WARN] ❌ Failed to extract tweet text: 1608464229245521920\n"
          ]
        },
        {
          "output_type": "stream",
          "name": "stderr",
          "text": [
            "\rProcessing tweets:  46%|████▌     | 260/568 [26:27<22:51,  4.45s/it]"
          ]
        },
        {
          "output_type": "stream",
          "name": "stdout",
          "text": [
            "\n",
            "[WARN] ❌ Failed to locate image element: 1608464229245521920\n",
            "\n",
            "📊 Summary of the last 10 requests:\n",
            "📝 Text success:  2/10\n",
            "🖼️  Image success: 2/10\n",
            "✅ Both success:  2/10\n",
            "\n",
            "\n",
            "[WARN] ❌ Failed to extract tweet text: 1608463603149209605\n"
          ]
        },
        {
          "output_type": "stream",
          "name": "stderr",
          "text": [
            "\rProcessing tweets:  46%|████▌     | 261/568 [26:31<21:43,  4.25s/it]"
          ]
        },
        {
          "output_type": "stream",
          "name": "stdout",
          "text": [
            "\n",
            "[WARN] ❌ Failed to locate image element: 1608463603149209605\n",
            "\n",
            "[WARN] ❌ Failed to extract tweet text: 1608463316879278081\n",
            "\n",
            "[WARN] ❌ Failed to locate image element: 1608463316879278081\n",
            "♻️ Restarting driver after 5 consecutive failures...\n",
            "♻️ Driver restarted.\n"
          ]
        },
        {
          "output_type": "stream",
          "name": "stderr",
          "text": [
            "\rProcessing tweets:  46%|████▌     | 262/568 [26:47<39:30,  7.75s/it]"
          ]
        },
        {
          "output_type": "stream",
          "name": "stdout",
          "text": [
            "\n",
            "[WARN] ❌ Failed to extract tweet text: 1608462548877348865\n"
          ]
        },
        {
          "output_type": "stream",
          "name": "stderr",
          "text": [
            "\rProcessing tweets:  46%|████▋     | 263/568 [26:52<34:39,  6.82s/it]"
          ]
        },
        {
          "output_type": "stream",
          "name": "stdout",
          "text": [
            "\n",
            "[WARN] ❌ Failed to locate image element: 1608462548877348865\n",
            "\n",
            "[WARN] ❌ Failed to extract tweet text: 1608462487221080064\n"
          ]
        },
        {
          "output_type": "stream",
          "name": "stderr",
          "text": [
            "\rProcessing tweets:  46%|████▋     | 264/568 [26:56<31:18,  6.18s/it]"
          ]
        },
        {
          "output_type": "stream",
          "name": "stdout",
          "text": [
            "\n",
            "[WARN] ❌ Failed to locate image element: 1608462487221080064\n",
            "\n",
            "[WARN] ❌ Failed to extract tweet text: 1608461527031615490\n"
          ]
        },
        {
          "output_type": "stream",
          "name": "stderr",
          "text": [
            "\rProcessing tweets:  47%|████▋     | 265/568 [27:01<28:15,  5.60s/it]"
          ]
        },
        {
          "output_type": "stream",
          "name": "stdout",
          "text": [
            "\n",
            "[WARN] ❌ Failed to locate image element: 1608461527031615490\n",
            "\n",
            "[WARN] ❌ Failed to extract tweet text: 1608461252866764801\n"
          ]
        },
        {
          "output_type": "stream",
          "name": "stderr",
          "text": [
            "\rProcessing tweets:  47%|████▋     | 266/568 [27:05<26:01,  5.17s/it]"
          ]
        },
        {
          "output_type": "stream",
          "name": "stdout",
          "text": [
            "\n",
            "[WARN] ❌ Failed to locate image element: 1608461252866764801\n"
          ]
        },
        {
          "output_type": "stream",
          "name": "stderr",
          "text": [
            "Processing tweets:  47%|████▋     | 269/568 [27:12<16:23,  3.29s/it]"
          ]
        },
        {
          "output_type": "stream",
          "name": "stdout",
          "text": [
            "\n",
            "[WARN] ❌ Failed to extract tweet text: 1608458636183109632\n"
          ]
        },
        {
          "output_type": "stream",
          "name": "stderr",
          "text": [
            "\rProcessing tweets:  48%|████▊     | 270/568 [27:16<16:45,  3.37s/it]"
          ]
        },
        {
          "output_type": "stream",
          "name": "stdout",
          "text": [
            "\n",
            "[WARN] ❌ Failed to locate image element: 1608458636183109632\n",
            "\n",
            "📊 Summary of the last 10 requests:\n",
            "📝 Text success:  3/10\n",
            "🖼️  Image success: 3/10\n",
            "✅ Both success:  3/10\n",
            "\n",
            "\n",
            "[WARN] ❌ Failed to extract tweet text: 1608457999546306562\n"
          ]
        },
        {
          "output_type": "stream",
          "name": "stderr",
          "text": [
            "\rProcessing tweets:  48%|████▊     | 271/568 [27:19<17:07,  3.46s/it]"
          ]
        },
        {
          "output_type": "stream",
          "name": "stdout",
          "text": [
            "\n",
            "[WARN] ❌ Failed to locate image element: 1608457999546306562\n",
            "♻️ Restarting driver after 10 requests...\n",
            "♻️ Driver restarted.\n"
          ]
        },
        {
          "output_type": "stream",
          "name": "stderr",
          "text": [
            "\rProcessing tweets:  48%|████▊     | 272/568 [27:40<41:58,  8.51s/it]"
          ]
        },
        {
          "output_type": "stream",
          "name": "stdout",
          "text": [
            "\n",
            "[WARN] ❌ Failed to extract tweet text: 1608457436834459649\n"
          ]
        },
        {
          "output_type": "stream",
          "name": "stderr",
          "text": [
            "\rProcessing tweets:  48%|████▊     | 273/568 [27:47<40:32,  8.25s/it]"
          ]
        },
        {
          "output_type": "stream",
          "name": "stdout",
          "text": [
            "\n",
            "[WARN] ❌ Failed to locate image element: 1608457436834459649\n",
            "\n",
            "[WARN] ❌ Failed to extract tweet text: 1608455971659198466\n"
          ]
        },
        {
          "output_type": "stream",
          "name": "stderr",
          "text": [
            "\rProcessing tweets:  48%|████▊     | 274/568 [27:53<36:47,  7.51s/it]"
          ]
        },
        {
          "output_type": "stream",
          "name": "stdout",
          "text": [
            "\n",
            "[WARN] ❌ Failed to locate image element: 1608455971659198466\n"
          ]
        },
        {
          "output_type": "stream",
          "name": "stderr",
          "text": [
            "\rProcessing tweets:  48%|████▊     | 275/568 [27:56<30:21,  6.22s/it]"
          ]
        },
        {
          "output_type": "stream",
          "name": "stdout",
          "text": [
            "\n",
            "[WARN] ❌ Failed to extract tweet text: 1608455796865507328\n"
          ]
        },
        {
          "output_type": "stream",
          "name": "stderr",
          "text": [
            "\rProcessing tweets:  49%|████▊     | 276/568 [28:00<26:47,  5.50s/it]"
          ]
        },
        {
          "output_type": "stream",
          "name": "stdout",
          "text": [
            "\n",
            "[WARN] ❌ Failed to locate image element: 1608455796865507328\n"
          ]
        },
        {
          "output_type": "stream",
          "name": "stderr",
          "text": [
            "\rProcessing tweets:  49%|████▉     | 277/568 [28:02<21:52,  4.51s/it]"
          ]
        },
        {
          "output_type": "stream",
          "name": "stdout",
          "text": [
            "\n",
            "[WARN] ❌ Failed to extract tweet text: 1608452152896241664\n"
          ]
        },
        {
          "output_type": "stream",
          "name": "stderr",
          "text": [
            "\rProcessing tweets:  49%|████▉     | 278/568 [28:06<20:28,  4.24s/it]"
          ]
        },
        {
          "output_type": "stream",
          "name": "stdout",
          "text": [
            "\n",
            "[WARN] ❌ Failed to locate image element: 1608452152896241664\n",
            "\n",
            "[WARN] ❌ Failed to extract tweet text: 1608452080829665281\n"
          ]
        },
        {
          "output_type": "stream",
          "name": "stderr",
          "text": [
            "\rProcessing tweets:  49%|████▉     | 279/568 [28:10<19:32,  4.06s/it]"
          ]
        },
        {
          "output_type": "stream",
          "name": "stdout",
          "text": [
            "\n",
            "[WARN] ❌ Failed to locate image element: 1608452080829665281\n",
            "\n",
            "[WARN] ❌ Failed to extract tweet text: 1608451970137817089\n"
          ]
        },
        {
          "output_type": "stream",
          "name": "stderr",
          "text": [
            "\rProcessing tweets:  49%|████▉     | 280/568 [28:14<19:36,  4.09s/it]"
          ]
        },
        {
          "output_type": "stream",
          "name": "stdout",
          "text": [
            "\n",
            "[WARN] ❌ Failed to locate image element: 1608451970137817089\n",
            "\n",
            "📊 Summary of the last 10 requests:\n",
            "📝 Text success:  3/10\n",
            "🖼️  Image success: 3/10\n",
            "✅ Both success:  3/10\n",
            "\n",
            "\n",
            "[WARN] ❌ Failed to extract tweet text: 1608451952370716673\n"
          ]
        },
        {
          "output_type": "stream",
          "name": "stderr",
          "text": [
            "\rProcessing tweets:  49%|████▉     | 281/568 [28:18<19:31,  4.08s/it]"
          ]
        },
        {
          "output_type": "stream",
          "name": "stdout",
          "text": [
            "\n",
            "[WARN] ❌ Failed to locate image element: 1608451952370716673\n",
            "\n",
            "[WARN] ❌ Failed to extract tweet text: 1608451882216837128\n",
            "\n",
            "[WARN] ❌ Failed to locate image element: 1608451882216837128\n",
            "♻️ Restarting driver after 10 requests...\n",
            "♻️ Driver restarted.\n"
          ]
        },
        {
          "output_type": "stream",
          "name": "stderr",
          "text": [
            "\rProcessing tweets:  50%|████▉     | 282/568 [28:39<43:10,  9.06s/it]"
          ]
        },
        {
          "output_type": "stream",
          "name": "stdout",
          "text": [
            "\n",
            "[WARN] ❌ Failed to extract tweet text: 1608451767087337474\n"
          ]
        },
        {
          "output_type": "stream",
          "name": "stderr",
          "text": [
            "\rProcessing tweets:  50%|████▉     | 283/568 [28:44<38:30,  8.11s/it]"
          ]
        },
        {
          "output_type": "stream",
          "name": "stdout",
          "text": [
            "\n",
            "[WARN] ❌ Failed to locate image element: 1608451767087337474\n",
            "\n",
            "[WARN] ❌ Failed to extract tweet text: 1608451684115664897\n"
          ]
        },
        {
          "output_type": "stream",
          "name": "stderr",
          "text": [
            "\rProcessing tweets:  50%|█████     | 284/568 [28:49<33:46,  7.13s/it]"
          ]
        },
        {
          "output_type": "stream",
          "name": "stdout",
          "text": [
            "\n",
            "[WARN] ❌ Failed to locate image element: 1608451684115664897\n"
          ]
        },
        {
          "output_type": "stream",
          "name": "stderr",
          "text": [
            "\rProcessing tweets:  50%|█████     | 285/568 [28:52<27:48,  5.90s/it]"
          ]
        },
        {
          "output_type": "stream",
          "name": "stdout",
          "text": [
            "\n",
            "[WARN] ❌ Failed to extract tweet text: 1608450777986781188\n"
          ]
        },
        {
          "output_type": "stream",
          "name": "stderr",
          "text": [
            "\rProcessing tweets:  50%|█████     | 286/568 [28:57<25:32,  5.43s/it]"
          ]
        },
        {
          "output_type": "stream",
          "name": "stdout",
          "text": [
            "\n",
            "[WARN] ❌ Failed to locate image element: 1608450777986781188\n",
            "\n",
            "[WARN] ❌ Failed to extract tweet text: 1608448965686484992\n"
          ]
        },
        {
          "output_type": "stream",
          "name": "stderr",
          "text": [
            "\rProcessing tweets:  51%|█████     | 287/568 [29:00<22:48,  4.87s/it]"
          ]
        },
        {
          "output_type": "stream",
          "name": "stdout",
          "text": [
            "\n",
            "[WARN] ❌ Failed to locate image element: 1608448965686484992\n",
            "\n",
            "[WARN] ❌ Failed to extract tweet text: 1608448924716613634\n"
          ]
        },
        {
          "output_type": "stream",
          "name": "stderr",
          "text": [
            "\rProcessing tweets:  51%|█████     | 288/568 [29:04<21:50,  4.68s/it]"
          ]
        },
        {
          "output_type": "stream",
          "name": "stdout",
          "text": [
            "\n",
            "[WARN] ❌ Failed to locate image element: 1608448924716613634\n",
            "\n",
            "[WARN] ❌ Failed to extract tweet text: 1608448810140987411\n"
          ]
        },
        {
          "output_type": "stream",
          "name": "stderr",
          "text": [
            "\rProcessing tweets:  51%|█████     | 289/568 [29:09<20:55,  4.50s/it]"
          ]
        },
        {
          "output_type": "stream",
          "name": "stdout",
          "text": [
            "\n",
            "[WARN] ❌ Failed to locate image element: 1608448810140987411\n"
          ]
        },
        {
          "output_type": "stream",
          "name": "stderr",
          "text": [
            "\rProcessing tweets:  51%|█████     | 290/568 [29:11<18:14,  3.94s/it]"
          ]
        },
        {
          "output_type": "stream",
          "name": "stdout",
          "text": [
            "\n",
            "📊 Summary of the last 10 requests:\n",
            "📝 Text success:  2/10\n",
            "🖼️  Image success: 2/10\n",
            "✅ Both success:  2/10\n",
            "\n"
          ]
        },
        {
          "output_type": "stream",
          "name": "stderr",
          "text": [
            "\rProcessing tweets:  51%|█████     | 291/568 [29:13<15:49,  3.43s/it]"
          ]
        },
        {
          "output_type": "stream",
          "name": "stdout",
          "text": [
            "\n",
            "[WARN] ❌ Failed to extract tweet text: 1608447871828869121\n",
            "\n",
            "[WARN] ❌ Failed to locate image element: 1608447871828869121\n",
            "♻️ Restarting driver after 10 requests...\n",
            "♻️ Driver restarted.\n"
          ]
        },
        {
          "output_type": "stream",
          "name": "stderr",
          "text": [
            "\rProcessing tweets:  51%|█████▏    | 292/568 [29:33<38:23,  8.35s/it]"
          ]
        },
        {
          "output_type": "stream",
          "name": "stdout",
          "text": [
            "\n",
            "[WARN] ❌ Failed to extract tweet text: 1608447453099065350\n"
          ]
        },
        {
          "output_type": "stream",
          "name": "stderr",
          "text": [
            "\rProcessing tweets:  52%|█████▏    | 293/568 [29:38<33:16,  7.26s/it]"
          ]
        },
        {
          "output_type": "stream",
          "name": "stdout",
          "text": [
            "\n",
            "[WARN] ❌ Failed to locate image element: 1608447453099065350\n",
            "\n",
            "[WARN] ❌ Failed to extract tweet text: 1608445932676300800\n"
          ]
        },
        {
          "output_type": "stream",
          "name": "stderr",
          "text": [
            "\rProcessing tweets:  52%|█████▏    | 294/568 [29:42<29:16,  6.41s/it]"
          ]
        },
        {
          "output_type": "stream",
          "name": "stdout",
          "text": [
            "\n",
            "[WARN] ❌ Failed to locate image element: 1608445932676300800\n",
            "\n",
            "[WARN] ❌ Failed to extract tweet text: 1608445650605322241\n"
          ]
        },
        {
          "output_type": "stream",
          "name": "stderr",
          "text": [
            "\rProcessing tweets:  52%|█████▏    | 295/568 [29:46<25:29,  5.60s/it]"
          ]
        },
        {
          "output_type": "stream",
          "name": "stdout",
          "text": [
            "\n",
            "[WARN] ❌ Failed to locate image element: 1608445650605322241\n",
            "\n",
            "[WARN] ❌ Failed to extract tweet text: 1608444620685598721\n"
          ]
        },
        {
          "output_type": "stream",
          "name": "stderr",
          "text": [
            "\rProcessing tweets:  52%|█████▏    | 296/568 [29:50<23:32,  5.19s/it]"
          ]
        },
        {
          "output_type": "stream",
          "name": "stdout",
          "text": [
            "\n",
            "[WARN] ❌ Failed to locate image element: 1608444620685598721\n",
            "\n",
            "[WARN] ❌ Failed to extract tweet text: 1608444094719709187\n",
            "\n",
            "[WARN] ❌ Failed to locate image element: 1608444094719709187\n",
            "♻️ Restarting driver after 5 consecutive failures...\n",
            "♻️ Driver restarted.\n"
          ]
        },
        {
          "output_type": "stream",
          "name": "stderr",
          "text": [
            "\rProcessing tweets:  52%|█████▏    | 297/568 [30:06<37:27,  8.29s/it]"
          ]
        },
        {
          "output_type": "stream",
          "name": "stdout",
          "text": [
            "\n",
            "[WARN] ❌ Failed to extract tweet text: 1608442722523693056\n"
          ]
        },
        {
          "output_type": "stream",
          "name": "stderr",
          "text": [
            "\rProcessing tweets:  52%|█████▏    | 298/568 [30:12<34:32,  7.68s/it]"
          ]
        },
        {
          "output_type": "stream",
          "name": "stdout",
          "text": [
            "\n",
            "[WARN] ❌ Failed to locate image element: 1608442722523693056\n",
            "\n",
            "[WARN] ❌ Failed to extract tweet text: 1608442277612994561\n"
          ]
        },
        {
          "output_type": "stream",
          "name": "stderr",
          "text": [
            "\rProcessing tweets:  53%|█████▎    | 299/568 [30:17<30:42,  6.85s/it]"
          ]
        },
        {
          "output_type": "stream",
          "name": "stdout",
          "text": [
            "\n",
            "[WARN] ❌ Failed to locate image element: 1608442277612994561\n",
            "\n",
            "[WARN] ❌ Failed to extract tweet text: 1608442206485897216\n"
          ]
        },
        {
          "output_type": "stream",
          "name": "stderr",
          "text": [
            "\rProcessing tweets:  53%|█████▎    | 300/568 [30:21<26:57,  6.04s/it]"
          ]
        },
        {
          "output_type": "stream",
          "name": "stdout",
          "text": [
            "\n",
            "[WARN] ❌ Failed to locate image element: 1608442206485897216\n",
            "\n",
            "📊 Summary of the last 10 requests:\n",
            "📝 Text success:  1/10\n",
            "🖼️  Image success: 1/10\n",
            "✅ Both success:  1/10\n",
            "\n",
            "\n",
            "[WARN] ❌ Failed to extract tweet text: 1608441954890555393\n"
          ]
        },
        {
          "output_type": "stream",
          "name": "stderr",
          "text": [
            "\rProcessing tweets:  53%|█████▎    | 301/568 [30:26<25:10,  5.66s/it]"
          ]
        },
        {
          "output_type": "stream",
          "name": "stdout",
          "text": [
            "\n",
            "[WARN] ❌ Failed to locate image element: 1608441954890555393\n",
            "\n",
            "[WARN] ❌ Failed to extract tweet text: 1608441754809937920\n",
            "\n",
            "[WARN] ❌ Failed to locate image element: 1608441754809937920\n",
            "♻️ Restarting driver after 5 consecutive failures...\n",
            "♻️ Driver restarted.\n",
            "♻️ Driver restarted.\n"
          ]
        },
        {
          "output_type": "stream",
          "name": "stderr",
          "text": [
            "\rProcessing tweets:  53%|█████▎    | 302/568 [31:12<1:19:15, 17.88s/it]"
          ]
        },
        {
          "output_type": "stream",
          "name": "stdout",
          "text": [
            "ALL_consecutive_failures: 11\n",
            "\n",
            "[WARN] ❌ Failed to extract tweet text: 1608441703207165952\n"
          ]
        },
        {
          "output_type": "stream",
          "name": "stderr",
          "text": [
            "\rProcessing tweets:  53%|█████▎    | 303/568 [31:19<1:04:28, 14.60s/it]"
          ]
        },
        {
          "output_type": "stream",
          "name": "stdout",
          "text": [
            "\n",
            "[WARN] ❌ Failed to locate image element: 1608441703207165952\n",
            "\n",
            "[WARN] ❌ Failed to extract tweet text: 1608440869895671808\n"
          ]
        },
        {
          "output_type": "stream",
          "name": "stderr",
          "text": [
            "\rProcessing tweets:  54%|█████▎    | 304/568 [31:25<51:55, 11.80s/it]  "
          ]
        },
        {
          "output_type": "stream",
          "name": "stdout",
          "text": [
            "\n",
            "[WARN] ❌ Failed to locate image element: 1608440869895671808\n",
            "\n",
            "[WARN] ❌ Failed to extract tweet text: 1608440830045331456\n"
          ]
        },
        {
          "output_type": "stream",
          "name": "stderr",
          "text": [
            "\rProcessing tweets:  54%|█████▎    | 305/568 [31:29<41:58,  9.58s/it]"
          ]
        },
        {
          "output_type": "stream",
          "name": "stdout",
          "text": [
            "\n",
            "[WARN] ❌ Failed to locate image element: 1608440830045331456\n",
            "\n",
            "[WARN] ❌ Failed to extract tweet text: 1608440823091183616\n"
          ]
        },
        {
          "output_type": "stream",
          "name": "stderr",
          "text": [
            "\rProcessing tweets:  54%|█████▍    | 306/568 [31:35<37:49,  8.66s/it]"
          ]
        },
        {
          "output_type": "stream",
          "name": "stdout",
          "text": [
            "\n",
            "[WARN] ❌ Failed to locate image element: 1608440823091183616\n",
            "\n",
            "[WARN] ❌ Failed to extract tweet text: 1608440522686844930\n",
            "\n",
            "[WARN] ❌ Failed to locate image element: 1608440522686844930\n",
            "♻️ Restarting driver after 5 consecutive failures...\n",
            "♻️ Driver restarted.\n",
            "♻️ Driver restarted.\n"
          ]
        },
        {
          "output_type": "stream",
          "name": "stderr",
          "text": [
            "\rProcessing tweets:  54%|█████▍    | 307/568 [32:23<1:28:19, 20.30s/it]"
          ]
        },
        {
          "output_type": "stream",
          "name": "stdout",
          "text": [
            "ALL_consecutive_failures: 16\n",
            "\n",
            "[WARN] ❌ Failed to extract tweet text: 1608440512142512136\n"
          ]
        },
        {
          "output_type": "stream",
          "name": "stderr",
          "text": [
            "\rProcessing tweets:  54%|█████▍    | 308/568 [32:29<1:09:19, 16.00s/it]"
          ]
        },
        {
          "output_type": "stream",
          "name": "stdout",
          "text": [
            "\n",
            "[WARN] ❌ Failed to locate image element: 1608440512142512136\n",
            "\n",
            "[WARN] ❌ Failed to extract tweet text: 1608440348447051776\n"
          ]
        },
        {
          "output_type": "stream",
          "name": "stderr",
          "text": [
            "\rProcessing tweets:  54%|█████▍    | 309/568 [32:34<55:11, 12.78s/it]  "
          ]
        },
        {
          "output_type": "stream",
          "name": "stdout",
          "text": [
            "\n",
            "[WARN] ❌ Failed to locate image element: 1608440348447051776\n"
          ]
        },
        {
          "output_type": "stream",
          "name": "stderr",
          "text": [
            "\rProcessing tweets:  55%|█████▍    | 310/568 [32:38<42:49,  9.96s/it]"
          ]
        },
        {
          "output_type": "stream",
          "name": "stdout",
          "text": [
            "\n",
            "📊 Summary of the last 10 requests:\n",
            "📝 Text success:  1/10\n",
            "🖼️  Image success: 1/10\n",
            "✅ Both success:  1/10\n",
            "\n"
          ]
        },
        {
          "output_type": "stream",
          "name": "stderr",
          "text": [
            "\rProcessing tweets:  55%|█████▍    | 311/568 [32:41<34:01,  7.94s/it]"
          ]
        },
        {
          "output_type": "stream",
          "name": "stdout",
          "text": [
            "\n",
            "[WARN] ❌ Failed to extract tweet text: 1608438134018306058\n"
          ]
        },
        {
          "output_type": "stream",
          "name": "stderr",
          "text": [
            "\rProcessing tweets:  55%|█████▍    | 312/568 [32:45<29:02,  6.81s/it]"
          ]
        },
        {
          "output_type": "stream",
          "name": "stdout",
          "text": [
            "\n",
            "[WARN] ❌ Failed to locate image element: 1608438134018306058\n",
            "\n",
            "[WARN] ❌ Failed to extract tweet text: 1608437861451452416\n"
          ]
        },
        {
          "output_type": "stream",
          "name": "stderr",
          "text": [
            "\rProcessing tweets:  55%|█████▌    | 313/568 [32:49<24:53,  5.86s/it]"
          ]
        },
        {
          "output_type": "stream",
          "name": "stdout",
          "text": [
            "\n",
            "[WARN] ❌ Failed to locate image element: 1608437861451452416\n",
            "\n",
            "[WARN] ❌ Failed to extract tweet text: 1608437623529549827\n"
          ]
        },
        {
          "output_type": "stream",
          "name": "stderr",
          "text": [
            "\rProcessing tweets:  55%|█████▌    | 314/568 [32:52<22:03,  5.21s/it]"
          ]
        },
        {
          "output_type": "stream",
          "name": "stdout",
          "text": [
            "\n",
            "[WARN] ❌ Failed to locate image element: 1608437623529549827\n"
          ]
        },
        {
          "output_type": "stream",
          "name": "stderr",
          "text": [
            "Processing tweets:  56%|█████▌    | 316/568 [32:58<17:33,  4.18s/it]"
          ]
        },
        {
          "output_type": "stream",
          "name": "stdout",
          "text": [
            "\n",
            "[WARN] ❌ Failed to extract tweet text: 1608436993817743360\n",
            "\n",
            "[WARN] ❌ Failed to locate image element: 1608436993817743360\n",
            "♻️ Restarting driver after 10 requests...\n",
            "♻️ Driver restarted.\n"
          ]
        },
        {
          "output_type": "stream",
          "name": "stderr",
          "text": [
            "\rProcessing tweets:  56%|█████▌    | 317/568 [33:20<38:50,  9.29s/it]"
          ]
        },
        {
          "output_type": "stream",
          "name": "stdout",
          "text": [
            "\n",
            "[WARN] ❌ Failed to extract tweet text: 1608436715018145801\n"
          ]
        },
        {
          "output_type": "stream",
          "name": "stderr",
          "text": [
            "\rProcessing tweets:  56%|█████▌    | 318/568 [33:26<34:35,  8.30s/it]"
          ]
        },
        {
          "output_type": "stream",
          "name": "stdout",
          "text": [
            "\n",
            "[WARN] ❌ Failed to locate image element: 1608436715018145801\n",
            "\n",
            "[WARN] ❌ Failed to extract tweet text: 1608436379591278594\n"
          ]
        },
        {
          "output_type": "stream",
          "name": "stderr",
          "text": [
            "\rProcessing tweets:  56%|█████▌    | 319/568 [33:31<30:16,  7.30s/it]"
          ]
        },
        {
          "output_type": "stream",
          "name": "stdout",
          "text": [
            "\n",
            "[WARN] ❌ Failed to locate image element: 1608436379591278594\n"
          ]
        },
        {
          "output_type": "stream",
          "name": "stderr",
          "text": [
            "\rProcessing tweets:  56%|█████▋    | 320/568 [33:34<25:23,  6.14s/it]"
          ]
        },
        {
          "output_type": "stream",
          "name": "stdout",
          "text": [
            "\n",
            "📊 Summary of the last 10 requests:\n",
            "📝 Text success:  4/10\n",
            "🖼️  Image success: 4/10\n",
            "✅ Both success:  4/10\n",
            "\n",
            "\n",
            "[WARN] ❌ Failed to extract tweet text: 1608435755495591936\n"
          ]
        },
        {
          "output_type": "stream",
          "name": "stderr",
          "text": [
            "\rProcessing tweets:  57%|█████▋    | 321/568 [33:38<22:56,  5.57s/it]"
          ]
        },
        {
          "output_type": "stream",
          "name": "stdout",
          "text": [
            "\n",
            "[WARN] ❌ Failed to locate image element: 1608435755495591936\n"
          ]
        },
        {
          "output_type": "stream",
          "name": "stderr",
          "text": [
            "\rProcessing tweets:  57%|█████▋    | 322/568 [33:41<19:40,  4.80s/it]"
          ]
        },
        {
          "output_type": "stream",
          "name": "stdout",
          "text": [
            "\n",
            "[WARN] ❌ Failed to extract tweet text: 1608435238585368581\n"
          ]
        },
        {
          "output_type": "stream",
          "name": "stderr",
          "text": [
            "\rProcessing tweets:  57%|█████▋    | 323/568 [33:45<18:07,  4.44s/it]"
          ]
        },
        {
          "output_type": "stream",
          "name": "stdout",
          "text": [
            "\n",
            "[WARN] ❌ Failed to locate image element: 1608435238585368581\n",
            "\n",
            "[WARN] ❌ Failed to extract tweet text: 1608434746924666881\n"
          ]
        },
        {
          "output_type": "stream",
          "name": "stderr",
          "text": [
            "\rProcessing tweets:  57%|█████▋    | 324/568 [33:48<17:05,  4.20s/it]"
          ]
        },
        {
          "output_type": "stream",
          "name": "stdout",
          "text": [
            "\n",
            "[WARN] ❌ Failed to locate image element: 1608434746924666881\n"
          ]
        },
        {
          "output_type": "stream",
          "name": "stderr",
          "text": [
            "\rProcessing tweets:  57%|█████▋    | 325/568 [33:52<15:45,  3.89s/it]"
          ]
        },
        {
          "output_type": "stream",
          "name": "stdout",
          "text": [
            "\n",
            "[WARN] ❌ Failed to extract tweet text: 1608434104336535553\n"
          ]
        },
        {
          "output_type": "stream",
          "name": "stderr",
          "text": [
            "\rProcessing tweets:  57%|█████▋    | 326/568 [33:56<16:14,  4.03s/it]"
          ]
        },
        {
          "output_type": "stream",
          "name": "stdout",
          "text": [
            "\n",
            "[WARN] ❌ Failed to locate image element: 1608434104336535553\n",
            "♻️ Restarting driver after 10 requests...\n",
            "♻️ Driver restarted.\n"
          ]
        },
        {
          "output_type": "stream",
          "name": "stderr",
          "text": [
            "\rProcessing tweets:  58%|█████▊    | 327/568 [34:16<35:13,  8.77s/it]"
          ]
        },
        {
          "output_type": "stream",
          "name": "stdout",
          "text": [
            "\n",
            "[WARN] ❌ Failed to extract tweet text: 1608432718169214977\n"
          ]
        },
        {
          "output_type": "stream",
          "name": "stderr",
          "text": [
            "\rProcessing tweets:  58%|█████▊    | 328/568 [34:22<31:56,  7.99s/it]"
          ]
        },
        {
          "output_type": "stream",
          "name": "stdout",
          "text": [
            "\n",
            "[WARN] ❌ Failed to locate image element: 1608432718169214977\n",
            "\n",
            "[WARN] ❌ Failed to extract tweet text: 1608432465189691398\n"
          ]
        },
        {
          "output_type": "stream",
          "name": "stderr",
          "text": [
            "\rProcessing tweets:  58%|█████▊    | 329/568 [34:27<28:06,  7.06s/it]"
          ]
        },
        {
          "output_type": "stream",
          "name": "stdout",
          "text": [
            "\n",
            "[WARN] ❌ Failed to locate image element: 1608432465189691398\n",
            "\n",
            "[WARN] ❌ Failed to extract tweet text: 1608432460932562947\n"
          ]
        },
        {
          "output_type": "stream",
          "name": "stderr",
          "text": [
            "\rProcessing tweets:  58%|█████▊    | 330/568 [34:31<24:33,  6.19s/it]"
          ]
        },
        {
          "output_type": "stream",
          "name": "stdout",
          "text": [
            "\n",
            "[WARN] ❌ Failed to locate image element: 1608432460932562947\n",
            "\n",
            "📊 Summary of the last 10 requests:\n",
            "📝 Text success:  3/10\n",
            "🖼️  Image success: 3/10\n",
            "✅ Both success:  3/10\n",
            "\n",
            "\n",
            "[WARN] ❌ Failed to extract tweet text: 1608430348853211136\n"
          ]
        },
        {
          "output_type": "stream",
          "name": "stderr",
          "text": [
            "\rProcessing tweets:  58%|█████▊    | 331/568 [34:35<21:24,  5.42s/it]"
          ]
        },
        {
          "output_type": "stream",
          "name": "stdout",
          "text": [
            "\n",
            "[WARN] ❌ Failed to locate image element: 1608430348853211136\n",
            "\n",
            "[WARN] ❌ Failed to extract tweet text: 1608428723401023489\n",
            "\n",
            "[WARN] ❌ Failed to locate image element: 1608428723401023489\n",
            "♻️ Restarting driver after 5 consecutive failures...\n",
            "♻️ Driver restarted.\n"
          ]
        },
        {
          "output_type": "stream",
          "name": "stderr",
          "text": [
            "\rProcessing tweets:  58%|█████▊    | 332/568 [34:50<32:41,  8.31s/it]"
          ]
        },
        {
          "output_type": "stream",
          "name": "stdout",
          "text": [
            "\n",
            "[WARN] ❌ Failed to extract tweet text: 1608428701510963201\n"
          ]
        },
        {
          "output_type": "stream",
          "name": "stderr",
          "text": [
            "\rProcessing tweets:  59%|█████▊    | 333/568 [34:56<29:56,  7.64s/it]"
          ]
        },
        {
          "output_type": "stream",
          "name": "stdout",
          "text": [
            "\n",
            "[WARN] ❌ Failed to locate image element: 1608428701510963201\n",
            "\n",
            "[WARN] ❌ Failed to extract tweet text: 1608427750444130304\n"
          ]
        },
        {
          "output_type": "stream",
          "name": "stderr",
          "text": [
            "\rProcessing tweets:  59%|█████▉    | 334/568 [35:00<26:13,  6.72s/it]"
          ]
        },
        {
          "output_type": "stream",
          "name": "stdout",
          "text": [
            "\n",
            "[WARN] ❌ Failed to locate image element: 1608427750444130304\n",
            "\n",
            "[WARN] ❌ Failed to extract tweet text: 1608425772481646592\n"
          ]
        },
        {
          "output_type": "stream",
          "name": "stderr",
          "text": [
            "\rProcessing tweets:  59%|█████▉    | 335/568 [35:04<22:32,  5.80s/it]"
          ]
        },
        {
          "output_type": "stream",
          "name": "stdout",
          "text": [
            "\n",
            "[WARN] ❌ Failed to locate image element: 1608425772481646592\n",
            "\n",
            "[WARN] ❌ Failed to extract tweet text: 1608425471770824704\n"
          ]
        },
        {
          "output_type": "stream",
          "name": "stderr",
          "text": [
            "\rProcessing tweets:  59%|█████▉    | 336/568 [35:08<19:54,  5.15s/it]"
          ]
        },
        {
          "output_type": "stream",
          "name": "stdout",
          "text": [
            "\n",
            "[WARN] ❌ Failed to locate image element: 1608425471770824704\n",
            "\n",
            "[WARN] ❌ Failed to extract tweet text: 1608425428733300737\n",
            "\n",
            "[WARN] ❌ Failed to locate image element: 1608425428733300737\n",
            "♻️ Restarting driver after 5 consecutive failures...\n",
            "♻️ Driver restarted.\n",
            "♻️ Driver restarted.\n"
          ]
        },
        {
          "output_type": "stream",
          "name": "stderr",
          "text": [
            "\rProcessing tweets:  59%|█████▉    | 337/568 [35:55<1:08:33, 17.81s/it]"
          ]
        },
        {
          "output_type": "stream",
          "name": "stdout",
          "text": [
            "ALL_consecutive_failures: 10\n",
            "\n",
            "[WARN] ❌ Failed to extract tweet text: 1608423879067971584\n"
          ]
        },
        {
          "output_type": "stream",
          "name": "stderr",
          "text": [
            "\rProcessing tweets:  60%|█████▉    | 338/568 [36:03<56:36, 14.77s/it]  "
          ]
        },
        {
          "output_type": "stream",
          "name": "stdout",
          "text": [
            "\n",
            "[WARN] ❌ Failed to locate image element: 1608423879067971584\n"
          ]
        },
        {
          "output_type": "stream",
          "name": "stderr",
          "text": [
            "Processing tweets:  60%|█████▉    | 340/568 [36:11<35:01,  9.22s/it]"
          ]
        },
        {
          "output_type": "stream",
          "name": "stdout",
          "text": [
            "\n",
            "📊 Summary of the last 10 requests:\n",
            "📝 Text success:  2/10\n",
            "🖼️  Image success: 2/10\n",
            "✅ Both success:  2/10\n",
            "\n",
            "\n",
            "[WARN] ❌ Failed to extract tweet text: 1608422084241395713\n"
          ]
        },
        {
          "output_type": "stream",
          "name": "stderr",
          "text": [
            "\rProcessing tweets:  60%|██████    | 341/568 [36:15<28:30,  7.54s/it]"
          ]
        },
        {
          "output_type": "stream",
          "name": "stdout",
          "text": [
            "\n",
            "[WARN] ❌ Failed to locate image element: 1608422084241395713\n"
          ]
        },
        {
          "output_type": "stream",
          "name": "stderr",
          "text": [
            "Processing tweets:  60%|██████    | 343/568 [36:18<17:35,  4.69s/it]"
          ]
        },
        {
          "output_type": "stream",
          "name": "stdout",
          "text": [
            "\n",
            "[WARN] ❌ Failed to extract tweet text: 1608421369842208770\n"
          ]
        },
        {
          "output_type": "stream",
          "name": "stderr",
          "text": [
            "\rProcessing tweets:  61%|██████    | 344/568 [36:22<16:17,  4.36s/it]"
          ]
        },
        {
          "output_type": "stream",
          "name": "stdout",
          "text": [
            "\n",
            "[WARN] ❌ Failed to locate image element: 1608421369842208770\n"
          ]
        },
        {
          "output_type": "stream",
          "name": "stderr",
          "text": [
            "Processing tweets:  61%|██████    | 346/568 [36:29<13:56,  3.77s/it]"
          ]
        },
        {
          "output_type": "stream",
          "name": "stdout",
          "text": [
            "\n",
            "[WARN] ❌ Failed to extract tweet text: 1608420458680180741\n",
            "\n",
            "[WARN] ❌ Failed to locate image element: 1608420458680180741\n",
            "♻️ Restarting driver after 10 requests...\n",
            "♻️ Driver restarted.\n"
          ]
        },
        {
          "output_type": "stream",
          "name": "stderr",
          "text": [
            "\rProcessing tweets:  61%|██████    | 347/568 [36:49<32:35,  8.85s/it]"
          ]
        },
        {
          "output_type": "stream",
          "name": "stdout",
          "text": [
            "\n",
            "[WARN] ❌ Failed to extract tweet text: 1608420061257023494\n"
          ]
        },
        {
          "output_type": "stream",
          "name": "stderr",
          "text": [
            "\rProcessing tweets:  61%|██████▏   | 348/568 [36:55<29:21,  8.01s/it]"
          ]
        },
        {
          "output_type": "stream",
          "name": "stdout",
          "text": [
            "\n",
            "[WARN] ❌ Failed to locate image element: 1608420061257023494\n",
            "\n",
            "[WARN] ❌ Failed to extract tweet text: 1608417850275905538\n"
          ]
        },
        {
          "output_type": "stream",
          "name": "stderr",
          "text": [
            "\rProcessing tweets:  61%|██████▏   | 349/568 [37:00<25:45,  7.06s/it]"
          ]
        },
        {
          "output_type": "stream",
          "name": "stdout",
          "text": [
            "\n",
            "[WARN] ❌ Failed to locate image element: 1608417850275905538\n",
            "\n",
            "[WARN] ❌ Failed to extract tweet text: 1608417670264754178\n"
          ]
        },
        {
          "output_type": "stream",
          "name": "stderr",
          "text": [
            "\rProcessing tweets:  62%|██████▏   | 350/568 [37:04<21:56,  6.04s/it]"
          ]
        },
        {
          "output_type": "stream",
          "name": "stdout",
          "text": [
            "\n",
            "[WARN] ❌ Failed to locate image element: 1608417670264754178\n",
            "\n",
            "📊 Summary of the last 10 requests:\n",
            "📝 Text success:  4/10\n",
            "🖼️  Image success: 4/10\n",
            "✅ Both success:  4/10\n",
            "\n",
            "\n",
            "[WARN] ❌ Failed to extract tweet text: 1608417241942446081\n"
          ]
        },
        {
          "output_type": "stream",
          "name": "stderr",
          "text": [
            "\rProcessing tweets:  62%|██████▏   | 351/568 [37:07<19:09,  5.30s/it]"
          ]
        },
        {
          "output_type": "stream",
          "name": "stdout",
          "text": [
            "\n",
            "[WARN] ❌ Failed to locate image element: 1608417241942446081\n",
            "\n",
            "[WARN] ❌ Failed to extract tweet text: 1608416157803089920\n",
            "\n",
            "[WARN] ❌ Failed to locate image element: 1608416157803089920\n",
            "♻️ Restarting driver after 5 consecutive failures...\n",
            "♻️ Driver restarted.\n"
          ]
        },
        {
          "output_type": "stream",
          "name": "stderr",
          "text": [
            "\rProcessing tweets:  62%|██████▏   | 352/568 [37:23<30:02,  8.35s/it]"
          ]
        },
        {
          "output_type": "stream",
          "name": "stdout",
          "text": [
            "\n",
            "[WARN] ❌ Failed to extract tweet text: 1608415883512217600\n"
          ]
        },
        {
          "output_type": "stream",
          "name": "stderr",
          "text": [
            "\rProcessing tweets:  62%|██████▏   | 353/568 [37:28<26:21,  7.35s/it]"
          ]
        },
        {
          "output_type": "stream",
          "name": "stdout",
          "text": [
            "\n",
            "[WARN] ❌ Failed to locate image element: 1608415883512217600\n",
            "\n",
            "[WARN] ❌ Failed to extract tweet text: 1608415586073169920\n"
          ]
        },
        {
          "output_type": "stream",
          "name": "stderr",
          "text": [
            "\rProcessing tweets:  62%|██████▏   | 354/568 [37:32<23:07,  6.48s/it]"
          ]
        },
        {
          "output_type": "stream",
          "name": "stdout",
          "text": [
            "\n",
            "[WARN] ❌ Failed to locate image element: 1608415586073169920\n",
            "\n",
            "[WARN] ❌ Failed to extract tweet text: 1608415579475509248\n"
          ]
        },
        {
          "output_type": "stream",
          "name": "stderr",
          "text": [
            "\rProcessing tweets:  62%|██████▎   | 355/568 [37:36<20:07,  5.67s/it]"
          ]
        },
        {
          "output_type": "stream",
          "name": "stdout",
          "text": [
            "\n",
            "[WARN] ❌ Failed to locate image element: 1608415579475509248\n",
            "\n",
            "[WARN] ❌ Failed to extract tweet text: 1608415575281115138\n"
          ]
        },
        {
          "output_type": "stream",
          "name": "stderr",
          "text": [
            "\rProcessing tweets:  63%|██████▎   | 356/568 [37:40<18:25,  5.22s/it]"
          ]
        },
        {
          "output_type": "stream",
          "name": "stdout",
          "text": [
            "\n",
            "[WARN] ❌ Failed to locate image element: 1608415575281115138\n",
            "\n",
            "[WARN] ❌ Failed to extract tweet text: 1608415569610477570\n",
            "\n",
            "[WARN] ❌ Failed to locate image element: 1608415569610477570\n",
            "♻️ Restarting driver after 5 consecutive failures...\n",
            "♻️ Driver restarted.\n",
            "♻️ Driver restarted.\n"
          ]
        },
        {
          "output_type": "stream",
          "name": "stderr",
          "text": [
            "\rProcessing tweets:  63%|██████▎   | 357/568 [38:27<1:02:37, 17.81s/it]"
          ]
        },
        {
          "output_type": "stream",
          "name": "stdout",
          "text": [
            "ALL_consecutive_failures: 11\n"
          ]
        },
        {
          "output_type": "stream",
          "name": "stderr",
          "text": [
            "\rProcessing tweets:  63%|██████▎   | 358/568 [38:33<49:35, 14.17s/it]  "
          ]
        },
        {
          "output_type": "stream",
          "name": "stdout",
          "text": [
            "\n",
            "[WARN] ❌ Failed to extract tweet text: 1608414303991775233\n",
            "\n",
            "[WARN] ❌ Failed to extract tweet text: 1608414277399896069\n"
          ]
        },
        {
          "output_type": "stream",
          "name": "stderr",
          "text": [
            "\rProcessing tweets:  63%|██████▎   | 359/568 [38:38<39:31, 11.35s/it]"
          ]
        },
        {
          "output_type": "stream",
          "name": "stdout",
          "text": [
            "\n",
            "[WARN] ❌ Failed to locate image element: 1608414277399896069\n",
            "\n",
            "[WARN] ❌ Failed to extract tweet text: 1608414219824758785\n"
          ]
        },
        {
          "output_type": "stream",
          "name": "stderr",
          "text": [
            "\rProcessing tweets:  63%|██████▎   | 360/568 [38:42<31:29,  9.08s/it]"
          ]
        },
        {
          "output_type": "stream",
          "name": "stdout",
          "text": [
            "\n",
            "[WARN] ❌ Failed to locate image element: 1608414219824758785\n",
            "\n",
            "📊 Summary of the last 10 requests:\n",
            "📝 Text success:  0/10\n",
            "🖼️  Image success: 1/10\n",
            "✅ Both success:  0/10\n",
            "\n"
          ]
        },
        {
          "output_type": "stream",
          "name": "stderr",
          "text": [
            "Processing tweets:  64%|██████▎   | 362/568 [38:48<21:00,  6.12s/it]"
          ]
        },
        {
          "output_type": "stream",
          "name": "stdout",
          "text": [
            "\n",
            "[WARN] ❌ Failed to extract tweet text: 1608411696443592707\n"
          ]
        },
        {
          "output_type": "stream",
          "name": "stderr",
          "text": [
            "\rProcessing tweets:  64%|██████▍   | 363/568 [38:53<19:02,  5.57s/it]"
          ]
        },
        {
          "output_type": "stream",
          "name": "stdout",
          "text": [
            "\n",
            "[WARN] ❌ Failed to locate image element: 1608411696443592707\n",
            "\n",
            "[WARN] ❌ Failed to extract tweet text: 1608410673419292683\n"
          ]
        },
        {
          "output_type": "stream",
          "name": "stderr",
          "text": [
            "\rProcessing tweets:  64%|██████▍   | 364/568 [38:57<17:36,  5.18s/it]"
          ]
        },
        {
          "output_type": "stream",
          "name": "stdout",
          "text": [
            "\n",
            "[WARN] ❌ Failed to locate image element: 1608410673419292683\n"
          ]
        },
        {
          "output_type": "stream",
          "name": "stderr",
          "text": [
            "\rProcessing tweets:  64%|██████▍   | 365/568 [39:00<15:46,  4.66s/it]"
          ]
        },
        {
          "output_type": "stream",
          "name": "stdout",
          "text": [
            "\n",
            "[WARN] ❌ Failed to extract tweet text: 1608410153803710466\n"
          ]
        },
        {
          "output_type": "stream",
          "name": "stderr",
          "text": [
            "\rProcessing tweets:  64%|██████▍   | 366/568 [39:04<15:04,  4.48s/it]"
          ]
        },
        {
          "output_type": "stream",
          "name": "stdout",
          "text": [
            "\n",
            "[WARN] ❌ Failed to locate image element: 1608410153803710466\n",
            "\n",
            "[WARN] ❌ Failed to extract tweet text: 1608409365547032578\n",
            "\n",
            "[WARN] ❌ Failed to locate image element: 1608409365547032578\n",
            "♻️ Restarting driver after 10 requests...\n",
            "♻️ Driver restarted.\n"
          ]
        },
        {
          "output_type": "stream",
          "name": "stderr",
          "text": [
            "\rProcessing tweets:  65%|██████▍   | 367/568 [39:25<31:45,  9.48s/it]"
          ]
        },
        {
          "output_type": "stream",
          "name": "stdout",
          "text": [
            "\n",
            "[WARN] ❌ Failed to extract tweet text: 1608407406496694272\n"
          ]
        },
        {
          "output_type": "stream",
          "name": "stderr",
          "text": [
            "\rProcessing tweets:  65%|██████▍   | 368/568 [39:31<27:48,  8.34s/it]"
          ]
        },
        {
          "output_type": "stream",
          "name": "stdout",
          "text": [
            "\n",
            "[WARN] ❌ Failed to locate image element: 1608407406496694272\n",
            "\n",
            "[WARN] ❌ Failed to extract tweet text: 1608406275230150656\n"
          ]
        },
        {
          "output_type": "stream",
          "name": "stderr",
          "text": [
            "\rProcessing tweets:  65%|██████▍   | 369/568 [39:37<24:45,  7.46s/it]"
          ]
        },
        {
          "output_type": "stream",
          "name": "stdout",
          "text": [
            "\n",
            "[WARN] ❌ Failed to locate image element: 1608406275230150656\n",
            "\n",
            "[WARN] ❌ Failed to extract tweet text: 1608405269691699201\n"
          ]
        },
        {
          "output_type": "stream",
          "name": "stderr",
          "text": [
            "\rProcessing tweets:  65%|██████▌   | 370/568 [39:41<21:26,  6.50s/it]"
          ]
        },
        {
          "output_type": "stream",
          "name": "stdout",
          "text": [
            "\n",
            "[WARN] ❌ Failed to locate image element: 1608405269691699201\n",
            "\n",
            "📊 Summary of the last 10 requests:\n",
            "📝 Text success:  3/10\n",
            "🖼️  Image success: 3/10\n",
            "✅ Both success:  3/10\n",
            "\n",
            "\n",
            "[WARN] ❌ Failed to extract tweet text: 1608403094903177216\n"
          ]
        },
        {
          "output_type": "stream",
          "name": "stderr",
          "text": [
            "\rProcessing tweets:  65%|██████▌   | 371/568 [39:45<19:11,  5.84s/it]"
          ]
        },
        {
          "output_type": "stream",
          "name": "stdout",
          "text": [
            "\n",
            "[WARN] ❌ Failed to locate image element: 1608403094903177216\n",
            "\n",
            "[WARN] ❌ Failed to extract tweet text: 1608402948106616832\n",
            "\n",
            "[WARN] ❌ Failed to locate image element: 1608402948106616832\n",
            "♻️ Restarting driver after 5 consecutive failures...\n",
            "♻️ Driver restarted.\n"
          ]
        },
        {
          "output_type": "stream",
          "name": "stderr",
          "text": [
            "\rProcessing tweets:  65%|██████▌   | 372/568 [40:00<27:54,  8.54s/it]"
          ]
        },
        {
          "output_type": "stream",
          "name": "stdout",
          "text": [
            "\n",
            "[WARN] ❌ Failed to extract tweet text: 1608400761612021766\n"
          ]
        },
        {
          "output_type": "stream",
          "name": "stderr",
          "text": [
            "\rProcessing tweets:  66%|██████▌   | 373/568 [40:06<25:05,  7.72s/it]"
          ]
        },
        {
          "output_type": "stream",
          "name": "stdout",
          "text": [
            "\n",
            "[WARN] ❌ Failed to locate image element: 1608400761612021766\n",
            "\n",
            "[WARN] ❌ Failed to extract tweet text: 1608400428391370753\n"
          ]
        },
        {
          "output_type": "stream",
          "name": "stderr",
          "text": [
            "\rProcessing tweets:  66%|██████▌   | 374/568 [40:11<22:13,  6.87s/it]"
          ]
        },
        {
          "output_type": "stream",
          "name": "stdout",
          "text": [
            "\n",
            "[WARN] ❌ Failed to locate image element: 1608400428391370753\n"
          ]
        },
        {
          "output_type": "stream",
          "name": "stderr",
          "text": [
            "Processing tweets:  66%|██████▌   | 376/568 [40:17<15:58,  4.99s/it]"
          ]
        },
        {
          "output_type": "stream",
          "name": "stdout",
          "text": [
            "\n",
            "[WARN] ❌ Failed to extract tweet text: 1608397064597118977\n"
          ]
        },
        {
          "output_type": "stream",
          "name": "stderr",
          "text": [
            "\rProcessing tweets:  66%|██████▋   | 377/568 [40:21<14:48,  4.65s/it]"
          ]
        },
        {
          "output_type": "stream",
          "name": "stdout",
          "text": [
            "\n",
            "[WARN] ❌ Failed to locate image element: 1608397064597118977\n"
          ]
        },
        {
          "output_type": "stream",
          "name": "stderr",
          "text": [
            "\rProcessing tweets:  67%|██████▋   | 378/568 [40:25<13:47,  4.36s/it]"
          ]
        },
        {
          "output_type": "stream",
          "name": "stdout",
          "text": [
            "\n",
            "[WARN] ❌ Failed to extract tweet text: 1608395607680638978\n"
          ]
        },
        {
          "output_type": "stream",
          "name": "stderr",
          "text": [
            "\rProcessing tweets:  67%|██████▋   | 379/568 [40:29<13:35,  4.32s/it]"
          ]
        },
        {
          "output_type": "stream",
          "name": "stdout",
          "text": [
            "\n",
            "[WARN] ❌ Failed to locate image element: 1608395607680638978\n",
            "\n",
            "[WARN] ❌ Failed to extract tweet text: 1608395570577805314\n"
          ]
        },
        {
          "output_type": "stream",
          "name": "stderr",
          "text": [
            "\rProcessing tweets:  67%|██████▋   | 380/568 [40:33<13:16,  4.24s/it]"
          ]
        },
        {
          "output_type": "stream",
          "name": "stdout",
          "text": [
            "\n",
            "[WARN] ❌ Failed to locate image element: 1608395570577805314\n",
            "\n",
            "📊 Summary of the last 10 requests:\n",
            "📝 Text success:  3/10\n",
            "🖼️  Image success: 3/10\n",
            "✅ Both success:  3/10\n",
            "\n",
            "\n",
            "[WARN] ❌ Failed to extract tweet text: 1608395291501203456\n"
          ]
        },
        {
          "output_type": "stream",
          "name": "stderr",
          "text": [
            "\rProcessing tweets:  67%|██████▋   | 381/568 [40:36<12:35,  4.04s/it]"
          ]
        },
        {
          "output_type": "stream",
          "name": "stdout",
          "text": [
            "\n",
            "[WARN] ❌ Failed to locate image element: 1608395291501203456\n",
            "\n",
            "[WARN] ❌ Failed to extract tweet text: 1608393888623894528\n",
            "\n",
            "[WARN] ❌ Failed to locate image element: 1608393888623894528\n",
            "♻️ Restarting driver after 10 requests...\n",
            "♻️ Driver restarted.\n"
          ]
        },
        {
          "output_type": "stream",
          "name": "stderr",
          "text": [
            "\rProcessing tweets:  67%|██████▋   | 382/568 [40:56<27:17,  8.80s/it]"
          ]
        },
        {
          "output_type": "stream",
          "name": "stdout",
          "text": [
            "\n",
            "[WARN] ❌ Failed to extract tweet text: 1608390477489004547\n"
          ]
        },
        {
          "output_type": "stream",
          "name": "stderr",
          "text": [
            "\rProcessing tweets:  67%|██████▋   | 383/568 [41:01<23:33,  7.64s/it]"
          ]
        },
        {
          "output_type": "stream",
          "name": "stdout",
          "text": [
            "\n",
            "[WARN] ❌ Failed to locate image element: 1608390477489004547\n"
          ]
        },
        {
          "output_type": "stream",
          "name": "stderr",
          "text": [
            "\rProcessing tweets:  68%|██████▊   | 384/568 [41:04<18:59,  6.19s/it]"
          ]
        },
        {
          "output_type": "stream",
          "name": "stdout",
          "text": [
            "\n",
            "[WARN] ❌ Failed to extract tweet text: 1608383570602606594\n"
          ]
        },
        {
          "output_type": "stream",
          "name": "stderr",
          "text": [
            "\rProcessing tweets:  68%|██████▊   | 385/568 [41:08<16:38,  5.45s/it]"
          ]
        },
        {
          "output_type": "stream",
          "name": "stdout",
          "text": [
            "\n",
            "[WARN] ❌ Failed to locate image element: 1608383570602606594\n"
          ]
        },
        {
          "output_type": "stream",
          "name": "stderr",
          "text": [
            "\rProcessing tweets:  68%|██████▊   | 386/568 [41:11<14:32,  4.79s/it]"
          ]
        },
        {
          "output_type": "stream",
          "name": "stdout",
          "text": [
            "\n",
            "[WARN] ❌ Failed to extract tweet text: 1608381114837798912\n"
          ]
        },
        {
          "output_type": "stream",
          "name": "stderr",
          "text": [
            "\rProcessing tweets:  68%|██████▊   | 387/568 [41:15<13:54,  4.61s/it]"
          ]
        },
        {
          "output_type": "stream",
          "name": "stdout",
          "text": [
            "\n",
            "[WARN] ❌ Failed to locate image element: 1608381114837798912\n",
            "\n",
            "[WARN] ❌ Failed to extract tweet text: 1608380867931697155\n"
          ]
        },
        {
          "output_type": "stream",
          "name": "stderr",
          "text": [
            "\rProcessing tweets:  68%|██████▊   | 388/568 [41:20<13:30,  4.51s/it]"
          ]
        },
        {
          "output_type": "stream",
          "name": "stdout",
          "text": [
            "\n",
            "[WARN] ❌ Failed to locate image element: 1608380867931697155\n",
            "\n",
            "[WARN] ❌ Failed to extract tweet text: 1608380474883469313\n"
          ]
        },
        {
          "output_type": "stream",
          "name": "stderr",
          "text": [
            "\rProcessing tweets:  68%|██████▊   | 389/568 [41:23<12:38,  4.24s/it]"
          ]
        },
        {
          "output_type": "stream",
          "name": "stdout",
          "text": [
            "\n",
            "[WARN] ❌ Failed to locate image element: 1608380474883469313\n",
            "\n",
            "[WARN] ❌ Failed to extract tweet text: 1608379981616533508\n"
          ]
        },
        {
          "output_type": "stream",
          "name": "stderr",
          "text": [
            "\rProcessing tweets:  69%|██████▊   | 390/568 [41:27<12:06,  4.08s/it]"
          ]
        },
        {
          "output_type": "stream",
          "name": "stdout",
          "text": [
            "\n",
            "[WARN] ❌ Failed to locate image element: 1608379981616533508\n",
            "\n",
            "📊 Summary of the last 10 requests:\n",
            "📝 Text success:  2/10\n",
            "🖼️  Image success: 2/10\n",
            "✅ Both success:  2/10\n",
            "\n"
          ]
        },
        {
          "output_type": "stream",
          "name": "stderr",
          "text": [
            "\rProcessing tweets:  69%|██████▉   | 391/568 [41:31<12:02,  4.08s/it]"
          ]
        },
        {
          "output_type": "stream",
          "name": "stdout",
          "text": [
            "\n",
            "[WARN] ❌ Failed to extract tweet text: 1608378663195623425\n",
            "\n",
            "[WARN] ❌ Failed to locate image element: 1608378663195623425\n",
            "♻️ Restarting driver after 10 requests...\n",
            "♻️ Driver restarted.\n"
          ]
        },
        {
          "output_type": "stream",
          "name": "stderr",
          "text": [
            "\rProcessing tweets:  69%|██████▉   | 392/568 [41:52<26:31,  9.04s/it]"
          ]
        },
        {
          "output_type": "stream",
          "name": "stdout",
          "text": [
            "\n",
            "[WARN] ❌ Failed to extract tweet text: 1608376041118081025\n"
          ]
        },
        {
          "output_type": "stream",
          "name": "stderr",
          "text": [
            "\rProcessing tweets:  69%|██████▉   | 393/568 [41:59<24:34,  8.42s/it]"
          ]
        },
        {
          "output_type": "stream",
          "name": "stdout",
          "text": [
            "\n",
            "[WARN] ❌ Failed to locate image element: 1608376041118081025\n"
          ]
        },
        {
          "output_type": "stream",
          "name": "stderr",
          "text": [
            "\rProcessing tweets:  69%|██████▉   | 394/568 [42:05<22:33,  7.78s/it]"
          ]
        },
        {
          "output_type": "stream",
          "name": "stdout",
          "text": [
            "\n",
            "[WARN] ❌ Failed to extract tweet text: 1608374278893801473\n"
          ]
        },
        {
          "output_type": "stream",
          "name": "stderr",
          "text": [
            "\rProcessing tweets:  70%|██████▉   | 395/568 [42:09<19:26,  6.74s/it]"
          ]
        },
        {
          "output_type": "stream",
          "name": "stdout",
          "text": [
            "\n",
            "[WARN] ❌ Failed to locate image element: 1608374278893801473\n"
          ]
        },
        {
          "output_type": "stream",
          "name": "stderr",
          "text": [
            "\rProcessing tweets:  70%|██████▉   | 396/568 [42:12<16:17,  5.68s/it]"
          ]
        },
        {
          "output_type": "stream",
          "name": "stdout",
          "text": [
            "\n",
            "[WARN] ❌ Failed to extract tweet text: 1608373406092890113\n"
          ]
        },
        {
          "output_type": "stream",
          "name": "stderr",
          "text": [
            "\rProcessing tweets:  70%|██████▉   | 397/568 [42:16<14:32,  5.10s/it]"
          ]
        },
        {
          "output_type": "stream",
          "name": "stdout",
          "text": [
            "\n",
            "[WARN] ❌ Failed to locate image element: 1608373406092890113\n"
          ]
        },
        {
          "output_type": "stream",
          "name": "stderr",
          "text": [
            "\rProcessing tweets:  70%|███████   | 398/568 [42:18<11:44,  4.14s/it]"
          ]
        },
        {
          "output_type": "stream",
          "name": "stdout",
          "text": [
            "\n",
            "[WARN] ❌ Failed to extract tweet text: 1608370571896659968\n"
          ]
        },
        {
          "output_type": "stream",
          "name": "stderr",
          "text": [
            "\rProcessing tweets:  70%|███████   | 399/568 [42:22<11:12,  3.98s/it]"
          ]
        },
        {
          "output_type": "stream",
          "name": "stdout",
          "text": [
            "\n",
            "[WARN] ❌ Failed to locate image element: 1608370571896659968\n"
          ]
        },
        {
          "output_type": "stream",
          "name": "stderr",
          "text": [
            "\rProcessing tweets:  70%|███████   | 400/568 [42:24<09:38,  3.44s/it]"
          ]
        },
        {
          "output_type": "stream",
          "name": "stdout",
          "text": [
            "\n",
            "📊 Summary of the last 10 requests:\n",
            "📝 Text success:  5/10\n",
            "🖼️  Image success: 5/10\n",
            "✅ Both success:  5/10\n",
            "\n"
          ]
        },
        {
          "output_type": "stream",
          "name": "stderr",
          "text": [
            "\rProcessing tweets:  71%|███████   | 401/568 [42:27<09:15,  3.33s/it]"
          ]
        },
        {
          "output_type": "stream",
          "name": "stdout",
          "text": [
            "\n",
            "[WARN] ❌ Failed to extract tweet text: 1608368300349861896\n",
            "\n",
            "[WARN] ❌ Failed to locate image element: 1608368300349861896\n",
            "♻️ Restarting driver after 10 requests...\n",
            "♻️ Driver restarted.\n"
          ]
        },
        {
          "output_type": "stream",
          "name": "stderr",
          "text": [
            "\rProcessing tweets:  71%|███████   | 402/568 [42:48<23:53,  8.64s/it]"
          ]
        },
        {
          "output_type": "stream",
          "name": "stdout",
          "text": [
            "\n",
            "[WARN] ❌ Failed to extract tweet text: 1608367570708570112\n"
          ]
        },
        {
          "output_type": "stream",
          "name": "stderr",
          "text": [
            "\rProcessing tweets:  71%|███████   | 403/568 [42:54<21:55,  7.97s/it]"
          ]
        },
        {
          "output_type": "stream",
          "name": "stdout",
          "text": [
            "\n",
            "[WARN] ❌ Failed to locate image element: 1608367570708570112\n",
            "\n",
            "[WARN] ❌ Failed to extract tweet text: 1608366917898608641\n"
          ]
        },
        {
          "output_type": "stream",
          "name": "stderr",
          "text": [
            "\rProcessing tweets:  71%|███████   | 404/568 [43:00<20:07,  7.36s/it]"
          ]
        },
        {
          "output_type": "stream",
          "name": "stdout",
          "text": [
            "\n",
            "[WARN] ❌ Failed to locate image element: 1608366917898608641\n",
            "\n",
            "[WARN] ❌ Failed to extract tweet text: 1608366690445758464\n"
          ]
        },
        {
          "output_type": "stream",
          "name": "stderr",
          "text": [
            "\rProcessing tweets:  71%|███████▏  | 405/568 [43:04<17:03,  6.28s/it]"
          ]
        },
        {
          "output_type": "stream",
          "name": "stdout",
          "text": [
            "\n",
            "[WARN] ❌ Failed to locate image element: 1608366690445758464\n",
            "\n",
            "[WARN] ❌ Failed to extract tweet text: 1608366651497390080\n"
          ]
        },
        {
          "output_type": "stream",
          "name": "stderr",
          "text": [
            "\rProcessing tweets:  71%|███████▏  | 406/568 [43:08<14:52,  5.51s/it]"
          ]
        },
        {
          "output_type": "stream",
          "name": "stdout",
          "text": [
            "\n",
            "[WARN] ❌ Failed to locate image element: 1608366651497390080\n",
            "\n",
            "[WARN] ❌ Failed to extract tweet text: 1608366612809236481\n",
            "\n",
            "[WARN] ❌ Failed to locate image element: 1608366612809236481\n",
            "♻️ Restarting driver after 5 consecutive failures...\n",
            "♻️ Driver restarted.\n"
          ]
        },
        {
          "output_type": "stream",
          "name": "stderr",
          "text": [
            "\rProcessing tweets:  72%|███████▏  | 407/568 [43:23<22:17,  8.31s/it]"
          ]
        },
        {
          "output_type": "stream",
          "name": "stdout",
          "text": [
            "\n",
            "[WARN] ❌ Failed to extract tweet text: 1608366578709454849\n"
          ]
        },
        {
          "output_type": "stream",
          "name": "stderr",
          "text": [
            "\rProcessing tweets:  72%|███████▏  | 408/568 [43:28<20:15,  7.60s/it]"
          ]
        },
        {
          "output_type": "stream",
          "name": "stdout",
          "text": [
            "\n",
            "[WARN] ❌ Failed to locate image element: 1608366578709454849\n",
            "\n",
            "[WARN] ❌ Failed to extract tweet text: 1608365374638280706\n"
          ]
        },
        {
          "output_type": "stream",
          "name": "stderr",
          "text": [
            "\rProcessing tweets:  72%|███████▏  | 409/568 [43:34<18:15,  6.89s/it]"
          ]
        },
        {
          "output_type": "stream",
          "name": "stdout",
          "text": [
            "\n",
            "[WARN] ❌ Failed to locate image element: 1608365374638280706\n"
          ]
        },
        {
          "output_type": "stream",
          "name": "stderr",
          "text": [
            "\rProcessing tweets:  72%|███████▏  | 410/568 [43:36<14:35,  5.54s/it]"
          ]
        },
        {
          "output_type": "stream",
          "name": "stdout",
          "text": [
            "\n",
            "📊 Summary of the last 10 requests:\n",
            "📝 Text success:  2/10\n",
            "🖼️  Image success: 2/10\n",
            "✅ Both success:  2/10\n",
            "\n",
            "\n",
            "[WARN] ❌ Failed to extract tweet text: 1608364937583419394\n"
          ]
        },
        {
          "output_type": "stream",
          "name": "stderr",
          "text": [
            "\rProcessing tweets:  72%|███████▏  | 411/568 [43:40<13:05,  5.00s/it]"
          ]
        },
        {
          "output_type": "stream",
          "name": "stdout",
          "text": [
            "\n",
            "[WARN] ❌ Failed to locate image element: 1608364937583419394\n",
            "\n",
            "[WARN] ❌ Failed to extract tweet text: 1608362808759951360\n"
          ]
        },
        {
          "output_type": "stream",
          "name": "stderr",
          "text": [
            "\rProcessing tweets:  73%|███████▎  | 412/568 [43:44<12:22,  4.76s/it]"
          ]
        },
        {
          "output_type": "stream",
          "name": "stdout",
          "text": [
            "\n",
            "[WARN] ❌ Failed to locate image element: 1608362808759951360\n",
            "\n",
            "[WARN] ❌ Failed to extract tweet text: 1608361429329141760\n"
          ]
        },
        {
          "output_type": "stream",
          "name": "stderr",
          "text": [
            "\rProcessing tweets:  73%|███████▎  | 413/568 [43:48<11:57,  4.63s/it]"
          ]
        },
        {
          "output_type": "stream",
          "name": "stdout",
          "text": [
            "\n",
            "[WARN] ❌ Failed to locate image element: 1608361429329141760\n",
            "\n",
            "[WARN] ❌ Failed to extract tweet text: 1608359905928577026\n"
          ]
        },
        {
          "output_type": "stream",
          "name": "stderr",
          "text": [
            "\rProcessing tweets:  73%|███████▎  | 414/568 [43:53<11:39,  4.54s/it]"
          ]
        },
        {
          "output_type": "stream",
          "name": "stdout",
          "text": [
            "\n",
            "[WARN] ❌ Failed to locate image element: 1608359905928577026\n",
            "\n",
            "[WARN] ❌ Failed to extract tweet text: 1608358318740758530\n",
            "\n",
            "[WARN] ❌ Failed to locate image element: 1608358318740758530\n",
            "♻️ Restarting driver after 5 consecutive failures...\n",
            "♻️ Driver restarted.\n"
          ]
        },
        {
          "output_type": "stream",
          "name": "stderr",
          "text": [
            "\rProcessing tweets:  73%|███████▎  | 415/568 [44:08<19:40,  7.72s/it]"
          ]
        },
        {
          "output_type": "stream",
          "name": "stdout",
          "text": [
            "\n",
            "[WARN] ❌ Failed to extract tweet text: 1608358247580291077\n"
          ]
        },
        {
          "output_type": "stream",
          "name": "stderr",
          "text": [
            "\rProcessing tweets:  73%|███████▎  | 416/568 [44:15<18:54,  7.47s/it]"
          ]
        },
        {
          "output_type": "stream",
          "name": "stdout",
          "text": [
            "\n",
            "[WARN] ❌ Failed to locate image element: 1608358247580291077\n",
            "\n",
            "[WARN] ❌ Failed to extract tweet text: 1608358166097543170\n"
          ]
        },
        {
          "output_type": "stream",
          "name": "stderr",
          "text": [
            "\rProcessing tweets:  73%|███████▎  | 417/568 [44:20<16:50,  6.69s/it]"
          ]
        },
        {
          "output_type": "stream",
          "name": "stdout",
          "text": [
            "\n",
            "[WARN] ❌ Failed to locate image element: 1608358166097543170\n",
            "\n",
            "[WARN] ❌ Failed to extract tweet text: 1608358051714662405\n"
          ]
        },
        {
          "output_type": "stream",
          "name": "stderr",
          "text": [
            "\rProcessing tweets:  74%|███████▎  | 418/568 [44:23<14:29,  5.80s/it]"
          ]
        },
        {
          "output_type": "stream",
          "name": "stdout",
          "text": [
            "\n",
            "[WARN] ❌ Failed to locate image element: 1608358051714662405\n",
            "\n",
            "[WARN] ❌ Failed to extract tweet text: 1608357380621844481\n"
          ]
        },
        {
          "output_type": "stream",
          "name": "stderr",
          "text": [
            "\rProcessing tweets:  74%|███████▍  | 419/568 [44:27<12:45,  5.14s/it]"
          ]
        },
        {
          "output_type": "stream",
          "name": "stdout",
          "text": [
            "\n",
            "[WARN] ❌ Failed to locate image element: 1608357380621844481\n",
            "\n",
            "[WARN] ❌ Failed to extract tweet text: 1608357148567736321\n",
            "\n",
            "[WARN] ❌ Failed to locate image element: 1608357148567736321\n",
            "\n",
            "📊 Summary of the last 10 requests:\n",
            "📝 Text success:  0/10\n",
            "🖼️  Image success: 0/10\n",
            "✅ Both success:  0/10\n",
            "\n",
            "♻️ Restarting driver after 5 consecutive failures...\n",
            "♻️ Driver restarted.\n",
            "♻️ Driver restarted.\n"
          ]
        },
        {
          "output_type": "stream",
          "name": "stderr",
          "text": [
            "\rProcessing tweets:  74%|███████▍  | 420/568 [45:14<43:59, 17.84s/it]"
          ]
        },
        {
          "output_type": "stream",
          "name": "stdout",
          "text": [
            "ALL_consecutive_failures: 10\n",
            "\n",
            "[WARN] ❌ Failed to extract tweet text: 1608356847597268998\n"
          ]
        },
        {
          "output_type": "stream",
          "name": "stderr",
          "text": [
            "\rProcessing tweets:  74%|███████▍  | 421/568 [45:21<35:39, 14.55s/it]"
          ]
        },
        {
          "output_type": "stream",
          "name": "stdout",
          "text": [
            "\n",
            "[WARN] ❌ Failed to locate image element: 1608356847597268998\n",
            "\n",
            "[WARN] ❌ Failed to extract tweet text: 1608354838445981698\n"
          ]
        },
        {
          "output_type": "stream",
          "name": "stderr",
          "text": [
            "\rProcessing tweets:  74%|███████▍  | 422/568 [45:27<28:50, 11.86s/it]"
          ]
        },
        {
          "output_type": "stream",
          "name": "stdout",
          "text": [
            "\n",
            "[WARN] ❌ Failed to locate image element: 1608354838445981698\n"
          ]
        },
        {
          "output_type": "stream",
          "name": "stderr",
          "text": [
            "\rProcessing tweets:  74%|███████▍  | 423/568 [45:29<21:58,  9.09s/it]"
          ]
        },
        {
          "output_type": "stream",
          "name": "stdout",
          "text": [
            "\n",
            "[WARN] ❌ Failed to extract tweet text: 1608351728386154496\n"
          ]
        },
        {
          "output_type": "stream",
          "name": "stderr",
          "text": [
            "\rProcessing tweets:  75%|███████▍  | 424/568 [45:33<17:57,  7.49s/it]"
          ]
        },
        {
          "output_type": "stream",
          "name": "stdout",
          "text": [
            "\n",
            "[WARN] ❌ Failed to locate image element: 1608351728386154496\n"
          ]
        },
        {
          "output_type": "stream",
          "name": "stderr",
          "text": [
            "\rProcessing tweets:  75%|███████▍  | 425/568 [45:35<13:54,  5.83s/it]"
          ]
        },
        {
          "output_type": "stream",
          "name": "stdout",
          "text": [
            "\n",
            "[WARN] ❌ Failed to extract tweet text: 1608351297027055617\n"
          ]
        },
        {
          "output_type": "stream",
          "name": "stderr",
          "text": [
            "\rProcessing tweets:  75%|███████▌  | 426/568 [45:39<12:16,  5.19s/it]"
          ]
        },
        {
          "output_type": "stream",
          "name": "stdout",
          "text": [
            "\n",
            "[WARN] ❌ Failed to locate image element: 1608351297027055617\n",
            "\n",
            "[WARN] ❌ Failed to extract tweet text: 1608351165837713408\n"
          ]
        },
        {
          "output_type": "stream",
          "name": "stderr",
          "text": [
            "\rProcessing tweets:  75%|███████▌  | 427/568 [45:43<11:34,  4.93s/it]"
          ]
        },
        {
          "output_type": "stream",
          "name": "stdout",
          "text": [
            "\n",
            "[WARN] ❌ Failed to locate image element: 1608351165837713408\n",
            "\n",
            "[WARN] ❌ Failed to extract tweet text: 1608351020781899776\n"
          ]
        },
        {
          "output_type": "stream",
          "name": "stderr",
          "text": [
            "\rProcessing tweets:  75%|███████▌  | 428/568 [45:47<10:59,  4.71s/it]"
          ]
        },
        {
          "output_type": "stream",
          "name": "stdout",
          "text": [
            "\n",
            "[WARN] ❌ Failed to locate image element: 1608351020781899776\n",
            "\n",
            "[WARN] ❌ Failed to extract tweet text: 1608350964297400320\n"
          ]
        },
        {
          "output_type": "stream",
          "name": "stderr",
          "text": [
            "\rProcessing tweets:  76%|███████▌  | 429/568 [45:51<10:19,  4.46s/it]"
          ]
        },
        {
          "output_type": "stream",
          "name": "stdout",
          "text": [
            "\n",
            "[WARN] ❌ Failed to locate image element: 1608350964297400320\n",
            "\n",
            "[WARN] ❌ Failed to extract tweet text: 1608350911847403521\n",
            "\n",
            "[WARN] ❌ Failed to locate image element: 1608350911847403521\n",
            "\n",
            "📊 Summary of the last 10 requests:\n",
            "📝 Text success:  2/10\n",
            "🖼️  Image success: 2/10\n",
            "✅ Both success:  2/10\n",
            "\n",
            "♻️ Restarting driver after 10 requests...\n",
            "♻️ Driver restarted.\n"
          ]
        },
        {
          "output_type": "stream",
          "name": "stderr",
          "text": [
            "\rProcessing tweets:  76%|███████▌  | 430/568 [46:11<21:07,  9.18s/it]"
          ]
        },
        {
          "output_type": "stream",
          "name": "stdout",
          "text": [
            "\n",
            "[WARN] ❌ Failed to extract tweet text: 1608350718741647360\n"
          ]
        },
        {
          "output_type": "stream",
          "name": "stderr",
          "text": [
            "\rProcessing tweets:  76%|███████▌  | 431/568 [46:18<18:51,  8.26s/it]"
          ]
        },
        {
          "output_type": "stream",
          "name": "stdout",
          "text": [
            "\n",
            "[WARN] ❌ Failed to locate image element: 1608350718741647360\n",
            "\n",
            "[WARN] ❌ Failed to extract tweet text: 1608350645957820416\n"
          ]
        },
        {
          "output_type": "stream",
          "name": "stderr",
          "text": [
            "\rProcessing tweets:  76%|███████▌  | 432/568 [46:23<16:44,  7.38s/it]"
          ]
        },
        {
          "output_type": "stream",
          "name": "stdout",
          "text": [
            "\n",
            "[WARN] ❌ Failed to locate image element: 1608350645957820416\n"
          ]
        },
        {
          "output_type": "stream",
          "name": "stderr",
          "text": [
            "\rProcessing tweets:  76%|███████▌  | 433/568 [46:26<13:25,  5.97s/it]"
          ]
        },
        {
          "output_type": "stream",
          "name": "stdout",
          "text": [
            "\n",
            "[WARN] ❌ Failed to extract tweet text: 1608350393792172032\n"
          ]
        },
        {
          "output_type": "stream",
          "name": "stderr",
          "text": [
            "\rProcessing tweets:  76%|███████▋  | 434/568 [46:29<11:47,  5.28s/it]"
          ]
        },
        {
          "output_type": "stream",
          "name": "stdout",
          "text": [
            "\n",
            "[WARN] ❌ Failed to locate image element: 1608350393792172032\n",
            "\n",
            "[WARN] ❌ Failed to extract tweet text: 1608350369096126464\n"
          ]
        },
        {
          "output_type": "stream",
          "name": "stderr",
          "text": [
            "\rProcessing tweets:  77%|███████▋  | 435/568 [46:33<10:34,  4.77s/it]"
          ]
        },
        {
          "output_type": "stream",
          "name": "stdout",
          "text": [
            "\n",
            "[WARN] ❌ Failed to locate image element: 1608350369096126464\n",
            "\n",
            "[WARN] ❌ Failed to extract tweet text: 1608350275462660097\n"
          ]
        },
        {
          "output_type": "stream",
          "name": "stderr",
          "text": [
            "\rProcessing tweets:  77%|███████▋  | 436/568 [46:37<09:49,  4.46s/it]"
          ]
        },
        {
          "output_type": "stream",
          "name": "stdout",
          "text": [
            "\n",
            "[WARN] ❌ Failed to locate image element: 1608350275462660097\n"
          ]
        },
        {
          "output_type": "stream",
          "name": "stderr",
          "text": [
            "\rProcessing tweets:  77%|███████▋  | 437/568 [46:40<09:02,  4.14s/it]"
          ]
        },
        {
          "output_type": "stream",
          "name": "stdout",
          "text": [
            "\n",
            "[WARN] ❌ Failed to extract tweet text: 1608349781608243200\n"
          ]
        },
        {
          "output_type": "stream",
          "name": "stderr",
          "text": [
            "\rProcessing tweets:  77%|███████▋  | 438/568 [46:44<09:04,  4.19s/it]"
          ]
        },
        {
          "output_type": "stream",
          "name": "stdout",
          "text": [
            "\n",
            "[WARN] ❌ Failed to locate image element: 1608349781608243200\n",
            "\n",
            "[WARN] ❌ Failed to extract tweet text: 1608349688150872065\n"
          ]
        },
        {
          "output_type": "stream",
          "name": "stderr",
          "text": [
            "\rProcessing tweets:  77%|███████▋  | 439/568 [46:49<09:01,  4.20s/it]"
          ]
        },
        {
          "output_type": "stream",
          "name": "stdout",
          "text": [
            "\n",
            "[WARN] ❌ Failed to locate image element: 1608349688150872065\n",
            "\n",
            "[WARN] ❌ Failed to extract tweet text: 1608349545557098496\n",
            "\n",
            "[WARN] ❌ Failed to locate image element: 1608349545557098496\n",
            "\n",
            "📊 Summary of the last 10 requests:\n",
            "📝 Text success:  2/10\n",
            "🖼️  Image success: 2/10\n",
            "✅ Both success:  2/10\n",
            "\n",
            "♻️ Restarting driver after 10 requests...\n",
            "♻️ Driver restarted.\n"
          ]
        },
        {
          "output_type": "stream",
          "name": "stderr",
          "text": [
            "\rProcessing tweets:  77%|███████▋  | 440/568 [47:09<19:06,  8.95s/it]"
          ]
        },
        {
          "output_type": "stream",
          "name": "stdout",
          "text": [
            "\n",
            "[WARN] ❌ Failed to extract tweet text: 1608348868529250304\n"
          ]
        },
        {
          "output_type": "stream",
          "name": "stderr",
          "text": [
            "\rProcessing tweets:  78%|███████▊  | 441/568 [47:13<16:13,  7.67s/it]"
          ]
        },
        {
          "output_type": "stream",
          "name": "stdout",
          "text": [
            "\n",
            "[WARN] ❌ Failed to locate image element: 1608348868529250304\n",
            "\n",
            "[WARN] ❌ Failed to extract tweet text: 1608348072706465793\n"
          ]
        },
        {
          "output_type": "stream",
          "name": "stderr",
          "text": [
            "\rProcessing tweets:  78%|███████▊  | 442/568 [47:18<14:07,  6.72s/it]"
          ]
        },
        {
          "output_type": "stream",
          "name": "stdout",
          "text": [
            "\n",
            "[WARN] ❌ Failed to locate image element: 1608348072706465793\n"
          ]
        },
        {
          "output_type": "stream",
          "name": "stderr",
          "text": [
            "\rProcessing tweets:  78%|███████▊  | 443/568 [47:22<12:24,  5.95s/it]"
          ]
        },
        {
          "output_type": "stream",
          "name": "stdout",
          "text": [
            "\n",
            "[WARN] ❌ Failed to extract tweet text: 1608343973407649796\n"
          ]
        },
        {
          "output_type": "stream",
          "name": "stderr",
          "text": [
            "\rProcessing tweets:  78%|███████▊  | 444/568 [47:26<11:13,  5.43s/it]"
          ]
        },
        {
          "output_type": "stream",
          "name": "stdout",
          "text": [
            "\n",
            "[WARN] ❌ Failed to locate image element: 1608343973407649796\n",
            "\n",
            "[WARN] ❌ Failed to extract tweet text: 1608343390109990913\n"
          ]
        },
        {
          "output_type": "stream",
          "name": "stderr",
          "text": [
            "\rProcessing tweets:  78%|███████▊  | 445/568 [47:30<10:17,  5.02s/it]"
          ]
        },
        {
          "output_type": "stream",
          "name": "stdout",
          "text": [
            "\n",
            "[WARN] ❌ Failed to locate image element: 1608343390109990913\n",
            "\n",
            "[WARN] ❌ Failed to extract tweet text: 1608342858422960128\n"
          ]
        },
        {
          "output_type": "stream",
          "name": "stderr",
          "text": [
            "\rProcessing tweets:  79%|███████▊  | 446/568 [47:34<09:42,  4.77s/it]"
          ]
        },
        {
          "output_type": "stream",
          "name": "stdout",
          "text": [
            "\n",
            "[WARN] ❌ Failed to locate image element: 1608342858422960128\n",
            "\n",
            "[WARN] ❌ Failed to extract tweet text: 1608341737633726465\n"
          ]
        },
        {
          "output_type": "stream",
          "name": "stderr",
          "text": [
            "\rProcessing tweets:  79%|███████▊  | 447/568 [47:38<08:58,  4.45s/it]"
          ]
        },
        {
          "output_type": "stream",
          "name": "stdout",
          "text": [
            "\n",
            "[WARN] ❌ Failed to locate image element: 1608341737633726465\n",
            "\n",
            "[WARN] ❌ Failed to extract tweet text: 1608340979966173184\n",
            "\n",
            "[WARN] ❌ Failed to locate image element: 1608340979966173184\n",
            "♻️ Restarting driver after 5 consecutive failures...\n",
            "♻️ Driver restarted.\n"
          ]
        },
        {
          "output_type": "stream",
          "name": "stderr",
          "text": [
            "\rProcessing tweets:  79%|███████▉  | 448/568 [47:53<15:11,  7.60s/it]"
          ]
        },
        {
          "output_type": "stream",
          "name": "stdout",
          "text": [
            "\n",
            "[WARN] ❌ Failed to extract tweet text: 1608338775427497985\n"
          ]
        },
        {
          "output_type": "stream",
          "name": "stderr",
          "text": [
            "\rProcessing tweets:  79%|███████▉  | 449/568 [47:59<14:10,  7.15s/it]"
          ]
        },
        {
          "output_type": "stream",
          "name": "stdout",
          "text": [
            "\n",
            "[WARN] ❌ Failed to locate image element: 1608338775427497985\n",
            "\n",
            "[WARN] ❌ Failed to extract tweet text: 1608335760113172481\n"
          ]
        },
        {
          "output_type": "stream",
          "name": "stderr",
          "text": [
            "\rProcessing tweets:  79%|███████▉  | 450/568 [48:04<12:57,  6.59s/it]"
          ]
        },
        {
          "output_type": "stream",
          "name": "stdout",
          "text": [
            "\n",
            "[WARN] ❌ Failed to locate image element: 1608335760113172481\n",
            "\n",
            "📊 Summary of the last 10 requests:\n",
            "📝 Text success:  1/10\n",
            "🖼️  Image success: 1/10\n",
            "✅ Both success:  1/10\n",
            "\n",
            "\n",
            "[WARN] ❌ Failed to extract tweet text: 1608335168909213697\n"
          ]
        },
        {
          "output_type": "stream",
          "name": "stderr",
          "text": [
            "\rProcessing tweets:  79%|███████▉  | 451/568 [48:08<11:08,  5.72s/it]"
          ]
        },
        {
          "output_type": "stream",
          "name": "stdout",
          "text": [
            "\n",
            "[WARN] ❌ Failed to locate image element: 1608335168909213697\n"
          ]
        },
        {
          "output_type": "stream",
          "name": "stderr",
          "text": [
            "Processing tweets:  80%|███████▉  | 453/568 [48:15<08:40,  4.53s/it]"
          ]
        },
        {
          "output_type": "stream",
          "name": "stdout",
          "text": [
            "\n",
            "[WARN] ❌ Failed to extract tweet text: 1608330344868061185\n"
          ]
        },
        {
          "output_type": "stream",
          "name": "stderr",
          "text": [
            "\rProcessing tweets:  80%|███████▉  | 454/568 [48:19<08:32,  4.49s/it]"
          ]
        },
        {
          "output_type": "stream",
          "name": "stdout",
          "text": [
            "\n",
            "[WARN] ❌ Failed to locate image element: 1608330344868061185\n",
            "\n",
            "[WARN] ❌ Failed to extract tweet text: 1608330168388419585\n"
          ]
        },
        {
          "output_type": "stream",
          "name": "stderr",
          "text": [
            "\rProcessing tweets:  80%|████████  | 455/568 [48:23<08:18,  4.41s/it]"
          ]
        },
        {
          "output_type": "stream",
          "name": "stdout",
          "text": [
            "\n",
            "[WARN] ❌ Failed to locate image element: 1608330168388419585\n",
            "\n",
            "[WARN] ❌ Failed to extract tweet text: 1608327458952212480\n"
          ]
        },
        {
          "output_type": "stream",
          "name": "stderr",
          "text": [
            "\rProcessing tweets:  80%|████████  | 456/568 [48:27<07:48,  4.19s/it]"
          ]
        },
        {
          "output_type": "stream",
          "name": "stdout",
          "text": [
            "\n",
            "[WARN] ❌ Failed to locate image element: 1608327458952212480\n",
            "\n",
            "[WARN] ❌ Failed to extract tweet text: 1608327073394819073\n"
          ]
        },
        {
          "output_type": "stream",
          "name": "stderr",
          "text": [
            "\rProcessing tweets:  80%|████████  | 457/568 [48:31<07:26,  4.02s/it]"
          ]
        },
        {
          "output_type": "stream",
          "name": "stdout",
          "text": [
            "\n",
            "[WARN] ❌ Failed to locate image element: 1608327073394819073\n",
            "\n",
            "[WARN] ❌ Failed to extract tweet text: 1608326168419401729\n",
            "\n",
            "[WARN] ❌ Failed to locate image element: 1608326168419401729\n",
            "♻️ Restarting driver after 10 requests...\n",
            "♻️ Driver restarted.\n"
          ]
        },
        {
          "output_type": "stream",
          "name": "stderr",
          "text": [
            "\rProcessing tweets:  81%|████████  | 458/568 [48:52<16:53,  9.21s/it]"
          ]
        },
        {
          "output_type": "stream",
          "name": "stdout",
          "text": [
            "\n",
            "[WARN] ❌ Failed to extract tweet text: 1608325803187621888\n"
          ]
        },
        {
          "output_type": "stream",
          "name": "stderr",
          "text": [
            "\rProcessing tweets:  81%|████████  | 459/568 [48:58<14:41,  8.09s/it]"
          ]
        },
        {
          "output_type": "stream",
          "name": "stdout",
          "text": [
            "\n",
            "[WARN] ❌ Failed to locate image element: 1608325803187621888\n",
            "\n",
            "[WARN] ❌ Failed to extract tweet text: 1608325664909705217\n"
          ]
        },
        {
          "output_type": "stream",
          "name": "stderr",
          "text": [
            "\rProcessing tweets:  81%|████████  | 460/568 [49:06<14:48,  8.23s/it]"
          ]
        },
        {
          "output_type": "stream",
          "name": "stdout",
          "text": [
            "\n",
            "[WARN] ❌ Failed to locate image element: 1608325664909705217\n",
            "\n",
            "📊 Summary of the last 10 requests:\n",
            "📝 Text success:  2/10\n",
            "🖼️  Image success: 2/10\n",
            "✅ Both success:  2/10\n",
            "\n",
            "\n",
            "[WARN] ❌ Failed to extract tweet text: 1608325534513074179\n"
          ]
        },
        {
          "output_type": "stream",
          "name": "stderr",
          "text": [
            "Processing tweets:  81%|████████▏ | 462/568 [49:17<11:33,  6.54s/it]"
          ]
        },
        {
          "output_type": "stream",
          "name": "stdout",
          "text": [
            "\n",
            "[WARN] ❌ Failed to extract tweet text: 1608323298751922177\n"
          ]
        },
        {
          "output_type": "stream",
          "name": "stderr",
          "text": [
            "\rProcessing tweets:  82%|████████▏ | 463/568 [49:20<10:02,  5.73s/it]"
          ]
        },
        {
          "output_type": "stream",
          "name": "stdout",
          "text": [
            "\n",
            "[WARN] ❌ Failed to locate image element: 1608323298751922177\n",
            "\n",
            "[WARN] ❌ Failed to extract tweet text: 1608320595254734850\n"
          ]
        },
        {
          "output_type": "stream",
          "name": "stderr",
          "text": [
            "\rProcessing tweets:  82%|████████▏ | 464/568 [49:24<08:50,  5.10s/it]"
          ]
        },
        {
          "output_type": "stream",
          "name": "stdout",
          "text": [
            "\n",
            "[WARN] ❌ Failed to locate image element: 1608320595254734850\n"
          ]
        },
        {
          "output_type": "stream",
          "name": "stderr",
          "text": [
            "Processing tweets:  82%|████████▏ | 466/568 [49:28<06:09,  3.62s/it]"
          ]
        },
        {
          "output_type": "stream",
          "name": "stdout",
          "text": [
            "\n",
            "[WARN] ❌ Failed to extract tweet text: 1608319839311122434\n"
          ]
        },
        {
          "output_type": "stream",
          "name": "stderr",
          "text": [
            "\rProcessing tweets:  82%|████████▏ | 467/568 [49:34<06:56,  4.13s/it]"
          ]
        },
        {
          "output_type": "stream",
          "name": "stdout",
          "text": [
            "\n",
            "[WARN] ❌ Failed to locate image element: 1608319839311122434\n",
            "♻️ Restarting driver after 10 requests...\n",
            "♻️ Driver restarted.\n"
          ]
        },
        {
          "output_type": "stream",
          "name": "stderr",
          "text": [
            "\rProcessing tweets:  82%|████████▏ | 468/568 [49:55<15:34,  9.35s/it]"
          ]
        },
        {
          "output_type": "stream",
          "name": "stdout",
          "text": [
            "\n",
            "[WARN] ❌ Failed to extract tweet text: 1608312625691066375\n"
          ]
        },
        {
          "output_type": "stream",
          "name": "stderr",
          "text": [
            "\rProcessing tweets:  83%|████████▎ | 469/568 [50:00<13:19,  8.08s/it]"
          ]
        },
        {
          "output_type": "stream",
          "name": "stdout",
          "text": [
            "\n",
            "[WARN] ❌ Failed to locate image element: 1608312625691066375\n",
            "\n",
            "[WARN] ❌ Failed to extract tweet text: 1608311900584177669\n"
          ]
        },
        {
          "output_type": "stream",
          "name": "stderr",
          "text": [
            "\rProcessing tweets:  83%|████████▎ | 470/568 [50:06<11:56,  7.31s/it]"
          ]
        },
        {
          "output_type": "stream",
          "name": "stdout",
          "text": [
            "\n",
            "[WARN] ❌ Failed to locate image element: 1608311900584177669\n",
            "\n",
            "📊 Summary of the last 10 requests:\n",
            "📝 Text success:  4/10\n",
            "🖼️  Image success: 5/10\n",
            "✅ Both success:  4/10\n",
            "\n"
          ]
        },
        {
          "output_type": "stream",
          "name": "stderr",
          "text": [
            "\rProcessing tweets:  83%|████████▎ | 471/568 [50:09<09:57,  6.16s/it]"
          ]
        },
        {
          "output_type": "stream",
          "name": "stdout",
          "text": [
            "\n",
            "[WARN] ❌ Failed to extract tweet text: 1608309060709015552\n"
          ]
        },
        {
          "output_type": "stream",
          "name": "stderr",
          "text": [
            "\rProcessing tweets:  83%|████████▎ | 472/568 [50:14<08:54,  5.57s/it]"
          ]
        },
        {
          "output_type": "stream",
          "name": "stdout",
          "text": [
            "\n",
            "[WARN] ❌ Failed to locate image element: 1608309060709015552\n",
            "\n",
            "[WARN] ❌ Failed to extract tweet text: 1608308538140680193\n"
          ]
        },
        {
          "output_type": "stream",
          "name": "stderr",
          "text": [
            "\rProcessing tweets:  83%|████████▎ | 473/568 [50:17<07:55,  5.00s/it]"
          ]
        },
        {
          "output_type": "stream",
          "name": "stdout",
          "text": [
            "\n",
            "[WARN] ❌ Failed to locate image element: 1608308538140680193\n"
          ]
        },
        {
          "output_type": "stream",
          "name": "stderr",
          "text": [
            "\rProcessing tweets:  83%|████████▎ | 474/568 [50:19<06:27,  4.12s/it]"
          ]
        },
        {
          "output_type": "stream",
          "name": "stdout",
          "text": [
            "\n",
            "[WARN] ❌ Failed to extract tweet text: 1608307821522702337\n"
          ]
        },
        {
          "output_type": "stream",
          "name": "stderr",
          "text": [
            "\rProcessing tweets:  84%|████████▎ | 475/568 [50:23<06:16,  4.05s/it]"
          ]
        },
        {
          "output_type": "stream",
          "name": "stdout",
          "text": [
            "\n",
            "[WARN] ❌ Failed to locate image element: 1608307821522702337\n",
            "\n",
            "[WARN] ❌ Failed to extract tweet text: 1608306170506407937\n"
          ]
        },
        {
          "output_type": "stream",
          "name": "stderr",
          "text": [
            "\rProcessing tweets:  84%|████████▍ | 476/568 [50:27<06:09,  4.02s/it]"
          ]
        },
        {
          "output_type": "stream",
          "name": "stdout",
          "text": [
            "\n",
            "[WARN] ❌ Failed to locate image element: 1608306170506407937\n",
            "\n",
            "[WARN] ❌ Failed to extract tweet text: 1608304969991753728\n"
          ]
        },
        {
          "output_type": "stream",
          "name": "stderr",
          "text": [
            "\rProcessing tweets:  84%|████████▍ | 477/568 [50:31<06:13,  4.11s/it]"
          ]
        },
        {
          "output_type": "stream",
          "name": "stdout",
          "text": [
            "\n",
            "[WARN] ❌ Failed to locate image element: 1608304969991753728\n",
            "♻️ Restarting driver after 10 requests...\n",
            "♻️ Driver restarted.\n"
          ]
        },
        {
          "output_type": "stream",
          "name": "stderr",
          "text": [
            "\rProcessing tweets:  84%|████████▍ | 478/568 [50:51<13:18,  8.88s/it]"
          ]
        },
        {
          "output_type": "stream",
          "name": "stdout",
          "text": [
            "\n",
            "[WARN] ❌ Failed to extract tweet text: 1608303522235453440\n"
          ]
        },
        {
          "output_type": "stream",
          "name": "stderr",
          "text": [
            "\rProcessing tweets:  84%|████████▍ | 479/568 [50:58<12:07,  8.17s/it]"
          ]
        },
        {
          "output_type": "stream",
          "name": "stdout",
          "text": [
            "\n",
            "[WARN] ❌ Failed to locate image element: 1608303522235453440\n",
            "\n",
            "[WARN] ❌ Failed to extract tweet text: 1608303505034416128\n"
          ]
        },
        {
          "output_type": "stream",
          "name": "stderr",
          "text": [
            "\rProcessing tweets:  85%|████████▍ | 480/568 [51:03<10:38,  7.25s/it]"
          ]
        },
        {
          "output_type": "stream",
          "name": "stdout",
          "text": [
            "\n",
            "[WARN] ❌ Failed to locate image element: 1608303505034416128\n",
            "\n",
            "📊 Summary of the last 10 requests:\n",
            "📝 Text success:  3/10\n",
            "🖼️  Image success: 3/10\n",
            "✅ Both success:  3/10\n",
            "\n",
            "\n",
            "[WARN] ❌ Failed to extract tweet text: 1608303480283824130\n"
          ]
        },
        {
          "output_type": "stream",
          "name": "stderr",
          "text": [
            "\rProcessing tweets:  85%|████████▍ | 481/568 [51:07<09:11,  6.34s/it]"
          ]
        },
        {
          "output_type": "stream",
          "name": "stdout",
          "text": [
            "\n",
            "[WARN] ❌ Failed to locate image element: 1608303480283824130\n",
            "\n",
            "[WARN] ❌ Failed to extract tweet text: 1608302878099128320\n"
          ]
        },
        {
          "output_type": "stream",
          "name": "stderr",
          "text": [
            "\rProcessing tweets:  85%|████████▍ | 482/568 [51:11<07:54,  5.52s/it]"
          ]
        },
        {
          "output_type": "stream",
          "name": "stdout",
          "text": [
            "\n",
            "[WARN] ❌ Failed to locate image element: 1608302878099128320\n",
            "\n",
            "[WARN] ❌ Failed to extract tweet text: 1608302000328040451\n",
            "\n",
            "[WARN] ❌ Failed to locate image element: 1608302000328040451\n",
            "♻️ Restarting driver after 5 consecutive failures...\n",
            "♻️ Driver restarted.\n"
          ]
        },
        {
          "output_type": "stream",
          "name": "stderr",
          "text": [
            "\rProcessing tweets:  85%|████████▌ | 483/568 [51:26<11:52,  8.38s/it]"
          ]
        },
        {
          "output_type": "stream",
          "name": "stdout",
          "text": [
            "\n",
            "[WARN] ❌ Failed to extract tweet text: 1608301746694287361\n"
          ]
        },
        {
          "output_type": "stream",
          "name": "stderr",
          "text": [
            "\rProcessing tweets:  85%|████████▌ | 484/568 [51:32<10:38,  7.61s/it]"
          ]
        },
        {
          "output_type": "stream",
          "name": "stdout",
          "text": [
            "\n",
            "[WARN] ❌ Failed to locate image element: 1608301746694287361\n",
            "\n",
            "[WARN] ❌ Failed to extract tweet text: 1608301370716852225\n"
          ]
        },
        {
          "output_type": "stream",
          "name": "stderr",
          "text": [
            "\rProcessing tweets:  85%|████████▌ | 485/568 [51:36<09:13,  6.66s/it]"
          ]
        },
        {
          "output_type": "stream",
          "name": "stdout",
          "text": [
            "\n",
            "[WARN] ❌ Failed to locate image element: 1608301370716852225\n"
          ]
        },
        {
          "output_type": "stream",
          "name": "stderr",
          "text": [
            "Processing tweets:  86%|████████▋ | 490/568 [51:53<04:50,  3.72s/it]"
          ]
        },
        {
          "output_type": "stream",
          "name": "stdout",
          "text": [
            "\n",
            "📊 Summary of the last 10 requests:\n",
            "📝 Text success:  5/10\n",
            "🖼️  Image success: 5/10\n",
            "✅ Both success:  5/10\n",
            "\n",
            "\n",
            "[WARN] ❌ Failed to extract tweet text: 1608296983818641410\n"
          ]
        },
        {
          "output_type": "stream",
          "name": "stderr",
          "text": [
            "\rProcessing tweets:  86%|████████▋ | 491/568 [51:57<04:58,  3.87s/it]"
          ]
        },
        {
          "output_type": "stream",
          "name": "stdout",
          "text": [
            "\n",
            "[WARN] ❌ Failed to locate image element: 1608296983818641410\n",
            "\n",
            "[WARN] ❌ Failed to extract tweet text: 1608296554850549762\n"
          ]
        },
        {
          "output_type": "stream",
          "name": "stderr",
          "text": [
            "\rProcessing tweets:  87%|████████▋ | 492/568 [52:01<04:48,  3.79s/it]"
          ]
        },
        {
          "output_type": "stream",
          "name": "stdout",
          "text": [
            "\n",
            "[WARN] ❌ Failed to locate image element: 1608296554850549762\n",
            "\n",
            "[WARN] ❌ Failed to extract tweet text: 1608295220734750721\n",
            "\n",
            "[WARN] ❌ Failed to locate image element: 1608295220734750721\n",
            "♻️ Restarting driver after 10 requests...\n",
            "♻️ Driver restarted.\n"
          ]
        },
        {
          "output_type": "stream",
          "name": "stderr",
          "text": [
            "\rProcessing tweets:  87%|████████▋ | 493/568 [52:20<10:45,  8.60s/it]"
          ]
        },
        {
          "output_type": "stream",
          "name": "stdout",
          "text": [
            "\n",
            "[WARN] ❌ Failed to extract tweet text: 1608294614972395520\n"
          ]
        },
        {
          "output_type": "stream",
          "name": "stderr",
          "text": [
            "\rProcessing tweets:  87%|████████▋ | 494/568 [52:25<09:15,  7.51s/it]"
          ]
        },
        {
          "output_type": "stream",
          "name": "stdout",
          "text": [
            "\n",
            "[WARN] ❌ Failed to locate image element: 1608294614972395520\n",
            "\n",
            "[WARN] ❌ Failed to extract tweet text: 1608293602748145664\n"
          ]
        },
        {
          "output_type": "stream",
          "name": "stderr",
          "text": [
            "\rProcessing tweets:  87%|████████▋ | 495/568 [52:30<08:06,  6.67s/it]"
          ]
        },
        {
          "output_type": "stream",
          "name": "stdout",
          "text": [
            "\n",
            "[WARN] ❌ Failed to locate image element: 1608293602748145664\n",
            "\n",
            "[WARN] ❌ Failed to extract tweet text: 1608293370975379458\n"
          ]
        },
        {
          "output_type": "stream",
          "name": "stderr",
          "text": [
            "\rProcessing tweets:  87%|████████▋ | 496/568 [52:34<07:07,  5.94s/it]"
          ]
        },
        {
          "output_type": "stream",
          "name": "stdout",
          "text": [
            "\n",
            "[WARN] ❌ Failed to locate image element: 1608293370975379458\n",
            "\n",
            "[WARN] ❌ Failed to extract tweet text: 1608292847765135363\n"
          ]
        },
        {
          "output_type": "stream",
          "name": "stderr",
          "text": [
            "\rProcessing tweets:  88%|████████▊ | 497/568 [52:39<06:28,  5.47s/it]"
          ]
        },
        {
          "output_type": "stream",
          "name": "stdout",
          "text": [
            "\n",
            "[WARN] ❌ Failed to locate image element: 1608292847765135363\n",
            "\n",
            "[WARN] ❌ Failed to extract tweet text: 1608292306922377217\n",
            "\n",
            "[WARN] ❌ Failed to locate image element: 1608292306922377217\n",
            "♻️ Restarting driver after 5 consecutive failures...\n",
            "♻️ Driver restarted.\n"
          ]
        },
        {
          "output_type": "stream",
          "name": "stderr",
          "text": [
            "\rProcessing tweets:  88%|████████▊ | 498/568 [52:54<09:53,  8.48s/it]"
          ]
        },
        {
          "output_type": "stream",
          "name": "stdout",
          "text": [
            "\n",
            "[WARN] ❌ Failed to extract tweet text: 1608292123794870274\n"
          ]
        },
        {
          "output_type": "stream",
          "name": "stderr",
          "text": [
            "\rProcessing tweets:  88%|████████▊ | 499/568 [53:01<09:08,  7.95s/it]"
          ]
        },
        {
          "output_type": "stream",
          "name": "stdout",
          "text": [
            "\n",
            "[WARN] ❌ Failed to locate image element: 1608292123794870274\n",
            "\n",
            "[WARN] ❌ Failed to extract tweet text: 1608292071764525057\n"
          ]
        },
        {
          "output_type": "stream",
          "name": "stderr",
          "text": [
            "\rProcessing tweets:  88%|████████▊ | 500/568 [53:06<07:58,  7.03s/it]"
          ]
        },
        {
          "output_type": "stream",
          "name": "stdout",
          "text": [
            "\n",
            "[WARN] ❌ Failed to locate image element: 1608292071764525057\n",
            "\n",
            "📊 Summary of the last 10 requests:\n",
            "📝 Text success:  0/10\n",
            "🖼️  Image success: 0/10\n",
            "✅ Both success:  0/10\n",
            "\n",
            "\n",
            "[WARN] ❌ Failed to extract tweet text: 1608291234321240065\n"
          ]
        },
        {
          "output_type": "stream",
          "name": "stderr",
          "text": [
            "\rProcessing tweets:  88%|████████▊ | 501/568 [53:10<06:54,  6.18s/it]"
          ]
        },
        {
          "output_type": "stream",
          "name": "stdout",
          "text": [
            "\n",
            "[WARN] ❌ Failed to locate image element: 1608291234321240065\n",
            "\n",
            "[WARN] ❌ Failed to extract tweet text: 1608289873525637121\n"
          ]
        },
        {
          "output_type": "stream",
          "name": "stderr",
          "text": [
            "\rProcessing tweets:  88%|████████▊ | 502/568 [53:14<05:56,  5.40s/it]"
          ]
        },
        {
          "output_type": "stream",
          "name": "stdout",
          "text": [
            "\n",
            "[WARN] ❌ Failed to locate image element: 1608289873525637121\n"
          ]
        },
        {
          "output_type": "stream",
          "name": "stderr",
          "text": [
            "Processing tweets:  89%|████████▉ | 507/568 [53:29<03:47,  3.73s/it]"
          ]
        },
        {
          "output_type": "stream",
          "name": "stdout",
          "text": [
            "♻️ Restarting driver after 10 requests...\n",
            "♻️ Driver restarted.\n"
          ]
        },
        {
          "output_type": "stream",
          "name": "stderr",
          "text": [
            "\rProcessing tweets:  89%|████████▉ | 508/568 [53:50<08:51,  8.87s/it]"
          ]
        },
        {
          "output_type": "stream",
          "name": "stdout",
          "text": [
            "\n",
            "[WARN] ❌ Failed to extract tweet text: 1608280419732197381\n"
          ]
        },
        {
          "output_type": "stream",
          "name": "stderr",
          "text": [
            "\rProcessing tweets:  90%|████████▉ | 509/568 [53:56<07:55,  8.06s/it]"
          ]
        },
        {
          "output_type": "stream",
          "name": "stdout",
          "text": [
            "\n",
            "[WARN] ❌ Failed to locate image element: 1608280419732197381\n"
          ]
        },
        {
          "output_type": "stream",
          "name": "stderr",
          "text": [
            "\rProcessing tweets:  90%|████████▉ | 510/568 [54:02<07:01,  7.27s/it]"
          ]
        },
        {
          "output_type": "stream",
          "name": "stdout",
          "text": [
            "\n",
            "📊 Summary of the last 10 requests:\n",
            "📝 Text success:  7/10\n",
            "🖼️  Image success: 7/10\n",
            "✅ Both success:  7/10\n",
            "\n"
          ]
        },
        {
          "output_type": "stream",
          "name": "stderr",
          "text": [
            "Processing tweets:  90%|█████████ | 514/568 [54:14<03:31,  3.92s/it]"
          ]
        },
        {
          "output_type": "stream",
          "name": "stdout",
          "text": [
            "\n",
            "[WARN] ❌ Failed to extract tweet text: 1608277804965298176\n"
          ]
        },
        {
          "output_type": "stream",
          "name": "stderr",
          "text": [
            "\rProcessing tweets:  91%|█████████ | 515/568 [54:18<03:22,  3.81s/it]"
          ]
        },
        {
          "output_type": "stream",
          "name": "stdout",
          "text": [
            "\n",
            "[WARN] ❌ Failed to locate image element: 1608277804965298176\n",
            "\n",
            "[WARN] ❌ Failed to extract tweet text: 1608277496650235907\n"
          ]
        },
        {
          "output_type": "stream",
          "name": "stderr",
          "text": [
            "\rProcessing tweets:  91%|█████████ | 516/568 [54:21<03:14,  3.73s/it]"
          ]
        },
        {
          "output_type": "stream",
          "name": "stdout",
          "text": [
            "\n",
            "[WARN] ❌ Failed to locate image element: 1608277496650235907\n",
            "\n",
            "[WARN] ❌ Failed to extract tweet text: 1608274775390195712\n"
          ]
        },
        {
          "output_type": "stream",
          "name": "stderr",
          "text": [
            "\rProcessing tweets:  91%|█████████ | 517/568 [54:25<03:17,  3.87s/it]"
          ]
        },
        {
          "output_type": "stream",
          "name": "stdout",
          "text": [
            "\n",
            "[WARN] ❌ Failed to locate image element: 1608274775390195712\n",
            "♻️ Restarting driver after 10 requests...\n",
            "♻️ Driver restarted.\n"
          ]
        },
        {
          "output_type": "stream",
          "name": "stderr",
          "text": [
            "\rProcessing tweets:  91%|█████████ | 518/568 [54:45<07:11,  8.64s/it]"
          ]
        },
        {
          "output_type": "stream",
          "name": "stdout",
          "text": [
            "\n",
            "[WARN] ❌ Failed to extract tweet text: 1608273280712015874\n"
          ]
        },
        {
          "output_type": "stream",
          "name": "stderr",
          "text": [
            "\rProcessing tweets:  91%|█████████▏| 519/568 [54:51<06:24,  7.85s/it]"
          ]
        },
        {
          "output_type": "stream",
          "name": "stdout",
          "text": [
            "\n",
            "[WARN] ❌ Failed to locate image element: 1608273280712015874\n",
            "\n",
            "[WARN] ❌ Failed to extract tweet text: 1608272489901355008\n"
          ]
        },
        {
          "output_type": "stream",
          "name": "stderr",
          "text": [
            "\rProcessing tweets:  92%|█████████▏| 520/568 [54:58<05:58,  7.47s/it]"
          ]
        },
        {
          "output_type": "stream",
          "name": "stdout",
          "text": [
            "\n",
            "[WARN] ❌ Failed to locate image element: 1608272489901355008\n",
            "\n",
            "📊 Summary of the last 10 requests:\n",
            "📝 Text success:  5/10\n",
            "🖼️  Image success: 5/10\n",
            "✅ Both success:  5/10\n",
            "\n"
          ]
        },
        {
          "output_type": "stream",
          "name": "stderr",
          "text": [
            "Processing tweets:  92%|█████████▏| 525/568 [55:09<02:18,  3.21s/it]"
          ]
        },
        {
          "output_type": "stream",
          "name": "stdout",
          "text": [
            "\n",
            "[WARN] ❌ Failed to extract tweet text: 1608270820379615232\n"
          ]
        },
        {
          "output_type": "stream",
          "name": "stderr",
          "text": [
            "\rProcessing tweets:  93%|█████████▎| 526/568 [55:13<02:23,  3.41s/it]"
          ]
        },
        {
          "output_type": "stream",
          "name": "stdout",
          "text": [
            "\n",
            "[WARN] ❌ Failed to locate image element: 1608270820379615232\n"
          ]
        },
        {
          "output_type": "stream",
          "name": "stderr",
          "text": [
            "\rProcessing tweets:  93%|█████████▎| 527/568 [55:17<02:23,  3.49s/it]"
          ]
        },
        {
          "output_type": "stream",
          "name": "stdout",
          "text": [
            "♻️ Restarting driver after 10 requests...\n",
            "♻️ Driver restarted.\n"
          ]
        },
        {
          "output_type": "stream",
          "name": "stderr",
          "text": [
            "\rProcessing tweets:  93%|█████████▎| 528/568 [55:37<05:38,  8.47s/it]"
          ]
        },
        {
          "output_type": "stream",
          "name": "stdout",
          "text": [
            "\n",
            "[WARN] ❌ Failed to extract tweet text: 1608270115073822721\n"
          ]
        },
        {
          "output_type": "stream",
          "name": "stderr",
          "text": [
            "\rProcessing tweets:  93%|█████████▎| 529/568 [55:43<05:01,  7.73s/it]"
          ]
        },
        {
          "output_type": "stream",
          "name": "stdout",
          "text": [
            "\n",
            "[WARN] ❌ Failed to locate image element: 1608270115073822721\n"
          ]
        },
        {
          "output_type": "stream",
          "name": "stderr",
          "text": [
            "\rProcessing tweets:  93%|█████████▎| 530/568 [55:48<04:21,  6.89s/it]"
          ]
        },
        {
          "output_type": "stream",
          "name": "stdout",
          "text": [
            "\n",
            "📊 Summary of the last 10 requests:\n",
            "📝 Text success:  8/10\n",
            "🖼️  Image success: 8/10\n",
            "✅ Both success:  8/10\n",
            "\n"
          ]
        },
        {
          "output_type": "stream",
          "name": "stderr",
          "text": [
            "Processing tweets:  94%|█████████▍| 533/568 [55:57<02:28,  4.25s/it]"
          ]
        },
        {
          "output_type": "stream",
          "name": "stdout",
          "text": [
            "\n",
            "[WARN] ❌ Failed to extract tweet text: 1608265591353401344\n"
          ]
        },
        {
          "output_type": "stream",
          "name": "stderr",
          "text": [
            "\rProcessing tweets:  94%|█████████▍| 534/568 [56:00<02:18,  4.08s/it]"
          ]
        },
        {
          "output_type": "stream",
          "name": "stdout",
          "text": [
            "\n",
            "[WARN] ❌ Failed to locate image element: 1608265591353401344\n",
            "\n",
            "[WARN] ❌ Failed to extract tweet text: 1608264188442595332\n"
          ]
        },
        {
          "output_type": "stream",
          "name": "stderr",
          "text": [
            "\rProcessing tweets:  94%|█████████▍| 535/568 [56:04<02:09,  3.92s/it]"
          ]
        },
        {
          "output_type": "stream",
          "name": "stdout",
          "text": [
            "\n",
            "[WARN] ❌ Failed to locate image element: 1608264188442595332\n",
            "\n",
            "[WARN] ❌ Failed to extract tweet text: 1608264113297461248\n"
          ]
        },
        {
          "output_type": "stream",
          "name": "stderr",
          "text": [
            "\rProcessing tweets:  94%|█████████▍| 536/568 [56:08<02:02,  3.82s/it]"
          ]
        },
        {
          "output_type": "stream",
          "name": "stdout",
          "text": [
            "\n",
            "[WARN] ❌ Failed to locate image element: 1608264113297461248\n",
            "\n",
            "[WARN] ❌ Failed to extract tweet text: 1608262019613970433\n"
          ]
        },
        {
          "output_type": "stream",
          "name": "stderr",
          "text": [
            "\rProcessing tweets:  95%|█████████▍| 537/568 [56:12<02:02,  3.96s/it]"
          ]
        },
        {
          "output_type": "stream",
          "name": "stdout",
          "text": [
            "\n",
            "[WARN] ❌ Failed to locate image element: 1608262019613970433\n",
            "\n",
            "[WARN] ❌ Failed to extract tweet text: 1608259754731933697\n",
            "\n",
            "[WARN] ❌ Failed to locate image element: 1608259754731933697\n",
            "♻️ Restarting driver after 10 requests...\n",
            "♻️ Driver restarted.\n"
          ]
        },
        {
          "output_type": "stream",
          "name": "stderr",
          "text": [
            "\rProcessing tweets:  95%|█████████▍| 538/568 [56:33<04:29,  8.97s/it]"
          ]
        },
        {
          "output_type": "stream",
          "name": "stdout",
          "text": [
            "\n",
            "[WARN] ❌ Failed to extract tweet text: 1608259740123136000\n"
          ]
        },
        {
          "output_type": "stream",
          "name": "stderr",
          "text": [
            "\rProcessing tweets:  95%|█████████▍| 539/568 [56:38<03:51,  8.00s/it]"
          ]
        },
        {
          "output_type": "stream",
          "name": "stdout",
          "text": [
            "\n",
            "[WARN] ❌ Failed to locate image element: 1608259740123136000\n",
            "\n",
            "[WARN] ❌ Failed to extract tweet text: 1608259727930322945\n"
          ]
        },
        {
          "output_type": "stream",
          "name": "stderr",
          "text": [
            "\rProcessing tweets:  95%|█████████▌| 540/568 [56:43<03:17,  7.05s/it]"
          ]
        },
        {
          "output_type": "stream",
          "name": "stdout",
          "text": [
            "\n",
            "[WARN] ❌ Failed to locate image element: 1608259727930322945\n",
            "\n",
            "📊 Summary of the last 10 requests:\n",
            "📝 Text success:  3/10\n",
            "🖼️  Image success: 3/10\n",
            "✅ Both success:  3/10\n",
            "\n",
            "\n",
            "[WARN] ❌ Failed to extract tweet text: 1608259724595843072\n"
          ]
        },
        {
          "output_type": "stream",
          "name": "stderr",
          "text": [
            "\rProcessing tweets:  95%|█████████▌| 541/568 [56:47<02:46,  6.17s/it]"
          ]
        },
        {
          "output_type": "stream",
          "name": "stdout",
          "text": [
            "\n",
            "[WARN] ❌ Failed to locate image element: 1608259724595843072\n",
            "\n",
            "[WARN] ❌ Failed to extract tweet text: 1608259708149989381\n"
          ]
        },
        {
          "output_type": "stream",
          "name": "stderr",
          "text": [
            "\rProcessing tweets:  95%|█████████▌| 542/568 [56:51<02:20,  5.39s/it]"
          ]
        },
        {
          "output_type": "stream",
          "name": "stdout",
          "text": [
            "\n",
            "[WARN] ❌ Failed to locate image element: 1608259708149989381\n",
            "\n",
            "[WARN] ❌ Failed to extract tweet text: 1608259693599944704\n",
            "\n",
            "[WARN] ❌ Failed to locate image element: 1608259693599944704\n",
            "♻️ Restarting driver after 5 consecutive failures...\n",
            "♻️ Driver restarted.\n",
            "♻️ Driver restarted.\n"
          ]
        },
        {
          "output_type": "stream",
          "name": "stderr",
          "text": [
            "\rProcessing tweets:  96%|█████████▌| 543/568 [57:38<07:29, 17.98s/it]"
          ]
        },
        {
          "output_type": "stream",
          "name": "stdout",
          "text": [
            "ALL_consecutive_failures: 10\n",
            "\n",
            "[WARN] ❌ Failed to extract tweet text: 1608259677321842688\n"
          ]
        },
        {
          "output_type": "stream",
          "name": "stderr",
          "text": [
            "\rProcessing tweets:  96%|█████████▌| 544/568 [57:43<05:38, 14.12s/it]"
          ]
        },
        {
          "output_type": "stream",
          "name": "stdout",
          "text": [
            "\n",
            "[WARN] ❌ Failed to locate image element: 1608259677321842688\n",
            "\n",
            "[WARN] ❌ Failed to extract tweet text: 1608259675694436353\n"
          ]
        },
        {
          "output_type": "stream",
          "name": "stderr",
          "text": [
            "\rProcessing tweets:  96%|█████████▌| 545/568 [57:49<04:25, 11.54s/it]"
          ]
        },
        {
          "output_type": "stream",
          "name": "stdout",
          "text": [
            "\n",
            "[WARN] ❌ Failed to locate image element: 1608259675694436353\n",
            "\n",
            "[WARN] ❌ Failed to extract tweet text: 1608259650797064195\n"
          ]
        },
        {
          "output_type": "stream",
          "name": "stderr",
          "text": [
            "\rProcessing tweets:  96%|█████████▌| 546/568 [57:53<03:25,  9.34s/it]"
          ]
        },
        {
          "output_type": "stream",
          "name": "stdout",
          "text": [
            "\n",
            "[WARN] ❌ Failed to locate image element: 1608259650797064195\n",
            "\n",
            "[WARN] ❌ Failed to extract tweet text: 1608259635211038720\n"
          ]
        },
        {
          "output_type": "stream",
          "name": "stderr",
          "text": [
            "\rProcessing tweets:  96%|█████████▋| 547/568 [57:57<02:43,  7.78s/it]"
          ]
        },
        {
          "output_type": "stream",
          "name": "stdout",
          "text": [
            "\n",
            "[WARN] ❌ Failed to locate image element: 1608259635211038720\n",
            "\n",
            "[WARN] ❌ Failed to extract tweet text: 1608259619713069056\n",
            "\n",
            "[WARN] ❌ Failed to locate image element: 1608259619713069056\n",
            "♻️ Restarting driver after 5 consecutive failures...\n",
            "♻️ Driver restarted.\n",
            "♻️ Driver restarted.\n"
          ]
        },
        {
          "output_type": "stream",
          "name": "stderr",
          "text": [
            "\rProcessing tweets:  96%|█████████▋| 548/568 [58:44<06:28, 19.42s/it]"
          ]
        },
        {
          "output_type": "stream",
          "name": "stdout",
          "text": [
            "ALL_consecutive_failures: 15\n",
            "\n",
            "[WARN] ❌ Failed to extract tweet text: 1608259601551745024\n"
          ]
        },
        {
          "output_type": "stream",
          "name": "stderr",
          "text": [
            "\rProcessing tweets:  97%|█████████▋| 549/568 [58:49<04:47, 15.11s/it]"
          ]
        },
        {
          "output_type": "stream",
          "name": "stdout",
          "text": [
            "\n",
            "[WARN] ❌ Failed to locate image element: 1608259601551745024\n"
          ]
        },
        {
          "output_type": "stream",
          "name": "stderr",
          "text": [
            "\rProcessing tweets:  97%|█████████▋| 550/568 [58:54<03:36, 12.02s/it]"
          ]
        },
        {
          "output_type": "stream",
          "name": "stdout",
          "text": [
            "\n",
            "📊 Summary of the last 10 requests:\n",
            "📝 Text success:  1/10\n",
            "🖼️  Image success: 1/10\n",
            "✅ Both success:  1/10\n",
            "\n"
          ]
        },
        {
          "output_type": "stream",
          "name": "stderr",
          "text": [
            "\rProcessing tweets:  97%|█████████▋| 551/568 [58:57<02:42,  9.56s/it]"
          ]
        },
        {
          "output_type": "stream",
          "name": "stdout",
          "text": [
            "\n",
            "[WARN] ❌ Failed to extract tweet text: 1608257984899215360\n"
          ]
        },
        {
          "output_type": "stream",
          "name": "stderr",
          "text": [
            "\rProcessing tweets:  97%|█████████▋| 552/568 [59:02<02:08,  8.00s/it]"
          ]
        },
        {
          "output_type": "stream",
          "name": "stdout",
          "text": [
            "\n",
            "[WARN] ❌ Failed to locate image element: 1608257984899215360\n",
            "\n",
            "[WARN] ❌ Failed to extract tweet text: 1608257397151113216\n"
          ]
        },
        {
          "output_type": "stream",
          "name": "stderr",
          "text": [
            "\rProcessing tweets:  97%|█████████▋| 553/568 [59:06<01:42,  6.87s/it]"
          ]
        },
        {
          "output_type": "stream",
          "name": "stdout",
          "text": [
            "\n",
            "[WARN] ❌ Failed to locate image element: 1608257397151113216\n",
            "\n",
            "[WARN] ❌ Failed to extract tweet text: 1608256595435069440\n"
          ]
        },
        {
          "output_type": "stream",
          "name": "stderr",
          "text": [
            "\rProcessing tweets:  98%|█████████▊| 554/568 [59:10<01:24,  6.05s/it]"
          ]
        },
        {
          "output_type": "stream",
          "name": "stdout",
          "text": [
            "\n",
            "[WARN] ❌ Failed to locate image element: 1608256595435069440\n"
          ]
        },
        {
          "output_type": "stream",
          "name": "stderr",
          "text": [
            "\rProcessing tweets:  98%|█████████▊| 555/568 [59:12<01:03,  4.88s/it]"
          ]
        },
        {
          "output_type": "stream",
          "name": "stdout",
          "text": [
            "\n",
            "[WARN] ❌ Failed to extract tweet text: 1608255230034206720\n"
          ]
        },
        {
          "output_type": "stream",
          "name": "stderr",
          "text": [
            "\rProcessing tweets:  98%|█████████▊| 556/568 [59:16<00:54,  4.50s/it]"
          ]
        },
        {
          "output_type": "stream",
          "name": "stdout",
          "text": [
            "\n",
            "[WARN] ❌ Failed to locate image element: 1608255230034206720\n",
            "\n",
            "[WARN] ❌ Failed to extract tweet text: 1608255224841474050\n"
          ]
        },
        {
          "output_type": "stream",
          "name": "stderr",
          "text": [
            "\rProcessing tweets:  98%|█████████▊| 557/568 [59:20<00:46,  4.24s/it]"
          ]
        },
        {
          "output_type": "stream",
          "name": "stdout",
          "text": [
            "\n",
            "[WARN] ❌ Failed to locate image element: 1608255224841474050\n",
            "♻️ Restarting driver after 10 requests...\n",
            "♻️ Driver restarted.\n"
          ]
        },
        {
          "output_type": "stream",
          "name": "stderr",
          "text": [
            "\rProcessing tweets:  98%|█████████▊| 558/568 [59:40<01:31,  9.16s/it]"
          ]
        },
        {
          "output_type": "stream",
          "name": "stdout",
          "text": [
            "\n",
            "[WARN] ❌ Failed to extract tweet text: 1608253510914646018\n"
          ]
        },
        {
          "output_type": "stream",
          "name": "stderr",
          "text": [
            "\rProcessing tweets:  98%|█████████▊| 559/568 [59:46<01:13,  8.17s/it]"
          ]
        },
        {
          "output_type": "stream",
          "name": "stdout",
          "text": [
            "\n",
            "[WARN] ❌ Failed to locate image element: 1608253510914646018\n"
          ]
        },
        {
          "output_type": "stream",
          "name": "stderr",
          "text": [
            "\rProcessing tweets:  99%|█████████▊| 560/568 [59:51<00:56,  7.12s/it]"
          ]
        },
        {
          "output_type": "stream",
          "name": "stdout",
          "text": [
            "\n",
            "📊 Summary of the last 10 requests:\n",
            "📝 Text success:  4/10\n",
            "🖼️  Image success: 4/10\n",
            "✅ Both success:  4/10\n",
            "\n",
            "\n",
            "[WARN] ❌ Failed to extract tweet text: 1608252306943840257\n"
          ]
        },
        {
          "output_type": "stream",
          "name": "stderr",
          "text": [
            "\rProcessing tweets:  99%|█████████▉| 561/568 [59:55<00:44,  6.30s/it]"
          ]
        },
        {
          "output_type": "stream",
          "name": "stdout",
          "text": [
            "\n",
            "[WARN] ❌ Failed to locate image element: 1608252306943840257\n",
            "\n",
            "[WARN] ❌ Failed to extract tweet text: 1608252159769952256\n"
          ]
        },
        {
          "output_type": "stream",
          "name": "stderr",
          "text": [
            "\rProcessing tweets:  99%|█████████▉| 562/568 [59:59<00:33,  5.52s/it]"
          ]
        },
        {
          "output_type": "stream",
          "name": "stdout",
          "text": [
            "\n",
            "[WARN] ❌ Failed to locate image element: 1608252159769952256\n"
          ]
        },
        {
          "output_type": "stream",
          "name": "stderr",
          "text": [
            "Processing tweets:  99%|█████████▉| 564/568 [1:00:03<00:14,  3.73s/it]"
          ]
        },
        {
          "output_type": "stream",
          "name": "stdout",
          "text": [
            "\n",
            "[WARN] ❌ Failed to extract tweet text: 1608250918520381441\n"
          ]
        },
        {
          "output_type": "stream",
          "name": "stderr",
          "text": [
            "\rProcessing tweets:  99%|█████████▉| 565/568 [1:00:07<00:11,  3.76s/it]"
          ]
        },
        {
          "output_type": "stream",
          "name": "stdout",
          "text": [
            "\n",
            "[WARN] ❌ Failed to locate image element: 1608250918520381441\n",
            "\n",
            "[WARN] ❌ Failed to extract tweet text: 1608250728203649024\n"
          ]
        },
        {
          "output_type": "stream",
          "name": "stderr",
          "text": [
            "\rProcessing tweets: 100%|█████████▉| 566/568 [1:00:11<00:07,  3.92s/it]"
          ]
        },
        {
          "output_type": "stream",
          "name": "stdout",
          "text": [
            "\n",
            "[WARN] ❌ Failed to locate image element: 1608250728203649024\n"
          ]
        },
        {
          "output_type": "stream",
          "name": "stderr",
          "text": [
            "\rProcessing tweets: 100%|█████████▉| 567/568 [1:00:14<00:03,  3.70s/it]"
          ]
        },
        {
          "output_type": "stream",
          "name": "stdout",
          "text": [
            "\n",
            "[WARN] ❌ Failed to extract tweet text: 1608249104462643200\n",
            "\n",
            "[WARN] ❌ Failed to locate image element: 1608249104462643200\n",
            "♻️ Restarting driver after 10 requests...\n",
            "♻️ Driver restarted.\n"
          ]
        },
        {
          "output_type": "stream",
          "name": "stderr",
          "text": [
            "Processing tweets: 100%|██████████| 568/568 [1:00:35<00:00,  6.40s/it]\n"
          ]
        }
      ]
    },
    {
      "cell_type": "markdown",
      "source": [
        "### Saving CSV & Summary###"
      ],
      "metadata": {
        "id": "UxRmGjvt1zGc"
      }
    },
    {
      "cell_type": "code",
      "source": [
        "# ✅ Save results to CSV\n",
        "df[\"tweet_text\"] = tweet_texts\n",
        "df[\"cdn_image_name\"] = cdn_names\n",
        "df[\"text_success\"] = text_success\n",
        "df[\"image_success\"] = image_success\n",
        "df[\"twigma_row\"] = row_indices\n",
        "\n",
        "OUTPUT_CSV_PATH = f\"twigma_scrape_rows_{START_ROW}_{END_ROW}.csv\"\n",
        "df.to_csv(OUTPUT_CSV_PATH, index=False)\n",
        "\n",
        "print(f\"\\n✅ Results saved to: {OUTPUT_CSV_PATH}\")\n",
        "\n",
        "# === ✅ Summary statistics ===\n",
        "total = len(df)\n",
        "text_ok = df[\"text_success\"].sum()\n",
        "image_ok = df[\"image_success\"].sum()\n",
        "both_ok = ((df[\"text_success\"]) & (df[\"image_success\"])).sum()\n",
        "\n",
        "def pct(x): return f\"{100 * x / total:.2f}%\"\n",
        "\n",
        "print(\"\\n📊 Summary:\")\n",
        "print(f\"📝 Tweets with text successfully extracted: {text_ok}/{total} ({pct(text_ok)})\")\n",
        "print(f\"🖼️  Tweets with image successfully downloaded: {image_ok}/{total} ({pct(image_ok)})\")\n",
        "print(f\"✅ Tweets with both text and image: {both_ok}/{total} ({pct(both_ok)})\")\n",
        "\n",
        "def format_duration(seconds):\n",
        "    mins, secs = divmod(int(seconds), 60)\n",
        "    hrs, mins = divmod(mins, 60)\n",
        "    return f\"{hrs}h {mins}m {secs}s\"\n",
        "\n",
        "print(f\"\\n⏱️ Total runtime: {format_duration(duration)}({int(duration)}secs)\")\n",
        "if both_ok > 0:\n",
        "    print(f\"\\n⏱️ Each fully successful process takes {duration / both_ok:.2f} seconds\")\n",
        "else:\n",
        "    print(\"\\n⚠️ No fully successful entries to calculate average time.\")"
      ],
      "metadata": {
        "colab": {
          "base_uri": "https://localhost:8080/"
        },
        "id": "0-HVNfLas0HH",
        "outputId": "cc22277c-dba9-4ca2-8f61-b6aebd6ef38d"
      },
      "execution_count": 54,
      "outputs": [
        {
          "output_type": "stream",
          "name": "stdout",
          "text": [
            "\n",
            "✅ Results saved to: twigma_scrape_rows_1000_2000.csv\n",
            "\n",
            "📊 Summary:\n",
            "📝 Tweets with text successfully extracted: 172/568 (30.28%)\n",
            "🖼️  Tweets with image successfully downloaded: 176/568 (30.99%)\n",
            "✅ Tweets with both text and image: 172/568 (30.28%)\n",
            "\n",
            "⏱️ Total runtime: 1h 0m 35s(3635secs)\n",
            "\n",
            "⏱️ Each fully successful process takes 21.14 seconds\n"
          ]
        }
      ]
    },
    {
      "cell_type": "code",
      "source": [
        "SUMMARY_PATH = OUTPUT_CSV_PATH.replace(\".csv\", \"_summary.txt\")\n",
        "\n",
        "with open(SUMMARY_PATH, \"w\") as f:\n",
        "    f.write(f\"{SUMMARY_PATH}\\n\")\n",
        "    f.write(\"📊 Summary:\\n\")\n",
        "    f.write(f\"📝 Tweets with text successfully extracted: {text_ok}/{total} ({pct(text_ok)})\\n\")\n",
        "    f.write(f\"🖼️  Tweets with image successfully downloaded: {image_ok}/{total} ({pct(image_ok)})\\n\")\n",
        "    f.write(f\"✅ Tweets with both text and image: {both_ok}/{total} ({pct(both_ok)})\\n\")\n",
        "    f.write(f\"⏱️ Total runtime: {format_duration(duration)} ({int(duration)}secs)\\n\")\n",
        "    f.write(f\"⏱️ Each fully successful process takes {duration / both_ok:.2f} seconds\\n\")\n",
        "\n",
        "print(f\"📝 Summary saved to: {SUMMARY_PATH}\")"
      ],
      "metadata": {
        "colab": {
          "base_uri": "https://localhost:8080/"
        },
        "id": "wAKfaBLlL43X",
        "outputId": "03053126-ad5a-42f7-d2e5-4563c703c674"
      },
      "execution_count": 55,
      "outputs": [
        {
          "output_type": "stream",
          "name": "stdout",
          "text": [
            "📝 Summary saved to: twigma_scrape_rows_1000_2000_summary.txt\n"
          ]
        }
      ]
    },
    {
      "cell_type": "markdown",
      "source": [
        "### Downloading Files ###"
      ],
      "metadata": {
        "id": "1dNEiuxe1-wz"
      }
    },
    {
      "cell_type": "code",
      "source": [
        "# ✅ Zip image directory\n",
        "zip_name = OUTPUT_IMAGE_DIR + \".zip\"\n",
        "shutil.make_archive(OUTPUT_IMAGE_DIR, 'zip', OUTPUT_IMAGE_DIR)\n",
        "\n",
        "# ✅ Download files\n",
        "files.download(zip_name)\n",
        "files.download(OUTPUT_CSV_PATH)\n",
        "files.download(SUMMARY_PATH)\n",
        "\n",
        "print(f\"📥 Download links generated for CSV and image archive.\\n {zip_name} \\n {OUTPUT_CSV_PATH} \\n {SUMMARY_PATH}\")"
      ],
      "metadata": {
        "colab": {
          "base_uri": "https://localhost:8080/",
          "height": 90
        },
        "id": "t638ok5e2Doh",
        "outputId": "fa9d2e05-21d5-469c-8780-e106862a566a"
      },
      "execution_count": 56,
      "outputs": [
        {
          "output_type": "display_data",
          "data": {
            "text/plain": [
              "<IPython.core.display.Javascript object>"
            ],
            "application/javascript": [
              "\n",
              "    async function download(id, filename, size) {\n",
              "      if (!google.colab.kernel.accessAllowed) {\n",
              "        return;\n",
              "      }\n",
              "      const div = document.createElement('div');\n",
              "      const label = document.createElement('label');\n",
              "      label.textContent = `Downloading \"${filename}\": `;\n",
              "      div.appendChild(label);\n",
              "      const progress = document.createElement('progress');\n",
              "      progress.max = size;\n",
              "      div.appendChild(progress);\n",
              "      document.body.appendChild(div);\n",
              "\n",
              "      const buffers = [];\n",
              "      let downloaded = 0;\n",
              "\n",
              "      const channel = await google.colab.kernel.comms.open(id);\n",
              "      // Send a message to notify the kernel that we're ready.\n",
              "      channel.send({})\n",
              "\n",
              "      for await (const message of channel.messages) {\n",
              "        // Send a message to notify the kernel that we're ready.\n",
              "        channel.send({})\n",
              "        if (message.buffers) {\n",
              "          for (const buffer of message.buffers) {\n",
              "            buffers.push(buffer);\n",
              "            downloaded += buffer.byteLength;\n",
              "            progress.value = downloaded;\n",
              "          }\n",
              "        }\n",
              "      }\n",
              "      const blob = new Blob(buffers, {type: 'application/binary'});\n",
              "      const a = document.createElement('a');\n",
              "      a.href = window.URL.createObjectURL(blob);\n",
              "      a.download = filename;\n",
              "      div.appendChild(a);\n",
              "      a.click();\n",
              "      div.remove();\n",
              "    }\n",
              "  "
            ]
          },
          "metadata": {}
        },
        {
          "output_type": "display_data",
          "data": {
            "text/plain": [
              "<IPython.core.display.Javascript object>"
            ],
            "application/javascript": [
              "download(\"download_3f742d1a-306e-4c70-bf67-e13a917210cb\", \"images_1000_2000.zip\", 29194448)"
            ]
          },
          "metadata": {}
        },
        {
          "output_type": "display_data",
          "data": {
            "text/plain": [
              "<IPython.core.display.Javascript object>"
            ],
            "application/javascript": [
              "\n",
              "    async function download(id, filename, size) {\n",
              "      if (!google.colab.kernel.accessAllowed) {\n",
              "        return;\n",
              "      }\n",
              "      const div = document.createElement('div');\n",
              "      const label = document.createElement('label');\n",
              "      label.textContent = `Downloading \"${filename}\": `;\n",
              "      div.appendChild(label);\n",
              "      const progress = document.createElement('progress');\n",
              "      progress.max = size;\n",
              "      div.appendChild(progress);\n",
              "      document.body.appendChild(div);\n",
              "\n",
              "      const buffers = [];\n",
              "      let downloaded = 0;\n",
              "\n",
              "      const channel = await google.colab.kernel.comms.open(id);\n",
              "      // Send a message to notify the kernel that we're ready.\n",
              "      channel.send({})\n",
              "\n",
              "      for await (const message of channel.messages) {\n",
              "        // Send a message to notify the kernel that we're ready.\n",
              "        channel.send({})\n",
              "        if (message.buffers) {\n",
              "          for (const buffer of message.buffers) {\n",
              "            buffers.push(buffer);\n",
              "            downloaded += buffer.byteLength;\n",
              "            progress.value = downloaded;\n",
              "          }\n",
              "        }\n",
              "      }\n",
              "      const blob = new Blob(buffers, {type: 'application/binary'});\n",
              "      const a = document.createElement('a');\n",
              "      a.href = window.URL.createObjectURL(blob);\n",
              "      a.download = filename;\n",
              "      div.appendChild(a);\n",
              "      a.click();\n",
              "      div.remove();\n",
              "    }\n",
              "  "
            ]
          },
          "metadata": {}
        },
        {
          "output_type": "display_data",
          "data": {
            "text/plain": [
              "<IPython.core.display.Javascript object>"
            ],
            "application/javascript": [
              "download(\"download_e9dee8d1-9746-4fc4-a85a-3ec920dee2a3\", \"twigma_scrape_rows_1000_2000.csv\", 156976)"
            ]
          },
          "metadata": {}
        },
        {
          "output_type": "display_data",
          "data": {
            "text/plain": [
              "<IPython.core.display.Javascript object>"
            ],
            "application/javascript": [
              "\n",
              "    async function download(id, filename, size) {\n",
              "      if (!google.colab.kernel.accessAllowed) {\n",
              "        return;\n",
              "      }\n",
              "      const div = document.createElement('div');\n",
              "      const label = document.createElement('label');\n",
              "      label.textContent = `Downloading \"${filename}\": `;\n",
              "      div.appendChild(label);\n",
              "      const progress = document.createElement('progress');\n",
              "      progress.max = size;\n",
              "      div.appendChild(progress);\n",
              "      document.body.appendChild(div);\n",
              "\n",
              "      const buffers = [];\n",
              "      let downloaded = 0;\n",
              "\n",
              "      const channel = await google.colab.kernel.comms.open(id);\n",
              "      // Send a message to notify the kernel that we're ready.\n",
              "      channel.send({})\n",
              "\n",
              "      for await (const message of channel.messages) {\n",
              "        // Send a message to notify the kernel that we're ready.\n",
              "        channel.send({})\n",
              "        if (message.buffers) {\n",
              "          for (const buffer of message.buffers) {\n",
              "            buffers.push(buffer);\n",
              "            downloaded += buffer.byteLength;\n",
              "            progress.value = downloaded;\n",
              "          }\n",
              "        }\n",
              "      }\n",
              "      const blob = new Blob(buffers, {type: 'application/binary'});\n",
              "      const a = document.createElement('a');\n",
              "      a.href = window.URL.createObjectURL(blob);\n",
              "      a.download = filename;\n",
              "      div.appendChild(a);\n",
              "      a.click();\n",
              "      div.remove();\n",
              "    }\n",
              "  "
            ]
          },
          "metadata": {}
        },
        {
          "output_type": "display_data",
          "data": {
            "text/plain": [
              "<IPython.core.display.Javascript object>"
            ],
            "application/javascript": [
              "download(\"download_c33b1f67-d063-42a4-98fb-ad555d66b517\", \"twigma_scrape_rows_1000_2000_summary.txt\", 341)"
            ]
          },
          "metadata": {}
        },
        {
          "output_type": "stream",
          "name": "stdout",
          "text": [
            "📥 Download links generated for CSV and image archive.\n",
            " /content/images_1000_2000.zip \n",
            " twigma_scrape_rows_1000_2000.csv \n",
            " twigma_scrape_rows_1000_2000_summary.txt\n"
          ]
        }
      ]
    },
    {
      "cell_type": "markdown",
      "source": [
        "### Retry (Not recommend for Efficiency) ###"
      ],
      "metadata": {
        "id": "WF4rhew7qUY7"
      }
    },
    {
      "cell_type": "code",
      "source": [
        "# RE_START_ROW = 0\n",
        "# RE_END_ROW = 100  # Set your own range\n",
        "\n",
        "# # === CONFIG ===\n",
        "# RETRY_CSV_PATH = f\"twigma_scrape_rows_{RE_START_ROW}_{RE_END_ROW}.csv\"\n",
        "# OUTPUT_IMAGE_DIR = f\"images_{RE_START_ROW}_{RE_END_ROW}\"\n",
        "# os.makedirs(OUTPUT_IMAGE_DIR, exist_ok=True)\n",
        "\n",
        "# options = uc.ChromeOptions()\n",
        "# options.binary_location = \"/usr/bin/google-chrome\"\n",
        "# options.add_argument(\"--headless=new\")\n",
        "# options.add_argument(\"--no-sandbox\")\n",
        "# options.add_argument(\"--disable-dev-shm-usage\")\n",
        "# driver = uc.Chrome(options=options)\n",
        "\n",
        "# # === LOAD DATA ===\n",
        "# df = pd.read_csv(RETRY_CSV_PATH)\n",
        "# df_retry = df[(df[\"text_success\"] == False) | (df[\"image_success\"] == False)].copy()\n",
        "# print(f\"🔁 Total to retry: {len(df_retry)}\")\n",
        "\n",
        "# # === RECORD NEW RESULTS ===\n",
        "# new_text_success = 0\n",
        "# new_image_success = 0\n",
        "\n",
        "# for idx, row in tqdm(df_retry.iterrows(), total=len(df_retry), desc=\"🔁 Retrying failed entries\"):\n",
        "#     tweet_id = str(row[\"tweet_id\"])\n",
        "#     tweet_url = f\"https://twitter.com/i/web/status/{tweet_id}\"\n",
        "#     cdn_image_old = row[\"cdn_image_name\"]\n",
        "\n",
        "#     # Retry flag\n",
        "#     got_text = False\n",
        "#     got_image = False\n",
        "\n",
        "#     try:\n",
        "#         driver.get(tweet_url)\n",
        "#         # time.sleep(0.5)\n",
        "\n",
        "#         # Retry text if it failed\n",
        "#         if row[\"text_success\"] == False:\n",
        "#             try:\n",
        "#                 tweet_elem = WebDriverWait(driver, 3).until(\n",
        "#                     EC.presence_of_element_located((By.XPATH, '//article//div[@data-testid=\"tweetText\"]'))\n",
        "#                 )\n",
        "#                 tweet_text = tweet_elem.text.strip()\n",
        "#                 df.loc[idx, \"tweet_text\"] = tweet_text\n",
        "#                 df.loc[idx, \"text_success\"] = True\n",
        "#                 new_text_success += 1\n",
        "#                 got_text = True\n",
        "#             except:\n",
        "#                 pass\n",
        "\n",
        "#         # Retry image if it failed\n",
        "#         if row[\"image_success\"] == False:\n",
        "#             try:\n",
        "#                 img_elem = WebDriverWait(driver, 1).until(\n",
        "#                     EC.presence_of_element_located((By.XPATH, '//article//img[contains(@src, \"pbs.twimg.com/media\")]'))\n",
        "#                 )\n",
        "#                 media_url = img_elem.get_attribute(\"src\")\n",
        "\n",
        "#                 parsed = urlparse(media_url)\n",
        "#                 cdn_filename = os.path.basename(parsed.path)\n",
        "#                 if not re.search(r\"\\.(jpg|jpeg|png|webp)$\", cdn_filename):\n",
        "#                     cdn_filename += \".jpg\"\n",
        "\n",
        "#                 full_filename = f\"{tweet_id}_{cdn_filename}\"\n",
        "#                 full_path = os.path.join(OUTPUT_IMAGE_DIR, full_filename)\n",
        "\n",
        "#                 img_data = requests.get(media_url, timeout=5).content\n",
        "#                 with open(full_path, \"wb\") as f:\n",
        "#                     f.write(img_data)\n",
        "\n",
        "#                 df.loc[idx, \"cdn_image_name\"] = cdn_filename\n",
        "#                 df.loc[idx, \"image_success\"] = True\n",
        "#                 new_image_success += 1\n",
        "#                 got_image = True\n",
        "\n",
        "#             except:\n",
        "#                 pass\n",
        "\n",
        "#     except Exception as e:\n",
        "#         print(f\"[FAIL] Tweet {tweet_id}: {e}\")\n",
        "\n",
        "# driver.quit()\n",
        "\n",
        "# # === SAVE NEW MERGED RESULT ===\n",
        "# REPAIRED_CSV_PATH = RETRY_CSV_PATH.replace(\".csv\", \"_repaired.csv\")\n",
        "# df.to_csv(REPAIRED_CSV_PATH, index=False)\n",
        "\n",
        "# # === STATS ===\n",
        "# total_retry = len(df_retry)\n",
        "# final_total = len(df)\n",
        "# final_text = df[\"text_success\"].sum()\n",
        "# final_img = df[\"image_success\"].sum()\n",
        "# final_both = ((df[\"text_success\"]) & (df[\"image_success\"])).sum()\n",
        "\n",
        "# def pct(x, total): return f\"{100 * x / total:.2f}%\"\n",
        "\n",
        "# print(\"\\n📊 Retry Summary:\")\n",
        "# print(f\"📝 Newly recovered texts:  {new_text_success}/{total_retry} ({pct(new_text_success, total_retry)})\")\n",
        "# print(f\"🖼️  Newly recovered images: {new_image_success}/{total_retry} ({pct(new_image_success, total_retry)})\")\n",
        "\n",
        "# print(\"\\n📦 Overall Total After Merge:\")\n",
        "# print(f\"📝 Total successful texts:  {final_text}/{final_total} ({pct(final_text, final_total)})\")\n",
        "# print(f\"🖼️  Total successful images: {final_img}/{final_total} ({pct(final_img, final_total)})\")\n",
        "# print(f\"✅ Fully successful entries: {final_both}/{final_total} ({pct(final_both, final_total)})\")\n",
        "\n",
        "# print(f\"\\n✅ Updated CSV saved to: {REPAIRED_CSV_PATH}\")"
      ],
      "metadata": {
        "colab": {
          "base_uri": "https://localhost:8080/"
        },
        "id": "5gvWZMQPqNxE",
        "outputId": "4ac6c420-66c2-450c-9dbc-29ed4ef20252"
      },
      "execution_count": 66,
      "outputs": [
        {
          "output_type": "stream",
          "name": "stdout",
          "text": [
            "🔁 Total to retry: 45\n"
          ]
        },
        {
          "output_type": "stream",
          "name": "stderr",
          "text": [
            "🔁 Retrying failed entries: 100%|██████████| 45/45 [03:29<00:00,  4.66s/it]\n"
          ]
        },
        {
          "output_type": "stream",
          "name": "stdout",
          "text": [
            "\n",
            "📊 Retry Summary:\n",
            "📝 Newly recovered texts:  5/45 (11.11%)\n",
            "🖼️  Newly recovered images: 5/45 (11.11%)\n",
            "\n",
            "📦 Overall Total After Merge:\n",
            "📝 Total successful texts:  21/61 (34.43%)\n",
            "🖼️  Total successful images: 22/61 (36.07%)\n",
            "✅ Fully successful entries: 21/61 (34.43%)\n",
            "\n",
            "✅ Updated CSV saved to: twigma_scrape_rows_0_100_repaired.csv\n"
          ]
        }
      ]
    },
    {
      "cell_type": "code",
      "source": [
        "# # ✅ Zip image directory\n",
        "# zip_name = OUTPUT_IMAGE_DIR + \".zip\"\n",
        "# shutil.make_archive(OUTPUT_IMAGE_DIR, 'zip', OUTPUT_IMAGE_DIR)\n",
        "\n",
        "# # ✅ Download files\n",
        "# files.download(zip_name)\n",
        "# files.download(REPAIRED_CSV_PATH)\n",
        "\n",
        "# print(\"📥 Download links generated for Repaired-CSV and image archive.\")"
      ],
      "metadata": {
        "colab": {
          "base_uri": "https://localhost:8080/",
          "height": 35
        },
        "id": "xgGcC_w35lg5",
        "outputId": "aceee72d-e6b2-4694-ede1-249da7faa4e2"
      },
      "execution_count": 69,
      "outputs": [
        {
          "output_type": "display_data",
          "data": {
            "text/plain": [
              "<IPython.core.display.Javascript object>"
            ],
            "application/javascript": [
              "\n",
              "    async function download(id, filename, size) {\n",
              "      if (!google.colab.kernel.accessAllowed) {\n",
              "        return;\n",
              "      }\n",
              "      const div = document.createElement('div');\n",
              "      const label = document.createElement('label');\n",
              "      label.textContent = `Downloading \"${filename}\": `;\n",
              "      div.appendChild(label);\n",
              "      const progress = document.createElement('progress');\n",
              "      progress.max = size;\n",
              "      div.appendChild(progress);\n",
              "      document.body.appendChild(div);\n",
              "\n",
              "      const buffers = [];\n",
              "      let downloaded = 0;\n",
              "\n",
              "      const channel = await google.colab.kernel.comms.open(id);\n",
              "      // Send a message to notify the kernel that we're ready.\n",
              "      channel.send({})\n",
              "\n",
              "      for await (const message of channel.messages) {\n",
              "        // Send a message to notify the kernel that we're ready.\n",
              "        channel.send({})\n",
              "        if (message.buffers) {\n",
              "          for (const buffer of message.buffers) {\n",
              "            buffers.push(buffer);\n",
              "            downloaded += buffer.byteLength;\n",
              "            progress.value = downloaded;\n",
              "          }\n",
              "        }\n",
              "      }\n",
              "      const blob = new Blob(buffers, {type: 'application/binary'});\n",
              "      const a = document.createElement('a');\n",
              "      a.href = window.URL.createObjectURL(blob);\n",
              "      a.download = filename;\n",
              "      div.appendChild(a);\n",
              "      a.click();\n",
              "      div.remove();\n",
              "    }\n",
              "  "
            ]
          },
          "metadata": {}
        },
        {
          "output_type": "display_data",
          "data": {
            "text/plain": [
              "<IPython.core.display.Javascript object>"
            ],
            "application/javascript": [
              "download(\"download_f7e2c5da-8762-4675-a8ca-7fe4f348cb6f\", \"images_0_100.zip\", 3908582)"
            ]
          },
          "metadata": {}
        },
        {
          "output_type": "display_data",
          "data": {
            "text/plain": [
              "<IPython.core.display.Javascript object>"
            ],
            "application/javascript": [
              "\n",
              "    async function download(id, filename, size) {\n",
              "      if (!google.colab.kernel.accessAllowed) {\n",
              "        return;\n",
              "      }\n",
              "      const div = document.createElement('div');\n",
              "      const label = document.createElement('label');\n",
              "      label.textContent = `Downloading \"${filename}\": `;\n",
              "      div.appendChild(label);\n",
              "      const progress = document.createElement('progress');\n",
              "      progress.max = size;\n",
              "      div.appendChild(progress);\n",
              "      document.body.appendChild(div);\n",
              "\n",
              "      const buffers = [];\n",
              "      let downloaded = 0;\n",
              "\n",
              "      const channel = await google.colab.kernel.comms.open(id);\n",
              "      // Send a message to notify the kernel that we're ready.\n",
              "      channel.send({})\n",
              "\n",
              "      for await (const message of channel.messages) {\n",
              "        // Send a message to notify the kernel that we're ready.\n",
              "        channel.send({})\n",
              "        if (message.buffers) {\n",
              "          for (const buffer of message.buffers) {\n",
              "            buffers.push(buffer);\n",
              "            downloaded += buffer.byteLength;\n",
              "            progress.value = downloaded;\n",
              "          }\n",
              "        }\n",
              "      }\n",
              "      const blob = new Blob(buffers, {type: 'application/binary'});\n",
              "      const a = document.createElement('a');\n",
              "      a.href = window.URL.createObjectURL(blob);\n",
              "      a.download = filename;\n",
              "      div.appendChild(a);\n",
              "      a.click();\n",
              "      div.remove();\n",
              "    }\n",
              "  "
            ]
          },
          "metadata": {}
        },
        {
          "output_type": "display_data",
          "data": {
            "text/plain": [
              "<IPython.core.display.Javascript object>"
            ],
            "application/javascript": [
              "download(\"download_e5e7fdf9-af8d-447c-ad20-75c77df57a29\", \"twigma_scrape_rows_0_100_repaired.csv\", 16988)"
            ]
          },
          "metadata": {}
        },
        {
          "output_type": "stream",
          "name": "stdout",
          "text": [
            "📥 Download links generated for Repaired-CSV and image archive.\n"
          ]
        }
      ]
    }
  ]
}