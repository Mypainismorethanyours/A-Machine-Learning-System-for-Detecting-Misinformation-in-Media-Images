{
 "cells": [
  {
   "cell_type": "code",
   "execution_count": null,
   "id": "ddd5faef",
   "metadata": {},
   "outputs": [],
   "source": [
    "####################\n",
    "from chi import context\n",
    "import swiftclient\n",
    "\n",
    "context.choose_project()\n",
    "context.choose_site(\"CHI@TACC\")"
   ]
  },
  {
   "cell_type": "code",
   "execution_count": null,
   "id": "f9541c9e",
   "metadata": {},
   "outputs": [],
   "source": [
    "os_conn = chi.clients.connection()\n",
    "token = os_conn.authorize()\n",
    "storage_url = os_conn.object_store.get_endpoint()\n",
    "\n",
    "\n",
    "container_name = \"object-persist-project-5\"\n",
    "swift_conn = swiftclient.Connection(\n",
    "    preauthurl=storage_url,\n",
    "    preauthtoken=token,\n",
    "    retries=5\n",
    ")\n",
    "\n",
    "swift_conn.put_container(container_name)\n",
    "print(f\"Container '{container_name}' created.\")"
   ]
  }
 ],
 "metadata": {
  "kernelspec": {
   "display_name": "Python 3",
   "language": "python",
   "name": "python3"
  },
  "language_info": {
   "name": "python",
   "version": "3.10.11"
  }
 },
 "nbformat": 4,
 "nbformat_minor": 5
}
