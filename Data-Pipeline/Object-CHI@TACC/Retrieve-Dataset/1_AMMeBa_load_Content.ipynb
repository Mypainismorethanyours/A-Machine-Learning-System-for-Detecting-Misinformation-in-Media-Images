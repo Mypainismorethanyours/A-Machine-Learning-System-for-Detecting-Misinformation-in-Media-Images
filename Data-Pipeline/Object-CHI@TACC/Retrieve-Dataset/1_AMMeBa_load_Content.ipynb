{
  "cells": [
    {
      "cell_type": "code",
      "execution_count": null,
      "metadata": {
        "colab": {
          "base_uri": "https://localhost:8080/"
        },
        "id": "zANnLjY1T-Xj",
        "outputId": "2734f30f-16b4-47a3-894d-7dd63fbc1e65"
      },
      "outputs": [
        {
          "name": "stdout",
          "output_type": "stream",
          "text": [
            "Mounted at /content/drive\n"
          ]
        }
      ],
      "source": [
        "from google.colab import drive\n",
        "drive.mount('/content/drive')"
      ]
    },
    {
      "cell_type": "code",
      "execution_count": null,
      "metadata": {
        "colab": {
          "base_uri": "https://localhost:8080/"
        },
        "id": "FspXMknfAJ1s",
        "outputId": "bf4b80d5-ac02-4d47-d252-1e1c845e41be"
      },
      "outputs": [
        {
          "name": "stdout",
          "output_type": "stream",
          "text": [
            "Collecting datasets\n",
            "  Downloading datasets-3.5.0-py3-none-any.whl.metadata (19 kB)\n",
            "Requirement already satisfied: filelock in /usr/local/lib/python3.11/dist-packages (from datasets) (3.18.0)\n",
            "Requirement already satisfied: numpy>=1.17 in /usr/local/lib/python3.11/dist-packages (from datasets) (2.0.2)\n",
            "Requirement already satisfied: pyarrow>=15.0.0 in /usr/local/lib/python3.11/dist-packages (from datasets) (18.1.0)\n",
            "Collecting dill<0.3.9,>=0.3.0 (from datasets)\n",
            "  Downloading dill-0.3.8-py3-none-any.whl.metadata (10 kB)\n",
            "Requirement already satisfied: pandas in /usr/local/lib/python3.11/dist-packages (from datasets) (2.2.2)\n",
            "Requirement already satisfied: requests>=2.32.2 in /usr/local/lib/python3.11/dist-packages (from datasets) (2.32.3)\n",
            "Requirement already satisfied: tqdm>=4.66.3 in /usr/local/lib/python3.11/dist-packages (from datasets) (4.67.1)\n",
            "Collecting xxhash (from datasets)\n",
            "  Downloading xxhash-3.5.0-cp311-cp311-manylinux_2_17_x86_64.manylinux2014_x86_64.whl.metadata (12 kB)\n",
            "Collecting multiprocess<0.70.17 (from datasets)\n",
            "  Downloading multiprocess-0.70.16-py311-none-any.whl.metadata (7.2 kB)\n",
            "Collecting fsspec<=2024.12.0,>=2023.1.0 (from fsspec[http]<=2024.12.0,>=2023.1.0->datasets)\n",
            "  Downloading fsspec-2024.12.0-py3-none-any.whl.metadata (11 kB)\n",
            "Requirement already satisfied: aiohttp in /usr/local/lib/python3.11/dist-packages (from datasets) (3.11.15)\n",
            "Requirement already satisfied: huggingface-hub>=0.24.0 in /usr/local/lib/python3.11/dist-packages (from datasets) (0.30.2)\n",
            "Requirement already satisfied: packaging in /usr/local/lib/python3.11/dist-packages (from datasets) (24.2)\n",
            "Requirement already satisfied: pyyaml>=5.1 in /usr/local/lib/python3.11/dist-packages (from datasets) (6.0.2)\n",
            "Requirement already satisfied: aiohappyeyeballs>=2.3.0 in /usr/local/lib/python3.11/dist-packages (from aiohttp->datasets) (2.6.1)\n",
            "Requirement already satisfied: aiosignal>=1.1.2 in /usr/local/lib/python3.11/dist-packages (from aiohttp->datasets) (1.3.2)\n",
            "Requirement already satisfied: attrs>=17.3.0 in /usr/local/lib/python3.11/dist-packages (from aiohttp->datasets) (25.3.0)\n",
            "Requirement already satisfied: frozenlist>=1.1.1 in /usr/local/lib/python3.11/dist-packages (from aiohttp->datasets) (1.5.0)\n",
            "Requirement already satisfied: multidict<7.0,>=4.5 in /usr/local/lib/python3.11/dist-packages (from aiohttp->datasets) (6.4.3)\n",
            "Requirement already satisfied: propcache>=0.2.0 in /usr/local/lib/python3.11/dist-packages (from aiohttp->datasets) (0.3.1)\n",
            "Requirement already satisfied: yarl<2.0,>=1.17.0 in /usr/local/lib/python3.11/dist-packages (from aiohttp->datasets) (1.19.0)\n",
            "Requirement already satisfied: typing-extensions>=3.7.4.3 in /usr/local/lib/python3.11/dist-packages (from huggingface-hub>=0.24.0->datasets) (4.13.2)\n",
            "Requirement already satisfied: charset-normalizer<4,>=2 in /usr/local/lib/python3.11/dist-packages (from requests>=2.32.2->datasets) (3.4.1)\n",
            "Requirement already satisfied: idna<4,>=2.5 in /usr/local/lib/python3.11/dist-packages (from requests>=2.32.2->datasets) (3.10)\n",
            "Requirement already satisfied: urllib3<3,>=1.21.1 in /usr/local/lib/python3.11/dist-packages (from requests>=2.32.2->datasets) (2.3.0)\n",
            "Requirement already satisfied: certifi>=2017.4.17 in /usr/local/lib/python3.11/dist-packages (from requests>=2.32.2->datasets) (2025.1.31)\n",
            "Requirement already satisfied: python-dateutil>=2.8.2 in /usr/local/lib/python3.11/dist-packages (from pandas->datasets) (2.8.2)\n",
            "Requirement already satisfied: pytz>=2020.1 in /usr/local/lib/python3.11/dist-packages (from pandas->datasets) (2025.2)\n",
            "Requirement already satisfied: tzdata>=2022.7 in /usr/local/lib/python3.11/dist-packages (from pandas->datasets) (2025.2)\n",
            "Requirement already satisfied: six>=1.5 in /usr/local/lib/python3.11/dist-packages (from python-dateutil>=2.8.2->pandas->datasets) (1.17.0)\n",
            "Downloading datasets-3.5.0-py3-none-any.whl (491 kB)\n",
            "\u001b[2K   \u001b[90m━━━━━━━━━━━━━━━━━━━━━━━━━━━━━━━━━━━━━━━━\u001b[0m \u001b[32m491.2/491.2 kB\u001b[0m \u001b[31m7.5 MB/s\u001b[0m eta \u001b[36m0:00:00\u001b[0m\n",
            "\u001b[?25hDownloading dill-0.3.8-py3-none-any.whl (116 kB)\n",
            "\u001b[2K   \u001b[90m━━━━━━━━━━━━━━━━━━━━━━━━━━━━━━━━━━━━━━━━\u001b[0m \u001b[32m116.3/116.3 kB\u001b[0m \u001b[31m8.6 MB/s\u001b[0m eta \u001b[36m0:00:00\u001b[0m\n",
            "\u001b[?25hDownloading fsspec-2024.12.0-py3-none-any.whl (183 kB)\n",
            "\u001b[2K   \u001b[90m━━━━━━━━━━━━━━━━━━━━━━━━━━━━━━━━━━━━━━━━\u001b[0m \u001b[32m183.9/183.9 kB\u001b[0m \u001b[31m11.8 MB/s\u001b[0m eta \u001b[36m0:00:00\u001b[0m\n",
            "\u001b[?25hDownloading multiprocess-0.70.16-py311-none-any.whl (143 kB)\n",
            "\u001b[2K   \u001b[90m━━━━━━━━━━━━━━━━━━━━━━━━━━━━━━━━━━━━━━━━\u001b[0m \u001b[32m143.5/143.5 kB\u001b[0m \u001b[31m13.9 MB/s\u001b[0m eta \u001b[36m0:00:00\u001b[0m\n",
            "\u001b[?25hDownloading xxhash-3.5.0-cp311-cp311-manylinux_2_17_x86_64.manylinux2014_x86_64.whl (194 kB)\n",
            "\u001b[2K   \u001b[90m━━━━━━━━━━━━━━━━━━━━━━━━━━━━━━━━━━━━━━━━\u001b[0m \u001b[32m194.8/194.8 kB\u001b[0m \u001b[31m14.5 MB/s\u001b[0m eta \u001b[36m0:00:00\u001b[0m\n",
            "\u001b[?25hInstalling collected packages: xxhash, fsspec, dill, multiprocess, datasets\n",
            "  Attempting uninstall: fsspec\n",
            "    Found existing installation: fsspec 2025.3.2\n",
            "    Uninstalling fsspec-2025.3.2:\n",
            "      Successfully uninstalled fsspec-2025.3.2\n",
            "\u001b[31mERROR: pip's dependency resolver does not currently take into account all the packages that are installed. This behaviour is the source of the following dependency conflicts.\n",
            "gcsfs 2025.3.2 requires fsspec==2025.3.2, but you have fsspec 2024.12.0 which is incompatible.\n",
            "torch 2.6.0+cu124 requires nvidia-cublas-cu12==12.4.5.8; platform_system == \"Linux\" and platform_machine == \"x86_64\", but you have nvidia-cublas-cu12 12.5.3.2 which is incompatible.\n",
            "torch 2.6.0+cu124 requires nvidia-cuda-cupti-cu12==12.4.127; platform_system == \"Linux\" and platform_machine == \"x86_64\", but you have nvidia-cuda-cupti-cu12 12.5.82 which is incompatible.\n",
            "torch 2.6.0+cu124 requires nvidia-cuda-nvrtc-cu12==12.4.127; platform_system == \"Linux\" and platform_machine == \"x86_64\", but you have nvidia-cuda-nvrtc-cu12 12.5.82 which is incompatible.\n",
            "torch 2.6.0+cu124 requires nvidia-cuda-runtime-cu12==12.4.127; platform_system == \"Linux\" and platform_machine == \"x86_64\", but you have nvidia-cuda-runtime-cu12 12.5.82 which is incompatible.\n",
            "torch 2.6.0+cu124 requires nvidia-cudnn-cu12==9.1.0.70; platform_system == \"Linux\" and platform_machine == \"x86_64\", but you have nvidia-cudnn-cu12 9.3.0.75 which is incompatible.\n",
            "torch 2.6.0+cu124 requires nvidia-cufft-cu12==11.2.1.3; platform_system == \"Linux\" and platform_machine == \"x86_64\", but you have nvidia-cufft-cu12 11.2.3.61 which is incompatible.\n",
            "torch 2.6.0+cu124 requires nvidia-curand-cu12==10.3.5.147; platform_system == \"Linux\" and platform_machine == \"x86_64\", but you have nvidia-curand-cu12 10.3.6.82 which is incompatible.\n",
            "torch 2.6.0+cu124 requires nvidia-cusolver-cu12==11.6.1.9; platform_system == \"Linux\" and platform_machine == \"x86_64\", but you have nvidia-cusolver-cu12 11.6.3.83 which is incompatible.\n",
            "torch 2.6.0+cu124 requires nvidia-cusparse-cu12==12.3.1.170; platform_system == \"Linux\" and platform_machine == \"x86_64\", but you have nvidia-cusparse-cu12 12.5.1.3 which is incompatible.\n",
            "torch 2.6.0+cu124 requires nvidia-nvjitlink-cu12==12.4.127; platform_system == \"Linux\" and platform_machine == \"x86_64\", but you have nvidia-nvjitlink-cu12 12.5.82 which is incompatible.\u001b[0m\u001b[31m\n",
            "\u001b[0mSuccessfully installed datasets-3.5.0 dill-0.3.8 fsspec-2024.12.0 multiprocess-0.70.16 xxhash-3.5.0\n",
            "Requirement already satisfied: tqdm in /usr/local/lib/python3.11/dist-packages (4.67.1)\n"
          ]
        }
      ],
      "source": [
        "!pip3 install datasets\n",
        "!pip3 install tqdm"
      ]
    },
    {
      "cell_type": "code",
      "execution_count": null,
      "metadata": {
        "id": "UbmzVWrr_tri"
      },
      "outputs": [],
      "source": [
        "import pandas as pd\n",
        "from datasets import Dataset\n",
        "from huggingface_hub import hf_hub_download\n",
        "import os\n",
        "import pandas as pd\n",
        "import requests\n",
        "from concurrent.futures import ThreadPoolExecutor, as_completed\n",
        "from tqdm import tqdm\n",
        "import shutil"
      ]
    },
    {
      "cell_type": "code",
      "execution_count": null,
      "metadata": {
        "id": "5sthq4ZpUybX"
      },
      "outputs": [],
      "source": [
        "\n",
        "start_index = 0\n",
        "end_index = 55000\n",
        "batch_size = 55000\n",
        "max_workers = 20\n",
        "\n",
        "drive_path = \"/content/drive/MyDrive/AMMeBa_downloads\"\n",
        "os.makedirs(drive_path, exist_ok=True)\n",
        "save_dir = os.path.join(drive_path, f\"images_{start_index}_{end_index}\")\n",
        "os.makedirs(save_dir, exist_ok=True)"
      ]
    },
    {
      "cell_type": "code",
      "execution_count": null,
      "metadata": {
        "colab": {
          "base_uri": "https://localhost:8080/",
          "height": 416,
          "referenced_widgets": [
            "ae25ae60ceca49f6b4a228d3c211d657",
            "ee88754d84324c48bf827fa3591607d6",
            "4b4b85bd5a7846f8921a29e5b9feba05",
            "5867a9983aa643f5a95e4fb1776728a0",
            "fec8962bcd1044c5baa981df631b35de",
            "e569f9b1c362402e8dd332f324b7f796",
            "fa2056d14f434b1db1dacd13cc566d78",
            "5c939843b05a4135b401d0ea92ef577d",
            "5bc870a6a7a244cd911ff96c879205ef",
            "0acafd88d6cb48d294ba1fe08b77fb68",
            "d87009cf783643f38c89b9e482a1a0f1",
            "639a9eb0bb514f22a5f9b73fe20e8397",
            "a0c70343c1364594a7612231a3f875b4",
            "025d3958f8074863ae5dc692e852f472",
            "7513f43c27c5489880ae8fc1ee4ec6aa",
            "b3773943e09e40579142b6a2bea904ba",
            "5f80428fd6a64d2fbbd30e6999ae1990",
            "d7785b6388fc42d78c2aed00a0965043",
            "62c2b5f74b7745d1b0d5e0e1ac131e2b",
            "d4f898dc2a5548c6a76ef7e3e6b36c2c",
            "4ab118583df643678c165153d06c3356",
            "3ba16478953f40888cd2eb6d89f3e7c7",
            "ad154e2ac81543448fe84c6cbcfa863e",
            "7c55b84372f84cfbb7697cd7c82a7a8b",
            "5b648fd8d12e4cc690a1454c69bf6cde",
            "42ab4d563d5f49fa86da68f3323d8945",
            "72a224d872e04563a2957136074c8f39",
            "4f275b8166924b0b9df5146f80992a9c",
            "2045c315b9e64173a7f23fb76a07b258",
            "07a57fe7399d4b14afff9eec14f7afcd",
            "6c0db981f3e542308ac461644ff941f1",
            "ee338ea067cf472680f440c07273e917",
            "3521456ba5cf4e729ed6985243b141ea"
          ]
        },
        "id": "vsxtJgF_Cc2D",
        "outputId": "5da70bab-e071-4bb1-9002-a65a7e86260d"
      },
      "outputs": [
        {
          "name": "stdout",
          "output_type": "stream",
          "text": [
            "\n",
            "📥 Downloading image_metadata.csv from academic-datasets/AMMeBa ...\n"
          ]
        },
        {
          "name": "stderr",
          "output_type": "stream",
          "text": [
            "/usr/local/lib/python3.11/dist-packages/huggingface_hub/utils/_auth.py:94: UserWarning: \n",
            "The secret `HF_TOKEN` does not exist in your Colab secrets.\n",
            "To authenticate with the Hugging Face Hub, create a token in your settings tab (https://huggingface.co/settings/tokens), set it as secret in your Google Colab and restart your session.\n",
            "You will be able to reuse this secret in all of your notebooks.\n",
            "Please note that authentication is recommended but still optional to access public models or datasets.\n",
            "  warnings.warn(\n"
          ]
        },
        {
          "data": {
            "application/vnd.jupyter.widget-view+json": {
              "model_id": "ae25ae60ceca49f6b4a228d3c211d657",
              "version_major": 2,
              "version_minor": 0
            },
            "text/plain": [
              "image_metadata.csv:   0%|          | 0.00/11.5M [00:00<?, ?B/s]"
            ]
          },
          "metadata": {},
          "output_type": "display_data"
        },
        {
          "name": "stdout",
          "output_type": "stream",
          "text": [
            "✅ Loaded image_metadata.csv: 50413 records, columns: ['image_id', 'mime', 'height', 'width', 'image_size_bytes', 'num_faces', 'total_face_area', 'has_text', 'url', 'average_hash', 'phash', 'colorhash']\n",
            "\n",
            "📥 Downloading fact_checks.csv from academic-datasets/AMMeBa ...\n"
          ]
        },
        {
          "data": {
            "application/vnd.jupyter.widget-view+json": {
              "model_id": "639a9eb0bb514f22a5f9b73fe20e8397",
              "version_major": 2,
              "version_minor": 0
            },
            "text/plain": [
              "fact_checks.csv:   0%|          | 0.00/29.2M [00:00<?, ?B/s]"
            ]
          },
          "metadata": {},
          "output_type": "display_data"
        },
        {
          "name": "stdout",
          "output_type": "stream",
          "text": [
            "✅ Loaded fact_checks.csv: 145594 records, columns: ['fact_check_url', 'review_date', 'fact_check_title']\n",
            "\n",
            "📥 Downloading stage_2.csv from academic-datasets/AMMeBa ...\n"
          ]
        },
        {
          "data": {
            "application/vnd.jupyter.widget-view+json": {
              "model_id": "ad154e2ac81543448fe84c6cbcfa863e",
              "version_major": 2,
              "version_minor": 0
            },
            "text/plain": [
              "stage_2.csv:   0%|          | 0.00/33.3M [00:00<?, ?B/s]"
            ]
          },
          "metadata": {},
          "output_type": "display_data"
        },
        {
          "name": "stdout",
          "output_type": "stream",
          "text": [
            "✅ Loaded stage_2.csv: 86197 records, columns: ['Unnamed: 0', 'fact_check_url', 'misinfo_source', 'image_id', 'submission_time', 'disqualified', 'disqualification_reason', 'image_type', 'screenshot_type', 'image_watermark', 'image_annotation', 'image_text', 'image_text_misinfo_relevance', 'content_manipulation', 'text_manipulation', 'chyron_manipulation', 'ai_manipulation', 'context_manipulation', 'premanipulation_image', 'premanipulation_image_id', 'self_miscontextualizing', 'circumstance_manipulation', 'identity_manipulation', 'location_manipulation', 'datetime_manipulation', 'atypical_manipulation', 'reverse_image_search', 'image_of_screen', 'fake_official_document']\n"
          ]
        }
      ],
      "source": [
        "\n",
        "def download_csv_file(repo_id: str, filename: str, repo_type: str = \"dataset\") -> str:\n",
        "    file_path = hf_hub_download(\n",
        "        repo_id=repo_id,\n",
        "        filename=filename,\n",
        "        repo_type=repo_type\n",
        "    )\n",
        "    return file_path\n",
        "\n",
        "\n",
        "def load_clean_dataset(csv_path: str) -> Dataset:\n",
        "\n",
        "    df = pd.read_csv(csv_path, na_values=[\"\", \" \", \"  \", \"NA\", \"nan\", \"NaN\"])\n",
        "\n",
        "    return Dataset.from_pandas(df)\n",
        "\n",
        "dataset_name = \"academic-datasets/AMMeBa\"\n",
        "data_files = [\"image_metadata.csv\", \"fact_checks.csv\", \"stage_2.csv\"]\n",
        "\n",
        "clean_datasets = {}\n",
        "\n",
        "for file in data_files:\n",
        "    print(f\"\\n📥 Downloading {file} from {dataset_name} ...\")\n",
        "    path = download_csv_file(dataset_name, file)\n",
        "    ds = load_clean_dataset(path)\n",
        "    clean_datasets[file] = ds\n",
        "    print(f\"✅ Loaded {file}: {len(ds)} records, columns: {ds.column_names}\")"
      ]
    },
    {
      "cell_type": "code",
      "execution_count": null,
      "metadata": {
        "colab": {
          "base_uri": "https://localhost:8080/"
        },
        "id": "ajBWNrl1_-iW",
        "outputId": "6f4f40d2-f5bf-4088-e2f9-1d296863d892"
      },
      "outputs": [
        {
          "data": {
            "text/plain": [
              "{'Unnamed: 0': 0,\n",
              " 'fact_check_url': 'https://factcheck.afp.com/these-photos-show-baby-rescued-indonesian-boat-disaster-2018',\n",
              " 'misinfo_source': 'https://perma.cc/6AZ7-QB7P?view-mode=client-side',\n",
              " 'image_id': '990af75e218d0b2d277a971385ea833c729a110f1be50698bdce637e',\n",
              " 'submission_time': '2023.02.23 12:59:21',\n",
              " 'disqualified': False,\n",
              " 'disqualification_reason': None,\n",
              " 'image_type': 'complex',\n",
              " 'screenshot_type': None,\n",
              " 'image_watermark': None,\n",
              " 'image_annotation': None,\n",
              " 'image_text': 'legible',\n",
              " 'image_text_misinfo_relevance': 'relevant',\n",
              " 'content_manipulation': 'false',\n",
              " 'text_manipulation': None,\n",
              " 'chyron_manipulation': None,\n",
              " 'ai_manipulation': None,\n",
              " 'context_manipulation': 'true',\n",
              " 'premanipulation_image': None,\n",
              " 'premanipulation_image_id': None,\n",
              " 'self_miscontextualizing': 'true',\n",
              " 'circumstance_manipulation': 'true',\n",
              " 'identity_manipulation': 'false',\n",
              " 'location_manipulation': 'false',\n",
              " 'datetime_manipulation': 'false',\n",
              " 'atypical_manipulation': False,\n",
              " 'reverse_image_search': 'successful',\n",
              " 'image_of_screen': 'false',\n",
              " 'fake_official_document': 'false'}"
            ]
          },
          "execution_count": 6,
          "metadata": {},
          "output_type": "execute_result"
        }
      ],
      "source": [
        "clean_datasets[\"stage_2.csv\"][0]"
      ]
    },
    {
      "cell_type": "code",
      "execution_count": null,
      "metadata": {
        "colab": {
          "base_uri": "https://localhost:8080/"
        },
        "id": "HWCCJSu-D4Eo",
        "outputId": "ad9f6e22-de78-4aed-9b00-aeeb078724af"
      },
      "outputs": [
        {
          "name": "stdout",
          "output_type": "stream",
          "text": [
            "image_id                0\n",
            "mime                    0\n",
            "height                280\n",
            "width                 280\n",
            "image_size_bytes        0\n",
            "num_faces              82\n",
            "total_face_area        82\n",
            "has_text                0\n",
            "url                 14807\n",
            "average_hash          291\n",
            "phash                 291\n",
            "colorhash             291\n",
            "dtype: int64\n"
          ]
        }
      ],
      "source": [
        "# Missing values from image_metadata\n",
        "import numpy as np\n",
        "print(clean_datasets[\"image_metadata.csv\"].to_pandas().isna().sum())"
      ]
    },
    {
      "cell_type": "code",
      "execution_count": null,
      "metadata": {
        "colab": {
          "base_uri": "https://localhost:8080/"
        },
        "id": "M0ivoO9HIPLE",
        "outputId": "d005a8a4-ca45-4aad-e0eb-a84cd8095637"
      },
      "outputs": [
        {
          "name": "stdout",
          "output_type": "stream",
          "text": [
            "📦 本批任务：0 到 55000，共 53687 条\n"
          ]
        }
      ],
      "source": [
        "df_stage2 = clean_datasets[\"stage_2.csv\"].to_pandas()\n",
        "df_metadata = clean_datasets[\"image_metadata.csv\"].to_pandas()\n",
        "\n",
        "# Merge image_id, Get the URL for download\n",
        "df_full = pd.merge(df_stage2, df_metadata, on=\"image_id\", how=\"inner\")\n",
        "\n",
        "mod_cols = [\n",
        "    \"content_manipulation\",\n",
        "]\n",
        "df_filtered = df_full[df_full[mod_cols].any(axis=1)].reset_index(drop=True)\n",
        "df_batch = df_filtered.iloc[start_index:end_index].copy()\n",
        "\n",
        "print(f\"📦 From {start_index} to {end_index}，total {len(df_batch)\")\n"
      ]
    },
    {
      "cell_type": "code",
      "execution_count": null,
      "metadata": {
        "colab": {
          "base_uri": "https://localhost:8080/"
        },
        "id": "uUnTJB49yhFF",
        "outputId": "997c0658-9fea-40dc-b1ac-eb943a01071a"
      },
      "outputs": [
        {
          "name": "stdout",
          "output_type": "stream",
          "text": [
            "🧠 Number of images with content_manipulation = True: 12643\n"
          ]
        }
      ],
      "source": [
        "# Convert string values to proper booleans\n",
        "df_full[\"content_manipulation\"] = df_full[\"content_manipulation\"].astype(str).str.lower().map({\"true\": True, \"false\": False})\n",
        "\n",
        "# Now count\n",
        "num_content_manipulated = df_full[\"content_manipulation\"].sum()\n",
        "print(f\"🧠 Number of images with content_manipulation = True: {num_content_manipulated}\")\n"
      ]
    },
    {
      "cell_type": "code",
      "execution_count": null,
      "metadata": {
        "colab": {
          "base_uri": "https://localhost:8080/"
        },
        "id": "9VxNzKlxQ0vw",
        "outputId": "b3799134-e346-4088-81a5-030810de6130"
      },
      "outputs": [
        {
          "name": "stdout",
          "output_type": "stream",
          "text": [
            "\n",
            "🚀 开始下载图像 Batch 0 - 5000 ...\n"
          ]
        },
        {
          "name": "stderr",
          "output_type": "stream",
          "text": [
            "  5%|▌         | 263/5000 [00:04<01:17, 60.87it/s]"
          ]
        },
        {
          "name": "stdout",
          "output_type": "stream",
          "text": [
            "📊 250/5000 完成 — 成功：133，失败：117，成功率：53.20%\n"
          ]
        },
        {
          "name": "stderr",
          "output_type": "stream",
          "text": [
            " 10%|█         | 513/5000 [00:12<01:23, 53.58it/s]"
          ]
        },
        {
          "name": "stdout",
          "output_type": "stream",
          "text": [
            "📊 500/5000 完成 — 成功：279，失败：221，成功率：55.80%\n"
          ]
        },
        {
          "name": "stderr",
          "output_type": "stream",
          "text": [
            " 15%|█▌        | 755/5000 [00:17<01:37, 43.46it/s]"
          ]
        },
        {
          "name": "stdout",
          "output_type": "stream",
          "text": [
            "📊 750/5000 完成 — 成功：401，失败：349，成功率：53.47%\n"
          ]
        },
        {
          "name": "stderr",
          "output_type": "stream",
          "text": [
            " 20%|██        | 1003/5000 [00:25<03:10, 20.95it/s]"
          ]
        },
        {
          "name": "stdout",
          "output_type": "stream",
          "text": [
            "📊 1000/5000 完成 — 成功：547，失败：453，成功率：54.70%\n"
          ]
        },
        {
          "name": "stderr",
          "output_type": "stream",
          "text": [
            " 25%|██▌       | 1250/5000 [00:36<02:22, 26.29it/s]"
          ]
        },
        {
          "name": "stdout",
          "output_type": "stream",
          "text": [
            "📊 1250/5000 完成 — 成功：698，失败：552，成功率：55.84%\n"
          ]
        },
        {
          "name": "stderr",
          "output_type": "stream",
          "text": [
            " 30%|███       | 1503/5000 [00:52<03:27, 16.83it/s]"
          ]
        },
        {
          "name": "stdout",
          "output_type": "stream",
          "text": [
            "📊 1500/5000 完成 — 成功：844，失败：656，成功率：56.27%\n"
          ]
        },
        {
          "name": "stderr",
          "output_type": "stream",
          "text": [
            " 35%|███▌      | 1755/5000 [01:10<02:48, 19.31it/s]"
          ]
        },
        {
          "name": "stdout",
          "output_type": "stream",
          "text": [
            "📊 1750/5000 完成 — 成功：992，失败：758，成功率：56.69%\n"
          ]
        },
        {
          "name": "stderr",
          "output_type": "stream",
          "text": [
            " 40%|████      | 2003/5000 [01:19<00:45, 66.18it/s]"
          ]
        },
        {
          "name": "stdout",
          "output_type": "stream",
          "text": [
            "📊 2000/5000 完成 — 成功：1129，失败：871，成功率：56.45%\n"
          ]
        },
        {
          "name": "stderr",
          "output_type": "stream",
          "text": [
            " 45%|████▌     | 2252/5000 [01:32<01:12, 37.77it/s]"
          ]
        },
        {
          "name": "stdout",
          "output_type": "stream",
          "text": [
            "📊 2250/5000 完成 — 成功：1280，失败：970，成功率：56.89%\n"
          ]
        },
        {
          "name": "stderr",
          "output_type": "stream",
          "text": [
            " 50%|█████     | 2504/5000 [01:39<01:00, 41.29it/s]"
          ]
        },
        {
          "name": "stdout",
          "output_type": "stream",
          "text": [
            "📊 2500/5000 完成 — 成功：1406，失败：1094，成功率：56.24%\n"
          ]
        },
        {
          "name": "stderr",
          "output_type": "stream",
          "text": [
            " 55%|█████▌    | 2755/5000 [01:48<01:04, 34.76it/s]"
          ]
        },
        {
          "name": "stdout",
          "output_type": "stream",
          "text": [
            "📊 2750/5000 完成 — 成功：1560，失败：1190，成功率：56.73%\n"
          ]
        },
        {
          "name": "stderr",
          "output_type": "stream",
          "text": [
            " 60%|██████    | 3008/5000 [01:56<00:41, 47.75it/s]"
          ]
        },
        {
          "name": "stdout",
          "output_type": "stream",
          "text": [
            "📊 3000/5000 完成 — 成功：1694，失败：1306，成功率：56.47%\n"
          ]
        },
        {
          "name": "stderr",
          "output_type": "stream",
          "text": [
            " 65%|██████▌   | 3266/5000 [02:03<00:25, 68.84it/s]"
          ]
        },
        {
          "name": "stdout",
          "output_type": "stream",
          "text": [
            "📊 3250/5000 完成 — 成功：1825，失败：1425，成功率：56.15%\n"
          ]
        },
        {
          "name": "stderr",
          "output_type": "stream",
          "text": [
            " 70%|███████   | 3508/5000 [02:11<00:36, 41.36it/s]"
          ]
        },
        {
          "name": "stdout",
          "output_type": "stream",
          "text": [
            "📊 3500/5000 完成 — 成功：1988，失败：1512，成功率：56.80%\n"
          ]
        },
        {
          "name": "stderr",
          "output_type": "stream",
          "text": [
            " 75%|███████▌  | 3754/5000 [02:17<00:38, 32.73it/s]"
          ]
        },
        {
          "name": "stdout",
          "output_type": "stream",
          "text": [
            "📊 3750/5000 完成 — 成功：2143，失败：1607，成功率：57.15%\n"
          ]
        },
        {
          "name": "stderr",
          "output_type": "stream",
          "text": [
            " 80%|████████  | 4002/5000 [02:23<00:37, 26.30it/s]"
          ]
        },
        {
          "name": "stdout",
          "output_type": "stream",
          "text": [
            "📊 4000/5000 完成 — 成功：2268，失败：1732，成功率：56.70%\n"
          ]
        },
        {
          "name": "stderr",
          "output_type": "stream",
          "text": [
            " 85%|████████▌ | 4257/5000 [02:32<00:23, 31.02it/s]"
          ]
        },
        {
          "name": "stdout",
          "output_type": "stream",
          "text": [
            "📊 4250/5000 完成 — 成功：2416，失败：1834，成功率：56.85%\n"
          ]
        },
        {
          "name": "stderr",
          "output_type": "stream",
          "text": [
            " 90%|█████████ | 4501/5000 [02:40<00:15, 32.38it/s]"
          ]
        },
        {
          "name": "stdout",
          "output_type": "stream",
          "text": [
            "📊 4500/5000 完成 — 成功：2565，失败：1935，成功率：57.00%\n"
          ]
        },
        {
          "name": "stderr",
          "output_type": "stream",
          "text": [
            " 95%|█████████▌| 4757/5000 [02:49<00:06, 35.58it/s]"
          ]
        },
        {
          "name": "stdout",
          "output_type": "stream",
          "text": [
            "📊 4750/5000 完成 — 成功：2724，失败：2026，成功率：57.35%\n"
          ]
        },
        {
          "name": "stderr",
          "output_type": "stream",
          "text": [
            "100%|██████████| 5000/5000 [02:58<00:00, 28.04it/s]"
          ]
        },
        {
          "name": "stdout",
          "output_type": "stream",
          "text": [
            "📊 5000/5000 完成 — 成功：2875，失败：2125，成功率：57.50%\n"
          ]
        },
        {
          "name": "stderr",
          "output_type": "stream",
          "text": [
            "\n"
          ]
        },
        {
          "name": "stdout",
          "output_type": "stream",
          "text": [
            "✅ 压缩完成：/content/images_0_5000.zip\n",
            "📤 已上传到 Google Drive: /content/drive/MyDrive/AMMeBa_batches\n",
            "🧹 清理完成 Batch 0-5000\n",
            "\n",
            "🚀 开始下载图像 Batch 5000 - 10000 ...\n"
          ]
        },
        {
          "name": "stderr",
          "output_type": "stream",
          "text": [
            "  5%|▌         | 259/5000 [00:05<01:40, 47.29it/s]"
          ]
        },
        {
          "name": "stdout",
          "output_type": "stream",
          "text": [
            "📊 250/5000 完成 — 成功：148，失败：102，成功率：59.20%\n"
          ]
        },
        {
          "name": "stderr",
          "output_type": "stream",
          "text": [
            " 10%|█         | 505/5000 [00:12<02:29, 29.99it/s]"
          ]
        },
        {
          "name": "stdout",
          "output_type": "stream",
          "text": [
            "📊 500/5000 完成 — 成功：318，失败：182，成功率：63.60%\n"
          ]
        },
        {
          "name": "stderr",
          "output_type": "stream",
          "text": [
            " 15%|█▌        | 750/5000 [00:25<04:27, 15.91it/s]"
          ]
        },
        {
          "name": "stdout",
          "output_type": "stream",
          "text": [
            "📊 750/5000 完成 — 成功：483，失败：267，成功率：64.40%\n"
          ]
        },
        {
          "name": "stderr",
          "output_type": "stream",
          "text": [
            " 20%|██        | 1010/5000 [00:34<01:17, 51.65it/s]"
          ]
        },
        {
          "name": "stdout",
          "output_type": "stream",
          "text": [
            "📊 1000/5000 完成 — 成功：616，失败：384，成功率：61.60%\n"
          ]
        },
        {
          "name": "stderr",
          "output_type": "stream",
          "text": [
            " 25%|██▌       | 1256/5000 [00:40<01:46, 35.01it/s]"
          ]
        },
        {
          "name": "stdout",
          "output_type": "stream",
          "text": [
            "📊 1250/5000 完成 — 成功：767，失败：483，成功率：61.36%\n"
          ]
        },
        {
          "name": "stderr",
          "output_type": "stream",
          "text": [
            " 30%|███       | 1504/5000 [00:47<01:10, 49.93it/s]"
          ]
        },
        {
          "name": "stdout",
          "output_type": "stream",
          "text": [
            "📊 1500/5000 完成 — 成功：910，失败：590，成功率：60.67%\n"
          ]
        },
        {
          "name": "stderr",
          "output_type": "stream",
          "text": [
            " 35%|███▌      | 1753/5000 [00:53<00:59, 54.34it/s]"
          ]
        },
        {
          "name": "stdout",
          "output_type": "stream",
          "text": [
            "📊 1750/5000 完成 — 成功：1081，失败：669，成功率：61.77%\n"
          ]
        },
        {
          "name": "stderr",
          "output_type": "stream",
          "text": [
            " 40%|████      | 2004/5000 [00:59<00:54, 55.36it/s]"
          ]
        },
        {
          "name": "stdout",
          "output_type": "stream",
          "text": [
            "📊 2000/5000 完成 — 成功：1224，失败：776，成功率：61.20%\n"
          ]
        },
        {
          "name": "stderr",
          "output_type": "stream",
          "text": [
            " 45%|████▌     | 2258/5000 [01:05<00:48, 56.88it/s]"
          ]
        },
        {
          "name": "stdout",
          "output_type": "stream",
          "text": [
            "📊 2250/5000 完成 — 成功：1362，失败：888，成功率：60.53%\n"
          ]
        },
        {
          "name": "stderr",
          "output_type": "stream",
          "text": [
            " 50%|█████     | 2509/5000 [01:16<00:36, 67.78it/s]"
          ]
        },
        {
          "name": "stdout",
          "output_type": "stream",
          "text": [
            "📊 2500/5000 完成 — 成功：1480，失败：1020，成功率：59.20%\n"
          ]
        },
        {
          "name": "stderr",
          "output_type": "stream",
          "text": [
            " 55%|█████▌    | 2757/5000 [01:27<01:00, 36.89it/s]"
          ]
        },
        {
          "name": "stdout",
          "output_type": "stream",
          "text": [
            "📊 2750/5000 完成 — 成功：1637，失败：1113，成功率：59.53%\n"
          ]
        },
        {
          "name": "stderr",
          "output_type": "stream",
          "text": [
            " 60%|██████    | 3008/5000 [01:36<00:41, 47.68it/s]"
          ]
        },
        {
          "name": "stdout",
          "output_type": "stream",
          "text": [
            "📊 3000/5000 完成 — 成功：1804，失败：1196，成功率：60.13%\n"
          ]
        },
        {
          "name": "stderr",
          "output_type": "stream",
          "text": [
            " 65%|██████▌   | 3254/5000 [01:42<00:35, 49.56it/s]"
          ]
        },
        {
          "name": "stdout",
          "output_type": "stream",
          "text": [
            "📊 3250/5000 完成 — 成功：1953，失败：1297，成功率：60.09%\n"
          ]
        },
        {
          "name": "stderr",
          "output_type": "stream",
          "text": [
            " 70%|███████   | 3504/5000 [01:49<00:51, 29.08it/s]"
          ]
        },
        {
          "name": "stdout",
          "output_type": "stream",
          "text": [
            "📊 3500/5000 完成 — 成功：2110，失败：1390，成功率：60.29%\n"
          ]
        },
        {
          "name": "stderr",
          "output_type": "stream",
          "text": [
            " 75%|███████▌  | 3760/5000 [01:58<00:19, 64.90it/s]"
          ]
        },
        {
          "name": "stdout",
          "output_type": "stream",
          "text": [
            "📊 3750/5000 完成 — 成功：2248，失败：1502，成功率：59.95%\n"
          ]
        },
        {
          "name": "stderr",
          "output_type": "stream",
          "text": [
            " 80%|████████  | 4002/5000 [02:05<00:34, 29.25it/s]"
          ]
        },
        {
          "name": "stdout",
          "output_type": "stream",
          "text": [
            "📊 4000/5000 完成 — 成功：2417，失败：1583，成功率：60.42%\n"
          ]
        },
        {
          "name": "stderr",
          "output_type": "stream",
          "text": [
            " 85%|████████▌ | 4256/5000 [02:12<00:16, 44.92it/s]"
          ]
        },
        {
          "name": "stdout",
          "output_type": "stream",
          "text": [
            "📊 4250/5000 完成 — 成功：2555，失败：1695，成功率：60.12%\n"
          ]
        },
        {
          "name": "stderr",
          "output_type": "stream",
          "text": [
            " 90%|█████████ | 4502/5000 [02:19<00:14, 35.56it/s]"
          ]
        },
        {
          "name": "stdout",
          "output_type": "stream",
          "text": [
            "📊 4500/5000 完成 — 成功：2700，失败：1800，成功率：60.00%\n"
          ]
        },
        {
          "name": "stderr",
          "output_type": "stream",
          "text": [
            " 95%|█████████▌| 4754/5000 [02:30<00:08, 28.75it/s]"
          ]
        },
        {
          "name": "stdout",
          "output_type": "stream",
          "text": [
            "📊 4750/5000 完成 — 成功：2845，失败：1905，成功率：59.89%\n"
          ]
        },
        {
          "name": "stderr",
          "output_type": "stream",
          "text": [
            "100%|██████████| 5000/5000 [02:46<00:00, 30.05it/s]"
          ]
        },
        {
          "name": "stdout",
          "output_type": "stream",
          "text": [
            "📊 5000/5000 完成 — 成功：3000，失败：2000，成功率：60.00%\n"
          ]
        },
        {
          "name": "stderr",
          "output_type": "stream",
          "text": [
            "\n"
          ]
        },
        {
          "name": "stdout",
          "output_type": "stream",
          "text": [
            "✅ 压缩完成：/content/images_5000_10000.zip\n",
            "📤 已上传到 Google Drive: /content/drive/MyDrive/AMMeBa_batches\n",
            "🧹 清理完成 Batch 5000-10000\n",
            "\n",
            "🚀 开始下载图像 Batch 10000 - 15000 ...\n"
          ]
        },
        {
          "name": "stderr",
          "output_type": "stream",
          "text": [
            "  5%|▌         | 266/5000 [00:02<00:53, 88.76it/s]"
          ]
        },
        {
          "name": "stdout",
          "output_type": "stream",
          "text": [
            "📊 250/5000 完成 — 成功：136，失败：114，成功率：54.40%\n"
          ]
        },
        {
          "name": "stderr",
          "output_type": "stream",
          "text": [
            " 10%|█         | 506/5000 [00:08<01:51, 40.41it/s]"
          ]
        },
        {
          "name": "stdout",
          "output_type": "stream",
          "text": [
            "📊 500/5000 完成 — 成功：285，失败：215，成功率：57.00%\n"
          ]
        },
        {
          "name": "stderr",
          "output_type": "stream",
          "text": [
            " 15%|█▌        | 753/5000 [00:15<02:07, 33.20it/s]"
          ]
        },
        {
          "name": "stdout",
          "output_type": "stream",
          "text": [
            "📊 750/5000 完成 — 成功：436，失败：314，成功率：58.13%\n"
          ]
        },
        {
          "name": "stderr",
          "output_type": "stream",
          "text": [
            " 20%|██        | 1001/5000 [00:28<03:53, 17.10it/s]"
          ]
        },
        {
          "name": "stdout",
          "output_type": "stream",
          "text": [
            "📊 1000/5000 完成 — 成功：593，失败：407，成功率：59.30%\n"
          ]
        },
        {
          "name": "stderr",
          "output_type": "stream",
          "text": [
            " 25%|██▌       | 1255/5000 [00:37<02:05, 29.80it/s]"
          ]
        },
        {
          "name": "stdout",
          "output_type": "stream",
          "text": [
            "📊 1250/5000 完成 — 成功：723，失败：527，成功率：57.84%\n"
          ]
        },
        {
          "name": "stderr",
          "output_type": "stream",
          "text": [
            " 30%|███       | 1500/5000 [00:52<03:13, 18.05it/s]"
          ]
        },
        {
          "name": "stdout",
          "output_type": "stream",
          "text": [
            "📊 1500/5000 完成 — 成功：875，失败：625，成功率：58.33%\n"
          ]
        },
        {
          "name": "stderr",
          "output_type": "stream",
          "text": [
            " 35%|███▍      | 1748/5000 [01:05<01:28, 36.62it/s]"
          ]
        },
        {
          "name": "stdout",
          "output_type": "stream",
          "text": [
            "📊 1750/5000 完成 — 成功：1023，失败：727，成功率：58.46%\n"
          ]
        },
        {
          "name": "stderr",
          "output_type": "stream",
          "text": [
            " 40%|████      | 2009/5000 [01:14<01:00, 49.22it/s]"
          ]
        },
        {
          "name": "stdout",
          "output_type": "stream",
          "text": [
            "📊 2000/5000 完成 — 成功：1161，失败：839，成功率：58.05%\n"
          ]
        },
        {
          "name": "stderr",
          "output_type": "stream",
          "text": [
            " 45%|████▌     | 2252/5000 [01:21<01:17, 35.48it/s]"
          ]
        },
        {
          "name": "stdout",
          "output_type": "stream",
          "text": [
            "📊 2250/5000 完成 — 成功：1302，失败：948，成功率：57.87%\n"
          ]
        },
        {
          "name": "stderr",
          "output_type": "stream",
          "text": [
            " 50%|█████     | 2502/5000 [01:32<02:13, 18.66it/s]"
          ]
        },
        {
          "name": "stdout",
          "output_type": "stream",
          "text": [
            "📊 2500/5000 完成 — 成功：1428，失败：1072，成功率：57.12%\n"
          ]
        },
        {
          "name": "stderr",
          "output_type": "stream",
          "text": [
            " 55%|█████▌    | 2759/5000 [01:41<00:53, 42.17it/s]"
          ]
        },
        {
          "name": "stdout",
          "output_type": "stream",
          "text": [
            "📊 2750/5000 完成 — 成功：1561，失败：1189，成功率：56.76%\n"
          ]
        },
        {
          "name": "stderr",
          "output_type": "stream",
          "text": [
            " 60%|██████    | 3001/5000 [01:48<00:46, 43.19it/s]"
          ]
        },
        {
          "name": "stdout",
          "output_type": "stream",
          "text": [
            "📊 3000/5000 完成 — 成功：1693，失败：1307，成功率：56.43%\n"
          ]
        },
        {
          "name": "stderr",
          "output_type": "stream",
          "text": [
            " 65%|██████▌   | 3260/5000 [01:56<00:26, 65.67it/s]"
          ]
        },
        {
          "name": "stdout",
          "output_type": "stream",
          "text": [
            "📊 3250/5000 完成 — 成功：1816，失败：1434，成功率：55.88%\n"
          ]
        },
        {
          "name": "stderr",
          "output_type": "stream",
          "text": [
            " 70%|███████   | 3504/5000 [02:03<00:46, 32.39it/s]"
          ]
        },
        {
          "name": "stdout",
          "output_type": "stream",
          "text": [
            "📊 3500/5000 完成 — 成功：1951，失败：1549，成功率：55.74%\n"
          ]
        },
        {
          "name": "stderr",
          "output_type": "stream",
          "text": [
            " 75%|███████▌  | 3764/5000 [02:08<00:18, 66.12it/s]"
          ]
        },
        {
          "name": "stdout",
          "output_type": "stream",
          "text": [
            "📊 3750/5000 完成 — 成功：2079，失败：1671，成功率：55.44%\n"
          ]
        },
        {
          "name": "stderr",
          "output_type": "stream",
          "text": [
            " 80%|████████  | 4002/5000 [02:13<00:30, 32.89it/s]"
          ]
        },
        {
          "name": "stdout",
          "output_type": "stream",
          "text": [
            "📊 4000/5000 完成 — 成功：2220，失败：1780，成功率：55.50%\n"
          ]
        },
        {
          "name": "stderr",
          "output_type": "stream",
          "text": [
            " 85%|████████▌ | 4252/5000 [02:23<00:32, 23.02it/s]"
          ]
        },
        {
          "name": "stdout",
          "output_type": "stream",
          "text": [
            "📊 4250/5000 完成 — 成功：2360，失败：1890，成功率：55.53%\n"
          ]
        },
        {
          "name": "stderr",
          "output_type": "stream",
          "text": [
            " 90%|█████████ | 4504/5000 [02:30<00:08, 58.59it/s]"
          ]
        },
        {
          "name": "stdout",
          "output_type": "stream",
          "text": [
            "📊 4500/5000 完成 — 成功：2525，失败：1975，成功率：56.11%\n"
          ]
        },
        {
          "name": "stderr",
          "output_type": "stream",
          "text": [
            " 95%|█████████▌| 4757/5000 [02:35<00:04, 52.18it/s]"
          ]
        },
        {
          "name": "stdout",
          "output_type": "stream",
          "text": [
            "📊 4750/5000 完成 — 成功：2666，失败：2084，成功率：56.13%\n"
          ]
        },
        {
          "name": "stderr",
          "output_type": "stream",
          "text": [
            "100%|██████████| 5000/5000 [02:56<00:00, 28.28it/s]"
          ]
        },
        {
          "name": "stdout",
          "output_type": "stream",
          "text": [
            "📊 5000/5000 完成 — 成功：2793，失败：2207，成功率：55.86%\n"
          ]
        },
        {
          "name": "stderr",
          "output_type": "stream",
          "text": [
            "\n"
          ]
        },
        {
          "name": "stdout",
          "output_type": "stream",
          "text": [
            "✅ 压缩完成：/content/images_10000_15000.zip\n",
            "📤 已上传到 Google Drive: /content/drive/MyDrive/AMMeBa_batches\n",
            "🧹 清理完成 Batch 10000-15000\n",
            "\n",
            "🚀 开始下载图像 Batch 15000 - 20000 ...\n"
          ]
        },
        {
          "name": "stderr",
          "output_type": "stream",
          "text": [
            "  5%|▌         | 259/5000 [00:04<02:02, 38.79it/s]"
          ]
        },
        {
          "name": "stdout",
          "output_type": "stream",
          "text": [
            "📊 250/5000 完成 — 成功：135，失败：115，成功率：54.00%\n"
          ]
        },
        {
          "name": "stderr",
          "output_type": "stream",
          "text": [
            " 10%|█         | 502/5000 [00:11<01:47, 41.76it/s]"
          ]
        },
        {
          "name": "stdout",
          "output_type": "stream",
          "text": [
            "📊 500/5000 完成 — 成功：273，失败：227，成功率：54.60%\n"
          ]
        },
        {
          "name": "stderr",
          "output_type": "stream",
          "text": [
            " 15%|█▌        | 751/5000 [00:16<01:18, 53.93it/s]"
          ]
        },
        {
          "name": "stdout",
          "output_type": "stream",
          "text": [
            "📊 750/5000 完成 — 成功：410，失败：340，成功率：54.67%\n"
          ]
        },
        {
          "name": "stderr",
          "output_type": "stream",
          "text": [
            " 20%|██        | 1000/5000 [00:24<03:13, 20.65it/s]"
          ]
        },
        {
          "name": "stdout",
          "output_type": "stream",
          "text": [
            "📊 1000/5000 完成 — 成功：544，失败：456，成功率：54.40%\n"
          ]
        },
        {
          "name": "stderr",
          "output_type": "stream",
          "text": [
            " 25%|██▌       | 1253/5000 [00:32<01:26, 43.14it/s]"
          ]
        },
        {
          "name": "stdout",
          "output_type": "stream",
          "text": [
            "📊 1250/5000 完成 — 成功：672，失败：578，成功率：53.76%\n"
          ]
        },
        {
          "name": "stderr",
          "output_type": "stream",
          "text": [
            " 30%|███       | 1504/5000 [00:40<01:34, 36.90it/s]"
          ]
        },
        {
          "name": "stdout",
          "output_type": "stream",
          "text": [
            "📊 1500/5000 完成 — 成功：817，失败：683，成功率：54.47%\n"
          ]
        },
        {
          "name": "stderr",
          "output_type": "stream",
          "text": [
            " 35%|███▌      | 1753/5000 [00:46<01:26, 37.62it/s]"
          ]
        },
        {
          "name": "stdout",
          "output_type": "stream",
          "text": [
            "📊 1750/5000 完成 — 成功：949，失败：801，成功率：54.23%\n"
          ]
        },
        {
          "name": "stderr",
          "output_type": "stream",
          "text": [
            " 40%|████      | 2002/5000 [01:00<01:35, 31.25it/s]"
          ]
        },
        {
          "name": "stdout",
          "output_type": "stream",
          "text": [
            "📊 2000/5000 完成 — 成功：1074，失败：926，成功率：53.70%\n"
          ]
        },
        {
          "name": "stderr",
          "output_type": "stream",
          "text": [
            " 45%|████▌     | 2253/5000 [01:06<01:14, 36.85it/s]"
          ]
        },
        {
          "name": "stdout",
          "output_type": "stream",
          "text": [
            "📊 2250/5000 完成 — 成功：1235，失败：1015，成功率：54.89%\n"
          ]
        },
        {
          "name": "stderr",
          "output_type": "stream",
          "text": [
            " 50%|█████     | 2500/5000 [01:17<01:24, 29.72it/s]"
          ]
        },
        {
          "name": "stdout",
          "output_type": "stream",
          "text": [
            "📊 2500/5000 完成 — 成功：1361，失败：1139，成功率：54.44%\n"
          ]
        },
        {
          "name": "stderr",
          "output_type": "stream",
          "text": [
            " 55%|█████▌    | 2756/5000 [01:29<01:15, 29.73it/s]"
          ]
        },
        {
          "name": "stdout",
          "output_type": "stream",
          "text": [
            "📊 2750/5000 完成 — 成功：1507，失败：1243，成功率：54.80%\n"
          ]
        },
        {
          "name": "stderr",
          "output_type": "stream",
          "text": [
            " 60%|██████    | 3004/5000 [01:36<00:45, 43.45it/s]"
          ]
        },
        {
          "name": "stdout",
          "output_type": "stream",
          "text": [
            "📊 3000/5000 完成 — 成功：1661，失败：1339，成功率：55.37%\n"
          ]
        },
        {
          "name": "stderr",
          "output_type": "stream",
          "text": [
            " 65%|██████▌   | 3253/5000 [01:40<00:26, 66.55it/s]"
          ]
        },
        {
          "name": "stdout",
          "output_type": "stream",
          "text": [
            "📊 3250/5000 完成 — 成功：1800，失败：1450，成功率：55.38%\n"
          ]
        },
        {
          "name": "stderr",
          "output_type": "stream",
          "text": [
            " 70%|███████   | 3504/5000 [01:46<00:25, 59.38it/s]"
          ]
        },
        {
          "name": "stdout",
          "output_type": "stream",
          "text": [
            "📊 3500/5000 完成 — 成功：1935，失败：1565，成功率：55.29%\n"
          ]
        },
        {
          "name": "stderr",
          "output_type": "stream",
          "text": [
            " 75%|███████▍  | 3747/5000 [01:52<01:22, 15.26it/s]"
          ]
        },
        {
          "name": "stdout",
          "output_type": "stream",
          "text": [
            "📊 3750/5000 完成 — 成功：2057，失败：1693，成功率：54.85%\n"
          ]
        },
        {
          "name": "stderr",
          "output_type": "stream",
          "text": [
            " 80%|████████  | 4001/5000 [02:01<00:44, 22.33it/s]"
          ]
        },
        {
          "name": "stdout",
          "output_type": "stream",
          "text": [
            "📊 4000/5000 完成 — 成功：2164，失败：1836，成功率：54.10%\n"
          ]
        },
        {
          "name": "stderr",
          "output_type": "stream",
          "text": [
            " 85%|████████▌ | 4252/5000 [02:11<00:23, 32.18it/s]"
          ]
        },
        {
          "name": "stdout",
          "output_type": "stream",
          "text": [
            "📊 4250/5000 完成 — 成功：2306，失败：1944，成功率：54.26%\n"
          ]
        },
        {
          "name": "stderr",
          "output_type": "stream",
          "text": [
            " 90%|█████████ | 4506/5000 [02:20<00:05, 87.48it/s]"
          ]
        },
        {
          "name": "stdout",
          "output_type": "stream",
          "text": [
            "📊 4500/5000 完成 — 成功：2440，失败：2060，成功率：54.22%\n"
          ]
        },
        {
          "name": "stderr",
          "output_type": "stream",
          "text": [
            " 95%|█████████▌| 4752/5000 [02:25<00:06, 37.00it/s]"
          ]
        },
        {
          "name": "stdout",
          "output_type": "stream",
          "text": [
            "📊 4750/5000 完成 — 成功：2545，失败：2205，成功率：53.58%\n"
          ]
        },
        {
          "name": "stderr",
          "output_type": "stream",
          "text": [
            "100%|██████████| 5000/5000 [02:46<00:00, 29.94it/s]"
          ]
        },
        {
          "name": "stdout",
          "output_type": "stream",
          "text": [
            "📊 5000/5000 完成 — 成功：2690，失败：2310，成功率：53.80%\n"
          ]
        },
        {
          "name": "stderr",
          "output_type": "stream",
          "text": [
            "\n"
          ]
        },
        {
          "name": "stdout",
          "output_type": "stream",
          "text": [
            "✅ 压缩完成：/content/images_15000_20000.zip\n",
            "📤 已上传到 Google Drive: /content/drive/MyDrive/AMMeBa_batches\n",
            "🧹 清理完成 Batch 15000-20000\n",
            "\n",
            "🚀 开始下载图像 Batch 20000 - 25000 ...\n"
          ]
        },
        {
          "name": "stderr",
          "output_type": "stream",
          "text": [
            "  5%|▍         | 249/5000 [00:02<00:48, 98.85it/s] "
          ]
        },
        {
          "name": "stdout",
          "output_type": "stream",
          "text": [
            "📊 250/5000 完成 — 成功：157，失败：93，成功率：62.80%\n"
          ]
        },
        {
          "name": "stderr",
          "output_type": "stream",
          "text": [
            " 10%|█         | 505/5000 [00:06<01:21, 55.15it/s]"
          ]
        },
        {
          "name": "stdout",
          "output_type": "stream",
          "text": [
            "📊 500/5000 完成 — 成功：316，失败：184，成功率：63.20%\n"
          ]
        },
        {
          "name": "stderr",
          "output_type": "stream",
          "text": [
            " 15%|█▌        | 752/5000 [00:16<03:49, 18.55it/s]"
          ]
        },
        {
          "name": "stdout",
          "output_type": "stream",
          "text": [
            "📊 750/5000 完成 — 成功：468，失败：282，成功率：62.40%\n"
          ]
        },
        {
          "name": "stderr",
          "output_type": "stream",
          "text": [
            " 20%|██        | 1009/5000 [00:24<01:11, 56.15it/s]"
          ]
        },
        {
          "name": "stdout",
          "output_type": "stream",
          "text": [
            "📊 1000/5000 完成 — 成功：585，失败：415，成功率：58.50%\n"
          ]
        },
        {
          "name": "stderr",
          "output_type": "stream",
          "text": [
            " 25%|██▌       | 1252/5000 [00:33<03:38, 17.13it/s]"
          ]
        },
        {
          "name": "stdout",
          "output_type": "stream",
          "text": [
            "📊 1250/5000 完成 — 成功：720，失败：530，成功率：57.60%\n"
          ]
        },
        {
          "name": "stderr",
          "output_type": "stream",
          "text": [
            " 30%|███       | 1509/5000 [00:40<01:20, 43.62it/s]"
          ]
        },
        {
          "name": "stdout",
          "output_type": "stream",
          "text": [
            "📊 1500/5000 完成 — 成功：845，失败：655，成功率：56.33%\n"
          ]
        },
        {
          "name": "stderr",
          "output_type": "stream",
          "text": [
            " 35%|███▌      | 1774/5000 [00:47<00:45, 70.56it/s]"
          ]
        },
        {
          "name": "stdout",
          "output_type": "stream",
          "text": [
            "📊 1750/5000 完成 — 成功：990，失败：760，成功率：56.57%\n"
          ]
        },
        {
          "name": "stderr",
          "output_type": "stream",
          "text": [
            " 40%|████      | 2002/5000 [00:51<01:04, 46.68it/s]"
          ]
        },
        {
          "name": "stdout",
          "output_type": "stream",
          "text": [
            "📊 2000/5000 完成 — 成功：1140，失败：860，成功率：57.00%\n"
          ]
        },
        {
          "name": "stderr",
          "output_type": "stream",
          "text": [
            " 45%|████▍     | 2247/5000 [00:57<00:33, 81.25it/s]"
          ]
        },
        {
          "name": "stdout",
          "output_type": "stream",
          "text": [
            "📊 2250/5000 完成 — 成功：1291，失败：959，成功率：57.38%\n"
          ]
        },
        {
          "name": "stderr",
          "output_type": "stream",
          "text": [
            " 50%|████▉     | 2499/5000 [01:04<00:32, 76.85it/s]"
          ]
        },
        {
          "name": "stdout",
          "output_type": "stream",
          "text": [
            "📊 2500/5000 完成 — 成功：1409，失败：1091，成功率：56.36%\n"
          ]
        },
        {
          "name": "stderr",
          "output_type": "stream",
          "text": [
            " 55%|█████▌    | 2755/5000 [01:15<01:42, 21.96it/s]"
          ]
        },
        {
          "name": "stdout",
          "output_type": "stream",
          "text": [
            "📊 2750/5000 完成 — 成功：1576，失败：1174，成功率：57.31%\n"
          ]
        },
        {
          "name": "stderr",
          "output_type": "stream",
          "text": [
            " 60%|██████    | 3010/5000 [01:22<00:49, 40.17it/s]"
          ]
        },
        {
          "name": "stdout",
          "output_type": "stream",
          "text": [
            "📊 3000/5000 完成 — 成功：1715，失败：1285，成功率：57.17%\n"
          ]
        },
        {
          "name": "stderr",
          "output_type": "stream",
          "text": [
            " 65%|██████▌   | 3254/5000 [01:29<00:28, 61.34it/s]"
          ]
        },
        {
          "name": "stdout",
          "output_type": "stream",
          "text": [
            "📊 3250/5000 完成 — 成功：1876，失败：1374，成功率：57.72%\n"
          ]
        },
        {
          "name": "stderr",
          "output_type": "stream",
          "text": [
            " 70%|███████   | 3504/5000 [01:35<00:56, 26.30it/s]"
          ]
        },
        {
          "name": "stdout",
          "output_type": "stream",
          "text": [
            "📊 3500/5000 完成 — 成功：2028，失败：1472，成功率：57.94%\n"
          ]
        },
        {
          "name": "stderr",
          "output_type": "stream",
          "text": [
            " 75%|███████▌  | 3762/5000 [01:41<00:14, 83.90it/s]"
          ]
        },
        {
          "name": "stdout",
          "output_type": "stream",
          "text": [
            "📊 3750/5000 完成 — 成功：2186，失败：1564，成功率：58.29%\n"
          ]
        },
        {
          "name": "stderr",
          "output_type": "stream",
          "text": [
            " 80%|████████  | 4004/5000 [01:46<00:20, 48.12it/s]"
          ]
        },
        {
          "name": "stdout",
          "output_type": "stream",
          "text": [
            "📊 4000/5000 完成 — 成功：2304，失败：1696，成功率：57.60%\n"
          ]
        },
        {
          "name": "stderr",
          "output_type": "stream",
          "text": [
            " 85%|████████▌ | 4259/5000 [01:51<00:13, 53.60it/s]"
          ]
        },
        {
          "name": "stdout",
          "output_type": "stream",
          "text": [
            "📊 4250/5000 完成 — 成功：2431，失败：1819，成功率：57.20%\n"
          ]
        },
        {
          "name": "stderr",
          "output_type": "stream",
          "text": [
            " 90%|█████████ | 4502/5000 [01:57<00:10, 45.29it/s]"
          ]
        },
        {
          "name": "stdout",
          "output_type": "stream",
          "text": [
            "📊 4500/5000 完成 — 成功：2561，失败：1939，成功率：56.91%\n"
          ]
        },
        {
          "name": "stderr",
          "output_type": "stream",
          "text": [
            " 95%|█████████▌| 4760/5000 [02:03<00:03, 77.86it/s]"
          ]
        },
        {
          "name": "stdout",
          "output_type": "stream",
          "text": [
            "📊 4750/5000 完成 — 成功：2718，失败：2032，成功率：57.22%\n"
          ]
        },
        {
          "name": "stderr",
          "output_type": "stream",
          "text": [
            "100%|██████████| 5000/5000 [02:17<00:00, 36.27it/s]"
          ]
        },
        {
          "name": "stdout",
          "output_type": "stream",
          "text": [
            "📊 5000/5000 完成 — 成功：2870，失败：2130，成功率：57.40%\n"
          ]
        },
        {
          "name": "stderr",
          "output_type": "stream",
          "text": [
            "\n"
          ]
        },
        {
          "name": "stdout",
          "output_type": "stream",
          "text": [
            "✅ 压缩完成：/content/images_20000_25000.zip\n",
            "📤 已上传到 Google Drive: /content/drive/MyDrive/AMMeBa_batches\n",
            "🧹 清理完成 Batch 20000-25000\n",
            "\n",
            "🚀 开始下载图像 Batch 25000 - 30000 ...\n"
          ]
        },
        {
          "name": "stderr",
          "output_type": "stream",
          "text": [
            "  5%|▍         | 249/5000 [00:03<01:21, 58.52it/s]"
          ]
        },
        {
          "name": "stdout",
          "output_type": "stream",
          "text": [
            "📊 250/5000 完成 — 成功：178，失败：72，成功率：71.20%\n"
          ]
        },
        {
          "name": "stderr",
          "output_type": "stream",
          "text": [
            " 10%|█         | 513/5000 [00:13<01:13, 61.09it/s]"
          ]
        },
        {
          "name": "stdout",
          "output_type": "stream",
          "text": [
            "📊 500/5000 完成 — 成功：344，失败：156，成功率：68.80%\n"
          ]
        },
        {
          "name": "stderr",
          "output_type": "stream",
          "text": [
            " 15%|█▌        | 758/5000 [00:19<01:46, 39.95it/s]"
          ]
        },
        {
          "name": "stdout",
          "output_type": "stream",
          "text": [
            "📊 750/5000 完成 — 成功：509，失败：241，成功率：67.87%\n"
          ]
        },
        {
          "name": "stderr",
          "output_type": "stream",
          "text": [
            " 20%|██        | 1004/5000 [00:26<02:41, 24.80it/s]"
          ]
        },
        {
          "name": "stdout",
          "output_type": "stream",
          "text": [
            "📊 1000/5000 完成 — 成功：648，失败：352，成功率：64.80%\n"
          ]
        },
        {
          "name": "stderr",
          "output_type": "stream",
          "text": [
            " 25%|██▌       | 1251/5000 [00:34<02:01, 30.75it/s]"
          ]
        },
        {
          "name": "stdout",
          "output_type": "stream",
          "text": [
            "📊 1250/5000 完成 — 成功：799，失败：451，成功率：63.92%\n"
          ]
        },
        {
          "name": "stderr",
          "output_type": "stream",
          "text": [
            " 30%|███       | 1512/5000 [00:45<01:11, 48.50it/s]"
          ]
        },
        {
          "name": "stdout",
          "output_type": "stream",
          "text": [
            "📊 1500/5000 完成 — 成功：953，失败：547，成功率：63.53%\n"
          ]
        },
        {
          "name": "stderr",
          "output_type": "stream",
          "text": [
            " 35%|███▌      | 1758/5000 [00:57<01:27, 37.21it/s]"
          ]
        },
        {
          "name": "stdout",
          "output_type": "stream",
          "text": [
            "📊 1750/5000 完成 — 成功：1078，失败：672，成功率：61.60%\n"
          ]
        },
        {
          "name": "stderr",
          "output_type": "stream",
          "text": [
            " 40%|████      | 2006/5000 [01:04<01:06, 45.35it/s]"
          ]
        },
        {
          "name": "stdout",
          "output_type": "stream",
          "text": [
            "📊 2000/5000 完成 — 成功：1258，失败：742，成功率：62.90%\n"
          ]
        },
        {
          "name": "stderr",
          "output_type": "stream",
          "text": [
            " 45%|████▌     | 2252/5000 [01:17<01:55, 23.86it/s]"
          ]
        },
        {
          "name": "stdout",
          "output_type": "stream",
          "text": [
            "📊 2250/5000 完成 — 成功：1401，失败：849，成功率：62.27%\n"
          ]
        },
        {
          "name": "stderr",
          "output_type": "stream",
          "text": [
            " 50%|█████     | 2509/5000 [01:25<00:46, 53.99it/s]"
          ]
        },
        {
          "name": "stdout",
          "output_type": "stream",
          "text": [
            "📊 2500/5000 完成 — 成功：1548，失败：952，成功率：61.92%\n"
          ]
        },
        {
          "name": "stderr",
          "output_type": "stream",
          "text": [
            " 55%|█████▌    | 2759/5000 [01:32<00:57, 38.96it/s]"
          ]
        },
        {
          "name": "stdout",
          "output_type": "stream",
          "text": [
            "📊 2750/5000 完成 — 成功：1677，失败：1073，成功率：60.98%\n"
          ]
        },
        {
          "name": "stderr",
          "output_type": "stream",
          "text": [
            " 60%|██████    | 3011/5000 [01:40<00:39, 50.93it/s]"
          ]
        },
        {
          "name": "stdout",
          "output_type": "stream",
          "text": [
            "📊 3000/5000 完成 — 成功：1819，失败：1181，成功率：60.63%\n"
          ]
        },
        {
          "name": "stderr",
          "output_type": "stream",
          "text": [
            " 65%|██████▌   | 3258/5000 [01:45<00:41, 41.58it/s]"
          ]
        },
        {
          "name": "stdout",
          "output_type": "stream",
          "text": [
            "📊 3250/5000 完成 — 成功：1953，失败：1297，成功率：60.09%\n"
          ]
        },
        {
          "name": "stderr",
          "output_type": "stream",
          "text": [
            " 70%|███████   | 3506/5000 [01:53<00:57, 25.93it/s]"
          ]
        },
        {
          "name": "stdout",
          "output_type": "stream",
          "text": [
            "📊 3500/5000 完成 — 成功：2120，失败：1380，成功率：60.57%\n"
          ]
        },
        {
          "name": "stderr",
          "output_type": "stream",
          "text": [
            " 75%|███████▌  | 3763/5000 [01:59<00:24, 49.74it/s]"
          ]
        },
        {
          "name": "stdout",
          "output_type": "stream",
          "text": [
            "📊 3750/5000 完成 — 成功：2279，失败：1471，成功率：60.77%\n"
          ]
        },
        {
          "name": "stderr",
          "output_type": "stream",
          "text": [
            " 80%|████████  | 4006/5000 [02:07<00:26, 37.88it/s]"
          ]
        },
        {
          "name": "stdout",
          "output_type": "stream",
          "text": [
            "📊 4000/5000 完成 — 成功：2452，失败：1548，成功率：61.30%\n"
          ]
        },
        {
          "name": "stderr",
          "output_type": "stream",
          "text": [
            " 85%|████████▌ | 4255/5000 [02:13<00:25, 28.78it/s]"
          ]
        },
        {
          "name": "stdout",
          "output_type": "stream",
          "text": [
            "📊 4250/5000 完成 — 成功：2607，失败：1643，成功率：61.34%\n"
          ]
        },
        {
          "name": "stderr",
          "output_type": "stream",
          "text": [
            " 90%|█████████ | 4503/5000 [02:25<00:22, 22.41it/s]"
          ]
        },
        {
          "name": "stdout",
          "output_type": "stream",
          "text": [
            "📊 4500/5000 完成 — 成功：2766，失败：1734，成功率：61.47%\n"
          ]
        },
        {
          "name": "stderr",
          "output_type": "stream",
          "text": [
            " 95%|█████████▌| 4753/5000 [02:31<00:05, 42.71it/s]"
          ]
        },
        {
          "name": "stdout",
          "output_type": "stream",
          "text": [
            "📊 4750/5000 完成 — 成功：2925，失败：1825，成功率：61.58%\n"
          ]
        },
        {
          "name": "stderr",
          "output_type": "stream",
          "text": [
            "100%|██████████| 5000/5000 [02:45<00:00, 30.15it/s]"
          ]
        },
        {
          "name": "stdout",
          "output_type": "stream",
          "text": [
            "📊 5000/5000 完成 — 成功：3094，失败：1906，成功率：61.88%\n"
          ]
        },
        {
          "name": "stderr",
          "output_type": "stream",
          "text": [
            "\n"
          ]
        },
        {
          "name": "stdout",
          "output_type": "stream",
          "text": [
            "✅ 压缩完成：/content/images_25000_30000.zip\n",
            "📤 已上传到 Google Drive: /content/drive/MyDrive/AMMeBa_batches\n",
            "🧹 清理完成 Batch 25000-30000\n",
            "\n",
            "🚀 开始下载图像 Batch 30000 - 35000 ...\n"
          ]
        },
        {
          "name": "stderr",
          "output_type": "stream",
          "text": [
            "  5%|▌         | 259/5000 [00:03<01:08, 69.63it/s]"
          ]
        },
        {
          "name": "stdout",
          "output_type": "stream",
          "text": [
            "📊 250/5000 完成 — 成功：169，失败：81，成功率：67.60%\n"
          ]
        },
        {
          "name": "stderr",
          "output_type": "stream",
          "text": [
            " 10%|█         | 519/5000 [00:08<00:56, 79.01it/s]"
          ]
        },
        {
          "name": "stdout",
          "output_type": "stream",
          "text": [
            "📊 500/5000 完成 — 成功：348，失败：152，成功率：69.60%\n"
          ]
        },
        {
          "name": "stderr",
          "output_type": "stream",
          "text": [
            " 15%|█▌        | 774/5000 [00:12<00:36, 114.45it/s]"
          ]
        },
        {
          "name": "stdout",
          "output_type": "stream",
          "text": [
            "📊 750/5000 完成 — 成功：497，失败：253，成功率：66.27%\n"
          ]
        },
        {
          "name": "stderr",
          "output_type": "stream",
          "text": [
            " 20%|██        | 1008/5000 [00:16<00:43, 91.59it/s]"
          ]
        },
        {
          "name": "stdout",
          "output_type": "stream",
          "text": [
            "📊 1000/5000 完成 — 成功：671，失败：329，成功率：67.10%\n"
          ]
        },
        {
          "name": "stderr",
          "output_type": "stream",
          "text": [
            " 25%|██▌       | 1257/5000 [00:21<01:32, 40.34it/s]"
          ]
        },
        {
          "name": "stdout",
          "output_type": "stream",
          "text": [
            "📊 1250/5000 完成 — 成功：840，失败：410，成功率：67.20%\n"
          ]
        },
        {
          "name": "stderr",
          "output_type": "stream",
          "text": [
            " 30%|███       | 1506/5000 [00:30<01:44, 33.34it/s]"
          ]
        },
        {
          "name": "stdout",
          "output_type": "stream",
          "text": [
            "📊 1500/5000 完成 — 成功：999，失败：501，成功率：66.60%\n"
          ]
        },
        {
          "name": "stderr",
          "output_type": "stream",
          "text": [
            " 35%|███▌      | 1764/5000 [00:37<00:49, 65.38it/s]"
          ]
        },
        {
          "name": "stdout",
          "output_type": "stream",
          "text": [
            "📊 1750/5000 完成 — 成功：1176，失败：574，成功率：67.20%\n"
          ]
        },
        {
          "name": "stderr",
          "output_type": "stream",
          "text": [
            " 40%|████      | 2007/5000 [00:42<01:10, 42.74it/s]"
          ]
        },
        {
          "name": "stdout",
          "output_type": "stream",
          "text": [
            "📊 2000/5000 完成 — 成功：1345，失败：655，成功率：67.25%\n"
          ]
        },
        {
          "name": "stderr",
          "output_type": "stream",
          "text": [
            " 45%|████▌     | 2262/5000 [00:45<00:31, 87.58it/s]"
          ]
        },
        {
          "name": "stdout",
          "output_type": "stream",
          "text": [
            "📊 2250/5000 完成 — 成功：1481，失败：769，成功率：65.82%\n"
          ]
        },
        {
          "name": "stderr",
          "output_type": "stream",
          "text": [
            " 50%|█████     | 2518/5000 [00:48<00:23, 104.88it/s]"
          ]
        },
        {
          "name": "stdout",
          "output_type": "stream",
          "text": [
            "📊 2500/5000 完成 — 成功：1611，失败：889，成功率：64.44%\n"
          ]
        },
        {
          "name": "stderr",
          "output_type": "stream",
          "text": [
            " 55%|█████▌    | 2762/5000 [00:52<00:42, 52.11it/s]"
          ]
        },
        {
          "name": "stdout",
          "output_type": "stream",
          "text": [
            "📊 2750/5000 完成 — 成功：1745，失败：1005，成功率：63.45%\n"
          ]
        },
        {
          "name": "stderr",
          "output_type": "stream",
          "text": [
            " 60%|██████    | 3019/5000 [00:56<00:20, 97.42it/s]"
          ]
        },
        {
          "name": "stdout",
          "output_type": "stream",
          "text": [
            "📊 3000/5000 完成 — 成功：1855，失败：1145，成功率：61.83%\n"
          ]
        },
        {
          "name": "stderr",
          "output_type": "stream",
          "text": [
            " 65%|██████▌   | 3255/5000 [00:59<00:20, 84.53it/s]"
          ]
        },
        {
          "name": "stdout",
          "output_type": "stream",
          "text": [
            "📊 3250/5000 完成 — 成功：1980，失败：1270，成功率：60.92%\n"
          ]
        },
        {
          "name": "stderr",
          "output_type": "stream",
          "text": [
            " 70%|███████   | 3509/5000 [01:05<00:34, 43.32it/s]"
          ]
        },
        {
          "name": "stdout",
          "output_type": "stream",
          "text": [
            "📊 3500/5000 完成 — 成功：2097，失败：1403，成功率：59.91%\n"
          ]
        },
        {
          "name": "stderr",
          "output_type": "stream",
          "text": [
            " 75%|███████▌  | 3752/5000 [01:09<00:17, 71.54it/s]"
          ]
        },
        {
          "name": "stdout",
          "output_type": "stream",
          "text": [
            "📊 3750/5000 完成 — 成功：2206，失败：1544，成功率：58.83%\n"
          ]
        },
        {
          "name": "stderr",
          "output_type": "stream",
          "text": [
            " 80%|████████  | 4002/5000 [01:17<00:59, 16.80it/s]"
          ]
        },
        {
          "name": "stdout",
          "output_type": "stream",
          "text": [
            "📊 4000/5000 完成 — 成功：2326，失败：1674，成功率：58.15%\n"
          ]
        },
        {
          "name": "stderr",
          "output_type": "stream",
          "text": [
            " 85%|████████▌ | 4260/5000 [01:25<00:14, 52.77it/s]"
          ]
        },
        {
          "name": "stdout",
          "output_type": "stream",
          "text": [
            "📊 4250/5000 完成 — 成功：2453，失败：1797，成功率：57.72%\n"
          ]
        },
        {
          "name": "stderr",
          "output_type": "stream",
          "text": [
            " 90%|█████████ | 4500/5000 [01:31<00:16, 30.61it/s]"
          ]
        },
        {
          "name": "stdout",
          "output_type": "stream",
          "text": [
            "📊 4500/5000 完成 — 成功：2561，失败：1939，成功率：56.91%\n"
          ]
        },
        {
          "name": "stderr",
          "output_type": "stream",
          "text": [
            " 95%|█████████▌| 4752/5000 [01:36<00:05, 48.10it/s]"
          ]
        },
        {
          "name": "stdout",
          "output_type": "stream",
          "text": [
            "📊 4750/5000 完成 — 成功：2706，失败：2044，成功率：56.97%\n"
          ]
        },
        {
          "name": "stderr",
          "output_type": "stream",
          "text": [
            "100%|██████████| 5000/5000 [01:50<00:00, 45.17it/s]"
          ]
        },
        {
          "name": "stdout",
          "output_type": "stream",
          "text": [
            "📊 5000/5000 完成 — 成功：2846，失败：2154，成功率：56.92%\n"
          ]
        },
        {
          "name": "stderr",
          "output_type": "stream",
          "text": [
            "\n"
          ]
        },
        {
          "name": "stdout",
          "output_type": "stream",
          "text": [
            "✅ 压缩完成：/content/images_30000_35000.zip\n",
            "📤 已上传到 Google Drive: /content/drive/MyDrive/AMMeBa_batches\n",
            "🧹 清理完成 Batch 30000-35000\n",
            "\n",
            "🚀 开始下载图像 Batch 35000 - 40000 ...\n"
          ]
        },
        {
          "name": "stderr",
          "output_type": "stream",
          "text": [
            "  5%|▌         | 269/5000 [00:04<01:20, 58.74it/s]"
          ]
        },
        {
          "name": "stdout",
          "output_type": "stream",
          "text": [
            "📊 250/5000 完成 — 成功：140，失败：110，成功率：56.00%\n"
          ]
        },
        {
          "name": "stderr",
          "output_type": "stream",
          "text": [
            " 10%|█         | 507/5000 [00:12<01:29, 50.40it/s]"
          ]
        },
        {
          "name": "stdout",
          "output_type": "stream",
          "text": [
            "📊 500/5000 完成 — 成功：280，失败：220，成功率：56.00%\n"
          ]
        },
        {
          "name": "stderr",
          "output_type": "stream",
          "text": [
            " 15%|█▌        | 755/5000 [00:15<01:08, 62.16it/s]"
          ]
        },
        {
          "name": "stdout",
          "output_type": "stream",
          "text": [
            "📊 750/5000 完成 — 成功：428，失败：322，成功率：57.07%\n"
          ]
        },
        {
          "name": "stderr",
          "output_type": "stream",
          "text": [
            " 20%|██        | 1009/5000 [00:23<01:16, 52.28it/s]"
          ]
        },
        {
          "name": "stdout",
          "output_type": "stream",
          "text": [
            "📊 1000/5000 完成 — 成功：586，失败：414，成功率：58.60%\n"
          ]
        },
        {
          "name": "stderr",
          "output_type": "stream",
          "text": [
            " 25%|██▌       | 1256/5000 [00:28<01:06, 56.12it/s]"
          ]
        },
        {
          "name": "stdout",
          "output_type": "stream",
          "text": [
            "📊 1250/5000 完成 — 成功：748，失败：502，成功率：59.84%\n"
          ]
        },
        {
          "name": "stderr",
          "output_type": "stream",
          "text": [
            " 30%|███       | 1517/5000 [00:33<00:43, 79.81it/s]"
          ]
        },
        {
          "name": "stdout",
          "output_type": "stream",
          "text": [
            "📊 1500/5000 完成 — 成功：895，失败：605，成功率：59.67%\n"
          ]
        },
        {
          "name": "stderr",
          "output_type": "stream",
          "text": [
            " 35%|███▌      | 1760/5000 [00:38<00:45, 70.60it/s]"
          ]
        },
        {
          "name": "stdout",
          "output_type": "stream",
          "text": [
            "📊 1750/5000 完成 — 成功：1061，失败：689，成功率：60.63%\n"
          ]
        },
        {
          "name": "stderr",
          "output_type": "stream",
          "text": [
            " 40%|████      | 2015/5000 [00:43<00:55, 54.09it/s]"
          ]
        },
        {
          "name": "stdout",
          "output_type": "stream",
          "text": [
            "📊 2000/5000 完成 — 成功：1230，失败：770，成功率：61.50%\n"
          ]
        },
        {
          "name": "stderr",
          "output_type": "stream",
          "text": [
            " 45%|████▌     | 2253/5000 [00:48<00:46, 59.10it/s]"
          ]
        },
        {
          "name": "stdout",
          "output_type": "stream",
          "text": [
            "📊 2250/5000 完成 — 成功：1386，失败：864，成功率：61.60%\n"
          ]
        },
        {
          "name": "stderr",
          "output_type": "stream",
          "text": [
            " 50%|█████     | 2506/5000 [00:54<00:40, 62.24it/s]"
          ]
        },
        {
          "name": "stdout",
          "output_type": "stream",
          "text": [
            "📊 2500/5000 完成 — 成功：1538，失败：962，成功率：61.52%\n"
          ]
        },
        {
          "name": "stderr",
          "output_type": "stream",
          "text": [
            " 55%|█████▌    | 2751/5000 [01:01<01:55, 19.49it/s]"
          ]
        },
        {
          "name": "stdout",
          "output_type": "stream",
          "text": [
            "📊 2750/5000 完成 — 成功：1687，失败：1063，成功率：61.35%\n"
          ]
        },
        {
          "name": "stderr",
          "output_type": "stream",
          "text": [
            " 60%|██████    | 3005/5000 [01:07<01:11, 27.87it/s]"
          ]
        },
        {
          "name": "stdout",
          "output_type": "stream",
          "text": [
            "📊 3000/5000 完成 — 成功：1807，失败：1193，成功率：60.23%\n"
          ]
        },
        {
          "name": "stderr",
          "output_type": "stream",
          "text": [
            " 65%|██████▌   | 3252/5000 [01:17<02:59,  9.75it/s]"
          ]
        },
        {
          "name": "stdout",
          "output_type": "stream",
          "text": [
            "📊 3250/5000 完成 — 成功：1942，失败：1308，成功率：59.75%\n"
          ]
        },
        {
          "name": "stderr",
          "output_type": "stream",
          "text": [
            " 70%|███████   | 3508/5000 [01:22<00:39, 38.14it/s]"
          ]
        },
        {
          "name": "stdout",
          "output_type": "stream",
          "text": [
            "📊 3500/5000 完成 — 成功：2066，失败：1434，成功率：59.03%\n"
          ]
        },
        {
          "name": "stderr",
          "output_type": "stream",
          "text": [
            " 75%|███████▌  | 3765/5000 [01:26<00:15, 79.99it/s]"
          ]
        },
        {
          "name": "stdout",
          "output_type": "stream",
          "text": [
            "📊 3750/5000 完成 — 成功：2206，失败：1544，成功率：58.83%\n"
          ]
        },
        {
          "name": "stderr",
          "output_type": "stream",
          "text": [
            " 80%|████████  | 4002/5000 [01:32<00:22, 44.76it/s]"
          ]
        },
        {
          "name": "stdout",
          "output_type": "stream",
          "text": [
            "📊 4000/5000 完成 — 成功：2333，失败：1667，成功率：58.33%\n"
          ]
        },
        {
          "name": "stderr",
          "output_type": "stream",
          "text": [
            " 85%|████████▌ | 4262/5000 [01:37<00:11, 63.42it/s]"
          ]
        },
        {
          "name": "stdout",
          "output_type": "stream",
          "text": [
            "📊 4250/5000 完成 — 成功：2462，失败：1788，成功率：57.93%\n"
          ]
        },
        {
          "name": "stderr",
          "output_type": "stream",
          "text": [
            " 90%|█████████ | 4512/5000 [01:41<00:07, 64.60it/s]"
          ]
        },
        {
          "name": "stdout",
          "output_type": "stream",
          "text": [
            "📊 4500/5000 完成 — 成功：2593，失败：1907，成功率：57.62%\n"
          ]
        },
        {
          "name": "stderr",
          "output_type": "stream",
          "text": [
            " 95%|█████████▌| 4762/5000 [01:48<00:05, 41.54it/s]"
          ]
        },
        {
          "name": "stdout",
          "output_type": "stream",
          "text": [
            "📊 4750/5000 完成 — 成功：2708，失败：2042，成功率：57.01%\n"
          ]
        },
        {
          "name": "stderr",
          "output_type": "stream",
          "text": [
            "100%|██████████| 5000/5000 [02:02<00:00, 40.71it/s]\n"
          ]
        },
        {
          "name": "stdout",
          "output_type": "stream",
          "text": [
            "📊 5000/5000 完成 — 成功：2828，失败：2172，成功率：56.56%\n",
            "✅ 压缩完成：/content/images_35000_40000.zip\n",
            "📤 已上传到 Google Drive: /content/drive/MyDrive/AMMeBa_batches\n",
            "🧹 清理完成 Batch 35000-40000\n",
            "\n",
            "🚀 开始下载图像 Batch 40000 - 45000 ...\n"
          ]
        },
        {
          "name": "stderr",
          "output_type": "stream",
          "text": [
            "  5%|▌         | 268/5000 [00:02<00:46, 100.95it/s]"
          ]
        },
        {
          "name": "stdout",
          "output_type": "stream",
          "text": [
            "📊 250/5000 完成 — 成功：101，失败：149，成功率：40.40%\n"
          ]
        },
        {
          "name": "stderr",
          "output_type": "stream",
          "text": [
            " 10%|█         | 510/5000 [00:06<01:02, 72.40it/s]"
          ]
        },
        {
          "name": "stdout",
          "output_type": "stream",
          "text": [
            "📊 500/5000 完成 — 成功：208，失败：292，成功率：41.60%\n"
          ]
        },
        {
          "name": "stderr",
          "output_type": "stream",
          "text": [
            " 15%|█▌        | 754/5000 [00:12<01:42, 41.25it/s]"
          ]
        },
        {
          "name": "stdout",
          "output_type": "stream",
          "text": [
            "📊 750/5000 完成 — 成功：325，失败：425，成功率：43.33%\n"
          ]
        },
        {
          "name": "stderr",
          "output_type": "stream",
          "text": [
            " 20%|██        | 1006/5000 [00:17<01:39, 40.17it/s]"
          ]
        },
        {
          "name": "stdout",
          "output_type": "stream",
          "text": [
            "📊 1000/5000 完成 — 成功：427，失败：573，成功率：42.70%\n"
          ]
        },
        {
          "name": "stderr",
          "output_type": "stream",
          "text": [
            " 25%|██▌       | 1259/5000 [00:22<00:43, 85.91it/s]"
          ]
        },
        {
          "name": "stdout",
          "output_type": "stream",
          "text": [
            "📊 1250/5000 完成 — 成功：539，失败：711，成功率：43.12%\n"
          ]
        },
        {
          "name": "stderr",
          "output_type": "stream",
          "text": [
            " 30%|███       | 1506/5000 [00:30<01:17, 45.06it/s]"
          ]
        },
        {
          "name": "stdout",
          "output_type": "stream",
          "text": [
            "📊 1500/5000 完成 — 成功：647，失败：853，成功率：43.13%\n"
          ]
        },
        {
          "name": "stderr",
          "output_type": "stream",
          "text": [
            " 35%|███▌      | 1762/5000 [00:34<00:40, 80.14it/s]"
          ]
        },
        {
          "name": "stdout",
          "output_type": "stream",
          "text": [
            "📊 1750/5000 完成 — 成功：746，失败：1004，成功率：42.63%\n"
          ]
        },
        {
          "name": "stderr",
          "output_type": "stream",
          "text": [
            " 40%|████      | 2008/5000 [00:38<01:03, 46.81it/s]"
          ]
        },
        {
          "name": "stdout",
          "output_type": "stream",
          "text": [
            "📊 2000/5000 完成 — 成功：834，失败：1166，成功率：41.70%\n"
          ]
        },
        {
          "name": "stderr",
          "output_type": "stream",
          "text": [
            " 45%|████▌     | 2263/5000 [00:44<00:37, 73.52it/s]"
          ]
        },
        {
          "name": "stdout",
          "output_type": "stream",
          "text": [
            "📊 2250/5000 完成 — 成功：946，失败：1304，成功率：42.04%\n"
          ]
        },
        {
          "name": "stderr",
          "output_type": "stream",
          "text": [
            " 50%|█████     | 2509/5000 [00:48<00:33, 74.38it/s]"
          ]
        },
        {
          "name": "stdout",
          "output_type": "stream",
          "text": [
            "📊 2500/5000 完成 — 成功：1042，失败：1458，成功率：41.68%\n"
          ]
        },
        {
          "name": "stderr",
          "output_type": "stream",
          "text": [
            " 55%|█████▌    | 2753/5000 [00:53<00:59, 38.01it/s]"
          ]
        },
        {
          "name": "stdout",
          "output_type": "stream",
          "text": [
            "📊 2750/5000 完成 — 成功：1146，失败：1604，成功率：41.67%\n"
          ]
        },
        {
          "name": "stderr",
          "output_type": "stream",
          "text": [
            " 60%|██████    | 3008/5000 [00:59<00:20, 95.06it/s]"
          ]
        },
        {
          "name": "stdout",
          "output_type": "stream",
          "text": [
            "📊 3000/5000 完成 — 成功：1274，失败：1726，成功率：42.47%\n"
          ]
        },
        {
          "name": "stderr",
          "output_type": "stream",
          "text": [
            " 65%|██████▌   | 3259/5000 [01:02<00:20, 85.38it/s]"
          ]
        },
        {
          "name": "stdout",
          "output_type": "stream",
          "text": [
            "📊 3250/5000 完成 — 成功：1363，失败：1887，成功率：41.94%\n"
          ]
        },
        {
          "name": "stderr",
          "output_type": "stream",
          "text": [
            " 70%|███████   | 3504/5000 [01:06<00:42, 35.15it/s]"
          ]
        },
        {
          "name": "stdout",
          "output_type": "stream",
          "text": [
            "📊 3500/5000 完成 — 成功：1504，失败：1996，成功率：42.97%\n"
          ]
        },
        {
          "name": "stderr",
          "output_type": "stream",
          "text": [
            " 75%|███████▌  | 3753/5000 [01:12<00:26, 47.81it/s]"
          ]
        },
        {
          "name": "stdout",
          "output_type": "stream",
          "text": [
            "📊 3750/5000 完成 — 成功：1613，失败：2137，成功率：43.01%\n"
          ]
        },
        {
          "name": "stderr",
          "output_type": "stream",
          "text": [
            " 80%|████████  | 4010/5000 [01:17<00:16, 61.51it/s]"
          ]
        },
        {
          "name": "stdout",
          "output_type": "stream",
          "text": [
            "📊 4000/5000 完成 — 成功：1726，失败：2274，成功率：43.15%\n"
          ]
        },
        {
          "name": "stderr",
          "output_type": "stream",
          "text": [
            " 85%|████████▌ | 4259/5000 [01:24<00:15, 47.13it/s]"
          ]
        },
        {
          "name": "stdout",
          "output_type": "stream",
          "text": [
            "📊 4250/5000 完成 — 成功：1838，失败：2412，成功率：43.25%\n"
          ]
        },
        {
          "name": "stderr",
          "output_type": "stream",
          "text": [
            " 90%|█████████ | 4504/5000 [01:28<00:06, 71.63it/s]"
          ]
        },
        {
          "name": "stdout",
          "output_type": "stream",
          "text": [
            "📊 4500/5000 完成 — 成功：1963，失败：2537，成功率：43.62%\n"
          ]
        },
        {
          "name": "stderr",
          "output_type": "stream",
          "text": [
            " 95%|█████████▌| 4751/5000 [01:33<00:05, 46.15it/s]"
          ]
        },
        {
          "name": "stdout",
          "output_type": "stream",
          "text": [
            "📊 4750/5000 完成 — 成功：2078，失败：2672，成功率：43.75%\n"
          ]
        },
        {
          "name": "stderr",
          "output_type": "stream",
          "text": [
            "100%|██████████| 5000/5000 [01:48<00:00, 45.89it/s]"
          ]
        },
        {
          "name": "stdout",
          "output_type": "stream",
          "text": [
            "📊 5000/5000 完成 — 成功：2176，失败：2824，成功率：43.52%\n"
          ]
        },
        {
          "name": "stderr",
          "output_type": "stream",
          "text": [
            "\n"
          ]
        },
        {
          "name": "stdout",
          "output_type": "stream",
          "text": [
            "✅ 压缩完成：/content/images_40000_45000.zip\n",
            "📤 已上传到 Google Drive: /content/drive/MyDrive/AMMeBa_batches\n",
            "🧹 清理完成 Batch 40000-45000\n",
            "\n",
            "🚀 开始下载图像 Batch 45000 - 50000 ...\n"
          ]
        },
        {
          "name": "stderr",
          "output_type": "stream",
          "text": [
            "  5%|▌         | 265/5000 [00:01<00:38, 124.48it/s]"
          ]
        },
        {
          "name": "stdout",
          "output_type": "stream",
          "text": [
            "📊 250/5000 完成 — 成功：126，失败：124，成功率：50.40%\n"
          ]
        },
        {
          "name": "stderr",
          "output_type": "stream",
          "text": [
            " 10%|█         | 513/5000 [00:04<00:46, 96.17it/s] "
          ]
        },
        {
          "name": "stdout",
          "output_type": "stream",
          "text": [
            "📊 500/5000 完成 — 成功：265，失败：235，成功率：53.00%\n"
          ]
        },
        {
          "name": "stderr",
          "output_type": "stream",
          "text": [
            " 15%|█▌        | 759/5000 [00:08<01:01, 69.42it/s]"
          ]
        },
        {
          "name": "stdout",
          "output_type": "stream",
          "text": [
            "📊 750/5000 完成 — 成功：419，失败：331，成功率：55.87%\n"
          ]
        },
        {
          "name": "stderr",
          "output_type": "stream",
          "text": [
            " 20%|██        | 1016/5000 [00:15<00:56, 70.94it/s]"
          ]
        },
        {
          "name": "stdout",
          "output_type": "stream",
          "text": [
            "📊 1000/5000 完成 — 成功：565，失败：435，成功率：56.50%\n"
          ]
        },
        {
          "name": "stderr",
          "output_type": "stream",
          "text": [
            " 25%|██▌       | 1257/5000 [00:19<00:57, 65.30it/s]"
          ]
        },
        {
          "name": "stdout",
          "output_type": "stream",
          "text": [
            "📊 1250/5000 完成 — 成功：699，失败：551，成功率：55.92%\n"
          ]
        },
        {
          "name": "stderr",
          "output_type": "stream",
          "text": [
            " 30%|███       | 1502/5000 [00:23<01:17, 44.89it/s]"
          ]
        },
        {
          "name": "stdout",
          "output_type": "stream",
          "text": [
            "📊 1500/5000 完成 — 成功：845，失败：655，成功率：56.33%\n"
          ]
        },
        {
          "name": "stderr",
          "output_type": "stream",
          "text": [
            " 35%|███▌      | 1756/5000 [00:31<01:11, 45.59it/s]"
          ]
        },
        {
          "name": "stdout",
          "output_type": "stream",
          "text": [
            "📊 1750/5000 完成 — 成功：968，失败：782，成功率：55.31%\n"
          ]
        },
        {
          "name": "stderr",
          "output_type": "stream",
          "text": [
            " 40%|████      | 2000/5000 [00:36<01:48, 27.69it/s]"
          ]
        },
        {
          "name": "stdout",
          "output_type": "stream",
          "text": [
            "📊 2000/5000 完成 — 成功：1087，失败：913，成功率：54.35%\n"
          ]
        },
        {
          "name": "stderr",
          "output_type": "stream",
          "text": [
            " 45%|████▌     | 2270/5000 [00:46<00:33, 80.88it/s]"
          ]
        },
        {
          "name": "stdout",
          "output_type": "stream",
          "text": [
            "📊 2250/5000 完成 — 成功：1218，失败：1032，成功率：54.13%\n"
          ]
        },
        {
          "name": "stderr",
          "output_type": "stream",
          "text": [
            " 50%|█████     | 2501/5000 [00:57<02:30, 16.62it/s]"
          ]
        },
        {
          "name": "stdout",
          "output_type": "stream",
          "text": [
            "📊 2500/5000 完成 — 成功：1348，失败：1152，成功率：53.92%\n"
          ]
        },
        {
          "name": "stderr",
          "output_type": "stream",
          "text": [
            " 55%|█████▌    | 2758/5000 [01:02<00:35, 63.78it/s]"
          ]
        },
        {
          "name": "stdout",
          "output_type": "stream",
          "text": [
            "📊 2750/5000 完成 — 成功：1465，失败：1285，成功率：53.27%\n"
          ]
        },
        {
          "name": "stderr",
          "output_type": "stream",
          "text": [
            " 60%|██████    | 3008/5000 [01:08<00:39, 50.68it/s]"
          ]
        },
        {
          "name": "stdout",
          "output_type": "stream",
          "text": [
            "📊 3000/5000 完成 — 成功：1607，失败：1393，成功率：53.57%\n"
          ]
        },
        {
          "name": "stderr",
          "output_type": "stream",
          "text": [
            " 65%|██████▌   | 3257/5000 [01:14<00:39, 44.37it/s]"
          ]
        },
        {
          "name": "stdout",
          "output_type": "stream",
          "text": [
            "📊 3250/5000 完成 — 成功：1749，失败：1501，成功率：53.82%\n"
          ]
        },
        {
          "name": "stderr",
          "output_type": "stream",
          "text": [
            " 70%|███████   | 3515/5000 [01:20<00:21, 68.44it/s]"
          ]
        },
        {
          "name": "stdout",
          "output_type": "stream",
          "text": [
            "📊 3500/5000 完成 — 成功：1903，失败：1597，成功率：54.37%\n"
          ]
        },
        {
          "name": "stderr",
          "output_type": "stream",
          "text": [
            " 75%|███████▌  | 3754/5000 [01:26<00:26, 47.66it/s]"
          ]
        },
        {
          "name": "stdout",
          "output_type": "stream",
          "text": [
            "📊 3750/5000 完成 — 成功：2037，失败：1713，成功率：54.32%\n"
          ]
        },
        {
          "name": "stderr",
          "output_type": "stream",
          "text": [
            " 80%|████████  | 4007/5000 [01:34<00:24, 40.13it/s]"
          ]
        },
        {
          "name": "stdout",
          "output_type": "stream",
          "text": [
            "📊 4000/5000 完成 — 成功：2180，失败：1820，成功率：54.50%\n"
          ]
        },
        {
          "name": "stderr",
          "output_type": "stream",
          "text": [
            " 85%|████████▌ | 4252/5000 [01:39<00:16, 46.06it/s]"
          ]
        },
        {
          "name": "stdout",
          "output_type": "stream",
          "text": [
            "📊 4250/5000 完成 — 成功：2310，失败：1940，成功率：54.35%\n"
          ]
        },
        {
          "name": "stderr",
          "output_type": "stream",
          "text": [
            " 90%|█████████ | 4504/5000 [01:46<00:11, 41.88it/s]"
          ]
        },
        {
          "name": "stdout",
          "output_type": "stream",
          "text": [
            "📊 4500/5000 完成 — 成功：2444，失败：2056，成功率：54.31%\n"
          ]
        },
        {
          "name": "stderr",
          "output_type": "stream",
          "text": [
            " 95%|█████████▌| 4762/5000 [01:50<00:03, 63.28it/s]"
          ]
        },
        {
          "name": "stdout",
          "output_type": "stream",
          "text": [
            "📊 4750/5000 完成 — 成功：2590，失败：2160，成功率：54.53%\n"
          ]
        },
        {
          "name": "stderr",
          "output_type": "stream",
          "text": [
            "100%|██████████| 5000/5000 [02:16<00:00, 36.76it/s]"
          ]
        },
        {
          "name": "stdout",
          "output_type": "stream",
          "text": [
            "📊 5000/5000 完成 — 成功：2728，失败：2272，成功率：54.56%\n"
          ]
        },
        {
          "name": "stderr",
          "output_type": "stream",
          "text": [
            "\n"
          ]
        },
        {
          "name": "stdout",
          "output_type": "stream",
          "text": [
            "✅ 压缩完成：/content/images_45000_50000.zip\n",
            "📤 已上传到 Google Drive: /content/drive/MyDrive/AMMeBa_batches\n",
            "🧹 清理完成 Batch 45000-50000\n",
            "\n",
            "🚀 开始下载图像 Batch 50000 - 55000 ...\n"
          ]
        },
        {
          "name": "stderr",
          "output_type": "stream",
          "text": [
            "  5%|▌         | 200/3687 [00:02<00:36, 95.19it/s]"
          ]
        },
        {
          "name": "stdout",
          "output_type": "stream",
          "text": [
            "📊 184/3687 完成 — 成功：112，失败：72，成功率：60.87%\n"
          ]
        },
        {
          "name": "stderr",
          "output_type": "stream",
          "text": [
            " 10%|█         | 372/3687 [00:04<01:20, 41.20it/s]"
          ]
        },
        {
          "name": "stdout",
          "output_type": "stream",
          "text": [
            "📊 368/3687 完成 — 成功：232，失败：136，成功率：63.04%\n"
          ]
        },
        {
          "name": "stderr",
          "output_type": "stream",
          "text": [
            " 15%|█▍        | 552/3687 [00:11<00:59, 52.68it/s]"
          ]
        },
        {
          "name": "stdout",
          "output_type": "stream",
          "text": [
            "📊 552/3687 完成 — 成功：339，失败：213，成功率：61.41%\n"
          ]
        },
        {
          "name": "stderr",
          "output_type": "stream",
          "text": [
            " 20%|██        | 745/3687 [00:15<00:55, 52.87it/s]"
          ]
        },
        {
          "name": "stdout",
          "output_type": "stream",
          "text": [
            "📊 736/3687 完成 — 成功：441，失败：295，成功率：59.92%\n"
          ]
        },
        {
          "name": "stderr",
          "output_type": "stream",
          "text": [
            " 25%|██▌       | 922/3687 [00:19<01:06, 41.57it/s]"
          ]
        },
        {
          "name": "stdout",
          "output_type": "stream",
          "text": [
            "📊 920/3687 完成 — 成功：549，失败：371，成功率：59.67%\n"
          ]
        },
        {
          "name": "stderr",
          "output_type": "stream",
          "text": [
            " 30%|███       | 1113/3687 [00:26<00:43, 59.49it/s]"
          ]
        },
        {
          "name": "stdout",
          "output_type": "stream",
          "text": [
            "📊 1104/3687 完成 — 成功：667，失败：437，成功率：60.42%\n"
          ]
        },
        {
          "name": "stderr",
          "output_type": "stream",
          "text": [
            " 35%|███▌      | 1299/3687 [00:29<00:32, 72.89it/s]"
          ]
        },
        {
          "name": "stdout",
          "output_type": "stream",
          "text": [
            "📊 1288/3687 完成 — 成功：785，失败：503，成功率：60.95%\n"
          ]
        },
        {
          "name": "stderr",
          "output_type": "stream",
          "text": [
            " 40%|████      | 1483/3687 [00:33<00:42, 51.76it/s]"
          ]
        },
        {
          "name": "stdout",
          "output_type": "stream",
          "text": [
            "📊 1472/3687 完成 — 成功：889，失败：583，成功率：60.39%\n"
          ]
        },
        {
          "name": "stderr",
          "output_type": "stream",
          "text": [
            " 45%|████▌     | 1664/3687 [00:40<00:56, 35.85it/s]"
          ]
        },
        {
          "name": "stdout",
          "output_type": "stream",
          "text": [
            "📊 1656/3687 完成 — 成功：989，失败：667，成功率：59.72%\n"
          ]
        },
        {
          "name": "stderr",
          "output_type": "stream",
          "text": [
            " 50%|█████     | 1854/3687 [00:44<00:31, 58.84it/s]"
          ]
        },
        {
          "name": "stdout",
          "output_type": "stream",
          "text": [
            "📊 1840/3687 完成 — 成功：1093，失败：747，成功率：59.40%\n"
          ]
        },
        {
          "name": "stderr",
          "output_type": "stream",
          "text": [
            " 55%|█████▌    | 2032/3687 [00:48<00:31, 52.08it/s]"
          ]
        },
        {
          "name": "stdout",
          "output_type": "stream",
          "text": [
            "📊 2024/3687 完成 — 成功：1210，失败：814，成功率：59.78%\n"
          ]
        },
        {
          "name": "stderr",
          "output_type": "stream",
          "text": [
            " 60%|██████    | 2214/3687 [00:52<00:30, 47.91it/s]"
          ]
        },
        {
          "name": "stdout",
          "output_type": "stream",
          "text": [
            "📊 2208/3687 完成 — 成功：1323，失败：885，成功率：59.92%\n"
          ]
        },
        {
          "name": "stderr",
          "output_type": "stream",
          "text": [
            " 65%|██████▌   | 2399/3687 [00:55<00:21, 58.56it/s]"
          ]
        },
        {
          "name": "stdout",
          "output_type": "stream",
          "text": [
            "📊 2392/3687 完成 — 成功：1428，失败：964，成功率：59.70%\n"
          ]
        },
        {
          "name": "stderr",
          "output_type": "stream",
          "text": [
            " 70%|██████▉   | 2575/3687 [01:01<00:24, 45.68it/s]"
          ]
        },
        {
          "name": "stdout",
          "output_type": "stream",
          "text": [
            "📊 2576/3687 完成 — 成功：1539，失败：1037，成功率：59.74%\n"
          ]
        },
        {
          "name": "stderr",
          "output_type": "stream",
          "text": [
            " 75%|███████▌  | 2770/3687 [01:08<00:21, 41.75it/s]"
          ]
        },
        {
          "name": "stdout",
          "output_type": "stream",
          "text": [
            "📊 2760/3687 完成 — 成功：1655，失败：1105，成功率：59.96%\n"
          ]
        },
        {
          "name": "stderr",
          "output_type": "stream",
          "text": [
            " 80%|████████  | 2953/3687 [01:12<00:12, 57.67it/s]"
          ]
        },
        {
          "name": "stdout",
          "output_type": "stream",
          "text": [
            "📊 2944/3687 完成 — 成功：1764，失败：1180，成功率：59.92%\n"
          ]
        },
        {
          "name": "stderr",
          "output_type": "stream",
          "text": [
            " 85%|████████▌ | 3138/3687 [01:16<00:11, 47.66it/s]"
          ]
        },
        {
          "name": "stdout",
          "output_type": "stream",
          "text": [
            "📊 3128/3687 完成 — 成功：1877，失败：1251，成功率：60.01%\n"
          ]
        },
        {
          "name": "stderr",
          "output_type": "stream",
          "text": [
            " 90%|████████▉ | 3314/3687 [01:20<00:07, 51.01it/s]"
          ]
        },
        {
          "name": "stdout",
          "output_type": "stream",
          "text": [
            "📊 3312/3687 完成 — 成功：1992，失败：1320，成功率：60.14%\n"
          ]
        },
        {
          "name": "stderr",
          "output_type": "stream",
          "text": [
            " 95%|█████████▍| 3502/3687 [01:24<00:02, 62.07it/s]"
          ]
        },
        {
          "name": "stdout",
          "output_type": "stream",
          "text": [
            "📊 3496/3687 完成 — 成功：2087，失败：1409，成功率：59.70%\n"
          ]
        },
        {
          "name": "stderr",
          "output_type": "stream",
          "text": [
            "100%|█████████▉| 3674/3687 [01:27<00:00, 43.49it/s]"
          ]
        },
        {
          "name": "stdout",
          "output_type": "stream",
          "text": [
            "📊 3680/3687 完成 — 成功：2193，失败：1487，成功率：59.59%\n"
          ]
        },
        {
          "name": "stderr",
          "output_type": "stream",
          "text": [
            "100%|██████████| 3687/3687 [01:37<00:00, 37.99it/s]"
          ]
        },
        {
          "name": "stdout",
          "output_type": "stream",
          "text": [
            "📊 3687/3687 完成 — 成功：2193，失败：1494，成功率：59.48%\n"
          ]
        },
        {
          "name": "stderr",
          "output_type": "stream",
          "text": [
            "\n"
          ]
        },
        {
          "name": "stdout",
          "output_type": "stream",
          "text": [
            "✅ 压缩完成：/content/images_50000_55000.zip\n",
            "📤 已上传到 Google Drive: /content/drive/MyDrive/AMMeBa_batches\n",
            "🧹 清理完成 Batch 50000-55000\n"
          ]
        }
      ],
      "source": [
        "# ------------ Main loop: Process one batch at a time ------------\n",
        "gdrive_output_dir = \"/content/drive/MyDrive/AMMeBa_batches\"\n",
        "os.makedirs(gdrive_output_dir, exist_ok=True)\n",
        "\n",
        "def download_and_save_batch(batch_df, batch_start, batch_end):\n",
        "    # Local directory setup\n",
        "    batch_folder = f\"/content/images_{batch_start}_{batch_end}\"\n",
        "    os.makedirs(batch_folder, exist_ok=True)\n",
        "\n",
        "    # Image downloading function\n",
        "    def download_image(row):\n",
        "        img_url = row[\"url\"]\n",
        "        image_id = row[\"image_id\"]\n",
        "        filename = f\"{image_id}.jpg\"\n",
        "        filepath = os.path.join(batch_folder, filename)\n",
        "\n",
        "        try:\n",
        "            response = requests.get(img_url, timeout=10)\n",
        "            if response.status_code == 200:\n",
        "                with open(filepath, \"wb\") as f:\n",
        "                    f.write(response.content)\n",
        "                return True, image_id\n",
        "            else:\n",
        "                return False, image_id\n",
        "        except:\n",
        "            return False, image_id\n",
        "\n",
        "    print(f\"Starting download for image batch {batch_start} - {batch_end} ...\")\n",
        "    total_tasks = len(batch_df)\n",
        "    report_interval = max(int(total_tasks * 0.05), 1)\n",
        "    completed = 0\n",
        "    success_count = 0\n",
        "    fail_count = 0\n",
        "    successful_ids = []\n",
        "\n",
        "    rows = batch_df.to_dict(orient=\"records\")\n",
        "\n",
        "    with ThreadPoolExecutor(max_workers=max_workers) as executor:\n",
        "        futures = {\n",
        "            executor.submit(download_image, row): row[\"image_id\"]\n",
        "            for row in rows\n",
        "        }\n",
        "\n",
        "        for i, future in enumerate(tqdm(as_completed(futures), total=total_tasks)):\n",
        "            success, image_id = future.result()\n",
        "            completed += 1\n",
        "            if success:\n",
        "                success_count += 1\n",
        "                successful_ids.append(image_id)\n",
        "            else:\n",
        "                fail_count += 1\n",
        "\n",
        "            if completed % report_interval == 0 or completed == total_tasks:\n",
        "                success_rate = success_count / completed * 100\n",
        "                print(f\"{completed}/{total_tasks} completed — Success: {success_count}, Fail: {fail_count}, Success rate: {success_rate:.2f}%\")\n",
        "\n",
        "    # Save labels\n",
        "    df_downloaded = batch_df[batch_df[\"image_id\"].isin(successful_ids)].copy()\n",
        "    df_downloaded[\"filename\"] = df_downloaded[\"image_id\"].apply(lambda x: f\"{x}.jpg\")\n",
        "    local_csv_path = f\"/content/labels_{batch_start}_{batch_end}.csv\"\n",
        "    df_downloaded.to_csv(local_csv_path, index=False)\n",
        "\n",
        "    # Compress images\n",
        "    zip_path = f\"/content/images_{batch_start}_{batch_end}.zip\"\n",
        "    shutil.make_archive(zip_path.replace(\".zip\", \"\"), 'zip', batch_folder)\n",
        "    print(f\"Compression complete: {zip_path}\")\n",
        "\n",
        "    # Upload to Google Drive\n",
        "    shutil.copy(zip_path, gdrive_output_dir)\n",
        "    shutil.copy(local_csv_path, gdrive_output_dir)\n",
        "    print(f\"Uploaded to Google Drive: {gdrive_output_dir}\")\n",
        "\n",
        "    # Cleanup temporary files\n",
        "    shutil.rmtree(batch_folder)\n",
        "    os.remove(zip_path)\n",
        "    os.remove(local_csv_path)\n",
        "    print(f\"Cleanup completed for batch {batch_start}-{batch_end}\")\n",
        "\n",
        "# Execute multiple batches\n",
        "for batch_start in range(start_index, end_index, batch_size):\n",
        "    batch_end = min(batch_start + batch_size, end_index)\n",
        "    batch_df = df_filtered.iloc[batch_start:batch_end].copy()\n",
        "\n",
        "    if batch_df.empty:\n",
        "        print(f\"Skipping empty batch {batch_start}-{batch_end}\")\n",
        "        continue\n",
        "\n",
        "    download_and_save_batch(batch_df, batch_start, batch_end)\n"
      ]
    },
    {
      "cell_type": "code",
      "execution_count": null,
      "metadata": {
        "colab": {
          "base_uri": "https://localhost:8080/"
        },
        "id": "MyFSPsAsa7xw",
        "outputId": "06fcb061-8534-402f-aac5-70786fe05cc3"
      },
      "outputs": [
        {
          "name": "stdout",
          "output_type": "stream",
          "text": [
            "✅ 合并完成，CSV 路径：/content/drive/MyDrive/AMMeBa_batches/all_labels.csv，共 30105 条记录\n",
            "✅ 所有 ZIP 文件已打包为：/content/drive/MyDrive/AMMeBa_batches/all_images_batches.zip\n"
          ]
        }
      ],
      "source": [
        "import pandas as pd\n",
        "import zipfile\n",
        "import os\n",
        "\n",
        "# Set paths\n",
        "batch_dir = \"/content/drive/MyDrive/AMMeBa_batches\"\n",
        "final_csv_path = os.path.join(batch_dir, \"all_labels.csv\")\n",
        "final_zip_path = os.path.join(batch_dir, \"all_images_batches.zip\")\n",
        "\n",
        "# Merge all CSV files\n",
        "csv_files = sorted([f for f in os.listdir(batch_dir) if f.startswith(\"labels_\") and f.endswith(\".csv\")])\n",
        "df_all = pd.DataFrame()\n",
        "\n",
        "for csv_file in csv_files:\n",
        "    csv_path = os.path.join(batch_dir, csv_file)\n",
        "    df = pd.read_csv(csv_path)\n",
        "    df_all = pd.concat([df_all, df], ignore_index=True)\n",
        "\n",
        "# Save the merged CSV file\n",
        "df_all.to_csv(final_csv_path, index=False)\n",
        "print(f\"Merge complete. CSV saved to: {final_csv_path}, total records: {len(df_all)}\")\n",
        "\n",
        "# Combine all ZIP files (image archives) into one ZIP\n",
        "zip_files = sorted([f for f in os.listdir(batch_dir) if f.startswith(\"images_\") and f.endswith(\".zip\")])\n",
        "\n",
        "with zipfile.ZipFile(final_zip_path, \"w\") as final_zip:\n",
        "    for zip_file in zip_files:\n",
        "        zip_path = os.path.join(batch_dir, zip_file)\n",
        "        arcname = os.path.basename(zip_path)\n",
        "        final_zip.write(zip_path, arcname)\n",
        "\n",
        "print(f\"All image zip files have been bundled into: {final_zip_path}\")\n"
      ]
    }
  ],
  "metadata": {
    "colab": {
      "provenance": []
    },
    "kernelspec": {
      "display_name": "Python 3",
      "name": "python3"
    },
    "language_info": {
      "name": "python"
    },
    "widgets": {
      "application/vnd.jupyter.widget-state+json": {
        "025d3958f8074863ae5dc692e852f472": {
          "model_module": "@jupyter-widgets/controls",
          "model_module_version": "1.5.0",
          "model_name": "FloatProgressModel",
          "state": {
            "_dom_classes": [],
            "_model_module": "@jupyter-widgets/controls",
            "_model_module_version": "1.5.0",
            "_model_name": "FloatProgressModel",
            "_view_count": null,
            "_view_module": "@jupyter-widgets/controls",
            "_view_module_version": "1.5.0",
            "_view_name": "ProgressView",
            "bar_style": "success",
            "description": "",
            "description_tooltip": null,
            "layout": "IPY_MODEL_62c2b5f74b7745d1b0d5e0e1ac131e2b",
            "max": 29182040,
            "min": 0,
            "orientation": "horizontal",
            "style": "IPY_MODEL_d4f898dc2a5548c6a76ef7e3e6b36c2c",
            "value": 29182040
          }
        },
        "07a57fe7399d4b14afff9eec14f7afcd": {
          "model_module": "@jupyter-widgets/base",
          "model_module_version": "1.2.0",
          "model_name": "LayoutModel",
          "state": {
            "_model_module": "@jupyter-widgets/base",
            "_model_module_version": "1.2.0",
            "_model_name": "LayoutModel",
            "_view_count": null,
            "_view_module": "@jupyter-widgets/base",
            "_view_module_version": "1.2.0",
            "_view_name": "LayoutView",
            "align_content": null,
            "align_items": null,
            "align_self": null,
            "border": null,
            "bottom": null,
            "display": null,
            "flex": null,
            "flex_flow": null,
            "grid_area": null,
            "grid_auto_columns": null,
            "grid_auto_flow": null,
            "grid_auto_rows": null,
            "grid_column": null,
            "grid_gap": null,
            "grid_row": null,
            "grid_template_areas": null,
            "grid_template_columns": null,
            "grid_template_rows": null,
            "height": null,
            "justify_content": null,
            "justify_items": null,
            "left": null,
            "margin": null,
            "max_height": null,
            "max_width": null,
            "min_height": null,
            "min_width": null,
            "object_fit": null,
            "object_position": null,
            "order": null,
            "overflow": null,
            "overflow_x": null,
            "overflow_y": null,
            "padding": null,
            "right": null,
            "top": null,
            "visibility": null,
            "width": null
          }
        },
        "0acafd88d6cb48d294ba1fe08b77fb68": {
          "model_module": "@jupyter-widgets/base",
          "model_module_version": "1.2.0",
          "model_name": "LayoutModel",
          "state": {
            "_model_module": "@jupyter-widgets/base",
            "_model_module_version": "1.2.0",
            "_model_name": "LayoutModel",
            "_view_count": null,
            "_view_module": "@jupyter-widgets/base",
            "_view_module_version": "1.2.0",
            "_view_name": "LayoutView",
            "align_content": null,
            "align_items": null,
            "align_self": null,
            "border": null,
            "bottom": null,
            "display": null,
            "flex": null,
            "flex_flow": null,
            "grid_area": null,
            "grid_auto_columns": null,
            "grid_auto_flow": null,
            "grid_auto_rows": null,
            "grid_column": null,
            "grid_gap": null,
            "grid_row": null,
            "grid_template_areas": null,
            "grid_template_columns": null,
            "grid_template_rows": null,
            "height": null,
            "justify_content": null,
            "justify_items": null,
            "left": null,
            "margin": null,
            "max_height": null,
            "max_width": null,
            "min_height": null,
            "min_width": null,
            "object_fit": null,
            "object_position": null,
            "order": null,
            "overflow": null,
            "overflow_x": null,
            "overflow_y": null,
            "padding": null,
            "right": null,
            "top": null,
            "visibility": null,
            "width": null
          }
        },
        "2045c315b9e64173a7f23fb76a07b258": {
          "model_module": "@jupyter-widgets/controls",
          "model_module_version": "1.5.0",
          "model_name": "DescriptionStyleModel",
          "state": {
            "_model_module": "@jupyter-widgets/controls",
            "_model_module_version": "1.5.0",
            "_model_name": "DescriptionStyleModel",
            "_view_count": null,
            "_view_module": "@jupyter-widgets/base",
            "_view_module_version": "1.2.0",
            "_view_name": "StyleView",
            "description_width": ""
          }
        },
        "3521456ba5cf4e729ed6985243b141ea": {
          "model_module": "@jupyter-widgets/controls",
          "model_module_version": "1.5.0",
          "model_name": "DescriptionStyleModel",
          "state": {
            "_model_module": "@jupyter-widgets/controls",
            "_model_module_version": "1.5.0",
            "_model_name": "DescriptionStyleModel",
            "_view_count": null,
            "_view_module": "@jupyter-widgets/base",
            "_view_module_version": "1.2.0",
            "_view_name": "StyleView",
            "description_width": ""
          }
        },
        "3ba16478953f40888cd2eb6d89f3e7c7": {
          "model_module": "@jupyter-widgets/controls",
          "model_module_version": "1.5.0",
          "model_name": "DescriptionStyleModel",
          "state": {
            "_model_module": "@jupyter-widgets/controls",
            "_model_module_version": "1.5.0",
            "_model_name": "DescriptionStyleModel",
            "_view_count": null,
            "_view_module": "@jupyter-widgets/base",
            "_view_module_version": "1.2.0",
            "_view_name": "StyleView",
            "description_width": ""
          }
        },
        "42ab4d563d5f49fa86da68f3323d8945": {
          "model_module": "@jupyter-widgets/controls",
          "model_module_version": "1.5.0",
          "model_name": "HTMLModel",
          "state": {
            "_dom_classes": [],
            "_model_module": "@jupyter-widgets/controls",
            "_model_module_version": "1.5.0",
            "_model_name": "HTMLModel",
            "_view_count": null,
            "_view_module": "@jupyter-widgets/controls",
            "_view_module_version": "1.5.0",
            "_view_name": "HTMLView",
            "description": "",
            "description_tooltip": null,
            "layout": "IPY_MODEL_ee338ea067cf472680f440c07273e917",
            "placeholder": "​",
            "style": "IPY_MODEL_3521456ba5cf4e729ed6985243b141ea",
            "value": " 33.3M/33.3M [00:00&lt;00:00, 73.2MB/s]"
          }
        },
        "4ab118583df643678c165153d06c3356": {
          "model_module": "@jupyter-widgets/base",
          "model_module_version": "1.2.0",
          "model_name": "LayoutModel",
          "state": {
            "_model_module": "@jupyter-widgets/base",
            "_model_module_version": "1.2.0",
            "_model_name": "LayoutModel",
            "_view_count": null,
            "_view_module": "@jupyter-widgets/base",
            "_view_module_version": "1.2.0",
            "_view_name": "LayoutView",
            "align_content": null,
            "align_items": null,
            "align_self": null,
            "border": null,
            "bottom": null,
            "display": null,
            "flex": null,
            "flex_flow": null,
            "grid_area": null,
            "grid_auto_columns": null,
            "grid_auto_flow": null,
            "grid_auto_rows": null,
            "grid_column": null,
            "grid_gap": null,
            "grid_row": null,
            "grid_template_areas": null,
            "grid_template_columns": null,
            "grid_template_rows": null,
            "height": null,
            "justify_content": null,
            "justify_items": null,
            "left": null,
            "margin": null,
            "max_height": null,
            "max_width": null,
            "min_height": null,
            "min_width": null,
            "object_fit": null,
            "object_position": null,
            "order": null,
            "overflow": null,
            "overflow_x": null,
            "overflow_y": null,
            "padding": null,
            "right": null,
            "top": null,
            "visibility": null,
            "width": null
          }
        },
        "4b4b85bd5a7846f8921a29e5b9feba05": {
          "model_module": "@jupyter-widgets/controls",
          "model_module_version": "1.5.0",
          "model_name": "FloatProgressModel",
          "state": {
            "_dom_classes": [],
            "_model_module": "@jupyter-widgets/controls",
            "_model_module_version": "1.5.0",
            "_model_name": "FloatProgressModel",
            "_view_count": null,
            "_view_module": "@jupyter-widgets/controls",
            "_view_module_version": "1.5.0",
            "_view_name": "ProgressView",
            "bar_style": "success",
            "description": "",
            "description_tooltip": null,
            "layout": "IPY_MODEL_5c939843b05a4135b401d0ea92ef577d",
            "max": 11538463,
            "min": 0,
            "orientation": "horizontal",
            "style": "IPY_MODEL_5bc870a6a7a244cd911ff96c879205ef",
            "value": 11538463
          }
        },
        "4f275b8166924b0b9df5146f80992a9c": {
          "model_module": "@jupyter-widgets/base",
          "model_module_version": "1.2.0",
          "model_name": "LayoutModel",
          "state": {
            "_model_module": "@jupyter-widgets/base",
            "_model_module_version": "1.2.0",
            "_model_name": "LayoutModel",
            "_view_count": null,
            "_view_module": "@jupyter-widgets/base",
            "_view_module_version": "1.2.0",
            "_view_name": "LayoutView",
            "align_content": null,
            "align_items": null,
            "align_self": null,
            "border": null,
            "bottom": null,
            "display": null,
            "flex": null,
            "flex_flow": null,
            "grid_area": null,
            "grid_auto_columns": null,
            "grid_auto_flow": null,
            "grid_auto_rows": null,
            "grid_column": null,
            "grid_gap": null,
            "grid_row": null,
            "grid_template_areas": null,
            "grid_template_columns": null,
            "grid_template_rows": null,
            "height": null,
            "justify_content": null,
            "justify_items": null,
            "left": null,
            "margin": null,
            "max_height": null,
            "max_width": null,
            "min_height": null,
            "min_width": null,
            "object_fit": null,
            "object_position": null,
            "order": null,
            "overflow": null,
            "overflow_x": null,
            "overflow_y": null,
            "padding": null,
            "right": null,
            "top": null,
            "visibility": null,
            "width": null
          }
        },
        "5867a9983aa643f5a95e4fb1776728a0": {
          "model_module": "@jupyter-widgets/controls",
          "model_module_version": "1.5.0",
          "model_name": "HTMLModel",
          "state": {
            "_dom_classes": [],
            "_model_module": "@jupyter-widgets/controls",
            "_model_module_version": "1.5.0",
            "_model_name": "HTMLModel",
            "_view_count": null,
            "_view_module": "@jupyter-widgets/controls",
            "_view_module_version": "1.5.0",
            "_view_name": "HTMLView",
            "description": "",
            "description_tooltip": null,
            "layout": "IPY_MODEL_0acafd88d6cb48d294ba1fe08b77fb68",
            "placeholder": "​",
            "style": "IPY_MODEL_d87009cf783643f38c89b9e482a1a0f1",
            "value": " 11.5M/11.5M [00:00&lt;00:00, 26.4MB/s]"
          }
        },
        "5b648fd8d12e4cc690a1454c69bf6cde": {
          "model_module": "@jupyter-widgets/controls",
          "model_module_version": "1.5.0",
          "model_name": "FloatProgressModel",
          "state": {
            "_dom_classes": [],
            "_model_module": "@jupyter-widgets/controls",
            "_model_module_version": "1.5.0",
            "_model_name": "FloatProgressModel",
            "_view_count": null,
            "_view_module": "@jupyter-widgets/controls",
            "_view_module_version": "1.5.0",
            "_view_name": "ProgressView",
            "bar_style": "success",
            "description": "",
            "description_tooltip": null,
            "layout": "IPY_MODEL_07a57fe7399d4b14afff9eec14f7afcd",
            "max": 33314557,
            "min": 0,
            "orientation": "horizontal",
            "style": "IPY_MODEL_6c0db981f3e542308ac461644ff941f1",
            "value": 33314557
          }
        },
        "5bc870a6a7a244cd911ff96c879205ef": {
          "model_module": "@jupyter-widgets/controls",
          "model_module_version": "1.5.0",
          "model_name": "ProgressStyleModel",
          "state": {
            "_model_module": "@jupyter-widgets/controls",
            "_model_module_version": "1.5.0",
            "_model_name": "ProgressStyleModel",
            "_view_count": null,
            "_view_module": "@jupyter-widgets/base",
            "_view_module_version": "1.2.0",
            "_view_name": "StyleView",
            "bar_color": null,
            "description_width": ""
          }
        },
        "5c939843b05a4135b401d0ea92ef577d": {
          "model_module": "@jupyter-widgets/base",
          "model_module_version": "1.2.0",
          "model_name": "LayoutModel",
          "state": {
            "_model_module": "@jupyter-widgets/base",
            "_model_module_version": "1.2.0",
            "_model_name": "LayoutModel",
            "_view_count": null,
            "_view_module": "@jupyter-widgets/base",
            "_view_module_version": "1.2.0",
            "_view_name": "LayoutView",
            "align_content": null,
            "align_items": null,
            "align_self": null,
            "border": null,
            "bottom": null,
            "display": null,
            "flex": null,
            "flex_flow": null,
            "grid_area": null,
            "grid_auto_columns": null,
            "grid_auto_flow": null,
            "grid_auto_rows": null,
            "grid_column": null,
            "grid_gap": null,
            "grid_row": null,
            "grid_template_areas": null,
            "grid_template_columns": null,
            "grid_template_rows": null,
            "height": null,
            "justify_content": null,
            "justify_items": null,
            "left": null,
            "margin": null,
            "max_height": null,
            "max_width": null,
            "min_height": null,
            "min_width": null,
            "object_fit": null,
            "object_position": null,
            "order": null,
            "overflow": null,
            "overflow_x": null,
            "overflow_y": null,
            "padding": null,
            "right": null,
            "top": null,
            "visibility": null,
            "width": null
          }
        },
        "5f80428fd6a64d2fbbd30e6999ae1990": {
          "model_module": "@jupyter-widgets/base",
          "model_module_version": "1.2.0",
          "model_name": "LayoutModel",
          "state": {
            "_model_module": "@jupyter-widgets/base",
            "_model_module_version": "1.2.0",
            "_model_name": "LayoutModel",
            "_view_count": null,
            "_view_module": "@jupyter-widgets/base",
            "_view_module_version": "1.2.0",
            "_view_name": "LayoutView",
            "align_content": null,
            "align_items": null,
            "align_self": null,
            "border": null,
            "bottom": null,
            "display": null,
            "flex": null,
            "flex_flow": null,
            "grid_area": null,
            "grid_auto_columns": null,
            "grid_auto_flow": null,
            "grid_auto_rows": null,
            "grid_column": null,
            "grid_gap": null,
            "grid_row": null,
            "grid_template_areas": null,
            "grid_template_columns": null,
            "grid_template_rows": null,
            "height": null,
            "justify_content": null,
            "justify_items": null,
            "left": null,
            "margin": null,
            "max_height": null,
            "max_width": null,
            "min_height": null,
            "min_width": null,
            "object_fit": null,
            "object_position": null,
            "order": null,
            "overflow": null,
            "overflow_x": null,
            "overflow_y": null,
            "padding": null,
            "right": null,
            "top": null,
            "visibility": null,
            "width": null
          }
        },
        "62c2b5f74b7745d1b0d5e0e1ac131e2b": {
          "model_module": "@jupyter-widgets/base",
          "model_module_version": "1.2.0",
          "model_name": "LayoutModel",
          "state": {
            "_model_module": "@jupyter-widgets/base",
            "_model_module_version": "1.2.0",
            "_model_name": "LayoutModel",
            "_view_count": null,
            "_view_module": "@jupyter-widgets/base",
            "_view_module_version": "1.2.0",
            "_view_name": "LayoutView",
            "align_content": null,
            "align_items": null,
            "align_self": null,
            "border": null,
            "bottom": null,
            "display": null,
            "flex": null,
            "flex_flow": null,
            "grid_area": null,
            "grid_auto_columns": null,
            "grid_auto_flow": null,
            "grid_auto_rows": null,
            "grid_column": null,
            "grid_gap": null,
            "grid_row": null,
            "grid_template_areas": null,
            "grid_template_columns": null,
            "grid_template_rows": null,
            "height": null,
            "justify_content": null,
            "justify_items": null,
            "left": null,
            "margin": null,
            "max_height": null,
            "max_width": null,
            "min_height": null,
            "min_width": null,
            "object_fit": null,
            "object_position": null,
            "order": null,
            "overflow": null,
            "overflow_x": null,
            "overflow_y": null,
            "padding": null,
            "right": null,
            "top": null,
            "visibility": null,
            "width": null
          }
        },
        "639a9eb0bb514f22a5f9b73fe20e8397": {
          "model_module": "@jupyter-widgets/controls",
          "model_module_version": "1.5.0",
          "model_name": "HBoxModel",
          "state": {
            "_dom_classes": [],
            "_model_module": "@jupyter-widgets/controls",
            "_model_module_version": "1.5.0",
            "_model_name": "HBoxModel",
            "_view_count": null,
            "_view_module": "@jupyter-widgets/controls",
            "_view_module_version": "1.5.0",
            "_view_name": "HBoxView",
            "box_style": "",
            "children": [
              "IPY_MODEL_a0c70343c1364594a7612231a3f875b4",
              "IPY_MODEL_025d3958f8074863ae5dc692e852f472",
              "IPY_MODEL_7513f43c27c5489880ae8fc1ee4ec6aa"
            ],
            "layout": "IPY_MODEL_b3773943e09e40579142b6a2bea904ba"
          }
        },
        "6c0db981f3e542308ac461644ff941f1": {
          "model_module": "@jupyter-widgets/controls",
          "model_module_version": "1.5.0",
          "model_name": "ProgressStyleModel",
          "state": {
            "_model_module": "@jupyter-widgets/controls",
            "_model_module_version": "1.5.0",
            "_model_name": "ProgressStyleModel",
            "_view_count": null,
            "_view_module": "@jupyter-widgets/base",
            "_view_module_version": "1.2.0",
            "_view_name": "StyleView",
            "bar_color": null,
            "description_width": ""
          }
        },
        "72a224d872e04563a2957136074c8f39": {
          "model_module": "@jupyter-widgets/base",
          "model_module_version": "1.2.0",
          "model_name": "LayoutModel",
          "state": {
            "_model_module": "@jupyter-widgets/base",
            "_model_module_version": "1.2.0",
            "_model_name": "LayoutModel",
            "_view_count": null,
            "_view_module": "@jupyter-widgets/base",
            "_view_module_version": "1.2.0",
            "_view_name": "LayoutView",
            "align_content": null,
            "align_items": null,
            "align_self": null,
            "border": null,
            "bottom": null,
            "display": null,
            "flex": null,
            "flex_flow": null,
            "grid_area": null,
            "grid_auto_columns": null,
            "grid_auto_flow": null,
            "grid_auto_rows": null,
            "grid_column": null,
            "grid_gap": null,
            "grid_row": null,
            "grid_template_areas": null,
            "grid_template_columns": null,
            "grid_template_rows": null,
            "height": null,
            "justify_content": null,
            "justify_items": null,
            "left": null,
            "margin": null,
            "max_height": null,
            "max_width": null,
            "min_height": null,
            "min_width": null,
            "object_fit": null,
            "object_position": null,
            "order": null,
            "overflow": null,
            "overflow_x": null,
            "overflow_y": null,
            "padding": null,
            "right": null,
            "top": null,
            "visibility": null,
            "width": null
          }
        },
        "7513f43c27c5489880ae8fc1ee4ec6aa": {
          "model_module": "@jupyter-widgets/controls",
          "model_module_version": "1.5.0",
          "model_name": "HTMLModel",
          "state": {
            "_dom_classes": [],
            "_model_module": "@jupyter-widgets/controls",
            "_model_module_version": "1.5.0",
            "_model_name": "HTMLModel",
            "_view_count": null,
            "_view_module": "@jupyter-widgets/controls",
            "_view_module_version": "1.5.0",
            "_view_name": "HTMLView",
            "description": "",
            "description_tooltip": null,
            "layout": "IPY_MODEL_4ab118583df643678c165153d06c3356",
            "placeholder": "​",
            "style": "IPY_MODEL_3ba16478953f40888cd2eb6d89f3e7c7",
            "value": " 29.2M/29.2M [00:00&lt;00:00, 47.4MB/s]"
          }
        },
        "7c55b84372f84cfbb7697cd7c82a7a8b": {
          "model_module": "@jupyter-widgets/controls",
          "model_module_version": "1.5.0",
          "model_name": "HTMLModel",
          "state": {
            "_dom_classes": [],
            "_model_module": "@jupyter-widgets/controls",
            "_model_module_version": "1.5.0",
            "_model_name": "HTMLModel",
            "_view_count": null,
            "_view_module": "@jupyter-widgets/controls",
            "_view_module_version": "1.5.0",
            "_view_name": "HTMLView",
            "description": "",
            "description_tooltip": null,
            "layout": "IPY_MODEL_4f275b8166924b0b9df5146f80992a9c",
            "placeholder": "​",
            "style": "IPY_MODEL_2045c315b9e64173a7f23fb76a07b258",
            "value": "stage_2.csv: 100%"
          }
        },
        "a0c70343c1364594a7612231a3f875b4": {
          "model_module": "@jupyter-widgets/controls",
          "model_module_version": "1.5.0",
          "model_name": "HTMLModel",
          "state": {
            "_dom_classes": [],
            "_model_module": "@jupyter-widgets/controls",
            "_model_module_version": "1.5.0",
            "_model_name": "HTMLModel",
            "_view_count": null,
            "_view_module": "@jupyter-widgets/controls",
            "_view_module_version": "1.5.0",
            "_view_name": "HTMLView",
            "description": "",
            "description_tooltip": null,
            "layout": "IPY_MODEL_5f80428fd6a64d2fbbd30e6999ae1990",
            "placeholder": "​",
            "style": "IPY_MODEL_d7785b6388fc42d78c2aed00a0965043",
            "value": "fact_checks.csv: 100%"
          }
        },
        "ad154e2ac81543448fe84c6cbcfa863e": {
          "model_module": "@jupyter-widgets/controls",
          "model_module_version": "1.5.0",
          "model_name": "HBoxModel",
          "state": {
            "_dom_classes": [],
            "_model_module": "@jupyter-widgets/controls",
            "_model_module_version": "1.5.0",
            "_model_name": "HBoxModel",
            "_view_count": null,
            "_view_module": "@jupyter-widgets/controls",
            "_view_module_version": "1.5.0",
            "_view_name": "HBoxView",
            "box_style": "",
            "children": [
              "IPY_MODEL_7c55b84372f84cfbb7697cd7c82a7a8b",
              "IPY_MODEL_5b648fd8d12e4cc690a1454c69bf6cde",
              "IPY_MODEL_42ab4d563d5f49fa86da68f3323d8945"
            ],
            "layout": "IPY_MODEL_72a224d872e04563a2957136074c8f39"
          }
        },
        "ae25ae60ceca49f6b4a228d3c211d657": {
          "model_module": "@jupyter-widgets/controls",
          "model_module_version": "1.5.0",
          "model_name": "HBoxModel",
          "state": {
            "_dom_classes": [],
            "_model_module": "@jupyter-widgets/controls",
            "_model_module_version": "1.5.0",
            "_model_name": "HBoxModel",
            "_view_count": null,
            "_view_module": "@jupyter-widgets/controls",
            "_view_module_version": "1.5.0",
            "_view_name": "HBoxView",
            "box_style": "",
            "children": [
              "IPY_MODEL_ee88754d84324c48bf827fa3591607d6",
              "IPY_MODEL_4b4b85bd5a7846f8921a29e5b9feba05",
              "IPY_MODEL_5867a9983aa643f5a95e4fb1776728a0"
            ],
            "layout": "IPY_MODEL_fec8962bcd1044c5baa981df631b35de"
          }
        },
        "b3773943e09e40579142b6a2bea904ba": {
          "model_module": "@jupyter-widgets/base",
          "model_module_version": "1.2.0",
          "model_name": "LayoutModel",
          "state": {
            "_model_module": "@jupyter-widgets/base",
            "_model_module_version": "1.2.0",
            "_model_name": "LayoutModel",
            "_view_count": null,
            "_view_module": "@jupyter-widgets/base",
            "_view_module_version": "1.2.0",
            "_view_name": "LayoutView",
            "align_content": null,
            "align_items": null,
            "align_self": null,
            "border": null,
            "bottom": null,
            "display": null,
            "flex": null,
            "flex_flow": null,
            "grid_area": null,
            "grid_auto_columns": null,
            "grid_auto_flow": null,
            "grid_auto_rows": null,
            "grid_column": null,
            "grid_gap": null,
            "grid_row": null,
            "grid_template_areas": null,
            "grid_template_columns": null,
            "grid_template_rows": null,
            "height": null,
            "justify_content": null,
            "justify_items": null,
            "left": null,
            "margin": null,
            "max_height": null,
            "max_width": null,
            "min_height": null,
            "min_width": null,
            "object_fit": null,
            "object_position": null,
            "order": null,
            "overflow": null,
            "overflow_x": null,
            "overflow_y": null,
            "padding": null,
            "right": null,
            "top": null,
            "visibility": null,
            "width": null
          }
        },
        "d4f898dc2a5548c6a76ef7e3e6b36c2c": {
          "model_module": "@jupyter-widgets/controls",
          "model_module_version": "1.5.0",
          "model_name": "ProgressStyleModel",
          "state": {
            "_model_module": "@jupyter-widgets/controls",
            "_model_module_version": "1.5.0",
            "_model_name": "ProgressStyleModel",
            "_view_count": null,
            "_view_module": "@jupyter-widgets/base",
            "_view_module_version": "1.2.0",
            "_view_name": "StyleView",
            "bar_color": null,
            "description_width": ""
          }
        },
        "d7785b6388fc42d78c2aed00a0965043": {
          "model_module": "@jupyter-widgets/controls",
          "model_module_version": "1.5.0",
          "model_name": "DescriptionStyleModel",
          "state": {
            "_model_module": "@jupyter-widgets/controls",
            "_model_module_version": "1.5.0",
            "_model_name": "DescriptionStyleModel",
            "_view_count": null,
            "_view_module": "@jupyter-widgets/base",
            "_view_module_version": "1.2.0",
            "_view_name": "StyleView",
            "description_width": ""
          }
        },
        "d87009cf783643f38c89b9e482a1a0f1": {
          "model_module": "@jupyter-widgets/controls",
          "model_module_version": "1.5.0",
          "model_name": "DescriptionStyleModel",
          "state": {
            "_model_module": "@jupyter-widgets/controls",
            "_model_module_version": "1.5.0",
            "_model_name": "DescriptionStyleModel",
            "_view_count": null,
            "_view_module": "@jupyter-widgets/base",
            "_view_module_version": "1.2.0",
            "_view_name": "StyleView",
            "description_width": ""
          }
        },
        "e569f9b1c362402e8dd332f324b7f796": {
          "model_module": "@jupyter-widgets/base",
          "model_module_version": "1.2.0",
          "model_name": "LayoutModel",
          "state": {
            "_model_module": "@jupyter-widgets/base",
            "_model_module_version": "1.2.0",
            "_model_name": "LayoutModel",
            "_view_count": null,
            "_view_module": "@jupyter-widgets/base",
            "_view_module_version": "1.2.0",
            "_view_name": "LayoutView",
            "align_content": null,
            "align_items": null,
            "align_self": null,
            "border": null,
            "bottom": null,
            "display": null,
            "flex": null,
            "flex_flow": null,
            "grid_area": null,
            "grid_auto_columns": null,
            "grid_auto_flow": null,
            "grid_auto_rows": null,
            "grid_column": null,
            "grid_gap": null,
            "grid_row": null,
            "grid_template_areas": null,
            "grid_template_columns": null,
            "grid_template_rows": null,
            "height": null,
            "justify_content": null,
            "justify_items": null,
            "left": null,
            "margin": null,
            "max_height": null,
            "max_width": null,
            "min_height": null,
            "min_width": null,
            "object_fit": null,
            "object_position": null,
            "order": null,
            "overflow": null,
            "overflow_x": null,
            "overflow_y": null,
            "padding": null,
            "right": null,
            "top": null,
            "visibility": null,
            "width": null
          }
        },
        "ee338ea067cf472680f440c07273e917": {
          "model_module": "@jupyter-widgets/base",
          "model_module_version": "1.2.0",
          "model_name": "LayoutModel",
          "state": {
            "_model_module": "@jupyter-widgets/base",
            "_model_module_version": "1.2.0",
            "_model_name": "LayoutModel",
            "_view_count": null,
            "_view_module": "@jupyter-widgets/base",
            "_view_module_version": "1.2.0",
            "_view_name": "LayoutView",
            "align_content": null,
            "align_items": null,
            "align_self": null,
            "border": null,
            "bottom": null,
            "display": null,
            "flex": null,
            "flex_flow": null,
            "grid_area": null,
            "grid_auto_columns": null,
            "grid_auto_flow": null,
            "grid_auto_rows": null,
            "grid_column": null,
            "grid_gap": null,
            "grid_row": null,
            "grid_template_areas": null,
            "grid_template_columns": null,
            "grid_template_rows": null,
            "height": null,
            "justify_content": null,
            "justify_items": null,
            "left": null,
            "margin": null,
            "max_height": null,
            "max_width": null,
            "min_height": null,
            "min_width": null,
            "object_fit": null,
            "object_position": null,
            "order": null,
            "overflow": null,
            "overflow_x": null,
            "overflow_y": null,
            "padding": null,
            "right": null,
            "top": null,
            "visibility": null,
            "width": null
          }
        },
        "ee88754d84324c48bf827fa3591607d6": {
          "model_module": "@jupyter-widgets/controls",
          "model_module_version": "1.5.0",
          "model_name": "HTMLModel",
          "state": {
            "_dom_classes": [],
            "_model_module": "@jupyter-widgets/controls",
            "_model_module_version": "1.5.0",
            "_model_name": "HTMLModel",
            "_view_count": null,
            "_view_module": "@jupyter-widgets/controls",
            "_view_module_version": "1.5.0",
            "_view_name": "HTMLView",
            "description": "",
            "description_tooltip": null,
            "layout": "IPY_MODEL_e569f9b1c362402e8dd332f324b7f796",
            "placeholder": "​",
            "style": "IPY_MODEL_fa2056d14f434b1db1dacd13cc566d78",
            "value": "image_metadata.csv: 100%"
          }
        },
        "fa2056d14f434b1db1dacd13cc566d78": {
          "model_module": "@jupyter-widgets/controls",
          "model_module_version": "1.5.0",
          "model_name": "DescriptionStyleModel",
          "state": {
            "_model_module": "@jupyter-widgets/controls",
            "_model_module_version": "1.5.0",
            "_model_name": "DescriptionStyleModel",
            "_view_count": null,
            "_view_module": "@jupyter-widgets/base",
            "_view_module_version": "1.2.0",
            "_view_name": "StyleView",
            "description_width": ""
          }
        },
        "fec8962bcd1044c5baa981df631b35de": {
          "model_module": "@jupyter-widgets/base",
          "model_module_version": "1.2.0",
          "model_name": "LayoutModel",
          "state": {
            "_model_module": "@jupyter-widgets/base",
            "_model_module_version": "1.2.0",
            "_model_name": "LayoutModel",
            "_view_count": null,
            "_view_module": "@jupyter-widgets/base",
            "_view_module_version": "1.2.0",
            "_view_name": "LayoutView",
            "align_content": null,
            "align_items": null,
            "align_self": null,
            "border": null,
            "bottom": null,
            "display": null,
            "flex": null,
            "flex_flow": null,
            "grid_area": null,
            "grid_auto_columns": null,
            "grid_auto_flow": null,
            "grid_auto_rows": null,
            "grid_column": null,
            "grid_gap": null,
            "grid_row": null,
            "grid_template_areas": null,
            "grid_template_columns": null,
            "grid_template_rows": null,
            "height": null,
            "justify_content": null,
            "justify_items": null,
            "left": null,
            "margin": null,
            "max_height": null,
            "max_width": null,
            "min_height": null,
            "min_width": null,
            "object_fit": null,
            "object_position": null,
            "order": null,
            "overflow": null,
            "overflow_x": null,
            "overflow_y": null,
            "padding": null,
            "right": null,
            "top": null,
            "visibility": null,
            "width": null
          }
        }
      }
    }
  },
  "nbformat": 4,
  "nbformat_minor": 0
}
