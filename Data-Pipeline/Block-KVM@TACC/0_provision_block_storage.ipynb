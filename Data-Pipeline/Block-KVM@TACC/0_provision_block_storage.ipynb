{
 "cells": [
  {
   "cell_type": "code",
   "execution_count": null,
   "id": "5a98fd37",
   "metadata": {},
   "outputs": [],
   "source": [
    "####################\n",
    "import chi\n",
    "from chi import lease, server, context\n",
    "from chi.clients import cinder, nova\n",
    "\n",
    "context.choose_project()\n",
    "context.choose_site(\"KVM@TACC\")"
   ]
  },
  {
   "cell_type": "code",
   "execution_count": null,
   "id": "77d97d60",
   "metadata": {},
   "outputs": [],
   "source": [
    "volume_name = \"MIDAS-block-persist-project-5-GPU\"\n",
    "volume_size = 100  # in GiB\n",
    "instance_name = \"node1-mlops-MIDAS-service-GPU\"\n",
    "mount_path = \"/mnt/block\"\n"
   ]
  },
  {
   "cell_type": "code",
   "execution_count": null,
   "id": "a3cb1d2d",
   "metadata": {},
   "outputs": [],
   "source": [
    "cinder_client = chi.clients.cinder()\n",
    "\n",
    "existing_volumes = cinder_client.volumes.list()\n",
    "\n",
    "volume = next((v for v in existing_volumes if v.name == volume_name), None)\n",
    "\n",
    "if volume:\n",
    "    print(f\"Volume '{volume_name}' already exists. Skipping creation.\")\n",
    "else:\n",
    "    volume = cinder_client.volumes.create(name=volume_name, size=volume_size)\n",
    "    print(f\"Created volume '{volume_name}' with size {volume_size} GiB.\")\n"
   ]
  },
  {
   "cell_type": "code",
   "execution_count": null,
   "id": "bfff36a4",
   "metadata": {},
   "outputs": [],
   "source": [
    "target_server = server.get_server(instance_name)\n",
    "\n",
    "volume_manager = chi.nova().volumes\n",
    "\n",
    "server_id = target_server.id\n",
    "volume_id = volume.id\n",
    "\n",
    "attached = any(\n",
    "    att.server_id == server_id for att in volume.attachments\n",
    ")\n",
    "\n",
    "if attached:\n",
    "    print(f\"Volume already attached to '{instance_name}'.\")\n",
    "else:\n",
    "    volume_manager.create_server_volume(server_id=server_id, volume_id=volume_id)\n",
    "    print(f\"Volume '{volume_name}' attached to '{instance_name}'.\")\n"
   ]
  }
 ],
 "metadata": {
  "language_info": {
   "name": "python"
  }
 },
 "nbformat": 4,
 "nbformat_minor": 5
}
